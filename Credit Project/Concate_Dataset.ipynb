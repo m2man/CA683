{
 "nbformat": 4,
 "nbformat_minor": 2,
 "metadata": {
  "language_info": {
   "name": "python",
   "codemirror_mode": {
    "name": "ipython",
    "version": 3
   },
   "version": "3.6.10-final"
  },
  "orig_nbformat": 2,
  "file_extension": ".py",
  "mimetype": "text/x-python",
  "name": "python",
  "npconvert_exporter": "python",
  "pygments_lexer": "ipython3",
  "version": 3,
  "kernelspec": {
   "name": "python3",
   "display_name": "Python 3"
  }
 },
 "cells": [
  {
   "cell_type": "code",
   "execution_count": 1,
   "metadata": {},
   "outputs": [],
   "source": [
    "import os\n",
    "os.chdir('/home/nmduy/CA683/Credit Project')\n",
    "import pandas as pd\n",
    "import numpy as np"
   ]
  },
  {
   "cell_type": "code",
   "execution_count": 2,
   "metadata": {},
   "outputs": [],
   "source": [
    "app = pd.read_csv('data/application_train.csv')\n",
    "test = pd.read_csv('data/application_test.csv')\n",
    "previous_app = pd.read_csv('data/previous_application.csv')\n",
    "install = pd.read_csv('data/installments_payments.csv')"
   ]
  },
  {
   "cell_type": "code",
   "execution_count": 3,
   "metadata": {},
   "outputs": [
    {
     "output_type": "stream",
     "name": "stdout",
     "text": "app shape (307511, 122)\nprevious app shape (1670214, 37)\ninstallments shape (13605401, 8)\n"
    }
   ],
   "source": [
    "print(f\"app shape {app.shape}\")\n",
    "print(f\"previous app shape {previous_app.shape}\")\n",
    "print(f\"installments shape {install.shape}\")"
   ]
  },
  {
   "cell_type": "markdown",
   "metadata": {},
   "source": [
    "## PROCESS INSTALLMENTS"
   ]
  },
  {
   "cell_type": "code",
   "execution_count": 13,
   "metadata": {},
   "outputs": [
    {
     "output_type": "execute_result",
     "data": {
      "text/plain": "   SK_ID_PREV  SK_ID_CURR  NUM_INSTALMENT_VERSION  NUM_INSTALMENT_NUMBER  \\\n0     1054186      161674                     1.0                      6   \n1     1330831      151639                     0.0                     34   \n2     2085231      193053                     2.0                      1   \n3     2452527      199697                     1.0                      3   \n4     2714724      167756                     1.0                      2   \n\n   DAYS_INSTALMENT  DAYS_ENTRY_PAYMENT  AMT_INSTALMENT  AMT_PAYMENT  \n0          -1180.0             -1187.0        6948.360     6948.360  \n1          -2156.0             -2156.0        1716.525     1716.525  \n2            -63.0               -63.0       25425.000    25425.000  \n3          -2418.0             -2426.0       24350.130    24350.130  \n4          -1383.0             -1366.0        2165.040     2160.585  ",
      "text/html": "<div>\n<style scoped>\n    .dataframe tbody tr th:only-of-type {\n        vertical-align: middle;\n    }\n\n    .dataframe tbody tr th {\n        vertical-align: top;\n    }\n\n    .dataframe thead th {\n        text-align: right;\n    }\n</style>\n<table border=\"1\" class=\"dataframe\">\n  <thead>\n    <tr style=\"text-align: right;\">\n      <th></th>\n      <th>SK_ID_PREV</th>\n      <th>SK_ID_CURR</th>\n      <th>NUM_INSTALMENT_VERSION</th>\n      <th>NUM_INSTALMENT_NUMBER</th>\n      <th>DAYS_INSTALMENT</th>\n      <th>DAYS_ENTRY_PAYMENT</th>\n      <th>AMT_INSTALMENT</th>\n      <th>AMT_PAYMENT</th>\n    </tr>\n  </thead>\n  <tbody>\n    <tr>\n      <th>0</th>\n      <td>1054186</td>\n      <td>161674</td>\n      <td>1.0</td>\n      <td>6</td>\n      <td>-1180.0</td>\n      <td>-1187.0</td>\n      <td>6948.360</td>\n      <td>6948.360</td>\n    </tr>\n    <tr>\n      <th>1</th>\n      <td>1330831</td>\n      <td>151639</td>\n      <td>0.0</td>\n      <td>34</td>\n      <td>-2156.0</td>\n      <td>-2156.0</td>\n      <td>1716.525</td>\n      <td>1716.525</td>\n    </tr>\n    <tr>\n      <th>2</th>\n      <td>2085231</td>\n      <td>193053</td>\n      <td>2.0</td>\n      <td>1</td>\n      <td>-63.0</td>\n      <td>-63.0</td>\n      <td>25425.000</td>\n      <td>25425.000</td>\n    </tr>\n    <tr>\n      <th>3</th>\n      <td>2452527</td>\n      <td>199697</td>\n      <td>1.0</td>\n      <td>3</td>\n      <td>-2418.0</td>\n      <td>-2426.0</td>\n      <td>24350.130</td>\n      <td>24350.130</td>\n    </tr>\n    <tr>\n      <th>4</th>\n      <td>2714724</td>\n      <td>167756</td>\n      <td>1.0</td>\n      <td>2</td>\n      <td>-1383.0</td>\n      <td>-1366.0</td>\n      <td>2165.040</td>\n      <td>2160.585</td>\n    </tr>\n  </tbody>\n</table>\n</div>"
     },
     "metadata": {},
     "execution_count": 13
    }
   ],
   "source": [
    "install.head(5)"
   ]
  },
  {
   "cell_type": "markdown",
   "metadata": {},
   "source": [
    "Cell that customers did not repay\n"
   ]
  },
  {
   "cell_type": "code",
   "execution_count": 12,
   "metadata": {},
   "outputs": [
    {
     "output_type": "execute_result",
     "data": {
      "text/plain": "SK_ID_PREV                   0\nSK_ID_CURR                   0\nNUM_INSTALMENT_VERSION       0\nNUM_INSTALMENT_NUMBER        0\nDAYS_INSTALMENT              0\nDAYS_ENTRY_PAYMENT        2905\nAMT_INSTALMENT               0\nAMT_PAYMENT               2905\ndtype: int64"
     },
     "metadata": {},
     "execution_count": 12
    }
   ],
   "source": [
    "install.isnull().sum()"
   ]
  },
  {
   "cell_type": "markdown",
   "metadata": {},
   "source": [
    "DIF_DAYS_INSTALMENT: differences in days applicant paid back, positive values meaning late repay (lower is better, positive is bad)\n",
    "\n",
    "DIF_AMT_PAYMENT: How much remaining money user need to pay (lower is worst, 0 is best)"
   ]
  },
  {
   "cell_type": "code",
   "execution_count": 4,
   "metadata": {},
   "outputs": [],
   "source": [
    "install.DAYS_ENTRY_PAYMENT = abs(install.DAYS_ENTRY_PAYMENT)\n",
    "install.DAYS_INSTALMENT = abs(install.DAYS_INSTALMENT)\n",
    "install['DIF_DAYS_INSTALMENT'] = install.DAYS_INSTALMENT - install.DAYS_ENTRY_PAYMENT\n",
    "install['DIF_AMT_PAYMENT'] = install.AMT_PAYMENT - install.AMT_INSTALMENT"
   ]
  },
  {
   "cell_type": "code",
   "execution_count": 79,
   "metadata": {},
   "outputs": [
    {
     "output_type": "execute_result",
     "data": {
      "text/plain": "   SK_ID_PREV  SK_ID_CURR  NUM_INSTALMENT_VERSION  NUM_INSTALMENT_NUMBER  \\\n0     1054186      161674                     1.0                      6   \n1     1330831      151639                     0.0                     34   \n2     2085231      193053                     2.0                      1   \n3     2452527      199697                     1.0                      3   \n4     2714724      167756                     1.0                      2   \n\n   DAYS_INSTALMENT  DAYS_ENTRY_PAYMENT  AMT_INSTALMENT  AMT_PAYMENT  \\\n0           1180.0              1187.0        6948.360     6948.360   \n1           2156.0              2156.0        1716.525     1716.525   \n2             63.0                63.0       25425.000    25425.000   \n3           2418.0              2426.0       24350.130    24350.130   \n4           1383.0              1366.0        2165.040     2160.585   \n\n   DIF_DAYS_INSTALMENT  DIF_AMT_PAYMENT  \n0                 -7.0            0.000  \n1                  0.0            0.000  \n2                  0.0            0.000  \n3                 -8.0            0.000  \n4                 17.0           -4.455  ",
      "text/html": "<div>\n<style scoped>\n    .dataframe tbody tr th:only-of-type {\n        vertical-align: middle;\n    }\n\n    .dataframe tbody tr th {\n        vertical-align: top;\n    }\n\n    .dataframe thead th {\n        text-align: right;\n    }\n</style>\n<table border=\"1\" class=\"dataframe\">\n  <thead>\n    <tr style=\"text-align: right;\">\n      <th></th>\n      <th>SK_ID_PREV</th>\n      <th>SK_ID_CURR</th>\n      <th>NUM_INSTALMENT_VERSION</th>\n      <th>NUM_INSTALMENT_NUMBER</th>\n      <th>DAYS_INSTALMENT</th>\n      <th>DAYS_ENTRY_PAYMENT</th>\n      <th>AMT_INSTALMENT</th>\n      <th>AMT_PAYMENT</th>\n      <th>DIF_DAYS_INSTALMENT</th>\n      <th>DIF_AMT_PAYMENT</th>\n    </tr>\n  </thead>\n  <tbody>\n    <tr>\n      <th>0</th>\n      <td>1054186</td>\n      <td>161674</td>\n      <td>1.0</td>\n      <td>6</td>\n      <td>1180.0</td>\n      <td>1187.0</td>\n      <td>6948.360</td>\n      <td>6948.360</td>\n      <td>-7.0</td>\n      <td>0.000</td>\n    </tr>\n    <tr>\n      <th>1</th>\n      <td>1330831</td>\n      <td>151639</td>\n      <td>0.0</td>\n      <td>34</td>\n      <td>2156.0</td>\n      <td>2156.0</td>\n      <td>1716.525</td>\n      <td>1716.525</td>\n      <td>0.0</td>\n      <td>0.000</td>\n    </tr>\n    <tr>\n      <th>2</th>\n      <td>2085231</td>\n      <td>193053</td>\n      <td>2.0</td>\n      <td>1</td>\n      <td>63.0</td>\n      <td>63.0</td>\n      <td>25425.000</td>\n      <td>25425.000</td>\n      <td>0.0</td>\n      <td>0.000</td>\n    </tr>\n    <tr>\n      <th>3</th>\n      <td>2452527</td>\n      <td>199697</td>\n      <td>1.0</td>\n      <td>3</td>\n      <td>2418.0</td>\n      <td>2426.0</td>\n      <td>24350.130</td>\n      <td>24350.130</td>\n      <td>-8.0</td>\n      <td>0.000</td>\n    </tr>\n    <tr>\n      <th>4</th>\n      <td>2714724</td>\n      <td>167756</td>\n      <td>1.0</td>\n      <td>2</td>\n      <td>1383.0</td>\n      <td>1366.0</td>\n      <td>2165.040</td>\n      <td>2160.585</td>\n      <td>17.0</td>\n      <td>-4.455</td>\n    </tr>\n  </tbody>\n</table>\n</div>"
     },
     "metadata": {},
     "execution_count": 79
    }
   ],
   "source": [
    "install.head(5)"
   ]
  },
  {
   "cell_type": "code",
   "execution_count": 5,
   "metadata": {},
   "outputs": [],
   "source": [
    "group_install = install.groupby('SK_ID_CURR', as_index=False).count().iloc[:,:2]\n",
    "group_install.columns = ['SK_ID_CURR', 'NUM_INSTALMENT']"
   ]
  },
  {
   "cell_type": "code",
   "execution_count": 6,
   "metadata": {},
   "outputs": [],
   "source": [
    "install_na = install[install.isnull().any(axis=1)]\n",
    "group_install_na = install_na.groupby(['SK_ID_CURR'], as_index=False).count().iloc[:,:2]\n",
    "group_install_na.columns = ['SK_ID_CURR', 'NUM_NOT_INSTALMENT']"
   ]
  },
  {
   "cell_type": "code",
   "execution_count": 7,
   "metadata": {},
   "outputs": [],
   "source": [
    "group_install = group_install.merge(group_install_na, on='SK_ID_CURR', how='left')\n",
    "group_install['NUM_NOT_INSTALMENT'] = group_install['NUM_NOT_INSTALMENT'].fillna(0)"
   ]
  },
  {
   "cell_type": "code",
   "execution_count": 8,
   "metadata": {},
   "outputs": [],
   "source": [
    "temp1 = install.groupby('SK_ID_CURR', as_index=False)['AMT_INSTALMENT'].sum()\n",
    "temp2 = install.groupby('SK_ID_CURR', as_index=False)['AMT_PAYMENT'].sum()\n",
    "temp1 = temp1.merge(temp2, on='SK_ID_CURR', how='left')\n",
    "temp1['DIF_AMT_PAYMENT'] = temp1['AMT_PAYMENT'] - temp1['AMT_INSTALMENT']\n",
    "temp1 = temp1.drop(['AMT_INSTALMENT', 'AMT_PAYMENT'], axis=1)\n",
    "\n",
    "group_install = group_install.merge(temp1, on='SK_ID_CURR', how='left')"
   ]
  },
  {
   "cell_type": "code",
   "execution_count": 9,
   "metadata": {},
   "outputs": [],
   "source": [
    "temp1 = install.groupby('SK_ID_CURR', as_index=False)['DIF_DAYS_INSTALMENT'].mean()\n",
    "temp2 = install.groupby('SK_ID_CURR', as_index=False)['DIF_DAYS_INSTALMENT'].min()\n",
    "temp3 = install.groupby('SK_ID_CURR', as_index=False)['DIF_DAYS_INSTALMENT'].max()\n",
    "temp4 = install.groupby('SK_ID_CURR', as_index=False)['DIF_DAYS_INSTALMENT'].sum()"
   ]
  },
  {
   "cell_type": "code",
   "execution_count": 10,
   "metadata": {},
   "outputs": [],
   "source": [
    "idx_null = temp1[temp1['DIF_DAYS_INSTALMENT'].isnull()].index.tolist()\n",
    "for idx in idx_null:\n",
    "    temp1['DIF_DAYS_INSTALMENT'].iloc[idx] = install[install.SK_ID_CURR == temp1['SK_ID_CURR'].iloc[idx]]['DAYS_INSTALMENT'].tolist()[0]\n",
    "    temp2['DIF_DAYS_INSTALMENT'].iloc[idx] = install[install.SK_ID_CURR == temp1['SK_ID_CURR'].iloc[idx]]['DAYS_INSTALMENT'].tolist()[0]\n",
    "    temp3['DIF_DAYS_INSTALMENT'].iloc[idx] = install[install.SK_ID_CURR == temp1['SK_ID_CURR'].iloc[idx]]['DAYS_INSTALMENT'].tolist()[0]\n",
    "    temp4['DIF_DAYS_INSTALMENT'].iloc[idx] = install[install.SK_ID_CURR == temp1['SK_ID_CURR'].iloc[idx]]['DAYS_INSTALMENT'].tolist()[0]\n",
    "\n",
    "temp1.columns = ['SK_ID_CURR', 'DIF_DAYS_INSTALMENT_mean']\n",
    "temp2.columns = ['SK_ID_CURR', 'DIF_DAYS_INSTALMENT_min']\n",
    "temp3.columns = ['SK_ID_CURR', 'DIF_DAYS_INSTALMENT_max']\n",
    "temp4.columns = ['SK_ID_CURR', 'DIF_DAYS_INSTALMENT_sum']\n",
    "\n",
    ""
   ]
  },
  {
   "cell_type": "code",
   "execution_count": 11,
   "metadata": {},
   "outputs": [],
   "source": [
    "group_install = group_install.merge(temp1, on='SK_ID_CURR', how='left')\n",
    "group_install = group_install.merge(temp2, on='SK_ID_CURR', how='left')\n",
    "group_install = group_install.merge(temp3, on='SK_ID_CURR', how='left')\n",
    "group_install = group_install.merge(temp4, on='SK_ID_CURR', how='left')"
   ]
  },
  {
   "cell_type": "code",
   "execution_count": 269,
   "metadata": {},
   "outputs": [
    {
     "output_type": "execute_result",
     "data": {
      "text/plain": "   SK_ID_CURR  NUM_INSTALMENT  NUM_NOT_INSTALMENT  DIF_AMT_PAYMENT  \\\n0      100001               7                 0.0              0.0   \n1      100002              19                 0.0              0.0   \n2      100003              25                 0.0              0.0   \n3      100004               3                 0.0              0.0   \n4      100005               9                 0.0              0.0   \n\n   DIF_DAYS_INSTALMENT_mean  DIF_DAYS_INSTALMENT_min  DIF_DAYS_INSTALMENT_max  \\\n0                 -7.285714                    -36.0                     11.0   \n1                -20.421053                    -31.0                    -12.0   \n2                 -7.160000                    -14.0                     -1.0   \n3                 -7.666667                    -11.0                     -3.0   \n4                -23.555556                    -37.0                      1.0   \n\n   DIF_DAYS_INSTALMENT_sum  \n0                    -51.0  \n1                   -388.0  \n2                   -179.0  \n3                    -23.0  \n4                   -212.0  ",
      "text/html": "<div>\n<style scoped>\n    .dataframe tbody tr th:only-of-type {\n        vertical-align: middle;\n    }\n\n    .dataframe tbody tr th {\n        vertical-align: top;\n    }\n\n    .dataframe thead th {\n        text-align: right;\n    }\n</style>\n<table border=\"1\" class=\"dataframe\">\n  <thead>\n    <tr style=\"text-align: right;\">\n      <th></th>\n      <th>SK_ID_CURR</th>\n      <th>NUM_INSTALMENT</th>\n      <th>NUM_NOT_INSTALMENT</th>\n      <th>DIF_AMT_PAYMENT</th>\n      <th>DIF_DAYS_INSTALMENT_mean</th>\n      <th>DIF_DAYS_INSTALMENT_min</th>\n      <th>DIF_DAYS_INSTALMENT_max</th>\n      <th>DIF_DAYS_INSTALMENT_sum</th>\n    </tr>\n  </thead>\n  <tbody>\n    <tr>\n      <th>0</th>\n      <td>100001</td>\n      <td>7</td>\n      <td>0.0</td>\n      <td>0.0</td>\n      <td>-7.285714</td>\n      <td>-36.0</td>\n      <td>11.0</td>\n      <td>-51.0</td>\n    </tr>\n    <tr>\n      <th>1</th>\n      <td>100002</td>\n      <td>19</td>\n      <td>0.0</td>\n      <td>0.0</td>\n      <td>-20.421053</td>\n      <td>-31.0</td>\n      <td>-12.0</td>\n      <td>-388.0</td>\n    </tr>\n    <tr>\n      <th>2</th>\n      <td>100003</td>\n      <td>25</td>\n      <td>0.0</td>\n      <td>0.0</td>\n      <td>-7.160000</td>\n      <td>-14.0</td>\n      <td>-1.0</td>\n      <td>-179.0</td>\n    </tr>\n    <tr>\n      <th>3</th>\n      <td>100004</td>\n      <td>3</td>\n      <td>0.0</td>\n      <td>0.0</td>\n      <td>-7.666667</td>\n      <td>-11.0</td>\n      <td>-3.0</td>\n      <td>-23.0</td>\n    </tr>\n    <tr>\n      <th>4</th>\n      <td>100005</td>\n      <td>9</td>\n      <td>0.0</td>\n      <td>0.0</td>\n      <td>-23.555556</td>\n      <td>-37.0</td>\n      <td>1.0</td>\n      <td>-212.0</td>\n    </tr>\n  </tbody>\n</table>\n</div>"
     },
     "metadata": {},
     "execution_count": 269
    }
   ],
   "source": [
    "group_install.head()"
   ]
  },
  {
   "cell_type": "code",
   "execution_count": 12,
   "metadata": {},
   "outputs": [
    {
     "output_type": "execute_result",
     "data": {
      "text/plain": "   SK_ID_CURR  DIF_DAYS_INSTALMENT_mean  DIF_DAYS_INSTALMENT_min  \\\n0      100001                 -7.285714                    -36.0   \n1      100002                -20.421053                    -31.0   \n2      100003                 -7.160000                    -14.0   \n3      100004                 -7.666667                    -11.0   \n4      100005                -23.555556                    -37.0   \n5      100006                -19.375000                    -77.0   \n6      100007                 -3.636364                    -31.0   \n7      100008                 26.114286                    -28.0   \n8      100009                 -8.588235                    -23.0   \n9      100010                -11.900000                    -30.0   \n\n   DIF_DAYS_INSTALMENT_max  DIF_DAYS_INSTALMENT_sum  PORTION_NOT_INSTALMENT  \\\n0                     11.0                    -51.0                     0.0   \n1                    -12.0                   -388.0                     0.0   \n2                     -1.0                   -179.0                     0.0   \n3                     -3.0                    -23.0                     0.0   \n4                      1.0                   -212.0                     0.0   \n5                     -1.0                   -310.0                     0.0   \n6                     12.0                   -240.0                     0.0   \n7                   1317.0                    914.0                     0.0   \n8                      7.0                   -438.0                     0.0   \n9                     -5.0                   -119.0                     0.0   \n\n   AVG_DIF_AMT_PAYMENT  \n0                    0  \n1                    0  \n2                    0  \n3                    0  \n4                    0  \n5                    0  \n6                 -452  \n7                 -342  \n8                    0  \n9                    0  ",
      "text/html": "<div>\n<style scoped>\n    .dataframe tbody tr th:only-of-type {\n        vertical-align: middle;\n    }\n\n    .dataframe tbody tr th {\n        vertical-align: top;\n    }\n\n    .dataframe thead th {\n        text-align: right;\n    }\n</style>\n<table border=\"1\" class=\"dataframe\">\n  <thead>\n    <tr style=\"text-align: right;\">\n      <th></th>\n      <th>SK_ID_CURR</th>\n      <th>DIF_DAYS_INSTALMENT_mean</th>\n      <th>DIF_DAYS_INSTALMENT_min</th>\n      <th>DIF_DAYS_INSTALMENT_max</th>\n      <th>DIF_DAYS_INSTALMENT_sum</th>\n      <th>PORTION_NOT_INSTALMENT</th>\n      <th>AVG_DIF_AMT_PAYMENT</th>\n    </tr>\n  </thead>\n  <tbody>\n    <tr>\n      <th>0</th>\n      <td>100001</td>\n      <td>-7.285714</td>\n      <td>-36.0</td>\n      <td>11.0</td>\n      <td>-51.0</td>\n      <td>0.0</td>\n      <td>0</td>\n    </tr>\n    <tr>\n      <th>1</th>\n      <td>100002</td>\n      <td>-20.421053</td>\n      <td>-31.0</td>\n      <td>-12.0</td>\n      <td>-388.0</td>\n      <td>0.0</td>\n      <td>0</td>\n    </tr>\n    <tr>\n      <th>2</th>\n      <td>100003</td>\n      <td>-7.160000</td>\n      <td>-14.0</td>\n      <td>-1.0</td>\n      <td>-179.0</td>\n      <td>0.0</td>\n      <td>0</td>\n    </tr>\n    <tr>\n      <th>3</th>\n      <td>100004</td>\n      <td>-7.666667</td>\n      <td>-11.0</td>\n      <td>-3.0</td>\n      <td>-23.0</td>\n      <td>0.0</td>\n      <td>0</td>\n    </tr>\n    <tr>\n      <th>4</th>\n      <td>100005</td>\n      <td>-23.555556</td>\n      <td>-37.0</td>\n      <td>1.0</td>\n      <td>-212.0</td>\n      <td>0.0</td>\n      <td>0</td>\n    </tr>\n    <tr>\n      <th>5</th>\n      <td>100006</td>\n      <td>-19.375000</td>\n      <td>-77.0</td>\n      <td>-1.0</td>\n      <td>-310.0</td>\n      <td>0.0</td>\n      <td>0</td>\n    </tr>\n    <tr>\n      <th>6</th>\n      <td>100007</td>\n      <td>-3.636364</td>\n      <td>-31.0</td>\n      <td>12.0</td>\n      <td>-240.0</td>\n      <td>0.0</td>\n      <td>-452</td>\n    </tr>\n    <tr>\n      <th>7</th>\n      <td>100008</td>\n      <td>26.114286</td>\n      <td>-28.0</td>\n      <td>1317.0</td>\n      <td>914.0</td>\n      <td>0.0</td>\n      <td>-342</td>\n    </tr>\n    <tr>\n      <th>8</th>\n      <td>100009</td>\n      <td>-8.588235</td>\n      <td>-23.0</td>\n      <td>7.0</td>\n      <td>-438.0</td>\n      <td>0.0</td>\n      <td>0</td>\n    </tr>\n    <tr>\n      <th>9</th>\n      <td>100010</td>\n      <td>-11.900000</td>\n      <td>-30.0</td>\n      <td>-5.0</td>\n      <td>-119.0</td>\n      <td>0.0</td>\n      <td>0</td>\n    </tr>\n  </tbody>\n</table>\n</div>"
     },
     "metadata": {},
     "execution_count": 12
    }
   ],
   "source": [
    "group_install['PORTION_NOT_INSTALMENT'] = group_install['NUM_NOT_INSTALMENT'] / group_install['NUM_INSTALMENT']\n",
    "group_install['AVG_DIF_AMT_PAYMENT'] = 0\n",
    "for idx in range(len(group_install)):\n",
    "    if group_install['NUM_INSTALMENT'][idx] == group_install['NUM_NOT_INSTALMENT'][idx]:\n",
    "        group_install['AVG_DIF_AMT_PAYMENT'][idx] = group_install['DIF_AMT_PAYMENT'][idx]\n",
    "    else:   \n",
    "        group_install['AVG_DIF_AMT_PAYMENT'][idx] = group_install['DIF_AMT_PAYMENT'][idx] / (group_install['NUM_INSTALMENT'][idx] - group_install['NUM_NOT_INSTALMENT'][idx])\n",
    "group_install = group_install.drop(['NUM_INSTALMENT', 'NUM_NOT_INSTALMENT', 'DIF_AMT_PAYMENT'], axis=1)\n",
    "group_install.head(10)"
   ]
  },
  {
   "cell_type": "code",
   "execution_count": 271,
   "metadata": {},
   "outputs": [
    {
     "output_type": "execute_result",
     "data": {
      "text/plain": "True"
     },
     "metadata": {},
     "execution_count": 271
    }
   ],
   "source": [
    "np.all(np.isfinite(group_install))"
   ]
  },
  {
   "cell_type": "markdown",
   "metadata": {},
   "source": [
    "## PROCESS PREVIOUS APP"
   ]
  },
  {
   "cell_type": "code",
   "execution_count": 192,
   "metadata": {},
   "outputs": [
    {
     "output_type": "execute_result",
     "data": {
      "text/plain": "   SK_ID_PREV  SK_ID_CURR NAME_CONTRACT_TYPE  AMT_ANNUITY  AMT_APPLICATION  \\\n0     2030495      271877     Consumer loans     1730.430          17145.0   \n1     2802425      108129         Cash loans    25188.615         607500.0   \n2     2523466      122040         Cash loans    15060.735         112500.0   \n3     2819243      176158         Cash loans    47041.335         450000.0   \n4     1784265      202054         Cash loans    31924.395         337500.0   \n5     1383531      199383         Cash loans    23703.930         315000.0   \n6     2315218      175704         Cash loans          NaN              0.0   \n7     1656711      296299         Cash loans          NaN              0.0   \n8     2367563      342292         Cash loans          NaN              0.0   \n9     2579447      334349         Cash loans          NaN              0.0   \n\n   AMT_CREDIT  AMT_DOWN_PAYMENT  AMT_GOODS_PRICE WEEKDAY_APPR_PROCESS_START  \\\n0     17145.0               0.0          17145.0                   SATURDAY   \n1    679671.0               NaN         607500.0                   THURSDAY   \n2    136444.5               NaN         112500.0                    TUESDAY   \n3    470790.0               NaN         450000.0                     MONDAY   \n4    404055.0               NaN         337500.0                   THURSDAY   \n5    340573.5               NaN         315000.0                   SATURDAY   \n6         0.0               NaN              NaN                    TUESDAY   \n7         0.0               NaN              NaN                     MONDAY   \n8         0.0               NaN              NaN                     MONDAY   \n9         0.0               NaN              NaN                   SATURDAY   \n\n   HOUR_APPR_PROCESS_START  ... NAME_SELLER_INDUSTRY  CNT_PAYMENT  \\\n0                       15  ...         Connectivity         12.0   \n1                       11  ...                  XNA         36.0   \n2                       11  ...                  XNA         12.0   \n3                        7  ...                  XNA         12.0   \n4                        9  ...                  XNA         24.0   \n5                        8  ...                  XNA         18.0   \n6                       11  ...                  XNA          NaN   \n7                        7  ...                  XNA          NaN   \n8                       15  ...                  XNA          NaN   \n9                       15  ...                  XNA          NaN   \n\n   NAME_YIELD_GROUP       PRODUCT_COMBINATION  DAYS_FIRST_DRAWING  \\\n0            middle  POS mobile with interest            365243.0   \n1        low_action          Cash X-Sell: low            365243.0   \n2              high         Cash X-Sell: high            365243.0   \n3            middle       Cash X-Sell: middle            365243.0   \n4              high         Cash Street: high                 NaN   \n5        low_normal          Cash X-Sell: low            365243.0   \n6               XNA                      Cash                 NaN   \n7               XNA                      Cash                 NaN   \n8               XNA                      Cash                 NaN   \n9               XNA                      Cash                 NaN   \n\n  DAYS_FIRST_DUE DAYS_LAST_DUE_1ST_VERSION  DAYS_LAST_DUE DAYS_TERMINATION  \\\n0          -42.0                     300.0          -42.0            -37.0   \n1         -134.0                     916.0       365243.0         365243.0   \n2         -271.0                      59.0       365243.0         365243.0   \n3         -482.0                    -152.0         -182.0           -177.0   \n4            NaN                       NaN            NaN              NaN   \n5         -654.0                    -144.0         -144.0           -137.0   \n6            NaN                       NaN            NaN              NaN   \n7            NaN                       NaN            NaN              NaN   \n8            NaN                       NaN            NaN              NaN   \n9            NaN                       NaN            NaN              NaN   \n\n  NFLAG_INSURED_ON_APPROVAL  \n0                       0.0  \n1                       1.0  \n2                       1.0  \n3                       1.0  \n4                       NaN  \n5                       1.0  \n6                       NaN  \n7                       NaN  \n8                       NaN  \n9                       NaN  \n\n[10 rows x 37 columns]",
      "text/html": "<div>\n<style scoped>\n    .dataframe tbody tr th:only-of-type {\n        vertical-align: middle;\n    }\n\n    .dataframe tbody tr th {\n        vertical-align: top;\n    }\n\n    .dataframe thead th {\n        text-align: right;\n    }\n</style>\n<table border=\"1\" class=\"dataframe\">\n  <thead>\n    <tr style=\"text-align: right;\">\n      <th></th>\n      <th>SK_ID_PREV</th>\n      <th>SK_ID_CURR</th>\n      <th>NAME_CONTRACT_TYPE</th>\n      <th>AMT_ANNUITY</th>\n      <th>AMT_APPLICATION</th>\n      <th>AMT_CREDIT</th>\n      <th>AMT_DOWN_PAYMENT</th>\n      <th>AMT_GOODS_PRICE</th>\n      <th>WEEKDAY_APPR_PROCESS_START</th>\n      <th>HOUR_APPR_PROCESS_START</th>\n      <th>...</th>\n      <th>NAME_SELLER_INDUSTRY</th>\n      <th>CNT_PAYMENT</th>\n      <th>NAME_YIELD_GROUP</th>\n      <th>PRODUCT_COMBINATION</th>\n      <th>DAYS_FIRST_DRAWING</th>\n      <th>DAYS_FIRST_DUE</th>\n      <th>DAYS_LAST_DUE_1ST_VERSION</th>\n      <th>DAYS_LAST_DUE</th>\n      <th>DAYS_TERMINATION</th>\n      <th>NFLAG_INSURED_ON_APPROVAL</th>\n    </tr>\n  </thead>\n  <tbody>\n    <tr>\n      <th>0</th>\n      <td>2030495</td>\n      <td>271877</td>\n      <td>Consumer loans</td>\n      <td>1730.430</td>\n      <td>17145.0</td>\n      <td>17145.0</td>\n      <td>0.0</td>\n      <td>17145.0</td>\n      <td>SATURDAY</td>\n      <td>15</td>\n      <td>...</td>\n      <td>Connectivity</td>\n      <td>12.0</td>\n      <td>middle</td>\n      <td>POS mobile with interest</td>\n      <td>365243.0</td>\n      <td>-42.0</td>\n      <td>300.0</td>\n      <td>-42.0</td>\n      <td>-37.0</td>\n      <td>0.0</td>\n    </tr>\n    <tr>\n      <th>1</th>\n      <td>2802425</td>\n      <td>108129</td>\n      <td>Cash loans</td>\n      <td>25188.615</td>\n      <td>607500.0</td>\n      <td>679671.0</td>\n      <td>NaN</td>\n      <td>607500.0</td>\n      <td>THURSDAY</td>\n      <td>11</td>\n      <td>...</td>\n      <td>XNA</td>\n      <td>36.0</td>\n      <td>low_action</td>\n      <td>Cash X-Sell: low</td>\n      <td>365243.0</td>\n      <td>-134.0</td>\n      <td>916.0</td>\n      <td>365243.0</td>\n      <td>365243.0</td>\n      <td>1.0</td>\n    </tr>\n    <tr>\n      <th>2</th>\n      <td>2523466</td>\n      <td>122040</td>\n      <td>Cash loans</td>\n      <td>15060.735</td>\n      <td>112500.0</td>\n      <td>136444.5</td>\n      <td>NaN</td>\n      <td>112500.0</td>\n      <td>TUESDAY</td>\n      <td>11</td>\n      <td>...</td>\n      <td>XNA</td>\n      <td>12.0</td>\n      <td>high</td>\n      <td>Cash X-Sell: high</td>\n      <td>365243.0</td>\n      <td>-271.0</td>\n      <td>59.0</td>\n      <td>365243.0</td>\n      <td>365243.0</td>\n      <td>1.0</td>\n    </tr>\n    <tr>\n      <th>3</th>\n      <td>2819243</td>\n      <td>176158</td>\n      <td>Cash loans</td>\n      <td>47041.335</td>\n      <td>450000.0</td>\n      <td>470790.0</td>\n      <td>NaN</td>\n      <td>450000.0</td>\n      <td>MONDAY</td>\n      <td>7</td>\n      <td>...</td>\n      <td>XNA</td>\n      <td>12.0</td>\n      <td>middle</td>\n      <td>Cash X-Sell: middle</td>\n      <td>365243.0</td>\n      <td>-482.0</td>\n      <td>-152.0</td>\n      <td>-182.0</td>\n      <td>-177.0</td>\n      <td>1.0</td>\n    </tr>\n    <tr>\n      <th>4</th>\n      <td>1784265</td>\n      <td>202054</td>\n      <td>Cash loans</td>\n      <td>31924.395</td>\n      <td>337500.0</td>\n      <td>404055.0</td>\n      <td>NaN</td>\n      <td>337500.0</td>\n      <td>THURSDAY</td>\n      <td>9</td>\n      <td>...</td>\n      <td>XNA</td>\n      <td>24.0</td>\n      <td>high</td>\n      <td>Cash Street: high</td>\n      <td>NaN</td>\n      <td>NaN</td>\n      <td>NaN</td>\n      <td>NaN</td>\n      <td>NaN</td>\n      <td>NaN</td>\n    </tr>\n    <tr>\n      <th>5</th>\n      <td>1383531</td>\n      <td>199383</td>\n      <td>Cash loans</td>\n      <td>23703.930</td>\n      <td>315000.0</td>\n      <td>340573.5</td>\n      <td>NaN</td>\n      <td>315000.0</td>\n      <td>SATURDAY</td>\n      <td>8</td>\n      <td>...</td>\n      <td>XNA</td>\n      <td>18.0</td>\n      <td>low_normal</td>\n      <td>Cash X-Sell: low</td>\n      <td>365243.0</td>\n      <td>-654.0</td>\n      <td>-144.0</td>\n      <td>-144.0</td>\n      <td>-137.0</td>\n      <td>1.0</td>\n    </tr>\n    <tr>\n      <th>6</th>\n      <td>2315218</td>\n      <td>175704</td>\n      <td>Cash loans</td>\n      <td>NaN</td>\n      <td>0.0</td>\n      <td>0.0</td>\n      <td>NaN</td>\n      <td>NaN</td>\n      <td>TUESDAY</td>\n      <td>11</td>\n      <td>...</td>\n      <td>XNA</td>\n      <td>NaN</td>\n      <td>XNA</td>\n      <td>Cash</td>\n      <td>NaN</td>\n      <td>NaN</td>\n      <td>NaN</td>\n      <td>NaN</td>\n      <td>NaN</td>\n      <td>NaN</td>\n    </tr>\n    <tr>\n      <th>7</th>\n      <td>1656711</td>\n      <td>296299</td>\n      <td>Cash loans</td>\n      <td>NaN</td>\n      <td>0.0</td>\n      <td>0.0</td>\n      <td>NaN</td>\n      <td>NaN</td>\n      <td>MONDAY</td>\n      <td>7</td>\n      <td>...</td>\n      <td>XNA</td>\n      <td>NaN</td>\n      <td>XNA</td>\n      <td>Cash</td>\n      <td>NaN</td>\n      <td>NaN</td>\n      <td>NaN</td>\n      <td>NaN</td>\n      <td>NaN</td>\n      <td>NaN</td>\n    </tr>\n    <tr>\n      <th>8</th>\n      <td>2367563</td>\n      <td>342292</td>\n      <td>Cash loans</td>\n      <td>NaN</td>\n      <td>0.0</td>\n      <td>0.0</td>\n      <td>NaN</td>\n      <td>NaN</td>\n      <td>MONDAY</td>\n      <td>15</td>\n      <td>...</td>\n      <td>XNA</td>\n      <td>NaN</td>\n      <td>XNA</td>\n      <td>Cash</td>\n      <td>NaN</td>\n      <td>NaN</td>\n      <td>NaN</td>\n      <td>NaN</td>\n      <td>NaN</td>\n      <td>NaN</td>\n    </tr>\n    <tr>\n      <th>9</th>\n      <td>2579447</td>\n      <td>334349</td>\n      <td>Cash loans</td>\n      <td>NaN</td>\n      <td>0.0</td>\n      <td>0.0</td>\n      <td>NaN</td>\n      <td>NaN</td>\n      <td>SATURDAY</td>\n      <td>15</td>\n      <td>...</td>\n      <td>XNA</td>\n      <td>NaN</td>\n      <td>XNA</td>\n      <td>Cash</td>\n      <td>NaN</td>\n      <td>NaN</td>\n      <td>NaN</td>\n      <td>NaN</td>\n      <td>NaN</td>\n      <td>NaN</td>\n    </tr>\n  </tbody>\n</table>\n<p>10 rows × 37 columns</p>\n</div>"
     },
     "metadata": {},
     "execution_count": 192
    }
   ],
   "source": [
    "previous_app.head(10)"
   ]
  },
  {
   "cell_type": "code",
   "execution_count": 13,
   "metadata": {},
   "outputs": [
    {
     "output_type": "execute_result",
     "data": {
      "text/plain": "15"
     },
     "metadata": {},
     "execution_count": 13
    }
   ],
   "source": [
    "missing_dict = dict(previous_app.isnull().sum())\n",
    "drop_ft = []\n",
    "for k, v in missing_dict.items():\n",
    "    if v > 100:\n",
    "        drop_ft += [k]\n",
    "len(drop_ft)"
   ]
  },
  {
   "cell_type": "code",
   "execution_count": 243,
   "metadata": {},
   "outputs": [
    {
     "output_type": "execute_result",
     "data": {
      "text/plain": "{'SK_ID_PREV': 0,\n 'SK_ID_CURR': 0,\n 'NAME_CONTRACT_TYPE': 0,\n 'AMT_ANNUITY': 372235,\n 'AMT_APPLICATION': 0,\n 'AMT_CREDIT': 1,\n 'AMT_DOWN_PAYMENT': 895844,\n 'AMT_GOODS_PRICE': 385515,\n 'WEEKDAY_APPR_PROCESS_START': 0,\n 'HOUR_APPR_PROCESS_START': 0,\n 'FLAG_LAST_APPL_PER_CONTRACT': 0,\n 'NFLAG_LAST_APPL_IN_DAY': 0,\n 'RATE_DOWN_PAYMENT': 895844,\n 'RATE_INTEREST_PRIMARY': 1664263,\n 'RATE_INTEREST_PRIVILEGED': 1664263,\n 'NAME_CASH_LOAN_PURPOSE': 0,\n 'NAME_CONTRACT_STATUS': 0,\n 'DAYS_DECISION': 0,\n 'NAME_PAYMENT_TYPE': 0,\n 'CODE_REJECT_REASON': 0,\n 'NAME_TYPE_SUITE': 820405,\n 'NAME_CLIENT_TYPE': 0,\n 'NAME_GOODS_CATEGORY': 0,\n 'NAME_PORTFOLIO': 0,\n 'NAME_PRODUCT_TYPE': 0,\n 'CHANNEL_TYPE': 0,\n 'SELLERPLACE_AREA': 0,\n 'NAME_SELLER_INDUSTRY': 0,\n 'CNT_PAYMENT': 372230,\n 'NAME_YIELD_GROUP': 0,\n 'PRODUCT_COMBINATION': 346,\n 'DAYS_FIRST_DRAWING': 673065,\n 'DAYS_FIRST_DUE': 673065,\n 'DAYS_LAST_DUE_1ST_VERSION': 673065,\n 'DAYS_LAST_DUE': 673065,\n 'DAYS_TERMINATION': 673065,\n 'NFLAG_INSURED_ON_APPROVAL': 673065}"
     },
     "metadata": {},
     "execution_count": 243
    }
   ],
   "source": [
    "missing_dict"
   ]
  },
  {
   "cell_type": "code",
   "execution_count": 14,
   "metadata": {},
   "outputs": [],
   "source": [
    "previous_drop = previous_app.drop(drop_ft, axis=1)\n",
    "previous_drop = previous_drop.dropna()"
   ]
  },
  {
   "cell_type": "code",
   "execution_count": 246,
   "metadata": {},
   "outputs": [
    {
     "output_type": "execute_result",
     "data": {
      "text/plain": "SK_ID_PREV                     0\nSK_ID_CURR                     0\nNAME_CONTRACT_TYPE             0\nAMT_APPLICATION                0\nAMT_CREDIT                     0\nWEEKDAY_APPR_PROCESS_START     0\nHOUR_APPR_PROCESS_START        0\nFLAG_LAST_APPL_PER_CONTRACT    0\nNFLAG_LAST_APPL_IN_DAY         0\nNAME_CASH_LOAN_PURPOSE         0\nNAME_CONTRACT_STATUS           0\nDAYS_DECISION                  0\nNAME_PAYMENT_TYPE              0\nCODE_REJECT_REASON             0\nNAME_CLIENT_TYPE               0\nNAME_GOODS_CATEGORY            0\nNAME_PORTFOLIO                 0\nNAME_PRODUCT_TYPE              0\nCHANNEL_TYPE                   0\nSELLERPLACE_AREA               0\nNAME_SELLER_INDUSTRY           0\nNAME_YIELD_GROUP               0\ndtype: int64"
     },
     "metadata": {},
     "execution_count": 246
    }
   ],
   "source": [
    "previous_drop.isnull().sum()"
   ]
  },
  {
   "cell_type": "code",
   "execution_count": 227,
   "metadata": {},
   "outputs": [],
   "source": [
    "unique_id = previous_drop.SK_ID_CURR.unique()"
   ]
  },
  {
   "cell_type": "code",
   "execution_count": 228,
   "metadata": {},
   "outputs": [
    {
     "output_type": "execute_result",
     "data": {
      "text/plain": "338857"
     },
     "metadata": {},
     "execution_count": 228
    }
   ],
   "source": [
    "len(unique_id)"
   ]
  },
  {
   "cell_type": "code",
   "execution_count": 15,
   "metadata": {},
   "outputs": [],
   "source": [
    "def count_categorical(df, group_var, df_name):\n",
    "    \"\"\"Computes counts and normalized counts for each observation\n",
    "    of `group_var` of each unique category in every categorical variable\n",
    "    \n",
    "    Parameters\n",
    "    --------\n",
    "    df : dataframe \n",
    "        The dataframe to calculate the value counts for.\n",
    "        \n",
    "    group_var : string\n",
    "        The variable by which to group the dataframe. For each unique\n",
    "        value of this variable, the final dataframe will have one row\n",
    "        \n",
    "    df_name : string\n",
    "        Variable added to the front of column names to keep track of columns\n",
    "\n",
    "    \n",
    "    Return\n",
    "    --------\n",
    "    categorical : dataframe\n",
    "        A dataframe with counts and normalized counts of each unique category in every categorical variable\n",
    "        with one row for every unique value of the `group_var`.\n",
    "        \n",
    "    \"\"\"\n",
    "    \n",
    "    # Select the categorical columns\n",
    "    categorical = pd.get_dummies(df.select_dtypes('object'))\n",
    "\n",
    "    # Make sure to put the identifying id on the column\n",
    "    categorical[group_var] = df[group_var]\n",
    "\n",
    "    # Groupby the group var and calculate the sum and mean\n",
    "    categorical = categorical.groupby(group_var).agg(['sum', 'mean'])\n",
    "    \n",
    "    column_names = []\n",
    "    \n",
    "    # Iterate through the columns in level 0\n",
    "    for var in categorical.columns.levels[0]:\n",
    "        # Iterate through the stats in level 1\n",
    "        for stat in ['count', 'count_norm']:\n",
    "            # Make a new column name\n",
    "            column_names.append('%s_%s_%s' % (df_name, var, stat))\n",
    "    \n",
    "    categorical.columns = column_names\n",
    "    \n",
    "    return categorical"
   ]
  },
  {
   "cell_type": "code",
   "execution_count": 16,
   "metadata": {},
   "outputs": [],
   "source": [
    "group_previous = count_categorical(previous_drop[['SK_ID_CURR', 'NAME_CONTRACT_STATUS', 'NAME_CONTRACT_TYPE']], 'SK_ID_CURR', 'previous')"
   ]
  },
  {
   "cell_type": "code",
   "execution_count": 17,
   "metadata": {},
   "outputs": [],
   "source": [
    "previous_drop['DIF_AMT_CREDIT'] = previous_drop.AMT_CREDIT - previous_drop.AMT_APPLICATION"
   ]
  },
  {
   "cell_type": "code",
   "execution_count": 251,
   "metadata": {},
   "outputs": [
    {
     "output_type": "execute_result",
     "data": {
      "text/plain": "   SK_ID_PREV  SK_ID_CURR NAME_CONTRACT_TYPE  AMT_APPLICATION  AMT_CREDIT  \\\n0     2030495      271877     Consumer loans          17145.0     17145.0   \n1     2802425      108129         Cash loans         607500.0    679671.0   \n2     2523466      122040         Cash loans         112500.0    136444.5   \n3     2819243      176158         Cash loans         450000.0    470790.0   \n4     1784265      202054         Cash loans         337500.0    404055.0   \n\n  WEEKDAY_APPR_PROCESS_START  HOUR_APPR_PROCESS_START  \\\n0                   SATURDAY                       15   \n1                   THURSDAY                       11   \n2                    TUESDAY                       11   \n3                     MONDAY                        7   \n4                   THURSDAY                        9   \n\n  FLAG_LAST_APPL_PER_CONTRACT  NFLAG_LAST_APPL_IN_DAY NAME_CASH_LOAN_PURPOSE  \\\n0                           Y                       1                    XAP   \n1                           Y                       1                    XNA   \n2                           Y                       1                    XNA   \n3                           Y                       1                    XNA   \n4                           Y                       1                Repairs   \n\n   ... CODE_REJECT_REASON  NAME_CLIENT_TYPE NAME_GOODS_CATEGORY  \\\n0  ...                XAP          Repeater              Mobile   \n1  ...                XAP          Repeater                 XNA   \n2  ...                XAP          Repeater                 XNA   \n3  ...                XAP          Repeater                 XNA   \n4  ...                 HC          Repeater                 XNA   \n\n  NAME_PORTFOLIO NAME_PRODUCT_TYPE             CHANNEL_TYPE SELLERPLACE_AREA  \\\n0            POS               XNA             Country-wide               35   \n1           Cash            x-sell           Contact center               -1   \n2           Cash            x-sell  Credit and cash offices               -1   \n3           Cash            x-sell  Credit and cash offices               -1   \n4           Cash           walk-in  Credit and cash offices               -1   \n\n  NAME_SELLER_INDUSTRY NAME_YIELD_GROUP  DIF_AMT_CREDIT  \n0         Connectivity           middle             0.0  \n1                  XNA       low_action         72171.0  \n2                  XNA             high         23944.5  \n3                  XNA           middle         20790.0  \n4                  XNA             high         66555.0  \n\n[5 rows x 23 columns]",
      "text/html": "<div>\n<style scoped>\n    .dataframe tbody tr th:only-of-type {\n        vertical-align: middle;\n    }\n\n    .dataframe tbody tr th {\n        vertical-align: top;\n    }\n\n    .dataframe thead th {\n        text-align: right;\n    }\n</style>\n<table border=\"1\" class=\"dataframe\">\n  <thead>\n    <tr style=\"text-align: right;\">\n      <th></th>\n      <th>SK_ID_PREV</th>\n      <th>SK_ID_CURR</th>\n      <th>NAME_CONTRACT_TYPE</th>\n      <th>AMT_APPLICATION</th>\n      <th>AMT_CREDIT</th>\n      <th>WEEKDAY_APPR_PROCESS_START</th>\n      <th>HOUR_APPR_PROCESS_START</th>\n      <th>FLAG_LAST_APPL_PER_CONTRACT</th>\n      <th>NFLAG_LAST_APPL_IN_DAY</th>\n      <th>NAME_CASH_LOAN_PURPOSE</th>\n      <th>...</th>\n      <th>CODE_REJECT_REASON</th>\n      <th>NAME_CLIENT_TYPE</th>\n      <th>NAME_GOODS_CATEGORY</th>\n      <th>NAME_PORTFOLIO</th>\n      <th>NAME_PRODUCT_TYPE</th>\n      <th>CHANNEL_TYPE</th>\n      <th>SELLERPLACE_AREA</th>\n      <th>NAME_SELLER_INDUSTRY</th>\n      <th>NAME_YIELD_GROUP</th>\n      <th>DIF_AMT_CREDIT</th>\n    </tr>\n  </thead>\n  <tbody>\n    <tr>\n      <th>0</th>\n      <td>2030495</td>\n      <td>271877</td>\n      <td>Consumer loans</td>\n      <td>17145.0</td>\n      <td>17145.0</td>\n      <td>SATURDAY</td>\n      <td>15</td>\n      <td>Y</td>\n      <td>1</td>\n      <td>XAP</td>\n      <td>...</td>\n      <td>XAP</td>\n      <td>Repeater</td>\n      <td>Mobile</td>\n      <td>POS</td>\n      <td>XNA</td>\n      <td>Country-wide</td>\n      <td>35</td>\n      <td>Connectivity</td>\n      <td>middle</td>\n      <td>0.0</td>\n    </tr>\n    <tr>\n      <th>1</th>\n      <td>2802425</td>\n      <td>108129</td>\n      <td>Cash loans</td>\n      <td>607500.0</td>\n      <td>679671.0</td>\n      <td>THURSDAY</td>\n      <td>11</td>\n      <td>Y</td>\n      <td>1</td>\n      <td>XNA</td>\n      <td>...</td>\n      <td>XAP</td>\n      <td>Repeater</td>\n      <td>XNA</td>\n      <td>Cash</td>\n      <td>x-sell</td>\n      <td>Contact center</td>\n      <td>-1</td>\n      <td>XNA</td>\n      <td>low_action</td>\n      <td>72171.0</td>\n    </tr>\n    <tr>\n      <th>2</th>\n      <td>2523466</td>\n      <td>122040</td>\n      <td>Cash loans</td>\n      <td>112500.0</td>\n      <td>136444.5</td>\n      <td>TUESDAY</td>\n      <td>11</td>\n      <td>Y</td>\n      <td>1</td>\n      <td>XNA</td>\n      <td>...</td>\n      <td>XAP</td>\n      <td>Repeater</td>\n      <td>XNA</td>\n      <td>Cash</td>\n      <td>x-sell</td>\n      <td>Credit and cash offices</td>\n      <td>-1</td>\n      <td>XNA</td>\n      <td>high</td>\n      <td>23944.5</td>\n    </tr>\n    <tr>\n      <th>3</th>\n      <td>2819243</td>\n      <td>176158</td>\n      <td>Cash loans</td>\n      <td>450000.0</td>\n      <td>470790.0</td>\n      <td>MONDAY</td>\n      <td>7</td>\n      <td>Y</td>\n      <td>1</td>\n      <td>XNA</td>\n      <td>...</td>\n      <td>XAP</td>\n      <td>Repeater</td>\n      <td>XNA</td>\n      <td>Cash</td>\n      <td>x-sell</td>\n      <td>Credit and cash offices</td>\n      <td>-1</td>\n      <td>XNA</td>\n      <td>middle</td>\n      <td>20790.0</td>\n    </tr>\n    <tr>\n      <th>4</th>\n      <td>1784265</td>\n      <td>202054</td>\n      <td>Cash loans</td>\n      <td>337500.0</td>\n      <td>404055.0</td>\n      <td>THURSDAY</td>\n      <td>9</td>\n      <td>Y</td>\n      <td>1</td>\n      <td>Repairs</td>\n      <td>...</td>\n      <td>HC</td>\n      <td>Repeater</td>\n      <td>XNA</td>\n      <td>Cash</td>\n      <td>walk-in</td>\n      <td>Credit and cash offices</td>\n      <td>-1</td>\n      <td>XNA</td>\n      <td>high</td>\n      <td>66555.0</td>\n    </tr>\n  </tbody>\n</table>\n<p>5 rows × 23 columns</p>\n</div>"
     },
     "metadata": {},
     "execution_count": 251
    }
   ],
   "source": [
    "previous_drop.head()"
   ]
  },
  {
   "cell_type": "code",
   "execution_count": 18,
   "metadata": {},
   "outputs": [],
   "source": [
    "temp1 = previous_drop.groupby('SK_ID_CURR', as_index=False)['DIF_AMT_CREDIT'].mean()\n",
    "temp2 = previous_drop.groupby('SK_ID_CURR', as_index=False)['DIF_AMT_CREDIT'].min()\n",
    "temp3 = previous_drop.groupby('SK_ID_CURR', as_index=False)['DIF_AMT_CREDIT'].max()\n",
    "temp4 = previous_drop.groupby('SK_ID_CURR', as_index=False)['DIF_AMT_CREDIT'].sum()\n",
    "\n",
    "temp1.columns = ['SK_ID_CURR', 'DIF_AMT_CREDIT_mean']\n",
    "temp2.columns = ['SK_ID_CURR', 'DIF_AMT_CREDIT_min']\n",
    "temp3.columns = ['SK_ID_CURR', 'DIF_AMT_CREDIT_max']\n",
    "temp4.columns = ['SK_ID_CURR', 'DIF_AMT_CREDIT_sum']"
   ]
  },
  {
   "cell_type": "code",
   "execution_count": 19,
   "metadata": {},
   "outputs": [],
   "source": [
    "group_previous = group_previous.merge(temp1, on='SK_ID_CURR', how='left')\n",
    "group_previous = group_previous.merge(temp2, on='SK_ID_CURR', how='left')\n",
    "group_previous = group_previous.merge(temp3, on='SK_ID_CURR', how='left')\n",
    "group_previous = group_previous.merge(temp4, on='SK_ID_CURR', how='left')"
   ]
  },
  {
   "cell_type": "code",
   "execution_count": 20,
   "metadata": {},
   "outputs": [
    {
     "output_type": "execute_result",
     "data": {
      "text/plain": "(338857, 21)"
     },
     "metadata": {},
     "execution_count": 20
    }
   ],
   "source": [
    "group_previous.shape"
   ]
  },
  {
   "cell_type": "markdown",
   "metadata": {},
   "source": [
    "## CONCATE WITH APPLICATION "
   ]
  },
  {
   "cell_type": "code",
   "execution_count": 21,
   "metadata": {},
   "outputs": [],
   "source": [
    "concate_data = app.merge(group_install, on='SK_ID_CURR', how='left')\n",
    "concate_data = concate_data.merge(group_previous, on='SK_ID_CURR', how='left')"
   ]
  },
  {
   "cell_type": "code",
   "execution_count": 273,
   "metadata": {},
   "outputs": [
    {
     "output_type": "execute_result",
     "data": {
      "text/plain": "   SK_ID_CURR  TARGET NAME_CONTRACT_TYPE CODE_GENDER FLAG_OWN_CAR  \\\n0      100002       1         Cash loans           M            N   \n1      100003       0         Cash loans           F            N   \n2      100004       0    Revolving loans           M            Y   \n3      100006       0         Cash loans           F            N   \n4      100007       0         Cash loans           M            N   \n\n  FLAG_OWN_REALTY  CNT_CHILDREN  AMT_INCOME_TOTAL  AMT_CREDIT  AMT_ANNUITY  \\\n0               Y             0          202500.0    406597.5      24700.5   \n1               N             0          270000.0   1293502.5      35698.5   \n2               Y             0           67500.0    135000.0       6750.0   \n3               Y             0          135000.0    312682.5      29686.5   \n4               Y             0          121500.0    513000.0      21865.5   \n\n   ...  previous_NAME_CONTRACT_TYPE_Consumer loans_count  \\\n0  ...                                               1.0   \n1  ...                                               2.0   \n2  ...                                               1.0   \n3  ...                                               2.0   \n4  ...                                               2.0   \n\n  previous_NAME_CONTRACT_TYPE_Consumer loans_count_norm  \\\n0                                           1.000000      \n1                                           0.666667      \n2                                           1.000000      \n3                                           0.222222      \n4                                           0.333333      \n\n  previous_NAME_CONTRACT_TYPE_Revolving loans_count  \\\n0                                               0.0   \n1                                               0.0   \n2                                               0.0   \n3                                               2.0   \n4                                               0.0   \n\n  previous_NAME_CONTRACT_TYPE_Revolving loans_count_norm  \\\n0                                           0.000000       \n1                                           0.000000       \n2                                           0.000000       \n3                                           0.222222       \n4                                           0.000000       \n\n  previous_NAME_CONTRACT_TYPE_XNA_count  \\\n0                                   0.0   \n1                                   0.0   \n2                                   0.0   \n3                                   0.0   \n4                                   0.0   \n\n  previous_NAME_CONTRACT_TYPE_XNA_count_norm  DIF_AMT_CREDIT_mean  \\\n0                                        0.0                 0.00   \n1                                        0.0             48754.50   \n2                                        0.0             -4176.00   \n3                                        0.0             19492.24   \n4                                        0.0             16108.50   \n\n   DIF_AMT_CREDIT_min  DIF_AMT_CREDIT_max  DIF_AMT_CREDIT_sum  \n0                 0.0                 0.0                0.00  \n1              -756.0            135882.0           146263.50  \n2             -4176.0             -4176.0            -4176.00  \n3            -66987.0            218115.0           175430.16  \n4             -2560.5             59400.0            96651.00  \n\n[5 rows x 148 columns]",
      "text/html": "<div>\n<style scoped>\n    .dataframe tbody tr th:only-of-type {\n        vertical-align: middle;\n    }\n\n    .dataframe tbody tr th {\n        vertical-align: top;\n    }\n\n    .dataframe thead th {\n        text-align: right;\n    }\n</style>\n<table border=\"1\" class=\"dataframe\">\n  <thead>\n    <tr style=\"text-align: right;\">\n      <th></th>\n      <th>SK_ID_CURR</th>\n      <th>TARGET</th>\n      <th>NAME_CONTRACT_TYPE</th>\n      <th>CODE_GENDER</th>\n      <th>FLAG_OWN_CAR</th>\n      <th>FLAG_OWN_REALTY</th>\n      <th>CNT_CHILDREN</th>\n      <th>AMT_INCOME_TOTAL</th>\n      <th>AMT_CREDIT</th>\n      <th>AMT_ANNUITY</th>\n      <th>...</th>\n      <th>previous_NAME_CONTRACT_TYPE_Consumer loans_count</th>\n      <th>previous_NAME_CONTRACT_TYPE_Consumer loans_count_norm</th>\n      <th>previous_NAME_CONTRACT_TYPE_Revolving loans_count</th>\n      <th>previous_NAME_CONTRACT_TYPE_Revolving loans_count_norm</th>\n      <th>previous_NAME_CONTRACT_TYPE_XNA_count</th>\n      <th>previous_NAME_CONTRACT_TYPE_XNA_count_norm</th>\n      <th>DIF_AMT_CREDIT_mean</th>\n      <th>DIF_AMT_CREDIT_min</th>\n      <th>DIF_AMT_CREDIT_max</th>\n      <th>DIF_AMT_CREDIT_sum</th>\n    </tr>\n  </thead>\n  <tbody>\n    <tr>\n      <th>0</th>\n      <td>100002</td>\n      <td>1</td>\n      <td>Cash loans</td>\n      <td>M</td>\n      <td>N</td>\n      <td>Y</td>\n      <td>0</td>\n      <td>202500.0</td>\n      <td>406597.5</td>\n      <td>24700.5</td>\n      <td>...</td>\n      <td>1.0</td>\n      <td>1.000000</td>\n      <td>0.0</td>\n      <td>0.000000</td>\n      <td>0.0</td>\n      <td>0.0</td>\n      <td>0.00</td>\n      <td>0.0</td>\n      <td>0.0</td>\n      <td>0.00</td>\n    </tr>\n    <tr>\n      <th>1</th>\n      <td>100003</td>\n      <td>0</td>\n      <td>Cash loans</td>\n      <td>F</td>\n      <td>N</td>\n      <td>N</td>\n      <td>0</td>\n      <td>270000.0</td>\n      <td>1293502.5</td>\n      <td>35698.5</td>\n      <td>...</td>\n      <td>2.0</td>\n      <td>0.666667</td>\n      <td>0.0</td>\n      <td>0.000000</td>\n      <td>0.0</td>\n      <td>0.0</td>\n      <td>48754.50</td>\n      <td>-756.0</td>\n      <td>135882.0</td>\n      <td>146263.50</td>\n    </tr>\n    <tr>\n      <th>2</th>\n      <td>100004</td>\n      <td>0</td>\n      <td>Revolving loans</td>\n      <td>M</td>\n      <td>Y</td>\n      <td>Y</td>\n      <td>0</td>\n      <td>67500.0</td>\n      <td>135000.0</td>\n      <td>6750.0</td>\n      <td>...</td>\n      <td>1.0</td>\n      <td>1.000000</td>\n      <td>0.0</td>\n      <td>0.000000</td>\n      <td>0.0</td>\n      <td>0.0</td>\n      <td>-4176.00</td>\n      <td>-4176.0</td>\n      <td>-4176.0</td>\n      <td>-4176.00</td>\n    </tr>\n    <tr>\n      <th>3</th>\n      <td>100006</td>\n      <td>0</td>\n      <td>Cash loans</td>\n      <td>F</td>\n      <td>N</td>\n      <td>Y</td>\n      <td>0</td>\n      <td>135000.0</td>\n      <td>312682.5</td>\n      <td>29686.5</td>\n      <td>...</td>\n      <td>2.0</td>\n      <td>0.222222</td>\n      <td>2.0</td>\n      <td>0.222222</td>\n      <td>0.0</td>\n      <td>0.0</td>\n      <td>19492.24</td>\n      <td>-66987.0</td>\n      <td>218115.0</td>\n      <td>175430.16</td>\n    </tr>\n    <tr>\n      <th>4</th>\n      <td>100007</td>\n      <td>0</td>\n      <td>Cash loans</td>\n      <td>M</td>\n      <td>N</td>\n      <td>Y</td>\n      <td>0</td>\n      <td>121500.0</td>\n      <td>513000.0</td>\n      <td>21865.5</td>\n      <td>...</td>\n      <td>2.0</td>\n      <td>0.333333</td>\n      <td>0.0</td>\n      <td>0.000000</td>\n      <td>0.0</td>\n      <td>0.0</td>\n      <td>16108.50</td>\n      <td>-2560.5</td>\n      <td>59400.0</td>\n      <td>96651.00</td>\n    </tr>\n  </tbody>\n</table>\n<p>5 rows × 148 columns</p>\n</div>"
     },
     "metadata": {},
     "execution_count": 273
    }
   ],
   "source": [
    "concate_data.head()"
   ]
  },
  {
   "cell_type": "code",
   "execution_count": 274,
   "metadata": {},
   "outputs": [],
   "source": [
    "concate_data.to_csv('data/merged_application_train.csv', index=False)"
   ]
  },
  {
   "cell_type": "code",
   "execution_count": 276,
   "metadata": {},
   "outputs": [],
   "source": [
    "concate_data = test.merge(group_install, on='SK_ID_CURR', how='left')\n",
    "concate_data = concate_data.merge(group_previous, on='SK_ID_CURR', how='left')"
   ]
  },
  {
   "cell_type": "code",
   "execution_count": 277,
   "metadata": {},
   "outputs": [],
   "source": [
    "concate_data.to_csv('data/merged_application_test.csv', index=False)"
   ]
  },
  {
   "cell_type": "code",
   "execution_count": null,
   "metadata": {},
   "outputs": [],
   "source": []
  }
 ]
}