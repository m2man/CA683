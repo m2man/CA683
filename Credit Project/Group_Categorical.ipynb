{
 "nbformat": 4,
 "nbformat_minor": 2,
 "metadata": {
  "language_info": {
   "name": "python",
   "codemirror_mode": {
    "name": "ipython",
    "version": 3
   },
   "version": "3.6.10-final"
  },
  "orig_nbformat": 2,
  "file_extension": ".py",
  "mimetype": "text/x-python",
  "name": "python",
  "npconvert_exporter": "python",
  "pygments_lexer": "ipython3",
  "version": 3,
  "kernelspec": {
   "name": "python3",
   "display_name": "Python 3"
  }
 },
 "cells": [
  {
   "cell_type": "code",
   "execution_count": 1,
   "metadata": {},
   "outputs": [],
   "source": [
    "import os\n",
    "os.chdir('/home/nmduy/CA683/Credit Project')\n",
    "#from fancyimpute import IterativeImputer as MICE\n",
    "import pandas as pd\n",
    "import numpy as np\n",
    "import random"
   ]
  },
  {
   "cell_type": "code",
   "execution_count": 2,
   "metadata": {},
   "outputs": [],
   "source": [
    "data = pd.read_csv('data/filtered_application_train.csv')\n",
    "data = data.drop(data.columns[0], axis=1)"
   ]
  },
  {
   "cell_type": "code",
   "execution_count": 3,
   "metadata": {},
   "outputs": [],
   "source": [
    "# convert to positive\n",
    "data['DAYS_BIRTH'] = abs(data['DAYS_BIRTH'])\n",
    "\n",
    "data['DAYS_EMPLOYED'] = abs(data['DAYS_EMPLOYED'])\n",
    "\n",
    "data['DAYS_ID_PUBLISH'] = abs(data['DAYS_ID_PUBLISH'])\n",
    "\n",
    "data['DAYS_LAST_PHONE_CHANGE'] = abs(data['DAYS_LAST_PHONE_CHANGE'])\n",
    "\n",
    "data['DAYS_REGISTRATION'] = abs(data['DAYS_REGISTRATION'])\n",
    "\n",
    "# Assign NaN for wrong number\n",
    "data['DAYS_EMPLOYED_ANOM'] = data[\"DAYS_EMPLOYED\"] == 365243\n",
    "data['DAYS_EMPLOYED'].replace({365243: np.nan}, inplace = True)"
   ]
  },
  {
   "cell_type": "code",
   "execution_count": 4,
   "metadata": {},
   "outputs": [],
   "source": [
    "##### CONTINUOUS vs CATEGORICAL #####\n",
    "categorical_count = data.select_dtypes('object').apply(pd.Series.nunique, axis = 0)\n",
    "categorical_name = list(categorical_count.keys())\n",
    "continuous_name = [x for x in list(data.columns) if x not in categorical_name]"
   ]
  },
  {
   "cell_type": "code",
   "execution_count": 5,
   "metadata": {},
   "outputs": [
    {
     "output_type": "execute_result",
     "data": {
      "text/plain": "['SK_ID_CURR',\n 'TARGET',\n 'NAME_CONTRACT_TYPE',\n 'CODE_GENDER',\n 'FLAG_OWN_CAR',\n 'FLAG_OWN_REALTY',\n 'CNT_CHILDREN',\n 'AMT_INCOME_TOTAL',\n 'AMT_CREDIT',\n 'AMT_ANNUITY',\n 'AMT_GOODS_PRICE',\n 'REGION_POPULATION_RELATIVE',\n 'DAYS_BIRTH',\n 'DAYS_EMPLOYED',\n 'DAYS_REGISTRATION',\n 'DAYS_ID_PUBLISH',\n 'OWN_CAR_AGE',\n 'FLAG_MOBIL',\n 'FLAG_EMP_PHONE',\n 'FLAG_WORK_PHONE',\n 'FLAG_CONT_MOBILE',\n 'FLAG_PHONE',\n 'FLAG_EMAIL',\n 'CNT_FAM_MEMBERS',\n 'REGION_RATING_CLIENT',\n 'REGION_RATING_CLIENT_W_CITY',\n 'HOUR_APPR_PROCESS_START',\n 'REG_REGION_NOT_LIVE_REGION',\n 'REG_REGION_NOT_WORK_REGION',\n 'LIVE_REGION_NOT_WORK_REGION',\n 'REG_CITY_NOT_LIVE_CITY',\n 'REG_CITY_NOT_WORK_CITY',\n 'LIVE_CITY_NOT_WORK_CITY',\n 'EXT_SOURCE_2',\n 'EXT_SOURCE_3',\n 'OBS_30_CNT_SOCIAL_CIRCLE',\n 'DEF_30_CNT_SOCIAL_CIRCLE',\n 'OBS_60_CNT_SOCIAL_CIRCLE',\n 'DEF_60_CNT_SOCIAL_CIRCLE',\n 'DAYS_LAST_PHONE_CHANGE',\n 'FLAG_DOCUMENT_2',\n 'FLAG_DOCUMENT_3',\n 'FLAG_DOCUMENT_4',\n 'FLAG_DOCUMENT_5',\n 'FLAG_DOCUMENT_6',\n 'FLAG_DOCUMENT_7',\n 'FLAG_DOCUMENT_8',\n 'FLAG_DOCUMENT_9',\n 'FLAG_DOCUMENT_10',\n 'FLAG_DOCUMENT_11',\n 'FLAG_DOCUMENT_12',\n 'FLAG_DOCUMENT_13',\n 'FLAG_DOCUMENT_14',\n 'FLAG_DOCUMENT_15',\n 'FLAG_DOCUMENT_16',\n 'FLAG_DOCUMENT_17',\n 'FLAG_DOCUMENT_18',\n 'FLAG_DOCUMENT_19',\n 'FLAG_DOCUMENT_20',\n 'FLAG_DOCUMENT_21',\n 'AMT_REQ_CREDIT_BUREAU_HOUR',\n 'AMT_REQ_CREDIT_BUREAU_DAY',\n 'AMT_REQ_CREDIT_BUREAU_WEEK',\n 'AMT_REQ_CREDIT_BUREAU_MON',\n 'AMT_REQ_CREDIT_BUREAU_QRT',\n 'AMT_REQ_CREDIT_BUREAU_YEAR',\n 'DAYS_EMPLOYED_ANOM']"
     },
     "metadata": {},
     "execution_count": 5
    }
   ],
   "source": [
    "continuous_name"
   ]
  },
  {
   "cell_type": "code",
   "execution_count": 6,
   "metadata": {},
   "outputs": [
    {
     "output_type": "execute_result",
     "data": {
      "text/plain": "['NAME_TYPE_SUITE',\n 'NAME_INCOME_TYPE',\n 'NAME_EDUCATION_TYPE',\n 'NAME_FAMILY_STATUS',\n 'NAME_HOUSING_TYPE',\n 'OCCUPATION_TYPE',\n 'WEEKDAY_APPR_PROCESS_START',\n 'ORGANIZATION_TYPE']"
     },
     "metadata": {},
     "execution_count": 6
    }
   ],
   "source": [
    "categorical_name"
   ]
  },
  {
   "cell_type": "code",
   "execution_count": 7,
   "metadata": {},
   "outputs": [],
   "source": [
    "##### ENCODE #####\n",
    "encoded_train = pd.get_dummies(data)\n",
    "encoded_train.to_csv('encoded_train.csv', index=False)"
   ]
  },
  {
   "cell_type": "code",
   "execution_count": null,
   "metadata": {},
   "outputs": [],
   "source": [
    "##### REMOVE NAN #####\n",
    "encoded_train_dropna = encoded_train.dropna(axis=0, how='any')\n",
    "print(f\"Before drop: {len(encoded_train)} rows\\nAfter drop: {len(encoded_train_dropna)} rows\")\n",
    "\n",
    "encoded_train_dropna.to_csv('encoded_train_dropna.csv', index=False)"
   ]
  },
  {
   "cell_type": "code",
   "execution_count": 23,
   "metadata": {},
   "outputs": [
    {
     "output_type": "execute_result",
     "data": {
      "text/plain": "(307511, 47)"
     },
     "metadata": {},
     "execution_count": 23
    }
   ],
   "source": [
    "##### REMOVE FLAG FEATURE #####\n",
    "Flag_ft_names = [x for x in list(data.columns) if 'FLAG' in x]\n",
    "data_rm_flag = data.drop(Flag_ft_names, axis=1)\n",
    "data_rm_flag.shape"
   ]
  },
  {
   "cell_type": "code",
   "execution_count": 24,
   "metadata": {},
   "outputs": [],
   "source": [
    "data_rm_flag.to_csv('filtered_app_train_remove_flag.csv', index=False)"
   ]
  },
  {
   "cell_type": "code",
   "execution_count": 25,
   "metadata": {},
   "outputs": [
    {
     "output_type": "stream",
     "name": "stdout",
     "text": "['NAME_TYPE_SUITE', 'NAME_INCOME_TYPE', 'NAME_EDUCATION_TYPE', 'NAME_FAMILY_STATUS', 'NAME_HOUSING_TYPE', 'OCCUPATION_TYPE', 'WEEKDAY_APPR_PROCESS_START', 'ORGANIZATION_TYPE']\n['SK_ID_CURR', 'TARGET', 'NAME_CONTRACT_TYPE', 'CODE_GENDER', 'CNT_CHILDREN', 'AMT_INCOME_TOTAL', 'AMT_CREDIT', 'AMT_ANNUITY', 'AMT_GOODS_PRICE', 'REGION_POPULATION_RELATIVE', 'DAYS_BIRTH', 'DAYS_EMPLOYED', 'DAYS_REGISTRATION', 'DAYS_ID_PUBLISH', 'OWN_CAR_AGE', 'CNT_FAM_MEMBERS', 'REGION_RATING_CLIENT', 'REGION_RATING_CLIENT_W_CITY', 'HOUR_APPR_PROCESS_START', 'REG_REGION_NOT_LIVE_REGION', 'REG_REGION_NOT_WORK_REGION', 'LIVE_REGION_NOT_WORK_REGION', 'REG_CITY_NOT_LIVE_CITY', 'REG_CITY_NOT_WORK_CITY', 'LIVE_CITY_NOT_WORK_CITY', 'EXT_SOURCE_2', 'EXT_SOURCE_3', 'OBS_30_CNT_SOCIAL_CIRCLE', 'DEF_30_CNT_SOCIAL_CIRCLE', 'OBS_60_CNT_SOCIAL_CIRCLE', 'DEF_60_CNT_SOCIAL_CIRCLE', 'DAYS_LAST_PHONE_CHANGE', 'AMT_REQ_CREDIT_BUREAU_HOUR', 'AMT_REQ_CREDIT_BUREAU_DAY', 'AMT_REQ_CREDIT_BUREAU_WEEK', 'AMT_REQ_CREDIT_BUREAU_MON', 'AMT_REQ_CREDIT_BUREAU_QRT', 'AMT_REQ_CREDIT_BUREAU_YEAR', 'DAYS_EMPLOYED_ANOM']\n"
    }
   ],
   "source": [
    "##### CONTINUOUS vs CATEGORICAL #####\n",
    "categorical_count = data_rm_flag.select_dtypes('object').apply(pd.Series.nunique, axis = 0)\n",
    "categorical_name = list(categorical_count.keys())\n",
    "continuous_name = [x for x in list(data_rm_flag.columns) if x not in categorical_name]\n",
    "print(categorical_name)\n",
    "print(continuous_name)"
   ]
  },
  {
   "cell_type": "code",
   "execution_count": 26,
   "metadata": {},
   "outputs": [
    {
     "output_type": "execute_result",
     "data": {
      "text/plain": "{'NAME_TYPE_SUITE': ['Unaccompanied',\n  'Family',\n  'Spouse, partner',\n  'Children',\n  'Other_A',\n  nan,\n  'Other_B',\n  'Group of people'],\n 'NAME_INCOME_TYPE': ['Working',\n  'State servant',\n  'Commercial associate',\n  'Pensioner',\n  'Unemployed',\n  'Student',\n  'Businessman',\n  'Maternity leave'],\n 'NAME_EDUCATION_TYPE': ['Secondary / secondary special',\n  'Higher education',\n  'Incomplete higher',\n  'Lower secondary',\n  'Academic degree'],\n 'NAME_FAMILY_STATUS': ['Single / not married',\n  'Married',\n  'Civil marriage',\n  'Widow',\n  'Separated',\n  'Unknown'],\n 'NAME_HOUSING_TYPE': ['House / apartment',\n  'Rented apartment',\n  'With parents',\n  'Municipal apartment',\n  'Office apartment',\n  'Co-op apartment'],\n 'OCCUPATION_TYPE': ['Laborers',\n  'Core staff',\n  'Accountants',\n  'Managers',\n  nan,\n  'Drivers',\n  'Sales staff',\n  'Cleaning staff',\n  'Cooking staff',\n  'Private service staff',\n  'Medicine staff',\n  'Security staff',\n  'High skill tech staff',\n  'Waiters/barmen staff',\n  'Low-skill Laborers',\n  'Realty agents',\n  'Secretaries',\n  'IT staff',\n  'HR staff'],\n 'WEEKDAY_APPR_PROCESS_START': ['WEDNESDAY',\n  'MONDAY',\n  'THURSDAY',\n  'SUNDAY',\n  'SATURDAY',\n  'FRIDAY',\n  'TUESDAY'],\n 'ORGANIZATION_TYPE': ['Business Entity Type 3',\n  'School',\n  'Government',\n  'Religion',\n  'Other',\n  'XNA',\n  'Electricity',\n  'Medicine',\n  'Business Entity Type 2',\n  'Self-employed',\n  'Transport: type 2',\n  'Construction',\n  'Housing',\n  'Kindergarten',\n  'Trade: type 7',\n  'Industry: type 11',\n  'Military',\n  'Services',\n  'Security Ministries',\n  'Transport: type 4',\n  'Industry: type 1',\n  'Emergency',\n  'Security',\n  'Trade: type 2',\n  'University',\n  'Transport: type 3',\n  'Police',\n  'Business Entity Type 1',\n  'Postal',\n  'Industry: type 4',\n  'Agriculture',\n  'Restaurant',\n  'Culture',\n  'Hotel',\n  'Industry: type 7',\n  'Trade: type 3',\n  'Industry: type 3',\n  'Bank',\n  'Industry: type 9',\n  'Insurance',\n  'Trade: type 6',\n  'Industry: type 2',\n  'Transport: type 1',\n  'Industry: type 12',\n  'Mobile',\n  'Trade: type 1',\n  'Industry: type 5',\n  'Industry: type 10',\n  'Legal Services',\n  'Advertising',\n  'Trade: type 5',\n  'Cleaning',\n  'Industry: type 13',\n  'Trade: type 4',\n  'Telecom',\n  'Industry: type 8',\n  'Realtor',\n  'Industry: type 6']}"
     },
     "metadata": {},
     "execution_count": 26
    }
   ],
   "source": [
    "##### GROUP CATEGORICAL #####\n",
    "categorical_values = {}\n",
    "for x in categorical_name:\n",
    "    categorical_values[x] = list(data[x].unique())\n",
    "categorical_values"
   ]
  },
  {
   "cell_type": "code",
   "execution_count": 27,
   "metadata": {},
   "outputs": [],
   "source": [
    "for val in categorical_values['ORGANIZATION_TYPE']:\n",
    "    if 'Industry' in val:\n",
    "        data_rm_flag['ORGANIZATION_TYPE'].replace({val:\"Industry\"}, inplace=True)\n",
    "    elif 'Trade' in val:\n",
    "        data_rm_flag['ORGANIZATION_TYPE'].replace({val:\"Trade\"}, inplace=True)\n",
    "    elif 'Transport' in val:\n",
    "        data_rm_flag['ORGANIZATION_TYPE'].replace({val:\"Transport\"}, inplace=True)\n",
    "    elif 'Business Entity' in val:\n",
    "        data_rm_flag['ORGANIZATION_TYPE'].replace({val:\"Business\"}, inplace=True)"
   ]
  },
  {
   "cell_type": "code",
   "execution_count": 28,
   "metadata": {},
   "outputs": [
    {
     "output_type": "execute_result",
     "data": {
      "text/plain": "{'NAME_TYPE_SUITE': ['Unaccompanied',\n  'Family',\n  'Spouse, partner',\n  'Children',\n  'Other_A',\n  nan,\n  'Other_B',\n  'Group of people'],\n 'NAME_INCOME_TYPE': ['Working',\n  'State servant',\n  'Commercial associate',\n  'Pensioner',\n  'Unemployed',\n  'Student',\n  'Businessman',\n  'Maternity leave'],\n 'NAME_EDUCATION_TYPE': ['Secondary / secondary special',\n  'Higher education',\n  'Incomplete higher',\n  'Lower secondary',\n  'Academic degree'],\n 'NAME_FAMILY_STATUS': ['Single / not married',\n  'Married',\n  'Civil marriage',\n  'Widow',\n  'Separated',\n  'Unknown'],\n 'NAME_HOUSING_TYPE': ['House / apartment',\n  'Rented apartment',\n  'With parents',\n  'Municipal apartment',\n  'Office apartment',\n  'Co-op apartment'],\n 'OCCUPATION_TYPE': ['Laborers',\n  'Core staff',\n  'Accountants',\n  'Managers',\n  nan,\n  'Drivers',\n  'Sales staff',\n  'Cleaning staff',\n  'Cooking staff',\n  'Private service staff',\n  'Medicine staff',\n  'Security staff',\n  'High skill tech staff',\n  'Waiters/barmen staff',\n  'Low-skill Laborers',\n  'Realty agents',\n  'Secretaries',\n  'IT staff',\n  'HR staff'],\n 'WEEKDAY_APPR_PROCESS_START': ['WEDNESDAY',\n  'MONDAY',\n  'THURSDAY',\n  'SUNDAY',\n  'SATURDAY',\n  'FRIDAY',\n  'TUESDAY'],\n 'ORGANIZATION_TYPE': ['Business',\n  'School',\n  'Government',\n  'Religion',\n  'Other',\n  'XNA',\n  'Electricity',\n  'Medicine',\n  'Self-employed',\n  'Transport',\n  'Construction',\n  'Housing',\n  'Kindergarten',\n  'Trade',\n  'Industry',\n  'Military',\n  'Services',\n  'Security Ministries',\n  'Emergency',\n  'Security',\n  'University',\n  'Police',\n  'Postal',\n  'Agriculture',\n  'Restaurant',\n  'Culture',\n  'Hotel',\n  'Bank',\n  'Insurance',\n  'Mobile',\n  'Legal Services',\n  'Advertising',\n  'Cleaning',\n  'Telecom',\n  'Realtor']}"
     },
     "metadata": {},
     "execution_count": 28
    }
   ],
   "source": [
    "categorical_values = {}\n",
    "for x in categorical_name:\n",
    "    categorical_values[x] = list(data_rm_flag[x].unique())\n",
    "categorical_values"
   ]
  },
  {
   "cell_type": "code",
   "execution_count": 29,
   "metadata": {},
   "outputs": [],
   "source": [
    "data_rm_flag.to_csv('filtered_app_train_remove_flag_group_category.csv', index=False)"
   ]
  },
  {
   "cell_type": "code",
   "execution_count": null,
   "metadata": {},
   "outputs": [],
   "source": [
    "# Correlation with TARGET\n",
    "correlations = data_rm_flag[[x for x in continuous_name if x not in ['SK_ID_CURR']]].corr()['TARGET'].sort_values()\n",
    "correlations_final = correlations[:-1]\n",
    "correlations_final = abs(correlations_final)\n",
    "correlations_final = correlations_final.sort_values()\n",
    "correlations_final"
   ]
  },
  {
   "cell_type": "code",
   "execution_count": null,
   "metadata": {},
   "outputs": [],
   "source": [
    "cor_pd = {'Features': list(correlations_final.keys()), 'Values': list(correlations_final)}\n",
    "cor_pd = pd.DataFrame(cor_pd, columns = ['Features', 'Values'])\n",
    "chart = sns.barplot(x = 'Values', y = 'Features', data = cor_pd,\n",
    "                    label = 'Abs of Correlation coefficients', color = 'b', edgecolor = 'w')\n",
    "chart.set_yticklabels(chart.get_yticklabels(), fontsize=3)"
   ]
  },
  {
   "cell_type": "code",
   "execution_count": 30,
   "metadata": {},
   "outputs": [],
   "source": [
    "##### ENCODE #####\n",
    "encoded_train = pd.get_dummies(data_rm_flag)\n",
    "encoded_train.to_csv('encoded_train_rmflg_group.csv', index=False)"
   ]
  },
  {
   "cell_type": "code",
   "execution_count": 31,
   "metadata": {},
   "outputs": [
    {
     "output_type": "stream",
     "name": "stdout",
     "text": "Before drop: 307511 rows\nAfter drop: 201084 rows\n"
    }
   ],
   "source": [
    "##### DROP NA #####\n",
    "encoded_train_dropna = encoded_train.dropna(axis=0, how='any')\n",
    "print(f\"Before drop: {len(encoded_train)} rows\\nAfter drop: {len(encoded_train_dropna)} rows\")\n",
    "\n",
    "encoded_train_dropna.to_csv('encoded_train_rmflg_group_dropna.csv', index=False)\n",
    ""
   ]
  },
  {
   "cell_type": "code",
   "execution_count": 32,
   "metadata": {},
   "outputs": [
    {
     "output_type": "execute_result",
     "data": {
      "text/plain": "(307511, 131)"
     },
     "metadata": {},
     "execution_count": 32
    }
   ],
   "source": [
    "encoded_train.shape"
   ]
  },
  {
   "cell_type": "code",
   "execution_count": 33,
   "metadata": {},
   "outputs": [
    {
     "output_type": "execute_result",
     "data": {
      "text/plain": "(201084, 131)"
     },
     "metadata": {},
     "execution_count": 33
    }
   ],
   "source": [
    "encoded_train_dropna.shape"
   ]
  },
  {
   "cell_type": "code",
   "execution_count": null,
   "metadata": {},
   "outputs": [],
   "source": []
  }
 ]
}