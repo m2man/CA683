{
 "nbformat": 4,
 "nbformat_minor": 2,
 "metadata": {
  "language_info": {
   "name": "python",
   "codemirror_mode": {
    "name": "ipython",
    "version": 3
   },
   "version": "3.6.10-final"
  },
  "orig_nbformat": 2,
  "file_extension": ".py",
  "mimetype": "text/x-python",
  "name": "python",
  "npconvert_exporter": "python",
  "pygments_lexer": "ipython3",
  "version": 3,
  "kernelspec": {
   "name": "python3",
   "display_name": "Python 3"
  }
 },
 "cells": [
  {
   "cell_type": "code",
   "execution_count": 1,
   "metadata": {},
   "outputs": [
    {
     "output_type": "stream",
     "name": "stderr",
     "text": "Using TensorFlow backend.\n"
    }
   ],
   "source": [
    "import os\n",
    "os.chdir('/home/nmduy/CA683/Credit Project')\n",
    "from fancyimpute import IterativeImputer as MICE\n",
    "import pandas as pd\n",
    "import numpy as np"
   ]
  },
  {
   "cell_type": "code",
   "execution_count": 3,
   "metadata": {},
   "outputs": [],
   "source": [
    "# data_dummy = pd.read_csv('filtered_application_train.csv')\n",
    "# data_dummy = data_dummy.drop(['SK_ID_CURR', 'TARGET'], axis=1)\n",
    "\n",
    "# categorical_count = data_dummy.select_dtypes('object').apply(pd.Series.nunique, axis = 0)\n",
    "# categorical_name = list(categorical_count.keys())\n",
    "# continuous_name = [x for x in list(data_dummy.columns) if x not in categorical_name]"
   ]
  },
  {
   "cell_type": "code",
   "execution_count": 4,
   "metadata": {},
   "outputs": [],
   "source": [
    "data = pd.read_csv('encoded_train_rmflg_group_dropna.csv')\n",
    "data_rm = data.drop(['SK_ID_CURR', 'TARGET'], axis=1) # remove target"
   ]
  },
  {
   "cell_type": "code",
   "execution_count": 6,
   "metadata": {},
   "outputs": [],
   "source": [
    "##### PSEUDO MISSING #####\n",
    "import random \n",
    "random.seed(1509)\n",
    "\n",
    "data_pseudo = data_rm.copy()\n",
    "pseudo_portion = 0.2\n",
    "numb_pseudo = int(pseudo_portion * len(data_rm))\n",
    "index = [i for i in range(len(data_rm))]\n",
    "\n",
    "for col in list(data_rm.columns):\n",
    "    pseudo_na_index = random.sample(index, numb_pseudo)\n",
    "    data_pseudo[col][pseudo_na_index] = np.nan\n",
    ""
   ]
  },
  {
   "cell_type": "code",
   "execution_count": 8,
   "metadata": {},
   "outputs": [],
   "source": [
    "imputed_data_pseudo = MICE().fit_transform(data_pseudo)\n",
    "imputed_pd = pd.DataFrame(data=imputed_data_pseudo)\n",
    "imputed_pd.columns = list(data_pseudo.columns)\n",
    ""
   ]
  },
  {
   "cell_type": "code",
   "execution_count": 31,
   "metadata": {},
   "outputs": [],
   "source": [
    "imputed_pd.to_csv('initial_imputed_train.csv', index=False)"
   ]
  },
  {
   "cell_type": "code",
   "execution_count": 10,
   "metadata": {},
   "outputs": [
    {
     "output_type": "execute_result",
     "data": {
      "text/plain": "   NAME_CONTRACT_TYPE  CODE_GENDER  CNT_CHILDREN  AMT_INCOME_TOTAL  \\\n0              1.0000     1.000000       0.00000     202500.000000   \n1              0.0000     0.514795       0.00000      67500.000000   \n2              1.0000     1.000000       0.00000      99000.000000   \n3              1.0000     0.000000       1.00000     243019.785837   \n4              0.8722     0.556790      -0.00529     360000.000000   \n\n     AMT_CREDIT   AMT_ANNUITY  AMT_GOODS_PRICE  REGION_POPULATION_RELATIVE  \\\n0  3.978864e+05  22531.937119     3.510000e+05                    0.018801   \n1  1.350000e+05   6750.000000     1.084180e+05                    0.010032   \n2  6.183956e+05  27517.500000     5.552343e+05                    0.035792   \n3  1.560726e+06  41301.000000     1.404208e+06                    0.035792   \n4  1.530000e+06  42075.000000     1.530000e+06                    0.003122   \n\n     DAYS_BIRTH  DAYS_EMPLOYED  ...  ORGANIZATION_TYPE_School  \\\n0  12111.154414          637.0  ...                 -0.026294   \n1  12963.118663          225.0  ...                  0.000000   \n2  14983.849330         1588.0  ...                  0.028492   \n3  13778.000000         3130.0  ...                  0.000000   \n4  18850.000000          449.0  ...                  0.000000   \n\n   ORGANIZATION_TYPE_Security  ORGANIZATION_TYPE_Security Ministries  \\\n0                   -0.002336                                    0.0   \n1                    0.000000                                    0.0   \n2                    0.001823                                    0.0   \n3                    0.000000                                    0.0   \n4                    0.000000                                    0.0   \n\n   ORGANIZATION_TYPE_Self-employed  ORGANIZATION_TYPE_Services  \\\n0                         0.128781                    0.005435   \n1                         0.000000                    0.000000   \n2                         0.000000                    0.000000   \n3                         0.000000                    0.056916   \n4                         0.000000                    0.000000   \n\n   ORGANIZATION_TYPE_Telecom  ORGANIZATION_TYPE_Trade  \\\n0                   0.000000                      0.0   \n1                   0.000000                      0.0   \n2                   0.000000                      0.0   \n3                   0.024549                      0.0   \n4                   0.029676                      0.0   \n\n   ORGANIZATION_TYPE_Transport  ORGANIZATION_TYPE_University  \\\n0                     0.000000                           0.0   \n1                     0.000000                           0.0   \n2                     0.032098                           0.0   \n3                     0.000000                           0.0   \n4                     0.096332                           0.0   \n\n   ORGANIZATION_TYPE_XNA  \n0                    0.0  \n1                    0.0  \n2                    0.0  \n3                    0.0  \n4                    0.0  \n\n[5 rows x 129 columns]",
      "text/html": "<div>\n<style scoped>\n    .dataframe tbody tr th:only-of-type {\n        vertical-align: middle;\n    }\n\n    .dataframe tbody tr th {\n        vertical-align: top;\n    }\n\n    .dataframe thead th {\n        text-align: right;\n    }\n</style>\n<table border=\"1\" class=\"dataframe\">\n  <thead>\n    <tr style=\"text-align: right;\">\n      <th></th>\n      <th>NAME_CONTRACT_TYPE</th>\n      <th>CODE_GENDER</th>\n      <th>CNT_CHILDREN</th>\n      <th>AMT_INCOME_TOTAL</th>\n      <th>AMT_CREDIT</th>\n      <th>AMT_ANNUITY</th>\n      <th>AMT_GOODS_PRICE</th>\n      <th>REGION_POPULATION_RELATIVE</th>\n      <th>DAYS_BIRTH</th>\n      <th>DAYS_EMPLOYED</th>\n      <th>...</th>\n      <th>ORGANIZATION_TYPE_School</th>\n      <th>ORGANIZATION_TYPE_Security</th>\n      <th>ORGANIZATION_TYPE_Security Ministries</th>\n      <th>ORGANIZATION_TYPE_Self-employed</th>\n      <th>ORGANIZATION_TYPE_Services</th>\n      <th>ORGANIZATION_TYPE_Telecom</th>\n      <th>ORGANIZATION_TYPE_Trade</th>\n      <th>ORGANIZATION_TYPE_Transport</th>\n      <th>ORGANIZATION_TYPE_University</th>\n      <th>ORGANIZATION_TYPE_XNA</th>\n    </tr>\n  </thead>\n  <tbody>\n    <tr>\n      <th>0</th>\n      <td>1.0000</td>\n      <td>1.000000</td>\n      <td>0.00000</td>\n      <td>202500.000000</td>\n      <td>3.978864e+05</td>\n      <td>22531.937119</td>\n      <td>3.510000e+05</td>\n      <td>0.018801</td>\n      <td>12111.154414</td>\n      <td>637.0</td>\n      <td>...</td>\n      <td>-0.026294</td>\n      <td>-0.002336</td>\n      <td>0.0</td>\n      <td>0.128781</td>\n      <td>0.005435</td>\n      <td>0.000000</td>\n      <td>0.0</td>\n      <td>0.000000</td>\n      <td>0.0</td>\n      <td>0.0</td>\n    </tr>\n    <tr>\n      <th>1</th>\n      <td>0.0000</td>\n      <td>0.514795</td>\n      <td>0.00000</td>\n      <td>67500.000000</td>\n      <td>1.350000e+05</td>\n      <td>6750.000000</td>\n      <td>1.084180e+05</td>\n      <td>0.010032</td>\n      <td>12963.118663</td>\n      <td>225.0</td>\n      <td>...</td>\n      <td>0.000000</td>\n      <td>0.000000</td>\n      <td>0.0</td>\n      <td>0.000000</td>\n      <td>0.000000</td>\n      <td>0.000000</td>\n      <td>0.0</td>\n      <td>0.000000</td>\n      <td>0.0</td>\n      <td>0.0</td>\n    </tr>\n    <tr>\n      <th>2</th>\n      <td>1.0000</td>\n      <td>1.000000</td>\n      <td>0.00000</td>\n      <td>99000.000000</td>\n      <td>6.183956e+05</td>\n      <td>27517.500000</td>\n      <td>5.552343e+05</td>\n      <td>0.035792</td>\n      <td>14983.849330</td>\n      <td>1588.0</td>\n      <td>...</td>\n      <td>0.028492</td>\n      <td>0.001823</td>\n      <td>0.0</td>\n      <td>0.000000</td>\n      <td>0.000000</td>\n      <td>0.000000</td>\n      <td>0.0</td>\n      <td>0.032098</td>\n      <td>0.0</td>\n      <td>0.0</td>\n    </tr>\n    <tr>\n      <th>3</th>\n      <td>1.0000</td>\n      <td>0.000000</td>\n      <td>1.00000</td>\n      <td>243019.785837</td>\n      <td>1.560726e+06</td>\n      <td>41301.000000</td>\n      <td>1.404208e+06</td>\n      <td>0.035792</td>\n      <td>13778.000000</td>\n      <td>3130.0</td>\n      <td>...</td>\n      <td>0.000000</td>\n      <td>0.000000</td>\n      <td>0.0</td>\n      <td>0.000000</td>\n      <td>0.056916</td>\n      <td>0.024549</td>\n      <td>0.0</td>\n      <td>0.000000</td>\n      <td>0.0</td>\n      <td>0.0</td>\n    </tr>\n    <tr>\n      <th>4</th>\n      <td>0.8722</td>\n      <td>0.556790</td>\n      <td>-0.00529</td>\n      <td>360000.000000</td>\n      <td>1.530000e+06</td>\n      <td>42075.000000</td>\n      <td>1.530000e+06</td>\n      <td>0.003122</td>\n      <td>18850.000000</td>\n      <td>449.0</td>\n      <td>...</td>\n      <td>0.000000</td>\n      <td>0.000000</td>\n      <td>0.0</td>\n      <td>0.000000</td>\n      <td>0.000000</td>\n      <td>0.029676</td>\n      <td>0.0</td>\n      <td>0.096332</td>\n      <td>0.0</td>\n      <td>0.0</td>\n    </tr>\n  </tbody>\n</table>\n<p>5 rows × 129 columns</p>\n</div>"
     },
     "metadata": {},
     "execution_count": 10
    }
   ],
   "source": [
    "imputed_pd.head()"
   ]
  },
  {
   "cell_type": "code",
   "execution_count": 28,
   "metadata": {},
   "outputs": [
    {
     "output_type": "stream",
     "name": "stdout",
     "text": "Mean Square Error: 416279890.1954319\n"
    }
   ],
   "source": [
    "pred = []\n",
    "lbl = []\n",
    "for col in list(data_rm.columns):\n",
    "    pseudo_na_index = np.asarray(pd.isnull(data_pseudo[col])).nonzero()[0]\n",
    "    lbl += list(data_rm[col][pseudo_na_index])\n",
    "    pred += list(imputed_pd[col][pseudo_na_index])\n",
    "\n",
    "pred_np = np.asarray(pred)\n",
    "lbl_np = np.asarray(lbl)\n",
    "error = (np.square(pred_np - lbl_np)).mean()\n",
    "print(f\"Mean Square Error: {error}\")"
   ]
  },
  {
   "cell_type": "code",
   "execution_count": 32,
   "metadata": {},
   "outputs": [],
   "source": [
    "a = imputed_pd.copy()"
   ]
  },
  {
   "cell_type": "code",
   "execution_count": 47,
   "metadata": {},
   "outputs": [],
   "source": [
    "a['NAME_CONTRACT_TYPE'][a['NAME_CONTRACT_TYPE'] < 0.5] = 0\n",
    "a['NAME_CONTRACT_TYPE'][a['NAME_CONTRACT_TYPE'] != 0] = 1\n",
    "a['CODE_GENDER'][a['CODE_GENDER'] < 0.5] = 0\n",
    "a['CODE_GENDER'][a['CODE_GENDER'] != 0] = 1\n",
    "a['CNT_CHILDREN'][a['CNT_CHILDREN'] < 0] = 0\n",
    "a['CNT_FAM_MEMBERS'][a['CNT_FAM_MEMBERS'] < 0] = 0\n",
    "for col in list(a.columns):\n",
    "    if 'NAME' in col or 'OCCUPATION' in col or 'WEEKDAY' in col or 'ORGANIZATION' in col:\n",
    "        a[col][a[col] < 0.5] = 0\n",
    "        a[col][a[col] != 0] = 1\n",
    "    else:\n",
    "        a[col][a[col] < 0] = 0\n",
    "\n",
    "    \n",
    ""
   ]
  },
  {
   "cell_type": "code",
   "execution_count": 48,
   "metadata": {},
   "outputs": [
    {
     "output_type": "execute_result",
     "data": {
      "text/plain": "   NAME_CONTRACT_TYPE  CODE_GENDER  CNT_CHILDREN  AMT_INCOME_TOTAL  \\\n0                 1.0          1.0           0.0     202500.000000   \n1                 0.0          1.0           0.0      67500.000000   \n2                 1.0          1.0           0.0      99000.000000   \n3                 1.0          0.0           1.0     243019.785837   \n4                 1.0          1.0           0.0     360000.000000   \n\n     AMT_CREDIT   AMT_ANNUITY  AMT_GOODS_PRICE  REGION_POPULATION_RELATIVE  \\\n0  3.978864e+05  22531.937119     3.510000e+05                    0.018801   \n1  1.350000e+05   6750.000000     1.084180e+05                    0.010032   \n2  6.183956e+05  27517.500000     5.552343e+05                    0.035792   \n3  1.560726e+06  41301.000000     1.404208e+06                    0.035792   \n4  1.530000e+06  42075.000000     1.530000e+06                    0.003122   \n\n     DAYS_BIRTH  DAYS_EMPLOYED  ...  ORGANIZATION_TYPE_School  \\\n0  12111.154414          637.0  ...                       0.0   \n1  12963.118663          225.0  ...                       0.0   \n2  14983.849330         1588.0  ...                       0.0   \n3  13778.000000         3130.0  ...                       0.0   \n4  18850.000000          449.0  ...                       0.0   \n\n   ORGANIZATION_TYPE_Security  ORGANIZATION_TYPE_Security Ministries  \\\n0                         0.0                                    0.0   \n1                         0.0                                    0.0   \n2                         0.0                                    0.0   \n3                         0.0                                    0.0   \n4                         0.0                                    0.0   \n\n   ORGANIZATION_TYPE_Self-employed  ORGANIZATION_TYPE_Services  \\\n0                              0.0                         0.0   \n1                              0.0                         0.0   \n2                              0.0                         0.0   \n3                              0.0                         0.0   \n4                              0.0                         0.0   \n\n   ORGANIZATION_TYPE_Telecom  ORGANIZATION_TYPE_Trade  \\\n0                        0.0                      0.0   \n1                        0.0                      0.0   \n2                        0.0                      0.0   \n3                        0.0                      0.0   \n4                        0.0                      0.0   \n\n   ORGANIZATION_TYPE_Transport  ORGANIZATION_TYPE_University  \\\n0                          0.0                           0.0   \n1                          0.0                           0.0   \n2                          0.0                           0.0   \n3                          0.0                           0.0   \n4                          0.0                           0.0   \n\n   ORGANIZATION_TYPE_XNA  \n0                    0.0  \n1                    0.0  \n2                    0.0  \n3                    0.0  \n4                    0.0  \n\n[5 rows x 129 columns]",
      "text/html": "<div>\n<style scoped>\n    .dataframe tbody tr th:only-of-type {\n        vertical-align: middle;\n    }\n\n    .dataframe tbody tr th {\n        vertical-align: top;\n    }\n\n    .dataframe thead th {\n        text-align: right;\n    }\n</style>\n<table border=\"1\" class=\"dataframe\">\n  <thead>\n    <tr style=\"text-align: right;\">\n      <th></th>\n      <th>NAME_CONTRACT_TYPE</th>\n      <th>CODE_GENDER</th>\n      <th>CNT_CHILDREN</th>\n      <th>AMT_INCOME_TOTAL</th>\n      <th>AMT_CREDIT</th>\n      <th>AMT_ANNUITY</th>\n      <th>AMT_GOODS_PRICE</th>\n      <th>REGION_POPULATION_RELATIVE</th>\n      <th>DAYS_BIRTH</th>\n      <th>DAYS_EMPLOYED</th>\n      <th>...</th>\n      <th>ORGANIZATION_TYPE_School</th>\n      <th>ORGANIZATION_TYPE_Security</th>\n      <th>ORGANIZATION_TYPE_Security Ministries</th>\n      <th>ORGANIZATION_TYPE_Self-employed</th>\n      <th>ORGANIZATION_TYPE_Services</th>\n      <th>ORGANIZATION_TYPE_Telecom</th>\n      <th>ORGANIZATION_TYPE_Trade</th>\n      <th>ORGANIZATION_TYPE_Transport</th>\n      <th>ORGANIZATION_TYPE_University</th>\n      <th>ORGANIZATION_TYPE_XNA</th>\n    </tr>\n  </thead>\n  <tbody>\n    <tr>\n      <th>0</th>\n      <td>1.0</td>\n      <td>1.0</td>\n      <td>0.0</td>\n      <td>202500.000000</td>\n      <td>3.978864e+05</td>\n      <td>22531.937119</td>\n      <td>3.510000e+05</td>\n      <td>0.018801</td>\n      <td>12111.154414</td>\n      <td>637.0</td>\n      <td>...</td>\n      <td>0.0</td>\n      <td>0.0</td>\n      <td>0.0</td>\n      <td>0.0</td>\n      <td>0.0</td>\n      <td>0.0</td>\n      <td>0.0</td>\n      <td>0.0</td>\n      <td>0.0</td>\n      <td>0.0</td>\n    </tr>\n    <tr>\n      <th>1</th>\n      <td>0.0</td>\n      <td>1.0</td>\n      <td>0.0</td>\n      <td>67500.000000</td>\n      <td>1.350000e+05</td>\n      <td>6750.000000</td>\n      <td>1.084180e+05</td>\n      <td>0.010032</td>\n      <td>12963.118663</td>\n      <td>225.0</td>\n      <td>...</td>\n      <td>0.0</td>\n      <td>0.0</td>\n      <td>0.0</td>\n      <td>0.0</td>\n      <td>0.0</td>\n      <td>0.0</td>\n      <td>0.0</td>\n      <td>0.0</td>\n      <td>0.0</td>\n      <td>0.0</td>\n    </tr>\n    <tr>\n      <th>2</th>\n      <td>1.0</td>\n      <td>1.0</td>\n      <td>0.0</td>\n      <td>99000.000000</td>\n      <td>6.183956e+05</td>\n      <td>27517.500000</td>\n      <td>5.552343e+05</td>\n      <td>0.035792</td>\n      <td>14983.849330</td>\n      <td>1588.0</td>\n      <td>...</td>\n      <td>0.0</td>\n      <td>0.0</td>\n      <td>0.0</td>\n      <td>0.0</td>\n      <td>0.0</td>\n      <td>0.0</td>\n      <td>0.0</td>\n      <td>0.0</td>\n      <td>0.0</td>\n      <td>0.0</td>\n    </tr>\n    <tr>\n      <th>3</th>\n      <td>1.0</td>\n      <td>0.0</td>\n      <td>1.0</td>\n      <td>243019.785837</td>\n      <td>1.560726e+06</td>\n      <td>41301.000000</td>\n      <td>1.404208e+06</td>\n      <td>0.035792</td>\n      <td>13778.000000</td>\n      <td>3130.0</td>\n      <td>...</td>\n      <td>0.0</td>\n      <td>0.0</td>\n      <td>0.0</td>\n      <td>0.0</td>\n      <td>0.0</td>\n      <td>0.0</td>\n      <td>0.0</td>\n      <td>0.0</td>\n      <td>0.0</td>\n      <td>0.0</td>\n    </tr>\n    <tr>\n      <th>4</th>\n      <td>1.0</td>\n      <td>1.0</td>\n      <td>0.0</td>\n      <td>360000.000000</td>\n      <td>1.530000e+06</td>\n      <td>42075.000000</td>\n      <td>1.530000e+06</td>\n      <td>0.003122</td>\n      <td>18850.000000</td>\n      <td>449.0</td>\n      <td>...</td>\n      <td>0.0</td>\n      <td>0.0</td>\n      <td>0.0</td>\n      <td>0.0</td>\n      <td>0.0</td>\n      <td>0.0</td>\n      <td>0.0</td>\n      <td>0.0</td>\n      <td>0.0</td>\n      <td>0.0</td>\n    </tr>\n  </tbody>\n</table>\n<p>5 rows × 129 columns</p>\n</div>"
     },
     "metadata": {},
     "execution_count": 48
    }
   ],
   "source": [
    "a.head()"
   ]
  },
  {
   "cell_type": "code",
   "execution_count": 49,
   "metadata": {},
   "outputs": [
    {
     "output_type": "stream",
     "name": "stdout",
     "text": "Mean Square Error: 414630834.66379166\n"
    }
   ],
   "source": [
    "pred = []\n",
    "lbl = []\n",
    "for col in list(data_rm.columns):\n",
    "    pseudo_na_index = np.asarray(pd.isnull(data_pseudo[col])).nonzero()[0]\n",
    "    lbl += list(data_rm[col][pseudo_na_index])\n",
    "    pred += list(a[col][pseudo_na_index])\n",
    "\n",
    "pred_np = np.asarray(pred)\n",
    "lbl_np = np.asarray(lbl)\n",
    "error = (np.square(pred_np - lbl_np)).mean()\n",
    "print(f\"Mean Square Error: {error}\")"
   ]
  },
  {
   "cell_type": "code",
   "execution_count": 51,
   "metadata": {},
   "outputs": [],
   "source": [
    "pred = {}\n",
    "lbl = {}\n",
    "for col in list(data_rm.columns):\n",
    "    pseudo_na_index = np.asarray(pd.isnull(data_pseudo[col])).nonzero()[0]\n",
    "    lbl[col] = list(data_rm[col][pseudo_na_index])\n",
    "    pred[col] = list(a[col][pseudo_na_index])"
   ]
  },
  {
   "cell_type": "code",
   "execution_count": 61,
   "metadata": {},
   "outputs": [],
   "source": [
    "def calculate_r_square(pred, lbl):\n",
    "    # pred and lbl is numpy vector\n",
    "    correlation_matrix = np.corrcoef(pred, lbl)\n",
    "    correlation_xy = correlation_matrix[0,1]\n",
    "    r_squared = correlation_xy**2\n",
    "    return r_squared\n",
    "\n",
    "def calculate_adjusted_r_square(pred, lbl, numb_ft):\n",
    "    r_squared = calculate_r_square(pred, lbl)\n",
    "    numb_obs = len(pred)\n",
    "    result = 1 - (numb_obs-1)/(numb_obs-numb_ft-1)*(1-r_squared**2)\n",
    "    return result\n",
    ""
   ]
  },
  {
   "cell_type": "code",
   "execution_count": 67,
   "metadata": {},
   "outputs": [],
   "source": [
    "categorical_name = ['NAME_CONTRACT_TYPE', 'CODE_GENDER']\n",
    "for col in list(a.columns):\n",
    "    if 'NAME' in col or 'OCCUPATION' in col or 'WEEKDAY' in col or 'ORGANIZATION' in col:\n",
    "        categorical_name += [col]"
   ]
  },
  {
   "cell_type": "code",
   "execution_count": 68,
   "metadata": {},
   "outputs": [],
   "source": [
    "numb_ft = len(list(a.columns)) - 1\n",
    "rs = {}\n",
    "ars = {}\n",
    "for col in list(lbl.keys()):\n",
    "    if col not in categorical_name:\n",
    "        pred_np = np.asarray(pred[col])\n",
    "        lbl_np = np.asarray(lbl[col])\n",
    "        rs[col] = calculate_r_square(pred_np, lbl_np)\n",
    "        ars[col] = calculate_adjusted_r_square(pred_np, lbl_np, numb_ft)"
   ]
  },
  {
   "cell_type": "code",
   "execution_count": 69,
   "metadata": {},
   "outputs": [
    {
     "output_type": "execute_result",
     "data": {
      "text/plain": "{'CNT_CHILDREN': 0.7394223801085207,\n 'AMT_INCOME_TOTAL': 0.10149770992433313,\n 'AMT_CREDIT': 0.8596905213605305,\n 'AMT_ANNUITY': 0.5927066381913073,\n 'AMT_GOODS_PRICE': 0.8637102279779647,\n 'REGION_POPULATION_RELATIVE': 0.23932091409740996,\n 'DAYS_BIRTH': 0.31820419955377655,\n 'DAYS_EMPLOYED': 0.07217389903701019,\n 'DAYS_REGISTRATION': 0.10595877189987835,\n 'DAYS_ID_PUBLISH': 0.034556292368791194,\n 'OWN_CAR_AGE': 0.01251066481071903,\n 'CNT_FAM_MEMBERS': 0.81163763082965,\n 'REGION_RATING_CLIENT': 0.7708559296942382,\n 'REGION_RATING_CLIENT_W_CITY': 0.7594352324475622,\n 'HOUR_APPR_PROCESS_START': 0.0883157442855389,\n 'REG_REGION_NOT_LIVE_REGION': 0.559590626491772,\n 'REG_REGION_NOT_WORK_REGION': 0.7247794717581054,\n 'LIVE_REGION_NOT_WORK_REGION': 0.7259762684156277,\n 'REG_CITY_NOT_LIVE_CITY': 0.5187940051616261,\n 'REG_CITY_NOT_WORK_CITY': 0.6969203614434925,\n 'LIVE_CITY_NOT_WORK_CITY': 0.6900091764630807,\n 'EXT_SOURCE_2': 0.15361433528832824,\n 'EXT_SOURCE_3': 0.06712878019119754,\n 'OBS_30_CNT_SOCIAL_CIRCLE': 0.529805384483156,\n 'DEF_30_CNT_SOCIAL_CIRCLE': 0.1056918495762463,\n 'OBS_60_CNT_SOCIAL_CIRCLE': 0.5279640401440329,\n 'DEF_60_CNT_SOCIAL_CIRCLE': 0.5702404266841068,\n 'DAYS_LAST_PHONE_CHANGE': 0.07001559559591833,\n 'AMT_REQ_CREDIT_BUREAU_HOUR': 0.029208728909738347,\n 'AMT_REQ_CREDIT_BUREAU_DAY': 0.06360981100768758,\n 'AMT_REQ_CREDIT_BUREAU_WEEK': 0.03142436863717744,\n 'AMT_REQ_CREDIT_BUREAU_MON': 0.007400482699247499,\n 'AMT_REQ_CREDIT_BUREAU_QRT': 0.008299365022857786,\n 'AMT_REQ_CREDIT_BUREAU_YEAR': 0.038985664339142224,\n 'DAYS_EMPLOYED_ANOM': nan}"
     },
     "metadata": {},
     "execution_count": 69
    }
   ],
   "source": [
    "rs"
   ]
  },
  {
   "cell_type": "code",
   "execution_count": 70,
   "metadata": {},
   "outputs": [],
   "source": [
    "acc = {}\n",
    "for col in list(lbl.keys()):\n",
    "    if col in categorical_name:\n",
    "        pred_np = np.asarray(pred[col])\n",
    "        lbl_np = np.asarray(lbl[col])\n",
    "        dif = pred_np - lbl_np\n",
    "        correct = np.where(dif == 0)[0]\n",
    "        correct = len(correct)\n",
    "        acc[col] = correct / len(dif)"
   ]
  },
  {
   "cell_type": "code",
   "execution_count": 71,
   "metadata": {},
   "outputs": [
    {
     "output_type": "execute_result",
     "data": {
      "text/plain": "{'NAME_CONTRACT_TYPE': 0.9043166898746767,\n 'CODE_GENDER': 0.7609906504873682,\n 'NAME_TYPE_SUITE_Children': 0.9933359856773424,\n 'NAME_TYPE_SUITE_Family': 0.9637457728267357,\n 'NAME_TYPE_SUITE_Group of people': 0.9991048338969565,\n 'NAME_TYPE_SUITE_Other_A': 0.9964442013129103,\n 'NAME_TYPE_SUITE_Other_B': 0.9949522578078377,\n 'NAME_TYPE_SUITE_Spouse, partner': 0.9823204694648896,\n 'NAME_TYPE_SUITE_Unaccompanied': 0.9498458325044759,\n 'NAME_INCOME_TYPE_Businessman': 0.9999502685498309,\n 'NAME_INCOME_TYPE_Commercial associate': 0.9321414362442809,\n 'NAME_INCOME_TYPE_Maternity leave': 1.0,\n 'NAME_INCOME_TYPE_Pensioner': 0.9999254028247464,\n 'NAME_INCOME_TYPE_State servant': 0.969067037994828,\n 'NAME_INCOME_TYPE_Student': 1.0,\n 'NAME_INCOME_TYPE_Unemployed': 1.0,\n 'NAME_INCOME_TYPE_Working': 0.924731450169087,\n 'NAME_EDUCATION_TYPE_Academic degree': 0.9992042967972946,\n 'NAME_EDUCATION_TYPE_Higher education': 0.9364680724089914,\n 'NAME_EDUCATION_TYPE_Incomplete higher': 0.9851054306743585,\n 'NAME_EDUCATION_TYPE_Lower secondary': 0.9958474239108812,\n 'NAME_EDUCATION_TYPE_Secondary / secondary special': 0.93219116769445,\n 'NAME_FAMILY_STATUS_Civil marriage': 0.9719763278297195,\n 'NAME_FAMILY_STATUS_Married': 0.9572806843047543,\n 'NAME_FAMILY_STATUS_Separated': 0.9537497513427492,\n 'NAME_FAMILY_STATUS_Single / not married': 0.951959419136662,\n 'NAME_FAMILY_STATUS_Unknown': 1.0,\n 'NAME_FAMILY_STATUS_Widow': 0.9833648299184404,\n 'NAME_HOUSING_TYPE_Co-op apartment': 0.9972150387905311,\n 'NAME_HOUSING_TYPE_House / apartment': 0.9758305152178237,\n 'NAME_HOUSING_TYPE_Municipal apartment': 0.9797841655062661,\n 'NAME_HOUSING_TYPE_Office apartment': 0.993684105828526,\n 'NAME_HOUSING_TYPE_Rented apartment': 0.9854535508255421,\n 'NAME_HOUSING_TYPE_With parents': 0.9713546847026059,\n 'OCCUPATION_TYPE_Accountants': 0.9604137656654068,\n 'OCCUPATION_TYPE_Cleaning staff': 0.9828923811418341,\n 'OCCUPATION_TYPE_Cooking staff': 0.9778943703998408,\n 'OCCUPATION_TYPE_Core staff': 0.917047941117963,\n 'OCCUPATION_TYPE_Drivers': 0.9332603938730853,\n 'OCCUPATION_TYPE_HR staff': 0.9979610105430674,\n 'OCCUPATION_TYPE_High skill tech staff': 0.9535508255420728,\n 'OCCUPATION_TYPE_IT staff': 0.9979112790928983,\n 'OCCUPATION_TYPE_Laborers': 0.8261637159339567,\n 'OCCUPATION_TYPE_Low-skill Laborers': 0.9920429679729461,\n 'OCCUPATION_TYPE_Managers': 0.9055351104038194,\n 'OCCUPATION_TYPE_Medicine staff': 0.977173264372389,\n 'OCCUPATION_TYPE_Private service staff': 0.9906504873682117,\n 'OCCUPATION_TYPE_Realty agents': 0.9970658444400239,\n 'OCCUPATION_TYPE_Sales staff': 0.8883777600954844,\n 'OCCUPATION_TYPE_Secretaries': 0.9952009150586831,\n 'OCCUPATION_TYPE_Security staff': 0.979137656654068,\n 'OCCUPATION_TYPE_Waiters/barmen staff': 0.9946290033817387,\n 'WEEKDAY_APPR_PROCESS_START_FRIDAY': 0.8832056892778993,\n 'WEEKDAY_APPR_PROCESS_START_MONDAY': 0.8798239506664014,\n 'WEEKDAY_APPR_PROCESS_START_SATURDAY': 0.9021533717923215,\n 'WEEKDAY_APPR_PROCESS_START_SUNDAY': 0.955987666600358,\n 'WEEKDAY_APPR_PROCESS_START_THURSDAY': 0.8761686890789735,\n 'WEEKDAY_APPR_PROCESS_START_TUESDAY': 0.8832554207280684,\n 'WEEKDAY_APPR_PROCESS_START_WEDNESDAY': 0.8811169683707977,\n 'ORGANIZATION_TYPE_Advertising': 0.9981599363437438,\n 'ORGANIZATION_TYPE_Agriculture': 0.9903520986671971,\n 'ORGANIZATION_TYPE_Bank': 0.9896309926397454,\n 'ORGANIZATION_TYPE_Business': 0.8819872687487567,\n 'ORGANIZATION_TYPE_Cleaning': 0.9991048338969565,\n 'ORGANIZATION_TYPE_Construction': 0.9741147801869903,\n 'ORGANIZATION_TYPE_Culture': 0.9986075193952656,\n 'ORGANIZATION_TYPE_Electricity': 0.9964690670379949,\n 'ORGANIZATION_TYPE_Emergency': 0.9977372190173065,\n 'ORGANIZATION_TYPE_Government': 0.9577282673562761,\n 'ORGANIZATION_TYPE_Hotel': 0.9959468868112195,\n 'ORGANIZATION_TYPE_Housing': 0.9877660632584047,\n 'ORGANIZATION_TYPE_Industry': 0.947384125721106,\n 'ORGANIZATION_TYPE_Insurance': 0.9978366819176447,\n 'ORGANIZATION_TYPE_Kindergarten': 0.9707827730256614,\n 'ORGANIZATION_TYPE_Legal Services': 0.9985826536701811,\n 'ORGANIZATION_TYPE_Medicine': 0.9713546847026059,\n 'ORGANIZATION_TYPE_Military': 0.9891585438631391,\n 'ORGANIZATION_TYPE_Mobile': 0.9987069822956037,\n 'ORGANIZATION_TYPE_Other': 0.9381340759896558,\n 'ORGANIZATION_TYPE_Police': 0.9901034414163516,\n 'ORGANIZATION_TYPE_Postal': 0.9910483389695643,\n 'ORGANIZATION_TYPE_Realtor': 0.9983837278695047,\n 'ORGANIZATION_TYPE_Religion': 0.9996270141237319,\n 'ORGANIZATION_TYPE_Restaurant': 0.9929878655261587,\n 'ORGANIZATION_TYPE_School': 0.9641187587030038,\n 'ORGANIZATION_TYPE_Security': 0.9879401233339964,\n 'ORGANIZATION_TYPE_Security Ministries': 0.9910483389695643,\n 'ORGANIZATION_TYPE_Self-employed': 0.877884424109807,\n 'ORGANIZATION_TYPE_Services': 0.9943057489556395,\n 'ORGANIZATION_TYPE_Telecom': 0.9976626218420529,\n 'ORGANIZATION_TYPE_Trade': 0.9472597970956833,\n 'ORGANIZATION_TYPE_Transport': 0.9638203700019893,\n 'ORGANIZATION_TYPE_University': 0.9942311517803859,\n 'ORGANIZATION_TYPE_XNA': 1.0}"
     },
     "metadata": {},
     "execution_count": 71
    }
   ],
   "source": [
    "acc"
   ]
  },
  {
   "cell_type": "code",
   "execution_count": null,
   "metadata": {},
   "outputs": [],
   "source": []
  }
 ]
}