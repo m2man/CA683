{
 "nbformat": 4,
 "nbformat_minor": 2,
 "metadata": {
  "language_info": {
   "name": "python",
   "codemirror_mode": {
    "name": "ipython",
    "version": 3
   },
   "version": "3.6.10-final"
  },
  "orig_nbformat": 2,
  "file_extension": ".py",
  "mimetype": "text/x-python",
  "name": "python",
  "npconvert_exporter": "python",
  "pygments_lexer": "ipython3",
  "version": 3,
  "kernelspec": {
   "name": "python3",
   "display_name": "Python 3"
  }
 },
 "cells": [
  {
   "cell_type": "code",
   "execution_count": 1,
   "metadata": {},
   "outputs": [],
   "source": [
    "import os\n",
    "os.chdir('/home/nmduy/CA683/Credit Project')\n",
    "#from fancyimpute import IterativeImputer as MICE\n",
    "import pandas as pd\n",
    "import numpy as np"
   ]
  },
  {
   "cell_type": "code",
   "execution_count": 2,
   "metadata": {},
   "outputs": [],
   "source": [
    "Data_Folder = 'encoded_data/'\n",
    "\n",
    "app_train = pd.read_csv(Data_Folder+'encoded_train.csv')"
   ]
  },
  {
   "cell_type": "code",
   "execution_count": 3,
   "metadata": {},
   "outputs": [],
   "source": [
    "# MICE IMPUTATION ENTIRE DATASET"
   ]
  },
  {
   "cell_type": "code",
   "execution_count": null,
   "metadata": {},
   "outputs": [],
   "source": [
    "app_train_remove_target = app_train.drop(app_train.columns[-1], axis=1) # remove target\n",
    "app_train_remove_target = app_train_remove_target.drop(app_train_remove_target.columns[0], axis=1) # remove SKID"
   ]
  },
  {
   "cell_type": "code",
   "execution_count": null,
   "metadata": {},
   "outputs": [],
   "source": [
    "app_train_remove_target.head()"
   ]
  },
  {
   "cell_type": "code",
   "execution_count": null,
   "metadata": {},
   "outputs": [],
   "source": [
    "imputed_app_train = MICE().fit_transform(app_train_remove_target)"
   ]
  },
  {
   "cell_type": "code",
   "execution_count": null,
   "metadata": {},
   "outputs": [],
   "source": [
    "imputed_pd = pd.DataFrame(data=imputed_app_train)\n",
    "imputed_pd.columns = list(app_train_remove_target.columns)\n",
    "imputed_pd['TARGET'] = list(app_train['TARGET'])\n",
    "imputed_pd['SK_ID_CURR'] = list(app_train['SK_ID_CURR'])\n",
    "imputed_pd.to_csv('imputed_train.csv', index=False)"
   ]
  },
  {
   "cell_type": "code",
   "execution_count": 4,
   "metadata": {},
   "outputs": [],
   "source": [
    "# EXTRACT FULL-INFO ROW SAMPLES"
   ]
  },
  {
   "cell_type": "code",
   "execution_count": 8,
   "metadata": {},
   "outputs": [
    {
     "output_type": "execute_result",
     "data": {
      "text/plain": "     A    B    C  D\n0  NaN  2.0  NaN  0\n1  3.0  4.0  2.0  1\n2  NaN  NaN  NaN  5",
      "text/html": "<div>\n<style scoped>\n    .dataframe tbody tr th:only-of-type {\n        vertical-align: middle;\n    }\n\n    .dataframe tbody tr th {\n        vertical-align: top;\n    }\n\n    .dataframe thead th {\n        text-align: right;\n    }\n</style>\n<table border=\"1\" class=\"dataframe\">\n  <thead>\n    <tr style=\"text-align: right;\">\n      <th></th>\n      <th>A</th>\n      <th>B</th>\n      <th>C</th>\n      <th>D</th>\n    </tr>\n  </thead>\n  <tbody>\n    <tr>\n      <th>0</th>\n      <td>NaN</td>\n      <td>2.0</td>\n      <td>NaN</td>\n      <td>0</td>\n    </tr>\n    <tr>\n      <th>1</th>\n      <td>3.0</td>\n      <td>4.0</td>\n      <td>2.0</td>\n      <td>1</td>\n    </tr>\n    <tr>\n      <th>2</th>\n      <td>NaN</td>\n      <td>NaN</td>\n      <td>NaN</td>\n      <td>5</td>\n    </tr>\n  </tbody>\n</table>\n</div>"
     },
     "metadata": {},
     "execution_count": 8
    }
   ],
   "source": [
    "df = pd.DataFrame([[np.nan, 2, np.nan, 0], [3, 4, 2, 1],\n",
    "                [np.nan, np.nan, np.nan, 5]],\n",
    "                columns=list('ABCD'))\n",
    "df"
   ]
  },
  {
   "cell_type": "code",
   "execution_count": 9,
   "metadata": {},
   "outputs": [
    {
     "output_type": "execute_result",
     "data": {
      "text/plain": "     A    B    C  D\n1  3.0  4.0  2.0  1",
      "text/html": "<div>\n<style scoped>\n    .dataframe tbody tr th:only-of-type {\n        vertical-align: middle;\n    }\n\n    .dataframe tbody tr th {\n        vertical-align: top;\n    }\n\n    .dataframe thead th {\n        text-align: right;\n    }\n</style>\n<table border=\"1\" class=\"dataframe\">\n  <thead>\n    <tr style=\"text-align: right;\">\n      <th></th>\n      <th>A</th>\n      <th>B</th>\n      <th>C</th>\n      <th>D</th>\n    </tr>\n  </thead>\n  <tbody>\n    <tr>\n      <th>1</th>\n      <td>3.0</td>\n      <td>4.0</td>\n      <td>2.0</td>\n      <td>1</td>\n    </tr>\n  </tbody>\n</table>\n</div>"
     },
     "metadata": {},
     "execution_count": 9
    }
   ],
   "source": [
    "df_dropna = df.dropna(axis=0, how='any')\n",
    "df_dropna"
   ]
  },
  {
   "cell_type": "code",
   "execution_count": 10,
   "metadata": {},
   "outputs": [
    {
     "output_type": "stream",
     "name": "stdout",
     "text": "Before drop: 307511 rows\nAfter drop: 201084 rows\n"
    }
   ],
   "source": [
    "app_train_dropna = app_train.dropna(axis=0, how='any')\n",
    "print(f\"Before drop: {len(app_train)} rows\\nAfter drop: {len(app_train_dropna)} rows\")"
   ]
  },
  {
   "cell_type": "code",
   "execution_count": 11,
   "metadata": {},
   "outputs": [],
   "source": [
    "app_train_dropna.to_csv('encoded_train_dropna.csv', index=False)"
   ]
  },
  {
   "cell_type": "markdown",
   "metadata": {},
   "source": [
    "# READ DATA"
   ]
  },
  {
   "cell_type": "code",
   "execution_count": 4,
   "metadata": {},
   "outputs": [],
   "source": [
    "import os\n",
    "os.chdir('/home/nmduy/CA683/Credit Project')\n",
    "import pandas as pd\n",
    "import numpy as np"
   ]
  },
  {
   "cell_type": "code",
   "execution_count": 15,
   "metadata": {},
   "outputs": [],
   "source": [
    "app_train = pd.read_csv('data/merged_application_train.csv')\n",
    "app_test = pd.read_csv('data/merged_application_test.csv')"
   ]
  },
  {
   "cell_type": "code",
   "execution_count": 6,
   "metadata": {},
   "outputs": [
    {
     "output_type": "execute_result",
     "data": {
      "text/plain": "   SK_ID_CURR  TARGET NAME_CONTRACT_TYPE CODE_GENDER FLAG_OWN_CAR  \\\n0      100002       1         Cash loans           M            N   \n1      100003       0         Cash loans           F            N   \n2      100004       0    Revolving loans           M            Y   \n3      100006       0         Cash loans           F            N   \n4      100007       0         Cash loans           M            N   \n\n  FLAG_OWN_REALTY  CNT_CHILDREN  AMT_INCOME_TOTAL  AMT_CREDIT  AMT_ANNUITY  \\\n0               Y             0          202500.0    406597.5      24700.5   \n1               N             0          270000.0   1293502.5      35698.5   \n2               Y             0           67500.0    135000.0       6750.0   \n3               Y             0          135000.0    312682.5      29686.5   \n4               Y             0          121500.0    513000.0      21865.5   \n\n   ...  previous_NAME_CONTRACT_TYPE_Consumer loans_count  \\\n0  ...                                               1.0   \n1  ...                                               2.0   \n2  ...                                               1.0   \n3  ...                                               2.0   \n4  ...                                               2.0   \n\n  previous_NAME_CONTRACT_TYPE_Consumer loans_count_norm  \\\n0                                           1.000000      \n1                                           0.666667      \n2                                           1.000000      \n3                                           0.222222      \n4                                           0.333333      \n\n  previous_NAME_CONTRACT_TYPE_Revolving loans_count  \\\n0                                               0.0   \n1                                               0.0   \n2                                               0.0   \n3                                               2.0   \n4                                               0.0   \n\n  previous_NAME_CONTRACT_TYPE_Revolving loans_count_norm  \\\n0                                           0.000000       \n1                                           0.000000       \n2                                           0.000000       \n3                                           0.222222       \n4                                           0.000000       \n\n  previous_NAME_CONTRACT_TYPE_XNA_count  \\\n0                                   0.0   \n1                                   0.0   \n2                                   0.0   \n3                                   0.0   \n4                                   0.0   \n\n  previous_NAME_CONTRACT_TYPE_XNA_count_norm  DIF_AMT_CREDIT_mean  \\\n0                                        0.0                 0.00   \n1                                        0.0             48754.50   \n2                                        0.0             -4176.00   \n3                                        0.0             19492.24   \n4                                        0.0             16108.50   \n\n   DIF_AMT_CREDIT_min  DIF_AMT_CREDIT_max  DIF_AMT_CREDIT_sum  \n0                 0.0                 0.0                0.00  \n1              -756.0            135882.0           146263.50  \n2             -4176.0             -4176.0            -4176.00  \n3            -66987.0            218115.0           175430.16  \n4             -2560.5             59400.0            96651.00  \n\n[5 rows x 148 columns]",
      "text/html": "<div>\n<style scoped>\n    .dataframe tbody tr th:only-of-type {\n        vertical-align: middle;\n    }\n\n    .dataframe tbody tr th {\n        vertical-align: top;\n    }\n\n    .dataframe thead th {\n        text-align: right;\n    }\n</style>\n<table border=\"1\" class=\"dataframe\">\n  <thead>\n    <tr style=\"text-align: right;\">\n      <th></th>\n      <th>SK_ID_CURR</th>\n      <th>TARGET</th>\n      <th>NAME_CONTRACT_TYPE</th>\n      <th>CODE_GENDER</th>\n      <th>FLAG_OWN_CAR</th>\n      <th>FLAG_OWN_REALTY</th>\n      <th>CNT_CHILDREN</th>\n      <th>AMT_INCOME_TOTAL</th>\n      <th>AMT_CREDIT</th>\n      <th>AMT_ANNUITY</th>\n      <th>...</th>\n      <th>previous_NAME_CONTRACT_TYPE_Consumer loans_count</th>\n      <th>previous_NAME_CONTRACT_TYPE_Consumer loans_count_norm</th>\n      <th>previous_NAME_CONTRACT_TYPE_Revolving loans_count</th>\n      <th>previous_NAME_CONTRACT_TYPE_Revolving loans_count_norm</th>\n      <th>previous_NAME_CONTRACT_TYPE_XNA_count</th>\n      <th>previous_NAME_CONTRACT_TYPE_XNA_count_norm</th>\n      <th>DIF_AMT_CREDIT_mean</th>\n      <th>DIF_AMT_CREDIT_min</th>\n      <th>DIF_AMT_CREDIT_max</th>\n      <th>DIF_AMT_CREDIT_sum</th>\n    </tr>\n  </thead>\n  <tbody>\n    <tr>\n      <th>0</th>\n      <td>100002</td>\n      <td>1</td>\n      <td>Cash loans</td>\n      <td>M</td>\n      <td>N</td>\n      <td>Y</td>\n      <td>0</td>\n      <td>202500.0</td>\n      <td>406597.5</td>\n      <td>24700.5</td>\n      <td>...</td>\n      <td>1.0</td>\n      <td>1.000000</td>\n      <td>0.0</td>\n      <td>0.000000</td>\n      <td>0.0</td>\n      <td>0.0</td>\n      <td>0.00</td>\n      <td>0.0</td>\n      <td>0.0</td>\n      <td>0.00</td>\n    </tr>\n    <tr>\n      <th>1</th>\n      <td>100003</td>\n      <td>0</td>\n      <td>Cash loans</td>\n      <td>F</td>\n      <td>N</td>\n      <td>N</td>\n      <td>0</td>\n      <td>270000.0</td>\n      <td>1293502.5</td>\n      <td>35698.5</td>\n      <td>...</td>\n      <td>2.0</td>\n      <td>0.666667</td>\n      <td>0.0</td>\n      <td>0.000000</td>\n      <td>0.0</td>\n      <td>0.0</td>\n      <td>48754.50</td>\n      <td>-756.0</td>\n      <td>135882.0</td>\n      <td>146263.50</td>\n    </tr>\n    <tr>\n      <th>2</th>\n      <td>100004</td>\n      <td>0</td>\n      <td>Revolving loans</td>\n      <td>M</td>\n      <td>Y</td>\n      <td>Y</td>\n      <td>0</td>\n      <td>67500.0</td>\n      <td>135000.0</td>\n      <td>6750.0</td>\n      <td>...</td>\n      <td>1.0</td>\n      <td>1.000000</td>\n      <td>0.0</td>\n      <td>0.000000</td>\n      <td>0.0</td>\n      <td>0.0</td>\n      <td>-4176.00</td>\n      <td>-4176.0</td>\n      <td>-4176.0</td>\n      <td>-4176.00</td>\n    </tr>\n    <tr>\n      <th>3</th>\n      <td>100006</td>\n      <td>0</td>\n      <td>Cash loans</td>\n      <td>F</td>\n      <td>N</td>\n      <td>Y</td>\n      <td>0</td>\n      <td>135000.0</td>\n      <td>312682.5</td>\n      <td>29686.5</td>\n      <td>...</td>\n      <td>2.0</td>\n      <td>0.222222</td>\n      <td>2.0</td>\n      <td>0.222222</td>\n      <td>0.0</td>\n      <td>0.0</td>\n      <td>19492.24</td>\n      <td>-66987.0</td>\n      <td>218115.0</td>\n      <td>175430.16</td>\n    </tr>\n    <tr>\n      <th>4</th>\n      <td>100007</td>\n      <td>0</td>\n      <td>Cash loans</td>\n      <td>M</td>\n      <td>N</td>\n      <td>Y</td>\n      <td>0</td>\n      <td>121500.0</td>\n      <td>513000.0</td>\n      <td>21865.5</td>\n      <td>...</td>\n      <td>2.0</td>\n      <td>0.333333</td>\n      <td>0.0</td>\n      <td>0.000000</td>\n      <td>0.0</td>\n      <td>0.0</td>\n      <td>16108.50</td>\n      <td>-2560.5</td>\n      <td>59400.0</td>\n      <td>96651.00</td>\n    </tr>\n  </tbody>\n</table>\n<p>5 rows × 148 columns</p>\n</div>"
     },
     "metadata": {},
     "execution_count": 6
    }
   ],
   "source": [
    "app_train.head()"
   ]
  },
  {
   "cell_type": "code",
   "execution_count": 8,
   "metadata": {},
   "outputs": [],
   "source": [
    "app_train = app_train.drop(['SK_ID_CURR', 'TARGET'], axis = 1)"
   ]
  },
  {
   "cell_type": "code",
   "execution_count": 9,
   "metadata": {},
   "outputs": [],
   "source": [
    "ft_types = dict(app_train.dtypes)"
   ]
  },
  {
   "cell_type": "code",
   "execution_count": 10,
   "metadata": {},
   "outputs": [
    {
     "output_type": "execute_result",
     "data": {
      "text/plain": "{'SK_ID_CURR': dtype('int64'),\n 'TARGET': dtype('int64'),\n 'NAME_CONTRACT_TYPE': dtype('O'),\n 'CODE_GENDER': dtype('O'),\n 'FLAG_OWN_CAR': dtype('O'),\n 'FLAG_OWN_REALTY': dtype('O'),\n 'CNT_CHILDREN': dtype('int64'),\n 'AMT_INCOME_TOTAL': dtype('float64'),\n 'AMT_CREDIT': dtype('float64'),\n 'AMT_ANNUITY': dtype('float64'),\n 'AMT_GOODS_PRICE': dtype('float64'),\n 'NAME_TYPE_SUITE': dtype('O'),\n 'NAME_INCOME_TYPE': dtype('O'),\n 'NAME_EDUCATION_TYPE': dtype('O'),\n 'NAME_FAMILY_STATUS': dtype('O'),\n 'NAME_HOUSING_TYPE': dtype('O'),\n 'REGION_POPULATION_RELATIVE': dtype('float64'),\n 'DAYS_BIRTH': dtype('int64'),\n 'DAYS_EMPLOYED': dtype('int64'),\n 'DAYS_REGISTRATION': dtype('float64'),\n 'DAYS_ID_PUBLISH': dtype('int64'),\n 'OWN_CAR_AGE': dtype('float64'),\n 'FLAG_MOBIL': dtype('int64'),\n 'FLAG_EMP_PHONE': dtype('int64'),\n 'FLAG_WORK_PHONE': dtype('int64'),\n 'FLAG_CONT_MOBILE': dtype('int64'),\n 'FLAG_PHONE': dtype('int64'),\n 'FLAG_EMAIL': dtype('int64'),\n 'OCCUPATION_TYPE': dtype('O'),\n 'CNT_FAM_MEMBERS': dtype('float64'),\n 'REGION_RATING_CLIENT': dtype('int64'),\n 'REGION_RATING_CLIENT_W_CITY': dtype('int64'),\n 'WEEKDAY_APPR_PROCESS_START': dtype('O'),\n 'HOUR_APPR_PROCESS_START': dtype('int64'),\n 'REG_REGION_NOT_LIVE_REGION': dtype('int64'),\n 'REG_REGION_NOT_WORK_REGION': dtype('int64'),\n 'LIVE_REGION_NOT_WORK_REGION': dtype('int64'),\n 'REG_CITY_NOT_LIVE_CITY': dtype('int64'),\n 'REG_CITY_NOT_WORK_CITY': dtype('int64'),\n 'LIVE_CITY_NOT_WORK_CITY': dtype('int64'),\n 'ORGANIZATION_TYPE': dtype('O'),\n 'EXT_SOURCE_1': dtype('float64'),\n 'EXT_SOURCE_2': dtype('float64'),\n 'EXT_SOURCE_3': dtype('float64'),\n 'APARTMENTS_AVG': dtype('float64'),\n 'BASEMENTAREA_AVG': dtype('float64'),\n 'YEARS_BEGINEXPLUATATION_AVG': dtype('float64'),\n 'YEARS_BUILD_AVG': dtype('float64'),\n 'COMMONAREA_AVG': dtype('float64'),\n 'ELEVATORS_AVG': dtype('float64'),\n 'ENTRANCES_AVG': dtype('float64'),\n 'FLOORSMAX_AVG': dtype('float64'),\n 'FLOORSMIN_AVG': dtype('float64'),\n 'LANDAREA_AVG': dtype('float64'),\n 'LIVINGAPARTMENTS_AVG': dtype('float64'),\n 'LIVINGAREA_AVG': dtype('float64'),\n 'NONLIVINGAPARTMENTS_AVG': dtype('float64'),\n 'NONLIVINGAREA_AVG': dtype('float64'),\n 'APARTMENTS_MODE': dtype('float64'),\n 'BASEMENTAREA_MODE': dtype('float64'),\n 'YEARS_BEGINEXPLUATATION_MODE': dtype('float64'),\n 'YEARS_BUILD_MODE': dtype('float64'),\n 'COMMONAREA_MODE': dtype('float64'),\n 'ELEVATORS_MODE': dtype('float64'),\n 'ENTRANCES_MODE': dtype('float64'),\n 'FLOORSMAX_MODE': dtype('float64'),\n 'FLOORSMIN_MODE': dtype('float64'),\n 'LANDAREA_MODE': dtype('float64'),\n 'LIVINGAPARTMENTS_MODE': dtype('float64'),\n 'LIVINGAREA_MODE': dtype('float64'),\n 'NONLIVINGAPARTMENTS_MODE': dtype('float64'),\n 'NONLIVINGAREA_MODE': dtype('float64'),\n 'APARTMENTS_MEDI': dtype('float64'),\n 'BASEMENTAREA_MEDI': dtype('float64'),\n 'YEARS_BEGINEXPLUATATION_MEDI': dtype('float64'),\n 'YEARS_BUILD_MEDI': dtype('float64'),\n 'COMMONAREA_MEDI': dtype('float64'),\n 'ELEVATORS_MEDI': dtype('float64'),\n 'ENTRANCES_MEDI': dtype('float64'),\n 'FLOORSMAX_MEDI': dtype('float64'),\n 'FLOORSMIN_MEDI': dtype('float64'),\n 'LANDAREA_MEDI': dtype('float64'),\n 'LIVINGAPARTMENTS_MEDI': dtype('float64'),\n 'LIVINGAREA_MEDI': dtype('float64'),\n 'NONLIVINGAPARTMENTS_MEDI': dtype('float64'),\n 'NONLIVINGAREA_MEDI': dtype('float64'),\n 'FONDKAPREMONT_MODE': dtype('O'),\n 'HOUSETYPE_MODE': dtype('O'),\n 'TOTALAREA_MODE': dtype('float64'),\n 'WALLSMATERIAL_MODE': dtype('O'),\n 'EMERGENCYSTATE_MODE': dtype('O'),\n 'OBS_30_CNT_SOCIAL_CIRCLE': dtype('float64'),\n 'DEF_30_CNT_SOCIAL_CIRCLE': dtype('float64'),\n 'OBS_60_CNT_SOCIAL_CIRCLE': dtype('float64'),\n 'DEF_60_CNT_SOCIAL_CIRCLE': dtype('float64'),\n 'DAYS_LAST_PHONE_CHANGE': dtype('float64'),\n 'FLAG_DOCUMENT_2': dtype('int64'),\n 'FLAG_DOCUMENT_3': dtype('int64'),\n 'FLAG_DOCUMENT_4': dtype('int64'),\n 'FLAG_DOCUMENT_5': dtype('int64'),\n 'FLAG_DOCUMENT_6': dtype('int64'),\n 'FLAG_DOCUMENT_7': dtype('int64'),\n 'FLAG_DOCUMENT_8': dtype('int64'),\n 'FLAG_DOCUMENT_9': dtype('int64'),\n 'FLAG_DOCUMENT_10': dtype('int64'),\n 'FLAG_DOCUMENT_11': dtype('int64'),\n 'FLAG_DOCUMENT_12': dtype('int64'),\n 'FLAG_DOCUMENT_13': dtype('int64'),\n 'FLAG_DOCUMENT_14': dtype('int64'),\n 'FLAG_DOCUMENT_15': dtype('int64'),\n 'FLAG_DOCUMENT_16': dtype('int64'),\n 'FLAG_DOCUMENT_17': dtype('int64'),\n 'FLAG_DOCUMENT_18': dtype('int64'),\n 'FLAG_DOCUMENT_19': dtype('int64'),\n 'FLAG_DOCUMENT_20': dtype('int64'),\n 'FLAG_DOCUMENT_21': dtype('int64'),\n 'AMT_REQ_CREDIT_BUREAU_HOUR': dtype('float64'),\n 'AMT_REQ_CREDIT_BUREAU_DAY': dtype('float64'),\n 'AMT_REQ_CREDIT_BUREAU_WEEK': dtype('float64'),\n 'AMT_REQ_CREDIT_BUREAU_MON': dtype('float64'),\n 'AMT_REQ_CREDIT_BUREAU_QRT': dtype('float64'),\n 'AMT_REQ_CREDIT_BUREAU_YEAR': dtype('float64'),\n 'DIF_DAYS_INSTALMENT_mean': dtype('float64'),\n 'DIF_DAYS_INSTALMENT_min': dtype('float64'),\n 'DIF_DAYS_INSTALMENT_max': dtype('float64'),\n 'DIF_DAYS_INSTALMENT_sum': dtype('float64'),\n 'PORTION_NOT_INSTALMENT': dtype('float64'),\n 'AVG_DIF_AMT_PAYMENT': dtype('float64'),\n 'previous_NAME_CONTRACT_STATUS_Approved_count': dtype('float64'),\n 'previous_NAME_CONTRACT_STATUS_Approved_count_norm': dtype('float64'),\n 'previous_NAME_CONTRACT_STATUS_Canceled_count': dtype('float64'),\n 'previous_NAME_CONTRACT_STATUS_Canceled_count_norm': dtype('float64'),\n 'previous_NAME_CONTRACT_STATUS_Refused_count': dtype('float64'),\n 'previous_NAME_CONTRACT_STATUS_Refused_count_norm': dtype('float64'),\n 'previous_NAME_CONTRACT_STATUS_Unused offer_count': dtype('float64'),\n 'previous_NAME_CONTRACT_STATUS_Unused offer_count_norm': dtype('float64'),\n 'previous_NAME_CONTRACT_TYPE_Cash loans_count': dtype('float64'),\n 'previous_NAME_CONTRACT_TYPE_Cash loans_count_norm': dtype('float64'),\n 'previous_NAME_CONTRACT_TYPE_Consumer loans_count': dtype('float64'),\n 'previous_NAME_CONTRACT_TYPE_Consumer loans_count_norm': dtype('float64'),\n 'previous_NAME_CONTRACT_TYPE_Revolving loans_count': dtype('float64'),\n 'previous_NAME_CONTRACT_TYPE_Revolving loans_count_norm': dtype('float64'),\n 'previous_NAME_CONTRACT_TYPE_XNA_count': dtype('float64'),\n 'previous_NAME_CONTRACT_TYPE_XNA_count_norm': dtype('float64'),\n 'DIF_AMT_CREDIT_mean': dtype('float64'),\n 'DIF_AMT_CREDIT_min': dtype('float64'),\n 'DIF_AMT_CREDIT_max': dtype('float64'),\n 'DIF_AMT_CREDIT_sum': dtype('float64')}"
     },
     "metadata": {},
     "execution_count": 10
    }
   ],
   "source": [
    "ft_types"
   ]
  },
  {
   "cell_type": "code",
   "execution_count": 11,
   "metadata": {},
   "outputs": [],
   "source": [
    "categorical_ft = []\n",
    "numerical_ft = []\n",
    "for ft, val in ft_types.items():\n",
    "    if val == np.object:\n",
    "        categorical_ft += [ft]\n",
    "    else:\n",
    "        numerical_ft += [ft]\n",
    ""
   ]
  },
  {
   "cell_type": "code",
   "execution_count": 12,
   "metadata": {},
   "outputs": [
    {
     "output_type": "execute_result",
     "data": {
      "text/plain": "16"
     },
     "metadata": {},
     "execution_count": 12
    }
   ],
   "source": [
    "len(categorical_ft)"
   ]
  },
  {
   "cell_type": "code",
   "execution_count": 13,
   "metadata": {},
   "outputs": [
    {
     "output_type": "execute_result",
     "data": {
      "text/plain": "132"
     },
     "metadata": {},
     "execution_count": 13
    }
   ],
   "source": [
    "len(numerical_ft)"
   ]
  },
  {
   "cell_type": "code",
   "execution_count": 14,
   "metadata": {},
   "outputs": [
    {
     "output_type": "execute_result",
     "data": {
      "text/plain": "(307511, 148)"
     },
     "metadata": {},
     "execution_count": 14
    }
   ],
   "source": [
    "app_train.shape"
   ]
  },
  {
   "cell_type": "code",
   "execution_count": 11,
   "metadata": {},
   "outputs": [],
   "source": [
    "########### LIBRARY ############\n",
    "def count_missing_row(df):\n",
    "    return df.isnull().any(axis=1).sum()\n",
    "\n",
    "def count_missing_cell(df):\n",
    "    return np.count_nonzero(df.isnull().values.ravel())\n",
    "\n",
    "def basic_info(df):\n",
    "    info = {}\n",
    "    info['numb_sample'] = df.shape[0]\n",
    "    info['numb_ft'] = df.shape[1]\n",
    "    info['numb_row_missing'] = count_missing_row(df)\n",
    "    info['port_row_missing'] = round(info['numb_row_missing'] / info['numb_sample'], 4)\n",
    "    info['numb_cell_missing'] = count_missing_cell(df)\n",
    "    info['port_cell_missing'] = round(info['numb_cell_missing'] / (info['numb_sample'] * info['numb_ft']), 4)\n",
    "    \n",
    "    temp = df.isnull().sum()\n",
    "    temp_keys = list(temp.keys())\n",
    "    temp_val = [temp[x] for x in temp_keys]\n",
    "    temp_pc = [round(temp[x]/info['numb_sample'],4) for x in temp_keys]\n",
    "    temp_nb_dict = {}\n",
    "    temp_pc_dict = {}\n",
    "    for idx, x in enumerate(temp_keys):\n",
    "        temp_nb_dict[x] = temp_val[idx]\n",
    "        temp_pc_dict[x] = temp_pc[idx]\n",
    "\n",
    "    info['column_numb_missing'] = temp_nb_dict\n",
    "    info['column_port_missing'] = temp_pc_dict\n",
    "\n",
    "    # total cell = numb_sample * numb_ft\n",
    "    return info\n",
    ""
   ]
  },
  {
   "cell_type": "code",
   "execution_count": 16,
   "metadata": {},
   "outputs": [],
   "source": [
    "##### Get some basic information from data\n",
    "info_application_train = basic_info(app_train)"
   ]
  },
  {
   "cell_type": "code",
   "execution_count": 17,
   "metadata": {},
   "outputs": [
    {
     "output_type": "execute_result",
     "data": {
      "text/plain": "{'numb_sample': 307511,\n 'numb_ft': 148,\n 'numb_row_missing': 299457,\n 'port_row_missing': 0.9738,\n 'numb_cell_missing': 9576753,\n 'port_cell_missing': 0.2104,\n 'column_numb_missing': {'SK_ID_CURR': 0,\n  'TARGET': 0,\n  'NAME_CONTRACT_TYPE': 0,\n  'CODE_GENDER': 0,\n  'FLAG_OWN_CAR': 0,\n  'FLAG_OWN_REALTY': 0,\n  'CNT_CHILDREN': 0,\n  'AMT_INCOME_TOTAL': 0,\n  'AMT_CREDIT': 0,\n  'AMT_ANNUITY': 12,\n  'AMT_GOODS_PRICE': 278,\n  'NAME_TYPE_SUITE': 1292,\n  'NAME_INCOME_TYPE': 0,\n  'NAME_EDUCATION_TYPE': 0,\n  'NAME_FAMILY_STATUS': 0,\n  'NAME_HOUSING_TYPE': 0,\n  'REGION_POPULATION_RELATIVE': 0,\n  'DAYS_BIRTH': 0,\n  'DAYS_EMPLOYED': 0,\n  'DAYS_REGISTRATION': 0,\n  'DAYS_ID_PUBLISH': 0,\n  'OWN_CAR_AGE': 202929,\n  'FLAG_MOBIL': 0,\n  'FLAG_EMP_PHONE': 0,\n  'FLAG_WORK_PHONE': 0,\n  'FLAG_CONT_MOBILE': 0,\n  'FLAG_PHONE': 0,\n  'FLAG_EMAIL': 0,\n  'OCCUPATION_TYPE': 96391,\n  'CNT_FAM_MEMBERS': 2,\n  'REGION_RATING_CLIENT': 0,\n  'REGION_RATING_CLIENT_W_CITY': 0,\n  'WEEKDAY_APPR_PROCESS_START': 0,\n  'HOUR_APPR_PROCESS_START': 0,\n  'REG_REGION_NOT_LIVE_REGION': 0,\n  'REG_REGION_NOT_WORK_REGION': 0,\n  'LIVE_REGION_NOT_WORK_REGION': 0,\n  'REG_CITY_NOT_LIVE_CITY': 0,\n  'REG_CITY_NOT_WORK_CITY': 0,\n  'LIVE_CITY_NOT_WORK_CITY': 0,\n  'ORGANIZATION_TYPE': 0,\n  'EXT_SOURCE_1': 173378,\n  'EXT_SOURCE_2': 660,\n  'EXT_SOURCE_3': 60965,\n  'APARTMENTS_AVG': 156061,\n  'BASEMENTAREA_AVG': 179943,\n  'YEARS_BEGINEXPLUATATION_AVG': 150007,\n  'YEARS_BUILD_AVG': 204488,\n  'COMMONAREA_AVG': 214865,\n  'ELEVATORS_AVG': 163891,\n  'ENTRANCES_AVG': 154828,\n  'FLOORSMAX_AVG': 153020,\n  'FLOORSMIN_AVG': 208642,\n  'LANDAREA_AVG': 182590,\n  'LIVINGAPARTMENTS_AVG': 210199,\n  'LIVINGAREA_AVG': 154350,\n  'NONLIVINGAPARTMENTS_AVG': 213514,\n  'NONLIVINGAREA_AVG': 169682,\n  'APARTMENTS_MODE': 156061,\n  'BASEMENTAREA_MODE': 179943,\n  'YEARS_BEGINEXPLUATATION_MODE': 150007,\n  'YEARS_BUILD_MODE': 204488,\n  'COMMONAREA_MODE': 214865,\n  'ELEVATORS_MODE': 163891,\n  'ENTRANCES_MODE': 154828,\n  'FLOORSMAX_MODE': 153020,\n  'FLOORSMIN_MODE': 208642,\n  'LANDAREA_MODE': 182590,\n  'LIVINGAPARTMENTS_MODE': 210199,\n  'LIVINGAREA_MODE': 154350,\n  'NONLIVINGAPARTMENTS_MODE': 213514,\n  'NONLIVINGAREA_MODE': 169682,\n  'APARTMENTS_MEDI': 156061,\n  'BASEMENTAREA_MEDI': 179943,\n  'YEARS_BEGINEXPLUATATION_MEDI': 150007,\n  'YEARS_BUILD_MEDI': 204488,\n  'COMMONAREA_MEDI': 214865,\n  'ELEVATORS_MEDI': 163891,\n  'ENTRANCES_MEDI': 154828,\n  'FLOORSMAX_MEDI': 153020,\n  'FLOORSMIN_MEDI': 208642,\n  'LANDAREA_MEDI': 182590,\n  'LIVINGAPARTMENTS_MEDI': 210199,\n  'LIVINGAREA_MEDI': 154350,\n  'NONLIVINGAPARTMENTS_MEDI': 213514,\n  'NONLIVINGAREA_MEDI': 169682,\n  'FONDKAPREMONT_MODE': 210295,\n  'HOUSETYPE_MODE': 154297,\n  'TOTALAREA_MODE': 148431,\n  'WALLSMATERIAL_MODE': 156341,\n  'EMERGENCYSTATE_MODE': 145755,\n  'OBS_30_CNT_SOCIAL_CIRCLE': 1021,\n  'DEF_30_CNT_SOCIAL_CIRCLE': 1021,\n  'OBS_60_CNT_SOCIAL_CIRCLE': 1021,\n  'DEF_60_CNT_SOCIAL_CIRCLE': 1021,\n  'DAYS_LAST_PHONE_CHANGE': 1,\n  'FLAG_DOCUMENT_2': 0,\n  'FLAG_DOCUMENT_3': 0,\n  'FLAG_DOCUMENT_4': 0,\n  'FLAG_DOCUMENT_5': 0,\n  'FLAG_DOCUMENT_6': 0,\n  'FLAG_DOCUMENT_7': 0,\n  'FLAG_DOCUMENT_8': 0,\n  'FLAG_DOCUMENT_9': 0,\n  'FLAG_DOCUMENT_10': 0,\n  'FLAG_DOCUMENT_11': 0,\n  'FLAG_DOCUMENT_12': 0,\n  'FLAG_DOCUMENT_13': 0,\n  'FLAG_DOCUMENT_14': 0,\n  'FLAG_DOCUMENT_15': 0,\n  'FLAG_DOCUMENT_16': 0,\n  'FLAG_DOCUMENT_17': 0,\n  'FLAG_DOCUMENT_18': 0,\n  'FLAG_DOCUMENT_19': 0,\n  'FLAG_DOCUMENT_20': 0,\n  'FLAG_DOCUMENT_21': 0,\n  'AMT_REQ_CREDIT_BUREAU_HOUR': 41519,\n  'AMT_REQ_CREDIT_BUREAU_DAY': 41519,\n  'AMT_REQ_CREDIT_BUREAU_WEEK': 41519,\n  'AMT_REQ_CREDIT_BUREAU_MON': 41519,\n  'AMT_REQ_CREDIT_BUREAU_QRT': 41519,\n  'AMT_REQ_CREDIT_BUREAU_YEAR': 41519,\n  'DIF_DAYS_INSTALMENT_mean': 15868,\n  'DIF_DAYS_INSTALMENT_min': 15868,\n  'DIF_DAYS_INSTALMENT_max': 15868,\n  'DIF_DAYS_INSTALMENT_sum': 15868,\n  'PORTION_NOT_INSTALMENT': 15868,\n  'AVG_DIF_AMT_PAYMENT': 15868,\n  'previous_NAME_CONTRACT_STATUS_Approved_count': 16454,\n  'previous_NAME_CONTRACT_STATUS_Approved_count_norm': 16454,\n  'previous_NAME_CONTRACT_STATUS_Canceled_count': 16454,\n  'previous_NAME_CONTRACT_STATUS_Canceled_count_norm': 16454,\n  'previous_NAME_CONTRACT_STATUS_Refused_count': 16454,\n  'previous_NAME_CONTRACT_STATUS_Refused_count_norm': 16454,\n  'previous_NAME_CONTRACT_STATUS_Unused offer_count': 16454,\n  'previous_NAME_CONTRACT_STATUS_Unused offer_count_norm': 16454,\n  'previous_NAME_CONTRACT_TYPE_Cash loans_count': 16454,\n  'previous_NAME_CONTRACT_TYPE_Cash loans_count_norm': 16454,\n  'previous_NAME_CONTRACT_TYPE_Consumer loans_count': 16454,\n  'previous_NAME_CONTRACT_TYPE_Consumer loans_count_norm': 16454,\n  'previous_NAME_CONTRACT_TYPE_Revolving loans_count': 16454,\n  'previous_NAME_CONTRACT_TYPE_Revolving loans_count_norm': 16454,\n  'previous_NAME_CONTRACT_TYPE_XNA_count': 16454,\n  'previous_NAME_CONTRACT_TYPE_XNA_count_norm': 16454,\n  'DIF_AMT_CREDIT_mean': 16454,\n  'DIF_AMT_CREDIT_min': 16454,\n  'DIF_AMT_CREDIT_max': 16454,\n  'DIF_AMT_CREDIT_sum': 16454},\n 'column_port_missing': {'SK_ID_CURR': 0.0,\n  'TARGET': 0.0,\n  'NAME_CONTRACT_TYPE': 0.0,\n  'CODE_GENDER': 0.0,\n  'FLAG_OWN_CAR': 0.0,\n  'FLAG_OWN_REALTY': 0.0,\n  'CNT_CHILDREN': 0.0,\n  'AMT_INCOME_TOTAL': 0.0,\n  'AMT_CREDIT': 0.0,\n  'AMT_ANNUITY': 0.0,\n  'AMT_GOODS_PRICE': 0.0009,\n  'NAME_TYPE_SUITE': 0.0042,\n  'NAME_INCOME_TYPE': 0.0,\n  'NAME_EDUCATION_TYPE': 0.0,\n  'NAME_FAMILY_STATUS': 0.0,\n  'NAME_HOUSING_TYPE': 0.0,\n  'REGION_POPULATION_RELATIVE': 0.0,\n  'DAYS_BIRTH': 0.0,\n  'DAYS_EMPLOYED': 0.0,\n  'DAYS_REGISTRATION': 0.0,\n  'DAYS_ID_PUBLISH': 0.0,\n  'OWN_CAR_AGE': 0.6599,\n  'FLAG_MOBIL': 0.0,\n  'FLAG_EMP_PHONE': 0.0,\n  'FLAG_WORK_PHONE': 0.0,\n  'FLAG_CONT_MOBILE': 0.0,\n  'FLAG_PHONE': 0.0,\n  'FLAG_EMAIL': 0.0,\n  'OCCUPATION_TYPE': 0.3135,\n  'CNT_FAM_MEMBERS': 0.0,\n  'REGION_RATING_CLIENT': 0.0,\n  'REGION_RATING_CLIENT_W_CITY': 0.0,\n  'WEEKDAY_APPR_PROCESS_START': 0.0,\n  'HOUR_APPR_PROCESS_START': 0.0,\n  'REG_REGION_NOT_LIVE_REGION': 0.0,\n  'REG_REGION_NOT_WORK_REGION': 0.0,\n  'LIVE_REGION_NOT_WORK_REGION': 0.0,\n  'REG_CITY_NOT_LIVE_CITY': 0.0,\n  'REG_CITY_NOT_WORK_CITY': 0.0,\n  'LIVE_CITY_NOT_WORK_CITY': 0.0,\n  'ORGANIZATION_TYPE': 0.0,\n  'EXT_SOURCE_1': 0.5638,\n  'EXT_SOURCE_2': 0.0021,\n  'EXT_SOURCE_3': 0.1983,\n  'APARTMENTS_AVG': 0.5075,\n  'BASEMENTAREA_AVG': 0.5852,\n  'YEARS_BEGINEXPLUATATION_AVG': 0.4878,\n  'YEARS_BUILD_AVG': 0.665,\n  'COMMONAREA_AVG': 0.6987,\n  'ELEVATORS_AVG': 0.533,\n  'ENTRANCES_AVG': 0.5035,\n  'FLOORSMAX_AVG': 0.4976,\n  'FLOORSMIN_AVG': 0.6785,\n  'LANDAREA_AVG': 0.5938,\n  'LIVINGAPARTMENTS_AVG': 0.6835,\n  'LIVINGAREA_AVG': 0.5019,\n  'NONLIVINGAPARTMENTS_AVG': 0.6943,\n  'NONLIVINGAREA_AVG': 0.5518,\n  'APARTMENTS_MODE': 0.5075,\n  'BASEMENTAREA_MODE': 0.5852,\n  'YEARS_BEGINEXPLUATATION_MODE': 0.4878,\n  'YEARS_BUILD_MODE': 0.665,\n  'COMMONAREA_MODE': 0.6987,\n  'ELEVATORS_MODE': 0.533,\n  'ENTRANCES_MODE': 0.5035,\n  'FLOORSMAX_MODE': 0.4976,\n  'FLOORSMIN_MODE': 0.6785,\n  'LANDAREA_MODE': 0.5938,\n  'LIVINGAPARTMENTS_MODE': 0.6835,\n  'LIVINGAREA_MODE': 0.5019,\n  'NONLIVINGAPARTMENTS_MODE': 0.6943,\n  'NONLIVINGAREA_MODE': 0.5518,\n  'APARTMENTS_MEDI': 0.5075,\n  'BASEMENTAREA_MEDI': 0.5852,\n  'YEARS_BEGINEXPLUATATION_MEDI': 0.4878,\n  'YEARS_BUILD_MEDI': 0.665,\n  'COMMONAREA_MEDI': 0.6987,\n  'ELEVATORS_MEDI': 0.533,\n  'ENTRANCES_MEDI': 0.5035,\n  'FLOORSMAX_MEDI': 0.4976,\n  'FLOORSMIN_MEDI': 0.6785,\n  'LANDAREA_MEDI': 0.5938,\n  'LIVINGAPARTMENTS_MEDI': 0.6835,\n  'LIVINGAREA_MEDI': 0.5019,\n  'NONLIVINGAPARTMENTS_MEDI': 0.6943,\n  'NONLIVINGAREA_MEDI': 0.5518,\n  'FONDKAPREMONT_MODE': 0.6839,\n  'HOUSETYPE_MODE': 0.5018,\n  'TOTALAREA_MODE': 0.4827,\n  'WALLSMATERIAL_MODE': 0.5084,\n  'EMERGENCYSTATE_MODE': 0.474,\n  'OBS_30_CNT_SOCIAL_CIRCLE': 0.0033,\n  'DEF_30_CNT_SOCIAL_CIRCLE': 0.0033,\n  'OBS_60_CNT_SOCIAL_CIRCLE': 0.0033,\n  'DEF_60_CNT_SOCIAL_CIRCLE': 0.0033,\n  'DAYS_LAST_PHONE_CHANGE': 0.0,\n  'FLAG_DOCUMENT_2': 0.0,\n  'FLAG_DOCUMENT_3': 0.0,\n  'FLAG_DOCUMENT_4': 0.0,\n  'FLAG_DOCUMENT_5': 0.0,\n  'FLAG_DOCUMENT_6': 0.0,\n  'FLAG_DOCUMENT_7': 0.0,\n  'FLAG_DOCUMENT_8': 0.0,\n  'FLAG_DOCUMENT_9': 0.0,\n  'FLAG_DOCUMENT_10': 0.0,\n  'FLAG_DOCUMENT_11': 0.0,\n  'FLAG_DOCUMENT_12': 0.0,\n  'FLAG_DOCUMENT_13': 0.0,\n  'FLAG_DOCUMENT_14': 0.0,\n  'FLAG_DOCUMENT_15': 0.0,\n  'FLAG_DOCUMENT_16': 0.0,\n  'FLAG_DOCUMENT_17': 0.0,\n  'FLAG_DOCUMENT_18': 0.0,\n  'FLAG_DOCUMENT_19': 0.0,\n  'FLAG_DOCUMENT_20': 0.0,\n  'FLAG_DOCUMENT_21': 0.0,\n  'AMT_REQ_CREDIT_BUREAU_HOUR': 0.135,\n  'AMT_REQ_CREDIT_BUREAU_DAY': 0.135,\n  'AMT_REQ_CREDIT_BUREAU_WEEK': 0.135,\n  'AMT_REQ_CREDIT_BUREAU_MON': 0.135,\n  'AMT_REQ_CREDIT_BUREAU_QRT': 0.135,\n  'AMT_REQ_CREDIT_BUREAU_YEAR': 0.135,\n  'DIF_DAYS_INSTALMENT_mean': 0.0516,\n  'DIF_DAYS_INSTALMENT_min': 0.0516,\n  'DIF_DAYS_INSTALMENT_max': 0.0516,\n  'DIF_DAYS_INSTALMENT_sum': 0.0516,\n  'PORTION_NOT_INSTALMENT': 0.0516,\n  'AVG_DIF_AMT_PAYMENT': 0.0516,\n  'previous_NAME_CONTRACT_STATUS_Approved_count': 0.0535,\n  'previous_NAME_CONTRACT_STATUS_Approved_count_norm': 0.0535,\n  'previous_NAME_CONTRACT_STATUS_Canceled_count': 0.0535,\n  'previous_NAME_CONTRACT_STATUS_Canceled_count_norm': 0.0535,\n  'previous_NAME_CONTRACT_STATUS_Refused_count': 0.0535,\n  'previous_NAME_CONTRACT_STATUS_Refused_count_norm': 0.0535,\n  'previous_NAME_CONTRACT_STATUS_Unused offer_count': 0.0535,\n  'previous_NAME_CONTRACT_STATUS_Unused offer_count_norm': 0.0535,\n  'previous_NAME_CONTRACT_TYPE_Cash loans_count': 0.0535,\n  'previous_NAME_CONTRACT_TYPE_Cash loans_count_norm': 0.0535,\n  'previous_NAME_CONTRACT_TYPE_Consumer loans_count': 0.0535,\n  'previous_NAME_CONTRACT_TYPE_Consumer loans_count_norm': 0.0535,\n  'previous_NAME_CONTRACT_TYPE_Revolving loans_count': 0.0535,\n  'previous_NAME_CONTRACT_TYPE_Revolving loans_count_norm': 0.0535,\n  'previous_NAME_CONTRACT_TYPE_XNA_count': 0.0535,\n  'previous_NAME_CONTRACT_TYPE_XNA_count_norm': 0.0535,\n  'DIF_AMT_CREDIT_mean': 0.0535,\n  'DIF_AMT_CREDIT_min': 0.0535,\n  'DIF_AMT_CREDIT_max': 0.0535,\n  'DIF_AMT_CREDIT_sum': 0.0535}}"
     },
     "metadata": {},
     "execution_count": 17
    }
   ],
   "source": [
    "info_application_train"
   ]
  },
  {
   "cell_type": "code",
   "execution_count": 18,
   "metadata": {},
   "outputs": [],
   "source": [
    "missing = info_application_train['column_port_missing']"
   ]
  },
  {
   "cell_type": "code",
   "execution_count": 19,
   "metadata": {},
   "outputs": [
    {
     "output_type": "execute_result",
     "data": {
      "text/plain": "0.6599"
     },
     "metadata": {},
     "execution_count": 19
    }
   ],
   "source": [
    "missing['OWN_CAR_AGE']"
   ]
  },
  {
   "cell_type": "code",
   "execution_count": 20,
   "metadata": {},
   "outputs": [],
   "source": [
    "missing = info_application_train['column_port_missing']\n",
    "missing_ft = []\n",
    "missing_val_all = []\n",
    "for key, val in missing.items():\n",
    "    if val >= 0.4:\n",
    "        missing_ft += [key]\n",
    "    missing_val_all += [val]"
   ]
  },
  {
   "cell_type": "code",
   "execution_count": 21,
   "metadata": {},
   "outputs": [
    {
     "output_type": "execute_result",
     "data": {
      "text/plain": "49"
     },
     "metadata": {},
     "execution_count": 21
    }
   ],
   "source": [
    "len(missing_ft)"
   ]
  },
  {
   "cell_type": "code",
   "execution_count": 22,
   "metadata": {},
   "outputs": [],
   "source": [
    "missing_cate = []\n",
    "missing_nume = []\n",
    "for ft in missing_ft:\n",
    "    if ft in categorical_ft:\n",
    "        missing_cate += [ft]\n",
    "    else:\n",
    "        missing_nume += [ft]"
   ]
  },
  {
   "cell_type": "code",
   "execution_count": 23,
   "metadata": {},
   "outputs": [
    {
     "output_type": "execute_result",
     "data": {
      "text/plain": "['FONDKAPREMONT_MODE',\n 'HOUSETYPE_MODE',\n 'WALLSMATERIAL_MODE',\n 'EMERGENCYSTATE_MODE']"
     },
     "metadata": {},
     "execution_count": 23
    }
   ],
   "source": [
    "missing_cate"
   ]
  },
  {
   "cell_type": "code",
   "execution_count": 24,
   "metadata": {},
   "outputs": [
    {
     "output_type": "execute_result",
     "data": {
      "text/plain": "['OWN_CAR_AGE',\n 'EXT_SOURCE_1',\n 'APARTMENTS_AVG',\n 'BASEMENTAREA_AVG',\n 'YEARS_BEGINEXPLUATATION_AVG',\n 'YEARS_BUILD_AVG',\n 'COMMONAREA_AVG',\n 'ELEVATORS_AVG',\n 'ENTRANCES_AVG',\n 'FLOORSMAX_AVG',\n 'FLOORSMIN_AVG',\n 'LANDAREA_AVG',\n 'LIVINGAPARTMENTS_AVG',\n 'LIVINGAREA_AVG',\n 'NONLIVINGAPARTMENTS_AVG',\n 'NONLIVINGAREA_AVG',\n 'APARTMENTS_MODE',\n 'BASEMENTAREA_MODE',\n 'YEARS_BEGINEXPLUATATION_MODE',\n 'YEARS_BUILD_MODE',\n 'COMMONAREA_MODE',\n 'ELEVATORS_MODE',\n 'ENTRANCES_MODE',\n 'FLOORSMAX_MODE',\n 'FLOORSMIN_MODE',\n 'LANDAREA_MODE',\n 'LIVINGAPARTMENTS_MODE',\n 'LIVINGAREA_MODE',\n 'NONLIVINGAPARTMENTS_MODE',\n 'NONLIVINGAREA_MODE',\n 'APARTMENTS_MEDI',\n 'BASEMENTAREA_MEDI',\n 'YEARS_BEGINEXPLUATATION_MEDI',\n 'YEARS_BUILD_MEDI',\n 'COMMONAREA_MEDI',\n 'ELEVATORS_MEDI',\n 'ENTRANCES_MEDI',\n 'FLOORSMAX_MEDI',\n 'FLOORSMIN_MEDI',\n 'LANDAREA_MEDI',\n 'LIVINGAPARTMENTS_MEDI',\n 'LIVINGAREA_MEDI',\n 'NONLIVINGAPARTMENTS_MEDI',\n 'NONLIVINGAREA_MEDI',\n 'TOTALAREA_MODE']"
     },
     "metadata": {},
     "execution_count": 24
    }
   ],
   "source": [
    "missing_nume"
   ]
  },
  {
   "cell_type": "code",
   "execution_count": 16,
   "metadata": {},
   "outputs": [],
   "source": [
    "##### Find the reason behind the missing \n",
    "#data = app_train.copy()\n",
    "data = app_test.copy()\n",
    "# OWN_CAR_AGE missing depend on FLAG_OWN_CAR --> fix it\n",
    "data['FLAG_OWN_CAR'] = data['FLAG_OWN_CAR'].map({'Y': 1, 'N': 0})\n",
    "data['FLAG_OWN_REALTY'] = data['FLAG_OWN_REALTY'].map({'Y': 1, 'N': 0})\n",
    "data['OWN_CAR_AGE'] = data.apply(\n",
    "    lambda row: 0 if np.isnan(row['OWN_CAR_AGE']) and row['FLAG_OWN_CAR'] == 0 else row['OWN_CAR_AGE'],\n",
    "    axis=1\n",
    ")\n",
    "\n",
    "data['CODE_GENDER'] = data['CODE_GENDER'].map({'M': 1, 'F': 0})\n",
    "data['NAME_CONTRACT_TYPE'] = data['NAME_CONTRACT_TYPE'].map({'Cash loans': 1, 'Revolving loans': 0})\n",
    "\n",
    ""
   ]
  },
  {
   "cell_type": "code",
   "execution_count": 17,
   "metadata": {},
   "outputs": [],
   "source": [
    "# convert to positive\n",
    "data['DAYS_BIRTH'] = abs(data['DAYS_BIRTH'])\n",
    "\n",
    "data['DAYS_EMPLOYED'] = abs(data['DAYS_EMPLOYED'])\n",
    "\n",
    "data['DAYS_ID_PUBLISH'] = abs(data['DAYS_ID_PUBLISH'])\n",
    "\n",
    "data['DAYS_LAST_PHONE_CHANGE'] = abs(data['DAYS_LAST_PHONE_CHANGE'])\n",
    "\n",
    "data['DAYS_REGISTRATION'] = abs(data['DAYS_REGISTRATION'])\n",
    "\n",
    "data['DAYS_EMPLOYED'].replace({365243: np.nan}, inplace = True)"
   ]
  },
  {
   "cell_type": "code",
   "execution_count": 12,
   "metadata": {},
   "outputs": [],
   "source": [
    "## Drop ft\n",
    "##### Get some basic information from data\n",
    "info_data = basic_info(data)\n",
    "missing = info_data['column_port_missing']\n",
    "missing_ft = []\n",
    "missing_val_all = []\n",
    "for key, val in missing.items():\n",
    "    if val >= 0.4:\n",
    "        missing_ft += [key]\n",
    "    missing_val_all += [val]"
   ]
  },
  {
   "cell_type": "code",
   "execution_count": 13,
   "metadata": {},
   "outputs": [
    {
     "output_type": "execute_result",
     "data": {
      "text/plain": "['EXT_SOURCE_1',\n 'APARTMENTS_AVG',\n 'BASEMENTAREA_AVG',\n 'YEARS_BEGINEXPLUATATION_AVG',\n 'YEARS_BUILD_AVG',\n 'COMMONAREA_AVG',\n 'ELEVATORS_AVG',\n 'ENTRANCES_AVG',\n 'FLOORSMAX_AVG',\n 'FLOORSMIN_AVG',\n 'LANDAREA_AVG',\n 'LIVINGAPARTMENTS_AVG',\n 'LIVINGAREA_AVG',\n 'NONLIVINGAPARTMENTS_AVG',\n 'NONLIVINGAREA_AVG',\n 'APARTMENTS_MODE',\n 'BASEMENTAREA_MODE',\n 'YEARS_BEGINEXPLUATATION_MODE',\n 'YEARS_BUILD_MODE',\n 'COMMONAREA_MODE',\n 'ELEVATORS_MODE',\n 'ENTRANCES_MODE',\n 'FLOORSMAX_MODE',\n 'FLOORSMIN_MODE',\n 'LANDAREA_MODE',\n 'LIVINGAPARTMENTS_MODE',\n 'LIVINGAREA_MODE',\n 'NONLIVINGAPARTMENTS_MODE',\n 'NONLIVINGAREA_MODE',\n 'APARTMENTS_MEDI',\n 'BASEMENTAREA_MEDI',\n 'YEARS_BEGINEXPLUATATION_MEDI',\n 'YEARS_BUILD_MEDI',\n 'COMMONAREA_MEDI',\n 'ELEVATORS_MEDI',\n 'ENTRANCES_MEDI',\n 'FLOORSMAX_MEDI',\n 'FLOORSMIN_MEDI',\n 'LANDAREA_MEDI',\n 'LIVINGAPARTMENTS_MEDI',\n 'LIVINGAREA_MEDI',\n 'NONLIVINGAPARTMENTS_MEDI',\n 'NONLIVINGAREA_MEDI',\n 'FONDKAPREMONT_MODE',\n 'HOUSETYPE_MODE',\n 'TOTALAREA_MODE',\n 'WALLSMATERIAL_MODE',\n 'EMERGENCYSTATE_MODE']"
     },
     "metadata": {},
     "execution_count": 13
    }
   ],
   "source": [
    "missing_ft"
   ]
  },
  {
   "cell_type": "code",
   "execution_count": 18,
   "metadata": {},
   "outputs": [],
   "source": [
    "data_drop = data.drop(missing_ft, axis=1)\n",
    "data_drop.to_csv('data/filtered_merged_application_test.csv')"
   ]
  },
  {
   "cell_type": "code",
   "execution_count": null,
   "metadata": {},
   "outputs": [],
   "source": []
  }
 ]
}