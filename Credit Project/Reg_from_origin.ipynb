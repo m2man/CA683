{
 "nbformat": 4,
 "nbformat_minor": 2,
 "metadata": {
  "language_info": {
   "name": "python",
   "codemirror_mode": {
    "name": "ipython",
    "version": 3
   },
   "version": "3.6.10-final"
  },
  "orig_nbformat": 2,
  "file_extension": ".py",
  "mimetype": "text/x-python",
  "name": "python",
  "npconvert_exporter": "python",
  "pygments_lexer": "ipython3",
  "version": 3,
  "kernelspec": {
   "name": "python3",
   "display_name": "Python 3"
  }
 },
 "cells": [
  {
   "cell_type": "code",
   "execution_count": 2,
   "metadata": {},
   "outputs": [],
   "source": [
    "import os\n",
    "os.chdir('/home/nmduy/CA683/Credit Project')\n",
    "from sklearn.ensemble import RandomForestClassifier\n",
    "from sklearn.linear_model import LogisticRegression\n",
    "from sklearn.metrics import precision_recall_curve\n",
    "from sklearn.metrics import roc_auc_score \n",
    "from sklearn.metrics import auc\n",
    "from sklearn import preprocessing\n",
    "import pandas as pd\n",
    "import numpy as np\n",
    "import random\n",
    "import json\n",
    "from sklearn import metrics\n",
    "random.seed(1509)"
   ]
  },
  {
   "cell_type": "markdown",
   "metadata": {},
   "source": [
    "## Read data\n",
    "Read filtered csv file (remove features containing too much missing values) and encode the categorical variables."
   ]
  },
  {
   "cell_type": "code",
   "execution_count": 329,
   "metadata": {},
   "outputs": [],
   "source": [
    "##### READ DATA #####\n",
    "data = pd.read_csv('data/application_train.csv')\n",
    "data_remove_id = data.drop(['SK_ID_CURR'], axis=1) if 'SK_ID_CURR' in list(data.columns) else data.copy()\n",
    "data_remove_id = data_remove_id.drop(['DAYS_EMPLOYED_ANOM'], axis=1) if 'DAYS_EMPLOYED_ANOM' in list(data_remove_id.columns) else data_remove_id.copy()\n",
    "data_remove_id = data_remove_id.drop(['Unnamed: 0'], axis=1) if 'Unnamed: 0' in list(data_remove_id.columns) else data_remove_id.copy()\n",
    "\n",
    "ft_types = dict(data_remove_id.dtypes)\n",
    "\n",
    "categorical_ft = []\n",
    "numerical_ft = []\n",
    "for ft, val in ft_types.items():\n",
    "    if val == np.object:\n",
    "        categorical_ft += [ft]\n",
    "    else:\n",
    "        numerical_ft += [ft]\n"
   ]
  },
  {
   "cell_type": "code",
   "execution_count": 316,
   "metadata": {},
   "outputs": [
    {
     "output_type": "stream",
     "name": "stdout",
     "text": "(92, 13)\n"
    }
   ],
   "source": [
    "\n",
    "select_ft = ['TARGET', 'EXT_SOURCE_3', 'EXT_SOURCE_2', 'DAYS_EMPLOYED', 'DAYS_ID_PUBLISH', 'FLOORSMAX_AVG', \n",
    "             'DAYS_REGISTRATION', 'AMT_GOODS_PRICE', 'DEF_30_CNT_SOCIAL_CIRCLE', 'HOUR_APPR_PROCESS_START', \n",
    "             'AMT_REQ_CREDIT_BUREAU_YEAR', 'CNT_CHILDREN', 'AMT_REQ_CREDIT_BUREAU_MON']\n",
    "\n",
    "drop_numerical_ft = [x for x in numerical_ft if x not in select_ft]\n",
    "remain_numerical_ft = [x for x in numerical_ft if x not in drop_numerical_ft]\n",
    "print((len(drop_numerical_ft), len(remain_numerical_ft)))\n",
    "data_remove_id = data_remove_id.drop(drop_numerical_ft, axis=1)\n",
    "data_remove_id = data_remove_id.drop(categorical_ft, axis=1)"
   ]
  },
  {
   "cell_type": "code",
   "execution_count": 328,
   "metadata": {},
   "outputs": [
    {
     "output_type": "stream",
     "name": "stdout",
     "text": "(307511, 245)\n(11351, 245)\n"
    }
   ],
   "source": [
    "encoded_data = pd.get_dummies(data_remove_id)\n",
    "\n",
    "print(encoded_data.shape)\n",
    "\n",
    "##### DROP NA #####\n",
    "encoded_data = encoded_data.dropna()\n",
    "encoded_data = encoded_data.reset_index(drop=True)\n",
    "print(encoded_data.shape)"
   ]
  },
  {
   "cell_type": "code",
   "execution_count": 24,
   "metadata": {},
   "outputs": [
    {
     "output_type": "execute_result",
     "data": {
      "text/plain": "-3"
     },
     "metadata": {},
     "execution_count": 24
    }
   ],
   "source": [
    "np.sum(np.isfinite(encoded_data).sum()-190079)"
   ]
  },
  {
   "cell_type": "markdown",
   "metadata": {},
   "source": [
    "## MAKE THE DATASET\n",
    "Create subset and maybe make it balance between classes within classes"
   ]
  },
  {
   "cell_type": "code",
   "execution_count": 303,
   "metadata": {},
   "outputs": [
    {
     "output_type": "stream",
     "name": "stdout",
     "text": "Numb train/val/test samples: 238320 / 64225 / 4966\n(238320, 206)\n"
    }
   ],
   "source": [
    "##### MAKE IT BALANCE #####\n",
    "random.seed(1509)\n",
    "\n",
    "numb_pos_samples = encoded_data['TARGET'].sum()\n",
    "numb_neg_samples = len(encoded_data) - numb_pos_samples\n",
    "portion_pos_train = 0.8\n",
    "portion_pos_val = 0.1\n",
    "numb_pos_train = int(numb_pos_samples * portion_pos_train)\n",
    "numb_pos_val = int(numb_pos_samples * portion_pos_val)\n",
    "numb_pos_test = numb_pos_samples - numb_pos_train - numb_pos_val\n",
    "\n",
    "index_pos = encoded_data.index[encoded_data['TARGET'] == 1].tolist()\n",
    "index_neg = [i for i in range(len(encoded_data)) if i not in index_pos]\n",
    "\n",
    "data_pos = encoded_data.iloc[np.asarray(index_pos), :]\n",
    "data_neg = encoded_data.iloc[np.asarray(index_neg), :]\n",
    "\n",
    "##### shuffle #####\n",
    "data_pos = data_pos.sample(frac=1)\n",
    "data_neg = data_neg.sample(frac=1)\n",
    "\n",
    "data_pos_train = data_pos.iloc[0:numb_pos_train,:]\n",
    "data_pos_val = data_pos.iloc[numb_pos_train:numb_pos_train + numb_pos_val, :]\n",
    "data_pos_test = data_pos.iloc[numb_pos_train + numb_pos_val:, :]\n",
    "\n",
    "data_neg_train = data_neg.iloc[0:int(numb_pos_train*11), :]\n",
    "data_neg_val = data_neg.iloc[int(numb_pos_train*11):-numb_pos_test, :]\n",
    "data_neg_test = data_neg.iloc[-numb_pos_test:, :]\n",
    "\n",
    "data_train = pd.concat([data_pos_train, data_neg_train], ignore_index=True)\n",
    "data_val = pd.concat([data_pos_val, data_neg_val], ignore_index=True)\n",
    "data_not_test = pd.concat([data_train, data_val], ignore_index=True)\n",
    "data_test = pd.concat([data_pos_test, data_neg_test], ignore_index=True)\n",
    "\n",
    "print(f\"Numb train/val/test samples: {len(data_train)} / {len(data_val)} / {len(data_test)}\")\n",
    "\n",
    "print(data_train.shape)"
   ]
  },
  {
   "cell_type": "markdown",
   "metadata": {},
   "source": [
    "## REMOVE FEATURE CONTAINING ONLY 1 VALUES"
   ]
  },
  {
   "cell_type": "markdown",
   "metadata": {},
   "source": [
    "## FILTER CORRELATION MATRIX"
   ]
  },
  {
   "cell_type": "code",
   "execution_count": 263,
   "metadata": {},
   "outputs": [],
   "source": [
    "corr_pd = abs(data_not_test.corr()['TARGET']).sort_values()\n",
    "corr_pd = corr_pd[1:]\n",
    "corr_pd.describe()"
   ]
  },
  {
   "cell_type": "code",
   "execution_count": 265,
   "metadata": {},
   "outputs": [],
   "source": [
    "corr_dict = dict(corr_pd)"
   ]
  },
  {
   "cell_type": "code",
   "execution_count": 274,
   "metadata": {},
   "outputs": [
    {
     "output_type": "execute_result",
     "data": {
      "text/plain": "50"
     },
     "metadata": {},
     "execution_count": 274
    }
   ],
   "source": [
    "thres = 0.002589\n",
    "drop_ft = []\n",
    "for k, v in corr_dict.items():\n",
    "    if v <= thres:\n",
    "        drop_ft += [k]\n",
    "len(drop_ft)\n",
    ""
   ]
  },
  {
   "cell_type": "code",
   "execution_count": 275,
   "metadata": {},
   "outputs": [],
   "source": [
    "data_train = data_train.drop(drop_ft, axis=1)\n",
    "data_val = data_val.drop(drop_ft, axis=1)\n",
    "data_test = data_test.drop(drop_ft, axis=1)\n",
    "data_not_test = data_not_test.drop(drop_ft, axis=1)"
   ]
  },
  {
   "cell_type": "markdown",
   "metadata": {},
   "source": [
    "## SPLIT DATASET"
   ]
  },
  {
   "cell_type": "code",
   "execution_count": 304,
   "metadata": {},
   "outputs": [
    {
     "output_type": "stream",
     "name": "stdout",
     "text": "[]\n0\n"
    }
   ],
   "source": [
    "##### REMOVE 1-VALUE FT #####\n",
    "remove_ft = []\n",
    "for col in list(data_not_test.drop('TARGET', axis=1).columns):\n",
    "    if data_not_test[col].sum() == 0 or data_not_test[col].sum() == len(data_not_test[col]):\n",
    "        remove_ft += [col]\n",
    "\n",
    "print(remove_ft)        \n",
    "print(len(remove_ft))\n",
    "\n",
    "data_train = data_train.drop(remove_ft, axis=1)\n",
    "data_val = data_val.drop(remove_ft, axis=1)\n",
    "data_test = data_test.drop(remove_ft, axis=1)\n",
    "data_not_test = data_not_test.drop(remove_ft, axis=1)"
   ]
  },
  {
   "cell_type": "code",
   "execution_count": 305,
   "metadata": {},
   "outputs": [
    {
     "output_type": "stream",
     "name": "stdout",
     "text": "(238320, 205)\n"
    }
   ],
   "source": [
    "X_train = data_train.drop(['TARGET'], axis = 1)\n",
    "X_test = data_test.drop(['TARGET'], axis = 1)\n",
    "X_val = data_val.drop(['TARGET'], axis = 1)\n",
    "y_train = data_train['TARGET']\n",
    "y_test = data_test['TARGET']\n",
    "y_val = data_val['TARGET']\n",
    "X_not_test = data_not_test.drop(['TARGET'], axis = 1)\n",
    "y_not_test = data_not_test['TARGET']\n",
    "print(X_train.shape)"
   ]
  },
  {
   "cell_type": "markdown",
   "metadata": {},
   "source": [
    "## TRAIN\n",
    "Run classifier on both RandomForest and Logistic Regression"
   ]
  },
  {
   "cell_type": "code",
   "execution_count": 306,
   "metadata": {},
   "outputs": [
    {
     "output_type": "execute_result",
     "data": {
      "text/plain": "LogisticRegression(C=1.0, class_weight='balanced', dual=False,\n                   fit_intercept=True, intercept_scaling=1, l1_ratio=None,\n                   max_iter=100, multi_class='auto', n_jobs=None, penalty='l2',\n                   random_state=None, solver='lbfgs', tol=0.0001, verbose=0,\n                   warm_start=False)"
     },
     "metadata": {},
     "execution_count": 306
    }
   ],
   "source": [
    "rf = RandomForestClassifier(class_weight='balanced')\n",
    "lg = LogisticRegression(class_weight='balanced')\n",
    "\n",
    "rf.fit(X_train, y_train)\n",
    "lg.fit(X_train, y_train)\n",
    ""
   ]
  },
  {
   "cell_type": "markdown",
   "metadata": {},
   "source": [
    "## Evaluate"
   ]
  },
  {
   "cell_type": "code",
   "execution_count": 11,
   "metadata": {},
   "outputs": [],
   "source": [
    "def calculate_metric(gtnp, pdnp, score=None):\n",
    "    # input are numpy vector\n",
    "    total_samples = len(gtnp)\n",
    "    #print(f\"Total sample: {total_samples}\")\n",
    "    total_correct = np.sum(gtnp == pdnp)\n",
    "    accuracy = total_correct / total_samples\n",
    "    gt_pos = np.where(gtnp == 1)[0]\n",
    "    gt_neg = np.where(gtnp == 0)[0]\n",
    "    TP = np.sum(pdnp[gt_pos])\n",
    "    TN = np.sum(1 - pdnp[gt_neg])\n",
    "    FP = np.sum(pdnp[gt_neg])\n",
    "    FN = np.sum(1 - pdnp[gt_pos])\n",
    "    if score is not None:\n",
    "        AUC = roc_auc_score(gtnp, score)\n",
    "        lr_precision, lr_recall, _ = precision_recall_curve(gtnp, score)\n",
    "        AUC_PR = auc(lr_recall, lr_precision)\n",
    "    else:\n",
    "        AUC = roc_auc_score(gtnp, pdnp)\n",
    "        ACU_PR = -1\n",
    "\n",
    "    \n",
    "    \n",
    "    precision = TP / (TP+FP)\n",
    "    recall = TP/(TP+FN)\n",
    "    f1 = 2*precision*recall/(precision+recall)\n",
    "    metrics = {}\n",
    "    metrics['accuracy'] = str(accuracy)\n",
    "    metrics['precision'] = str(precision)\n",
    "    metrics['recall'] = str(recall)\n",
    "    metrics['f1'] = str(f1)\n",
    "    metrics['tp'] = str(int(TP))\n",
    "    metrics['tn'] = str(int(TN))\n",
    "    metrics['fp'] = str(int(FP))\n",
    "    metrics['fn'] = str(int(FN))\n",
    "    metrics['auc'] = str(AUC)\n",
    "    metrics['auc_pr'] = str(AUC_PR)\n",
    "\n",
    "    return metrics"
   ]
  },
  {
   "cell_type": "markdown",
   "metadata": {},
   "source": [
    "### RF Evaluation"
   ]
  },
  {
   "cell_type": "code",
   "execution_count": 308,
   "metadata": {},
   "outputs": [],
   "source": [
    "##### TRAIN PREDICTION #####\n",
    "rf_train_predict = rf.predict(X_train)\n",
    "rf_train_score = rf.predict_proba(X_train)[:,1] # score of higher label\n",
    "rf_train_metric = calculate_metric(y_train, rf_train_predict, rf_train_score)\n",
    "\n",
    "##### VALIDATE PREDICTION #####\n",
    "rf_val_predict = rf.predict(X_val)\n",
    "rf_val_score = rf.predict_proba(X_val)[:,1] # score of higher label\n",
    "rf_val_metric = calculate_metric(y_val, rf_val_predict, rf_val_score)\n",
    "\n",
    "##### TEST PREDICTION #####\n",
    "rf_test_predict = rf.predict(X_test)\n",
    "rf_test_score = rf.predict_proba(X_test)[:,1]\n",
    "rf_test_metric = calculate_metric(y_test, rf_test_predict, rf_test_score)"
   ]
  },
  {
   "cell_type": "markdown",
   "metadata": {},
   "source": [
    "### Logistic Regression Evaluation"
   ]
  },
  {
   "cell_type": "code",
   "execution_count": 309,
   "metadata": {},
   "outputs": [],
   "source": [
    "##### TRAIN PREDICTION #####\n",
    "lg_train_predict = lg.predict(X_train)\n",
    "lg_train_score = lg.predict_proba(X_train)[:,1] # score of higher label\n",
    "lg_train_metric = calculate_metric(y_train, lg_train_predict, lg_train_score)\n",
    "\n",
    "##### VALIDATE PREDICTION #####\n",
    "lg_val_predict = lg.predict(X_val)\n",
    "lg_val_score = lg.predict_proba(X_val)[:,1] # score of higher label\n",
    "lg_val_metric = calculate_metric(y_val, lg_val_predict, lg_val_score)\n",
    "\n",
    "##### TEST PREDICTION #####\n",
    "lg_test_predict = lg.predict(X_test)\n",
    "lg_test_score = lg.predict_proba(X_test)[:,1]\n",
    "lg_test_metric = calculate_metric(y_test, lg_test_predict, lg_test_score)"
   ]
  },
  {
   "cell_type": "code",
   "execution_count": 310,
   "metadata": {},
   "outputs": [],
   "source": [
    "result = {}\n",
    "result['info'] = 'merged app, remove corr25, 148 ft, using all numeric, encoded, dropna, classweight balanced, rf not balanced, negative:positive = 11:1'\n",
    "result['RF'] = {}\n",
    "result['LG'] = {}\n",
    "result['RF']['train'] = rf_train_metric\n",
    "result['RF']['val'] = rf_val_metric\n",
    "result['RF']['test'] = rf_test_metric\n",
    "result['LG']['train'] = lg_train_metric\n",
    "result['LG']['val'] = lg_val_metric\n",
    "result['LG']['test'] = lg_test_metric"
   ]
  },
  {
   "cell_type": "code",
   "execution_count": 311,
   "metadata": {},
   "outputs": [
    {
     "output_type": "execute_result",
     "data": {
      "text/plain": "{'train': {'accuracy': '0.9166666666666666',\n  'precision': 'nan',\n  'recall': '0.0',\n  'f1': 'nan',\n  'tp': '0',\n  'tn': '218460',\n  'fp': '0',\n  'fn': '19860',\n  'auc': '0.5',\n  'auc_pr': '0.5416666666666666'},\n 'val': {'accuracy': '0.9613546126897625',\n  'precision': 'nan',\n  'recall': '0.0',\n  'f1': 'nan',\n  'tp': '0',\n  'tn': '61743',\n  'fp': '0',\n  'fn': '2482',\n  'auc': '0.5',\n  'auc_pr': '0.5193226936551187'},\n 'test': {'accuracy': '0.5',\n  'precision': 'nan',\n  'recall': '0.0',\n  'f1': 'nan',\n  'tp': '0',\n  'tn': '2483',\n  'fp': '0',\n  'fn': '2483',\n  'auc': '0.5',\n  'auc_pr': '0.75'}}"
     },
     "metadata": {},
     "execution_count": 311
    }
   ],
   "source": [
    "result['LG']"
   ]
  },
  {
   "cell_type": "markdown",
   "metadata": {},
   "source": [
    "## TEST"
   ]
  },
  {
   "cell_type": "code",
   "execution_count": 273,
   "metadata": {},
   "outputs": [],
   "source": [
    "filename = 'metric/result_05.json'\n",
    "with open(filename, 'w') as f:\n",
    "    json.dump(result, f)"
   ]
  },
  {
   "cell_type": "code",
   "execution_count": 314,
   "metadata": {},
   "outputs": [
    {
     "output_type": "stream",
     "name": "stdout",
     "text": "(48744, 203)\n"
    }
   ],
   "source": [
    "print(encoded_data_test.shape)"
   ]
  },
  {
   "cell_type": "code",
   "execution_count": 206,
   "metadata": {},
   "outputs": [
    {
     "output_type": "stream",
     "name": "stdout",
     "text": "(48744, 124)\n"
    }
   ],
   "source": [
    "encoded_data_test = encoded_data_test.drop(drop_numerical_ft, axis=1)\n",
    "print(encoded_data_test.shape)"
   ]
  },
  {
   "cell_type": "code",
   "execution_count": 313,
   "metadata": {},
   "outputs": [],
   "source": [
    "data_test = pd.read_csv('data/filtered_merged_application_test.csv')\n",
    "SK_ID_CURR = data_test['SK_ID_CURR']\n",
    "data_test = data_test.drop(['SK_ID_CURR'], axis=1) if 'SK_ID_CURR' in list(data_test.columns) else data_test.copy()\n",
    "data_test = data_test.drop(['DAYS_EMPLOYED_ANOM'], axis=1) if 'DAYS_EMPLOYED_ANOM' in list(data_test.columns) else data_test.copy()\n",
    "data_test = data_test.drop(['Unnamed: 0'], axis=1) if 'Unnamed: 0' in list(data_test.columns) else data_test.copy()\n",
    "encoded_data_test = pd.get_dummies(data_test)"
   ]
  },
  {
   "cell_type": "code",
   "execution_count": 140,
   "metadata": {},
   "outputs": [
    {
     "output_type": "stream",
     "name": "stdout",
     "text": "(48744, 148)\n"
    }
   ],
   "source": [
    "drop_ft_test = [x for x in list(encoded_data_test.columns) if x in drop_ft]\n",
    "encoded_data_test = encoded_data_test.drop(drop_ft_test, axis=1)\n",
    "print(encoded_data_test.shape)"
   ]
  },
  {
   "cell_type": "code",
   "execution_count": 208,
   "metadata": {},
   "outputs": [],
   "source": [
    "encoded_data_test_fillna = encoded_data_test.fillna(encoded_data_test.mean())"
   ]
  },
  {
   "cell_type": "code",
   "execution_count": 214,
   "metadata": {},
   "outputs": [],
   "source": [
    "data_test_score = rf.predict_proba(encoded_data_test_fillna)[:,1] # score of higher label"
   ]
  },
  {
   "cell_type": "code",
   "execution_count": 215,
   "metadata": {},
   "outputs": [],
   "source": [
    "submit = pd.DataFrame({'SK_ID_CURR': SK_ID_CURR, 'TARGET': data_test_score})\n",
    "submit.to_csv('data/submit_select_numerical_rf.csv', index=False)"
   ]
  },
  {
   "cell_type": "code",
   "execution_count": 165,
   "metadata": {},
   "outputs": [
    {
     "output_type": "execute_result",
     "data": {
      "text/plain": "   SK_ID_CURR  TARGET\n0      100001    0.10\n1      100005    0.12\n2      100013    0.05\n3      100028    0.02\n4      100038    0.14",
      "text/html": "<div>\n<style scoped>\n    .dataframe tbody tr th:only-of-type {\n        vertical-align: middle;\n    }\n\n    .dataframe tbody tr th {\n        vertical-align: top;\n    }\n\n    .dataframe thead th {\n        text-align: right;\n    }\n</style>\n<table border=\"1\" class=\"dataframe\">\n  <thead>\n    <tr style=\"text-align: right;\">\n      <th></th>\n      <th>SK_ID_CURR</th>\n      <th>TARGET</th>\n    </tr>\n  </thead>\n  <tbody>\n    <tr>\n      <th>0</th>\n      <td>100001</td>\n      <td>0.10</td>\n    </tr>\n    <tr>\n      <th>1</th>\n      <td>100005</td>\n      <td>0.12</td>\n    </tr>\n    <tr>\n      <th>2</th>\n      <td>100013</td>\n      <td>0.05</td>\n    </tr>\n    <tr>\n      <th>3</th>\n      <td>100028</td>\n      <td>0.02</td>\n    </tr>\n    <tr>\n      <th>4</th>\n      <td>100038</td>\n      <td>0.14</td>\n    </tr>\n  </tbody>\n</table>\n</div>"
     },
     "metadata": {},
     "execution_count": 165
    }
   ],
   "source": [
    "submit.head()"
   ]
  },
  {
   "cell_type": "markdown",
   "metadata": {},
   "source": [
    "## Feature Importance RF"
   ]
  },
  {
   "cell_type": "code",
   "execution_count": null,
   "metadata": {},
   "outputs": [],
   "source": [
    "ft_importance = lg.feature_importances_\n",
    "name_ft = np.asarray(list(X_train.columns))\n",
    "index_sort = np.argsort(ft_importance)\n",
    "name_ft[index_sort[::-1]]"
   ]
  },
  {
   "cell_type": "code",
   "execution_count": 274,
   "metadata": {},
   "outputs": [],
   "source": [
    "varimp = {}\n",
    "for k, v in zip(list(name_ft[index_sort[::-1]]), list(ft_importance[index_sort[::-1]])):\n",
    "    varimp[k] = v"
   ]
  },
  {
   "cell_type": "code",
   "execution_count": 286,
   "metadata": {},
   "outputs": [],
   "source": [
    "varimp_pd = pd.DataFrame(data={'Features': list(name_ft[index_sort[::-1]]), 'Importance': list(ft_importance[index_sort[::-1]])})"
   ]
  },
  {
   "cell_type": "code",
   "execution_count": 289,
   "metadata": {},
   "outputs": [
    {
     "output_type": "execute_result",
     "data": {
      "text/plain": "                      Features  Importance\n0                 EXT_SOURCE_2    0.067218\n1                 EXT_SOURCE_3    0.065138\n2                   DAYS_BIRTH    0.029492\n3                 EXT_SOURCE_1    0.026681\n4                DAYS_EMPLOYED    0.026094\n5       DAYS_LAST_PHONE_CHANGE    0.024322\n6              DAYS_ID_PUBLISH    0.023219\n7      DIF_DAYS_INSTALMENT_sum    0.022584\n8                  AMT_ANNUITY    0.021874\n9                   AMT_CREDIT    0.021842\n10           DAYS_REGISTRATION    0.021642\n11          DIF_AMT_CREDIT_min    0.021444\n12    DIF_DAYS_INSTALMENT_mean    0.020842\n13             AMT_GOODS_PRICE    0.020345\n14          DIF_AMT_CREDIT_sum    0.019724\n15     DIF_DAYS_INSTALMENT_max    0.019482\n16         DIF_AMT_CREDIT_mean    0.019417\n17  REGION_POPULATION_RELATIVE    0.017342\n18          DIF_AMT_CREDIT_max    0.016988\n19         AVG_DIF_AMT_PAYMENT    0.016914",
      "text/html": "<div>\n<style scoped>\n    .dataframe tbody tr th:only-of-type {\n        vertical-align: middle;\n    }\n\n    .dataframe tbody tr th {\n        vertical-align: top;\n    }\n\n    .dataframe thead th {\n        text-align: right;\n    }\n</style>\n<table border=\"1\" class=\"dataframe\">\n  <thead>\n    <tr style=\"text-align: right;\">\n      <th></th>\n      <th>Features</th>\n      <th>Importance</th>\n    </tr>\n  </thead>\n  <tbody>\n    <tr>\n      <th>0</th>\n      <td>EXT_SOURCE_2</td>\n      <td>0.067218</td>\n    </tr>\n    <tr>\n      <th>1</th>\n      <td>EXT_SOURCE_3</td>\n      <td>0.065138</td>\n    </tr>\n    <tr>\n      <th>2</th>\n      <td>DAYS_BIRTH</td>\n      <td>0.029492</td>\n    </tr>\n    <tr>\n      <th>3</th>\n      <td>EXT_SOURCE_1</td>\n      <td>0.026681</td>\n    </tr>\n    <tr>\n      <th>4</th>\n      <td>DAYS_EMPLOYED</td>\n      <td>0.026094</td>\n    </tr>\n    <tr>\n      <th>5</th>\n      <td>DAYS_LAST_PHONE_CHANGE</td>\n      <td>0.024322</td>\n    </tr>\n    <tr>\n      <th>6</th>\n      <td>DAYS_ID_PUBLISH</td>\n      <td>0.023219</td>\n    </tr>\n    <tr>\n      <th>7</th>\n      <td>DIF_DAYS_INSTALMENT_sum</td>\n      <td>0.022584</td>\n    </tr>\n    <tr>\n      <th>8</th>\n      <td>AMT_ANNUITY</td>\n      <td>0.021874</td>\n    </tr>\n    <tr>\n      <th>9</th>\n      <td>AMT_CREDIT</td>\n      <td>0.021842</td>\n    </tr>\n    <tr>\n      <th>10</th>\n      <td>DAYS_REGISTRATION</td>\n      <td>0.021642</td>\n    </tr>\n    <tr>\n      <th>11</th>\n      <td>DIF_AMT_CREDIT_min</td>\n      <td>0.021444</td>\n    </tr>\n    <tr>\n      <th>12</th>\n      <td>DIF_DAYS_INSTALMENT_mean</td>\n      <td>0.020842</td>\n    </tr>\n    <tr>\n      <th>13</th>\n      <td>AMT_GOODS_PRICE</td>\n      <td>0.020345</td>\n    </tr>\n    <tr>\n      <th>14</th>\n      <td>DIF_AMT_CREDIT_sum</td>\n      <td>0.019724</td>\n    </tr>\n    <tr>\n      <th>15</th>\n      <td>DIF_DAYS_INSTALMENT_max</td>\n      <td>0.019482</td>\n    </tr>\n    <tr>\n      <th>16</th>\n      <td>DIF_AMT_CREDIT_mean</td>\n      <td>0.019417</td>\n    </tr>\n    <tr>\n      <th>17</th>\n      <td>REGION_POPULATION_RELATIVE</td>\n      <td>0.017342</td>\n    </tr>\n    <tr>\n      <th>18</th>\n      <td>DIF_AMT_CREDIT_max</td>\n      <td>0.016988</td>\n    </tr>\n    <tr>\n      <th>19</th>\n      <td>AVG_DIF_AMT_PAYMENT</td>\n      <td>0.016914</td>\n    </tr>\n  </tbody>\n</table>\n</div>"
     },
     "metadata": {},
     "execution_count": 289
    }
   ],
   "source": [
    "varimp_pd_plot = varimp_pd.iloc[:20,:]\n",
    "varimp_pd_plot"
   ]
  },
  {
   "cell_type": "code",
   "execution_count": 290,
   "metadata": {},
   "outputs": [
    {
     "output_type": "display_data",
     "data": {
      "text/plain": "<Figure size 432x288 with 1 Axes>",
      "image/svg+xml": "<?xml version=\"1.0\" encoding=\"utf-8\" standalone=\"no\"?>\n<!DOCTYPE svg PUBLIC \"-//W3C//DTD SVG 1.1//EN\"\n  \"http://www.w3.org/Graphics/SVG/1.1/DTD/svg11.dtd\">\n<!-- Created with matplotlib (https://matplotlib.org/) -->\n<svg height=\"262.19625pt\" version=\"1.1\" viewBox=\"0 0 539.538661 262.19625\" width=\"539.538661pt\" xmlns=\"http://www.w3.org/2000/svg\" xmlns:xlink=\"http://www.w3.org/1999/xlink\">\n <defs>\n  <style type=\"text/css\">\n*{stroke-linecap:butt;stroke-linejoin:round;}\n  </style>\n </defs>\n <g id=\"figure_1\">\n  <g id=\"patch_1\">\n   <path d=\"M 0 262.19625 \nL 539.538661 262.19625 \nL 539.538661 0 \nL 0 0 \nz\n\" style=\"fill:none;\"/>\n  </g>\n  <g id=\"axes_1\">\n   <g id=\"patch_2\">\n    <path d=\"M 189.151563 224.64 \nL 523.951562 224.64 \nL 523.951562 7.2 \nL 189.151563 7.2 \nz\n\" style=\"fill:#ffffff;\"/>\n   </g>\n   <g id=\"patch_3\">\n    <path clip-path=\"url(#p27c4e1f365)\" d=\"M 189.151563 8.2872 \nL 508.008705 8.2872 \nL 508.008705 16.9848 \nL 189.151563 16.9848 \nz\n\" style=\"fill:#a9d1a7;\"/>\n   </g>\n   <g id=\"patch_4\">\n    <path clip-path=\"url(#p27c4e1f365)\" d=\"M 189.151563 19.1592 \nL 498.140759 19.1592 \nL 498.140759 27.8568 \nL 189.151563 27.8568 \nz\n\" style=\"fill:#9fcb9f;\"/>\n   </g>\n   <g id=\"patch_5\">\n    <path clip-path=\"url(#p27c4e1f365)\" d=\"M 189.151563 30.0312 \nL 329.051742 30.0312 \nL 329.051742 38.7288 \nL 189.151563 38.7288 \nz\n\" style=\"fill:#94c597;\"/>\n   </g>\n   <g id=\"patch_6\">\n    <path clip-path=\"url(#p27c4e1f365)\" d=\"M 189.151563 40.9032 \nL 315.717599 40.9032 \nL 315.717599 49.6008 \nL 189.151563 49.6008 \nz\n\" style=\"fill:#8abe8f;\"/>\n   </g>\n   <g id=\"patch_7\">\n    <path clip-path=\"url(#p27c4e1f365)\" d=\"M 189.151563 51.7752 \nL 312.930887 51.7752 \nL 312.930887 60.4728 \nL 189.151563 60.4728 \nz\n\" style=\"fill:#7fb887;\"/>\n   </g>\n   <g id=\"patch_8\">\n    <path clip-path=\"url(#p27c4e1f365)\" d=\"M 189.151563 62.6472 \nL 304.526151 62.6472 \nL 304.526151 71.3448 \nL 189.151563 71.3448 \nz\n\" style=\"fill:#74b17f;\"/>\n   </g>\n   <g id=\"patch_9\">\n    <path clip-path=\"url(#p27c4e1f365)\" d=\"M 189.151563 73.5192 \nL 299.292081 73.5192 \nL 299.292081 82.2168 \nL 189.151563 82.2168 \nz\n\" style=\"fill:#69aa77;\"/>\n   </g>\n   <g id=\"patch_10\">\n    <path clip-path=\"url(#p27c4e1f365)\" d=\"M 189.151563 84.3912 \nL 296.283819 84.3912 \nL 296.283819 93.0888 \nL 189.151563 93.0888 \nz\n\" style=\"fill:#5fa46f;\"/>\n   </g>\n   <g id=\"patch_11\">\n    <path clip-path=\"url(#p27c4e1f365)\" d=\"M 189.151563 95.2632 \nL 292.91433 95.2632 \nL 292.91433 103.9608 \nL 189.151563 103.9608 \nz\n\" style=\"fill:#549d67;\"/>\n   </g>\n   <g id=\"patch_12\">\n    <path clip-path=\"url(#p27c4e1f365)\" d=\"M 189.151563 106.1352 \nL 292.763396 106.1352 \nL 292.763396 114.8328 \nL 189.151563 114.8328 \nz\n\" style=\"fill:#4a975f;\"/>\n   </g>\n   <g id=\"patch_13\">\n    <path clip-path=\"url(#p27c4e1f365)\" d=\"M 189.151563 117.0072 \nL 291.81333 117.0072 \nL 291.81333 125.7048 \nL 189.151563 125.7048 \nz\n\" style=\"fill:#438e59;\"/>\n   </g>\n   <g id=\"patch_14\">\n    <path clip-path=\"url(#p27c4e1f365)\" d=\"M 189.151563 127.8792 \nL 290.874568 127.8792 \nL 290.874568 136.5768 \nL 189.151563 136.5768 \nz\n\" style=\"fill:#428555;\"/>\n   </g>\n   <g id=\"patch_15\">\n    <path clip-path=\"url(#p27c4e1f365)\" d=\"M 189.151563 138.7512 \nL 288.018784 138.7512 \nL 288.018784 147.4488 \nL 189.151563 147.4488 \nz\n\" style=\"fill:#407c51;\"/>\n   </g>\n   <g id=\"patch_16\">\n    <path clip-path=\"url(#p27c4e1f365)\" d=\"M 189.151563 149.6232 \nL 285.659425 149.6232 \nL 285.659425 158.3208 \nL 189.151563 158.3208 \nz\n\" style=\"fill:#3e734d;\"/>\n   </g>\n   <g id=\"patch_17\">\n    <path clip-path=\"url(#p27c4e1f365)\" d=\"M 189.151563 160.4952 \nL 282.715316 160.4952 \nL 282.715316 169.1928 \nL 189.151563 169.1928 \nz\n\" style=\"fill:#3d6a4a;\"/>\n   </g>\n   <g id=\"patch_18\">\n    <path clip-path=\"url(#p27c4e1f365)\" d=\"M 189.151563 171.3672 \nL 281.56888 171.3672 \nL 281.56888 180.0648 \nL 189.151563 180.0648 \nz\n\" style=\"fill:#3b6046;\"/>\n   </g>\n   <g id=\"patch_19\">\n    <path clip-path=\"url(#p27c4e1f365)\" d=\"M 189.151563 182.2392 \nL 281.256787 182.2392 \nL 281.256787 190.9368 \nL 189.151563 190.9368 \nz\n\" style=\"fill:#395742;\"/>\n   </g>\n   <g id=\"patch_20\">\n    <path clip-path=\"url(#p27c4e1f365)\" d=\"M 189.151563 193.1112 \nL 271.415576 193.1112 \nL 271.415576 201.8088 \nL 189.151563 201.8088 \nz\n\" style=\"fill:#384e3e;\"/>\n   </g>\n   <g id=\"patch_21\">\n    <path clip-path=\"url(#p27c4e1f365)\" d=\"M 189.151563 203.9832 \nL 269.737687 203.9832 \nL 269.737687 212.6808 \nL 189.151563 212.6808 \nz\n\" style=\"fill:#36453a;\"/>\n   </g>\n   <g id=\"patch_22\">\n    <path clip-path=\"url(#p27c4e1f365)\" d=\"M 189.151563 214.8552 \nL 269.386591 214.8552 \nL 269.386591 223.5528 \nL 189.151563 223.5528 \nz\n\" style=\"fill:#353c37;\"/>\n   </g>\n   <g id=\"matplotlib.axis_1\">\n    <g id=\"xtick_1\">\n     <g id=\"line2d_1\">\n      <defs>\n       <path d=\"M 0 0 \nL 0 3.5 \n\" id=\"m19a08078d1\" style=\"stroke:#000000;stroke-width:0.8;\"/>\n      </defs>\n      <g>\n       <use style=\"stroke:#000000;stroke-width:0.8;\" x=\"189.151563\" xlink:href=\"#m19a08078d1\" y=\"224.64\"/>\n      </g>\n     </g>\n     <g id=\"text_1\">\n      <!-- 0.00 -->\n      <defs>\n       <path d=\"M 31.78125 66.40625 \nQ 24.171875 66.40625 20.328125 58.90625 \nQ 16.5 51.421875 16.5 36.375 \nQ 16.5 21.390625 20.328125 13.890625 \nQ 24.171875 6.390625 31.78125 6.390625 \nQ 39.453125 6.390625 43.28125 13.890625 \nQ 47.125 21.390625 47.125 36.375 \nQ 47.125 51.421875 43.28125 58.90625 \nQ 39.453125 66.40625 31.78125 66.40625 \nz\nM 31.78125 74.21875 \nQ 44.046875 74.21875 50.515625 64.515625 \nQ 56.984375 54.828125 56.984375 36.375 \nQ 56.984375 17.96875 50.515625 8.265625 \nQ 44.046875 -1.421875 31.78125 -1.421875 \nQ 19.53125 -1.421875 13.0625 8.265625 \nQ 6.59375 17.96875 6.59375 36.375 \nQ 6.59375 54.828125 13.0625 64.515625 \nQ 19.53125 74.21875 31.78125 74.21875 \nz\n\" id=\"DejaVuSans-48\"/>\n       <path d=\"M 10.6875 12.40625 \nL 21 12.40625 \nL 21 0 \nL 10.6875 0 \nz\n\" id=\"DejaVuSans-46\"/>\n      </defs>\n      <g transform=\"translate(178.01875 239.238438)scale(0.1 -0.1)\">\n       <use xlink:href=\"#DejaVuSans-48\"/>\n       <use x=\"63.623047\" xlink:href=\"#DejaVuSans-46\"/>\n       <use x=\"95.410156\" xlink:href=\"#DejaVuSans-48\"/>\n       <use x=\"159.033203\" xlink:href=\"#DejaVuSans-48\"/>\n      </g>\n     </g>\n    </g>\n    <g id=\"xtick_2\">\n     <g id=\"line2d_2\">\n      <g>\n       <use style=\"stroke:#000000;stroke-width:0.8;\" x=\"236.587889\" xlink:href=\"#m19a08078d1\" y=\"224.64\"/>\n      </g>\n     </g>\n     <g id=\"text_2\">\n      <!-- 0.01 -->\n      <defs>\n       <path d=\"M 12.40625 8.296875 \nL 28.515625 8.296875 \nL 28.515625 63.921875 \nL 10.984375 60.40625 \nL 10.984375 69.390625 \nL 28.421875 72.90625 \nL 38.28125 72.90625 \nL 38.28125 8.296875 \nL 54.390625 8.296875 \nL 54.390625 0 \nL 12.40625 0 \nz\n\" id=\"DejaVuSans-49\"/>\n      </defs>\n      <g transform=\"translate(225.455077 239.238438)scale(0.1 -0.1)\">\n       <use xlink:href=\"#DejaVuSans-48\"/>\n       <use x=\"63.623047\" xlink:href=\"#DejaVuSans-46\"/>\n       <use x=\"95.410156\" xlink:href=\"#DejaVuSans-48\"/>\n       <use x=\"159.033203\" xlink:href=\"#DejaVuSans-49\"/>\n      </g>\n     </g>\n    </g>\n    <g id=\"xtick_3\">\n     <g id=\"line2d_3\">\n      <g>\n       <use style=\"stroke:#000000;stroke-width:0.8;\" x=\"284.024216\" xlink:href=\"#m19a08078d1\" y=\"224.64\"/>\n      </g>\n     </g>\n     <g id=\"text_3\">\n      <!-- 0.02 -->\n      <defs>\n       <path d=\"M 19.1875 8.296875 \nL 53.609375 8.296875 \nL 53.609375 0 \nL 7.328125 0 \nL 7.328125 8.296875 \nQ 12.9375 14.109375 22.625 23.890625 \nQ 32.328125 33.6875 34.8125 36.53125 \nQ 39.546875 41.84375 41.421875 45.53125 \nQ 43.3125 49.21875 43.3125 52.78125 \nQ 43.3125 58.59375 39.234375 62.25 \nQ 35.15625 65.921875 28.609375 65.921875 \nQ 23.96875 65.921875 18.8125 64.3125 \nQ 13.671875 62.703125 7.8125 59.421875 \nL 7.8125 69.390625 \nQ 13.765625 71.78125 18.9375 73 \nQ 24.125 74.21875 28.421875 74.21875 \nQ 39.75 74.21875 46.484375 68.546875 \nQ 53.21875 62.890625 53.21875 53.421875 \nQ 53.21875 48.921875 51.53125 44.890625 \nQ 49.859375 40.875 45.40625 35.40625 \nQ 44.1875 33.984375 37.640625 27.21875 \nQ 31.109375 20.453125 19.1875 8.296875 \nz\n\" id=\"DejaVuSans-50\"/>\n      </defs>\n      <g transform=\"translate(272.891403 239.238438)scale(0.1 -0.1)\">\n       <use xlink:href=\"#DejaVuSans-48\"/>\n       <use x=\"63.623047\" xlink:href=\"#DejaVuSans-46\"/>\n       <use x=\"95.410156\" xlink:href=\"#DejaVuSans-48\"/>\n       <use x=\"159.033203\" xlink:href=\"#DejaVuSans-50\"/>\n      </g>\n     </g>\n    </g>\n    <g id=\"xtick_4\">\n     <g id=\"line2d_4\">\n      <g>\n       <use style=\"stroke:#000000;stroke-width:0.8;\" x=\"331.460542\" xlink:href=\"#m19a08078d1\" y=\"224.64\"/>\n      </g>\n     </g>\n     <g id=\"text_4\">\n      <!-- 0.03 -->\n      <defs>\n       <path d=\"M 40.578125 39.3125 \nQ 47.65625 37.796875 51.625 33 \nQ 55.609375 28.21875 55.609375 21.1875 \nQ 55.609375 10.40625 48.1875 4.484375 \nQ 40.765625 -1.421875 27.09375 -1.421875 \nQ 22.515625 -1.421875 17.65625 -0.515625 \nQ 12.796875 0.390625 7.625 2.203125 \nL 7.625 11.71875 \nQ 11.71875 9.328125 16.59375 8.109375 \nQ 21.484375 6.890625 26.8125 6.890625 \nQ 36.078125 6.890625 40.9375 10.546875 \nQ 45.796875 14.203125 45.796875 21.1875 \nQ 45.796875 27.640625 41.28125 31.265625 \nQ 36.765625 34.90625 28.71875 34.90625 \nL 20.21875 34.90625 \nL 20.21875 43.015625 \nL 29.109375 43.015625 \nQ 36.375 43.015625 40.234375 45.921875 \nQ 44.09375 48.828125 44.09375 54.296875 \nQ 44.09375 59.90625 40.109375 62.90625 \nQ 36.140625 65.921875 28.71875 65.921875 \nQ 24.65625 65.921875 20.015625 65.03125 \nQ 15.375 64.15625 9.8125 62.3125 \nL 9.8125 71.09375 \nQ 15.4375 72.65625 20.34375 73.4375 \nQ 25.25 74.21875 29.59375 74.21875 \nQ 40.828125 74.21875 47.359375 69.109375 \nQ 53.90625 64.015625 53.90625 55.328125 \nQ 53.90625 49.265625 50.4375 45.09375 \nQ 46.96875 40.921875 40.578125 39.3125 \nz\n\" id=\"DejaVuSans-51\"/>\n      </defs>\n      <g transform=\"translate(320.32773 239.238438)scale(0.1 -0.1)\">\n       <use xlink:href=\"#DejaVuSans-48\"/>\n       <use x=\"63.623047\" xlink:href=\"#DejaVuSans-46\"/>\n       <use x=\"95.410156\" xlink:href=\"#DejaVuSans-48\"/>\n       <use x=\"159.033203\" xlink:href=\"#DejaVuSans-51\"/>\n      </g>\n     </g>\n    </g>\n    <g id=\"xtick_5\">\n     <g id=\"line2d_5\">\n      <g>\n       <use style=\"stroke:#000000;stroke-width:0.8;\" x=\"378.896869\" xlink:href=\"#m19a08078d1\" y=\"224.64\"/>\n      </g>\n     </g>\n     <g id=\"text_5\">\n      <!-- 0.04 -->\n      <defs>\n       <path d=\"M 37.796875 64.3125 \nL 12.890625 25.390625 \nL 37.796875 25.390625 \nz\nM 35.203125 72.90625 \nL 47.609375 72.90625 \nL 47.609375 25.390625 \nL 58.015625 25.390625 \nL 58.015625 17.1875 \nL 47.609375 17.1875 \nL 47.609375 0 \nL 37.796875 0 \nL 37.796875 17.1875 \nL 4.890625 17.1875 \nL 4.890625 26.703125 \nz\n\" id=\"DejaVuSans-52\"/>\n      </defs>\n      <g transform=\"translate(367.764056 239.238438)scale(0.1 -0.1)\">\n       <use xlink:href=\"#DejaVuSans-48\"/>\n       <use x=\"63.623047\" xlink:href=\"#DejaVuSans-46\"/>\n       <use x=\"95.410156\" xlink:href=\"#DejaVuSans-48\"/>\n       <use x=\"159.033203\" xlink:href=\"#DejaVuSans-52\"/>\n      </g>\n     </g>\n    </g>\n    <g id=\"xtick_6\">\n     <g id=\"line2d_6\">\n      <g>\n       <use style=\"stroke:#000000;stroke-width:0.8;\" x=\"426.333196\" xlink:href=\"#m19a08078d1\" y=\"224.64\"/>\n      </g>\n     </g>\n     <g id=\"text_6\">\n      <!-- 0.05 -->\n      <defs>\n       <path d=\"M 10.796875 72.90625 \nL 49.515625 72.90625 \nL 49.515625 64.59375 \nL 19.828125 64.59375 \nL 19.828125 46.734375 \nQ 21.96875 47.46875 24.109375 47.828125 \nQ 26.265625 48.1875 28.421875 48.1875 \nQ 40.625 48.1875 47.75 41.5 \nQ 54.890625 34.8125 54.890625 23.390625 \nQ 54.890625 11.625 47.5625 5.09375 \nQ 40.234375 -1.421875 26.90625 -1.421875 \nQ 22.3125 -1.421875 17.546875 -0.640625 \nQ 12.796875 0.140625 7.71875 1.703125 \nL 7.71875 11.625 \nQ 12.109375 9.234375 16.796875 8.0625 \nQ 21.484375 6.890625 26.703125 6.890625 \nQ 35.15625 6.890625 40.078125 11.328125 \nQ 45.015625 15.765625 45.015625 23.390625 \nQ 45.015625 31 40.078125 35.4375 \nQ 35.15625 39.890625 26.703125 39.890625 \nQ 22.75 39.890625 18.8125 39.015625 \nQ 14.890625 38.140625 10.796875 36.28125 \nz\n\" id=\"DejaVuSans-53\"/>\n      </defs>\n      <g transform=\"translate(415.200383 239.238438)scale(0.1 -0.1)\">\n       <use xlink:href=\"#DejaVuSans-48\"/>\n       <use x=\"63.623047\" xlink:href=\"#DejaVuSans-46\"/>\n       <use x=\"95.410156\" xlink:href=\"#DejaVuSans-48\"/>\n       <use x=\"159.033203\" xlink:href=\"#DejaVuSans-53\"/>\n      </g>\n     </g>\n    </g>\n    <g id=\"xtick_7\">\n     <g id=\"line2d_7\">\n      <g>\n       <use style=\"stroke:#000000;stroke-width:0.8;\" x=\"473.769522\" xlink:href=\"#m19a08078d1\" y=\"224.64\"/>\n      </g>\n     </g>\n     <g id=\"text_7\">\n      <!-- 0.06 -->\n      <defs>\n       <path d=\"M 33.015625 40.375 \nQ 26.375 40.375 22.484375 35.828125 \nQ 18.609375 31.296875 18.609375 23.390625 \nQ 18.609375 15.53125 22.484375 10.953125 \nQ 26.375 6.390625 33.015625 6.390625 \nQ 39.65625 6.390625 43.53125 10.953125 \nQ 47.40625 15.53125 47.40625 23.390625 \nQ 47.40625 31.296875 43.53125 35.828125 \nQ 39.65625 40.375 33.015625 40.375 \nz\nM 52.59375 71.296875 \nL 52.59375 62.3125 \nQ 48.875 64.0625 45.09375 64.984375 \nQ 41.3125 65.921875 37.59375 65.921875 \nQ 27.828125 65.921875 22.671875 59.328125 \nQ 17.53125 52.734375 16.796875 39.40625 \nQ 19.671875 43.65625 24.015625 45.921875 \nQ 28.375 48.1875 33.59375 48.1875 \nQ 44.578125 48.1875 50.953125 41.515625 \nQ 57.328125 34.859375 57.328125 23.390625 \nQ 57.328125 12.15625 50.6875 5.359375 \nQ 44.046875 -1.421875 33.015625 -1.421875 \nQ 20.359375 -1.421875 13.671875 8.265625 \nQ 6.984375 17.96875 6.984375 36.375 \nQ 6.984375 53.65625 15.1875 63.9375 \nQ 23.390625 74.21875 37.203125 74.21875 \nQ 40.921875 74.21875 44.703125 73.484375 \nQ 48.484375 72.75 52.59375 71.296875 \nz\n\" id=\"DejaVuSans-54\"/>\n      </defs>\n      <g transform=\"translate(462.63671 239.238438)scale(0.1 -0.1)\">\n       <use xlink:href=\"#DejaVuSans-48\"/>\n       <use x=\"63.623047\" xlink:href=\"#DejaVuSans-46\"/>\n       <use x=\"95.410156\" xlink:href=\"#DejaVuSans-48\"/>\n       <use x=\"159.033203\" xlink:href=\"#DejaVuSans-54\"/>\n      </g>\n     </g>\n    </g>\n    <g id=\"xtick_8\">\n     <g id=\"line2d_8\">\n      <g>\n       <use style=\"stroke:#000000;stroke-width:0.8;\" x=\"521.205849\" xlink:href=\"#m19a08078d1\" y=\"224.64\"/>\n      </g>\n     </g>\n     <g id=\"text_8\">\n      <!-- 0.07 -->\n      <defs>\n       <path d=\"M 8.203125 72.90625 \nL 55.078125 72.90625 \nL 55.078125 68.703125 \nL 28.609375 0 \nL 18.3125 0 \nL 43.21875 64.59375 \nL 8.203125 64.59375 \nz\n\" id=\"DejaVuSans-55\"/>\n      </defs>\n      <g transform=\"translate(510.073036 239.238438)scale(0.1 -0.1)\">\n       <use xlink:href=\"#DejaVuSans-48\"/>\n       <use x=\"63.623047\" xlink:href=\"#DejaVuSans-46\"/>\n       <use x=\"95.410156\" xlink:href=\"#DejaVuSans-48\"/>\n       <use x=\"159.033203\" xlink:href=\"#DejaVuSans-55\"/>\n      </g>\n     </g>\n    </g>\n    <g id=\"text_9\">\n     <!-- Importance -->\n     <defs>\n      <path d=\"M 9.8125 72.90625 \nL 19.671875 72.90625 \nL 19.671875 0 \nL 9.8125 0 \nz\n\" id=\"DejaVuSans-73\"/>\n      <path d=\"M 52 44.1875 \nQ 55.375 50.25 60.0625 53.125 \nQ 64.75 56 71.09375 56 \nQ 79.640625 56 84.28125 50.015625 \nQ 88.921875 44.046875 88.921875 33.015625 \nL 88.921875 0 \nL 79.890625 0 \nL 79.890625 32.71875 \nQ 79.890625 40.578125 77.09375 44.375 \nQ 74.3125 48.1875 68.609375 48.1875 \nQ 61.625 48.1875 57.5625 43.546875 \nQ 53.515625 38.921875 53.515625 30.90625 \nL 53.515625 0 \nL 44.484375 0 \nL 44.484375 32.71875 \nQ 44.484375 40.625 41.703125 44.40625 \nQ 38.921875 48.1875 33.109375 48.1875 \nQ 26.21875 48.1875 22.15625 43.53125 \nQ 18.109375 38.875 18.109375 30.90625 \nL 18.109375 0 \nL 9.078125 0 \nL 9.078125 54.6875 \nL 18.109375 54.6875 \nL 18.109375 46.1875 \nQ 21.1875 51.21875 25.484375 53.609375 \nQ 29.78125 56 35.6875 56 \nQ 41.65625 56 45.828125 52.96875 \nQ 50 49.953125 52 44.1875 \nz\n\" id=\"DejaVuSans-109\"/>\n      <path d=\"M 18.109375 8.203125 \nL 18.109375 -20.796875 \nL 9.078125 -20.796875 \nL 9.078125 54.6875 \nL 18.109375 54.6875 \nL 18.109375 46.390625 \nQ 20.953125 51.265625 25.265625 53.625 \nQ 29.59375 56 35.59375 56 \nQ 45.5625 56 51.78125 48.09375 \nQ 58.015625 40.1875 58.015625 27.296875 \nQ 58.015625 14.40625 51.78125 6.484375 \nQ 45.5625 -1.421875 35.59375 -1.421875 \nQ 29.59375 -1.421875 25.265625 0.953125 \nQ 20.953125 3.328125 18.109375 8.203125 \nz\nM 48.6875 27.296875 \nQ 48.6875 37.203125 44.609375 42.84375 \nQ 40.53125 48.484375 33.40625 48.484375 \nQ 26.265625 48.484375 22.1875 42.84375 \nQ 18.109375 37.203125 18.109375 27.296875 \nQ 18.109375 17.390625 22.1875 11.75 \nQ 26.265625 6.109375 33.40625 6.109375 \nQ 40.53125 6.109375 44.609375 11.75 \nQ 48.6875 17.390625 48.6875 27.296875 \nz\n\" id=\"DejaVuSans-112\"/>\n      <path d=\"M 30.609375 48.390625 \nQ 23.390625 48.390625 19.1875 42.75 \nQ 14.984375 37.109375 14.984375 27.296875 \nQ 14.984375 17.484375 19.15625 11.84375 \nQ 23.34375 6.203125 30.609375 6.203125 \nQ 37.796875 6.203125 41.984375 11.859375 \nQ 46.1875 17.53125 46.1875 27.296875 \nQ 46.1875 37.015625 41.984375 42.703125 \nQ 37.796875 48.390625 30.609375 48.390625 \nz\nM 30.609375 56 \nQ 42.328125 56 49.015625 48.375 \nQ 55.71875 40.765625 55.71875 27.296875 \nQ 55.71875 13.875 49.015625 6.21875 \nQ 42.328125 -1.421875 30.609375 -1.421875 \nQ 18.84375 -1.421875 12.171875 6.21875 \nQ 5.515625 13.875 5.515625 27.296875 \nQ 5.515625 40.765625 12.171875 48.375 \nQ 18.84375 56 30.609375 56 \nz\n\" id=\"DejaVuSans-111\"/>\n      <path d=\"M 41.109375 46.296875 \nQ 39.59375 47.171875 37.8125 47.578125 \nQ 36.03125 48 33.890625 48 \nQ 26.265625 48 22.1875 43.046875 \nQ 18.109375 38.09375 18.109375 28.8125 \nL 18.109375 0 \nL 9.078125 0 \nL 9.078125 54.6875 \nL 18.109375 54.6875 \nL 18.109375 46.1875 \nQ 20.953125 51.171875 25.484375 53.578125 \nQ 30.03125 56 36.53125 56 \nQ 37.453125 56 38.578125 55.875 \nQ 39.703125 55.765625 41.0625 55.515625 \nz\n\" id=\"DejaVuSans-114\"/>\n      <path d=\"M 18.3125 70.21875 \nL 18.3125 54.6875 \nL 36.8125 54.6875 \nL 36.8125 47.703125 \nL 18.3125 47.703125 \nL 18.3125 18.015625 \nQ 18.3125 11.328125 20.140625 9.421875 \nQ 21.96875 7.515625 27.59375 7.515625 \nL 36.8125 7.515625 \nL 36.8125 0 \nL 27.59375 0 \nQ 17.1875 0 13.234375 3.875 \nQ 9.28125 7.765625 9.28125 18.015625 \nL 9.28125 47.703125 \nL 2.6875 47.703125 \nL 2.6875 54.6875 \nL 9.28125 54.6875 \nL 9.28125 70.21875 \nz\n\" id=\"DejaVuSans-116\"/>\n      <path d=\"M 34.28125 27.484375 \nQ 23.390625 27.484375 19.1875 25 \nQ 14.984375 22.515625 14.984375 16.5 \nQ 14.984375 11.71875 18.140625 8.90625 \nQ 21.296875 6.109375 26.703125 6.109375 \nQ 34.1875 6.109375 38.703125 11.40625 \nQ 43.21875 16.703125 43.21875 25.484375 \nL 43.21875 27.484375 \nz\nM 52.203125 31.203125 \nL 52.203125 0 \nL 43.21875 0 \nL 43.21875 8.296875 \nQ 40.140625 3.328125 35.546875 0.953125 \nQ 30.953125 -1.421875 24.3125 -1.421875 \nQ 15.921875 -1.421875 10.953125 3.296875 \nQ 6 8.015625 6 15.921875 \nQ 6 25.140625 12.171875 29.828125 \nQ 18.359375 34.515625 30.609375 34.515625 \nL 43.21875 34.515625 \nL 43.21875 35.40625 \nQ 43.21875 41.609375 39.140625 45 \nQ 35.0625 48.390625 27.6875 48.390625 \nQ 23 48.390625 18.546875 47.265625 \nQ 14.109375 46.140625 10.015625 43.890625 \nL 10.015625 52.203125 \nQ 14.9375 54.109375 19.578125 55.046875 \nQ 24.21875 56 28.609375 56 \nQ 40.484375 56 46.34375 49.84375 \nQ 52.203125 43.703125 52.203125 31.203125 \nz\n\" id=\"DejaVuSans-97\"/>\n      <path d=\"M 54.890625 33.015625 \nL 54.890625 0 \nL 45.90625 0 \nL 45.90625 32.71875 \nQ 45.90625 40.484375 42.875 44.328125 \nQ 39.84375 48.1875 33.796875 48.1875 \nQ 26.515625 48.1875 22.3125 43.546875 \nQ 18.109375 38.921875 18.109375 30.90625 \nL 18.109375 0 \nL 9.078125 0 \nL 9.078125 54.6875 \nL 18.109375 54.6875 \nL 18.109375 46.1875 \nQ 21.34375 51.125 25.703125 53.5625 \nQ 30.078125 56 35.796875 56 \nQ 45.21875 56 50.046875 50.171875 \nQ 54.890625 44.34375 54.890625 33.015625 \nz\n\" id=\"DejaVuSans-110\"/>\n      <path d=\"M 48.78125 52.59375 \nL 48.78125 44.1875 \nQ 44.96875 46.296875 41.140625 47.34375 \nQ 37.3125 48.390625 33.40625 48.390625 \nQ 24.65625 48.390625 19.8125 42.84375 \nQ 14.984375 37.3125 14.984375 27.296875 \nQ 14.984375 17.28125 19.8125 11.734375 \nQ 24.65625 6.203125 33.40625 6.203125 \nQ 37.3125 6.203125 41.140625 7.25 \nQ 44.96875 8.296875 48.78125 10.40625 \nL 48.78125 2.09375 \nQ 45.015625 0.34375 40.984375 -0.53125 \nQ 36.96875 -1.421875 32.421875 -1.421875 \nQ 20.0625 -1.421875 12.78125 6.34375 \nQ 5.515625 14.109375 5.515625 27.296875 \nQ 5.515625 40.671875 12.859375 48.328125 \nQ 20.21875 56 33.015625 56 \nQ 37.15625 56 41.109375 55.140625 \nQ 45.0625 54.296875 48.78125 52.59375 \nz\n\" id=\"DejaVuSans-99\"/>\n      <path d=\"M 56.203125 29.59375 \nL 56.203125 25.203125 \nL 14.890625 25.203125 \nQ 15.484375 15.921875 20.484375 11.0625 \nQ 25.484375 6.203125 34.421875 6.203125 \nQ 39.59375 6.203125 44.453125 7.46875 \nQ 49.3125 8.734375 54.109375 11.28125 \nL 54.109375 2.78125 \nQ 49.265625 0.734375 44.1875 -0.34375 \nQ 39.109375 -1.421875 33.890625 -1.421875 \nQ 20.796875 -1.421875 13.15625 6.1875 \nQ 5.515625 13.8125 5.515625 26.8125 \nQ 5.515625 40.234375 12.765625 48.109375 \nQ 20.015625 56 32.328125 56 \nQ 43.359375 56 49.78125 48.890625 \nQ 56.203125 41.796875 56.203125 29.59375 \nz\nM 47.21875 32.234375 \nQ 47.125 39.59375 43.09375 43.984375 \nQ 39.0625 48.390625 32.421875 48.390625 \nQ 24.90625 48.390625 20.390625 44.140625 \nQ 15.875 39.890625 15.1875 32.171875 \nz\n\" id=\"DejaVuSans-101\"/>\n     </defs>\n     <g transform=\"translate(327.898437 252.916563)scale(0.1 -0.1)\">\n      <use xlink:href=\"#DejaVuSans-73\"/>\n      <use x=\"29.492188\" xlink:href=\"#DejaVuSans-109\"/>\n      <use x=\"126.904297\" xlink:href=\"#DejaVuSans-112\"/>\n      <use x=\"190.380859\" xlink:href=\"#DejaVuSans-111\"/>\n      <use x=\"251.5625\" xlink:href=\"#DejaVuSans-114\"/>\n      <use x=\"292.675781\" xlink:href=\"#DejaVuSans-116\"/>\n      <use x=\"331.884766\" xlink:href=\"#DejaVuSans-97\"/>\n      <use x=\"393.164062\" xlink:href=\"#DejaVuSans-110\"/>\n      <use x=\"456.542969\" xlink:href=\"#DejaVuSans-99\"/>\n      <use x=\"511.523438\" xlink:href=\"#DejaVuSans-101\"/>\n     </g>\n    </g>\n   </g>\n   <g id=\"matplotlib.axis_2\">\n    <g id=\"ytick_1\">\n     <g id=\"line2d_9\">\n      <defs>\n       <path d=\"M 0 0 \nL -3.5 0 \n\" id=\"m453c01442a\" style=\"stroke:#000000;stroke-width:0.8;\"/>\n      </defs>\n      <g>\n       <use style=\"stroke:#000000;stroke-width:0.8;\" x=\"189.151563\" xlink:href=\"#m453c01442a\" y=\"12.636\"/>\n      </g>\n     </g>\n     <g id=\"text_10\">\n      <!-- EXT_SOURCE_2 -->\n      <defs>\n       <path d=\"M 9.8125 72.90625 \nL 55.90625 72.90625 \nL 55.90625 64.59375 \nL 19.671875 64.59375 \nL 19.671875 43.015625 \nL 54.390625 43.015625 \nL 54.390625 34.71875 \nL 19.671875 34.71875 \nL 19.671875 8.296875 \nL 56.78125 8.296875 \nL 56.78125 0 \nL 9.8125 0 \nz\n\" id=\"DejaVuSans-69\"/>\n       <path d=\"M 6.296875 72.90625 \nL 16.890625 72.90625 \nL 35.015625 45.796875 \nL 53.21875 72.90625 \nL 63.8125 72.90625 \nL 40.375 37.890625 \nL 65.375 0 \nL 54.78125 0 \nL 34.28125 31 \nL 13.625 0 \nL 2.984375 0 \nL 29 38.921875 \nz\n\" id=\"DejaVuSans-88\"/>\n       <path d=\"M -0.296875 72.90625 \nL 61.375 72.90625 \nL 61.375 64.59375 \nL 35.5 64.59375 \nL 35.5 0 \nL 25.59375 0 \nL 25.59375 64.59375 \nL -0.296875 64.59375 \nz\n\" id=\"DejaVuSans-84\"/>\n       <path d=\"M 50.984375 -16.609375 \nL 50.984375 -23.578125 \nL -0.984375 -23.578125 \nL -0.984375 -16.609375 \nz\n\" id=\"DejaVuSans-95\"/>\n       <path d=\"M 53.515625 70.515625 \nL 53.515625 60.890625 \nQ 47.90625 63.578125 42.921875 64.890625 \nQ 37.9375 66.21875 33.296875 66.21875 \nQ 25.25 66.21875 20.875 63.09375 \nQ 16.5 59.96875 16.5 54.203125 \nQ 16.5 49.359375 19.40625 46.890625 \nQ 22.3125 44.4375 30.421875 42.921875 \nL 36.375 41.703125 \nQ 47.40625 39.59375 52.65625 34.296875 \nQ 57.90625 29 57.90625 20.125 \nQ 57.90625 9.515625 50.796875 4.046875 \nQ 43.703125 -1.421875 29.984375 -1.421875 \nQ 24.8125 -1.421875 18.96875 -0.25 \nQ 13.140625 0.921875 6.890625 3.21875 \nL 6.890625 13.375 \nQ 12.890625 10.015625 18.65625 8.296875 \nQ 24.421875 6.59375 29.984375 6.59375 \nQ 38.421875 6.59375 43.015625 9.90625 \nQ 47.609375 13.234375 47.609375 19.390625 \nQ 47.609375 24.75 44.3125 27.78125 \nQ 41.015625 30.8125 33.5 32.328125 \nL 27.484375 33.5 \nQ 16.453125 35.6875 11.515625 40.375 \nQ 6.59375 45.0625 6.59375 53.421875 \nQ 6.59375 63.09375 13.40625 68.65625 \nQ 20.21875 74.21875 32.171875 74.21875 \nQ 37.3125 74.21875 42.625 73.28125 \nQ 47.953125 72.359375 53.515625 70.515625 \nz\n\" id=\"DejaVuSans-83\"/>\n       <path d=\"M 39.40625 66.21875 \nQ 28.65625 66.21875 22.328125 58.203125 \nQ 16.015625 50.203125 16.015625 36.375 \nQ 16.015625 22.609375 22.328125 14.59375 \nQ 28.65625 6.59375 39.40625 6.59375 \nQ 50.140625 6.59375 56.421875 14.59375 \nQ 62.703125 22.609375 62.703125 36.375 \nQ 62.703125 50.203125 56.421875 58.203125 \nQ 50.140625 66.21875 39.40625 66.21875 \nz\nM 39.40625 74.21875 \nQ 54.734375 74.21875 63.90625 63.9375 \nQ 73.09375 53.65625 73.09375 36.375 \nQ 73.09375 19.140625 63.90625 8.859375 \nQ 54.734375 -1.421875 39.40625 -1.421875 \nQ 24.03125 -1.421875 14.8125 8.828125 \nQ 5.609375 19.09375 5.609375 36.375 \nQ 5.609375 53.65625 14.8125 63.9375 \nQ 24.03125 74.21875 39.40625 74.21875 \nz\n\" id=\"DejaVuSans-79\"/>\n       <path d=\"M 8.6875 72.90625 \nL 18.609375 72.90625 \nL 18.609375 28.609375 \nQ 18.609375 16.890625 22.84375 11.734375 \nQ 27.09375 6.59375 36.625 6.59375 \nQ 46.09375 6.59375 50.34375 11.734375 \nQ 54.59375 16.890625 54.59375 28.609375 \nL 54.59375 72.90625 \nL 64.5 72.90625 \nL 64.5 27.390625 \nQ 64.5 13.140625 57.4375 5.859375 \nQ 50.390625 -1.421875 36.625 -1.421875 \nQ 22.796875 -1.421875 15.734375 5.859375 \nQ 8.6875 13.140625 8.6875 27.390625 \nz\n\" id=\"DejaVuSans-85\"/>\n       <path d=\"M 44.390625 34.1875 \nQ 47.5625 33.109375 50.5625 29.59375 \nQ 53.5625 26.078125 56.59375 19.921875 \nL 66.609375 0 \nL 56 0 \nL 46.6875 18.703125 \nQ 43.0625 26.03125 39.671875 28.421875 \nQ 36.28125 30.8125 30.421875 30.8125 \nL 19.671875 30.8125 \nL 19.671875 0 \nL 9.8125 0 \nL 9.8125 72.90625 \nL 32.078125 72.90625 \nQ 44.578125 72.90625 50.734375 67.671875 \nQ 56.890625 62.453125 56.890625 51.90625 \nQ 56.890625 45.015625 53.6875 40.46875 \nQ 50.484375 35.9375 44.390625 34.1875 \nz\nM 19.671875 64.796875 \nL 19.671875 38.921875 \nL 32.078125 38.921875 \nQ 39.203125 38.921875 42.84375 42.21875 \nQ 46.484375 45.515625 46.484375 51.90625 \nQ 46.484375 58.296875 42.84375 61.546875 \nQ 39.203125 64.796875 32.078125 64.796875 \nz\n\" id=\"DejaVuSans-82\"/>\n       <path d=\"M 64.40625 67.28125 \nL 64.40625 56.890625 \nQ 59.421875 61.53125 53.78125 63.8125 \nQ 48.140625 66.109375 41.796875 66.109375 \nQ 29.296875 66.109375 22.65625 58.46875 \nQ 16.015625 50.828125 16.015625 36.375 \nQ 16.015625 21.96875 22.65625 14.328125 \nQ 29.296875 6.6875 41.796875 6.6875 \nQ 48.140625 6.6875 53.78125 8.984375 \nQ 59.421875 11.28125 64.40625 15.921875 \nL 64.40625 5.609375 \nQ 59.234375 2.09375 53.4375 0.328125 \nQ 47.65625 -1.421875 41.21875 -1.421875 \nQ 24.65625 -1.421875 15.125 8.703125 \nQ 5.609375 18.84375 5.609375 36.375 \nQ 5.609375 53.953125 15.125 64.078125 \nQ 24.65625 74.21875 41.21875 74.21875 \nQ 47.75 74.21875 53.53125 72.484375 \nQ 59.328125 70.75 64.40625 67.28125 \nz\n\" id=\"DejaVuSans-67\"/>\n      </defs>\n      <g transform=\"translate(104.732813 16.346937)scale(0.1 -0.1)\">\n       <use xlink:href=\"#DejaVuSans-69\"/>\n       <use x=\"63.183594\" xlink:href=\"#DejaVuSans-88\"/>\n       <use x=\"131.673828\" xlink:href=\"#DejaVuSans-84\"/>\n       <use x=\"192.757812\" xlink:href=\"#DejaVuSans-95\"/>\n       <use x=\"242.757812\" xlink:href=\"#DejaVuSans-83\"/>\n       <use x=\"306.234375\" xlink:href=\"#DejaVuSans-79\"/>\n       <use x=\"384.945312\" xlink:href=\"#DejaVuSans-85\"/>\n       <use x=\"458.138672\" xlink:href=\"#DejaVuSans-82\"/>\n       <use x=\"527.542969\" xlink:href=\"#DejaVuSans-67\"/>\n       <use x=\"597.367188\" xlink:href=\"#DejaVuSans-69\"/>\n       <use x=\"660.550781\" xlink:href=\"#DejaVuSans-95\"/>\n       <use x=\"710.550781\" xlink:href=\"#DejaVuSans-50\"/>\n      </g>\n     </g>\n    </g>\n    <g id=\"ytick_2\">\n     <g id=\"line2d_10\">\n      <g>\n       <use style=\"stroke:#000000;stroke-width:0.8;\" x=\"189.151563\" xlink:href=\"#m453c01442a\" y=\"23.508\"/>\n      </g>\n     </g>\n     <g id=\"text_11\">\n      <!-- EXT_SOURCE_3 -->\n      <g transform=\"translate(104.732813 27.218937)scale(0.1 -0.1)\">\n       <use xlink:href=\"#DejaVuSans-69\"/>\n       <use x=\"63.183594\" xlink:href=\"#DejaVuSans-88\"/>\n       <use x=\"131.673828\" xlink:href=\"#DejaVuSans-84\"/>\n       <use x=\"192.757812\" xlink:href=\"#DejaVuSans-95\"/>\n       <use x=\"242.757812\" xlink:href=\"#DejaVuSans-83\"/>\n       <use x=\"306.234375\" xlink:href=\"#DejaVuSans-79\"/>\n       <use x=\"384.945312\" xlink:href=\"#DejaVuSans-85\"/>\n       <use x=\"458.138672\" xlink:href=\"#DejaVuSans-82\"/>\n       <use x=\"527.542969\" xlink:href=\"#DejaVuSans-67\"/>\n       <use x=\"597.367188\" xlink:href=\"#DejaVuSans-69\"/>\n       <use x=\"660.550781\" xlink:href=\"#DejaVuSans-95\"/>\n       <use x=\"710.550781\" xlink:href=\"#DejaVuSans-51\"/>\n      </g>\n     </g>\n    </g>\n    <g id=\"ytick_3\">\n     <g id=\"line2d_11\">\n      <g>\n       <use style=\"stroke:#000000;stroke-width:0.8;\" x=\"189.151563\" xlink:href=\"#m453c01442a\" y=\"34.38\"/>\n      </g>\n     </g>\n     <g id=\"text_12\">\n      <!-- DAYS_BIRTH -->\n      <defs>\n       <path d=\"M 19.671875 64.796875 \nL 19.671875 8.109375 \nL 31.59375 8.109375 \nQ 46.6875 8.109375 53.6875 14.9375 \nQ 60.6875 21.78125 60.6875 36.53125 \nQ 60.6875 51.171875 53.6875 57.984375 \nQ 46.6875 64.796875 31.59375 64.796875 \nz\nM 9.8125 72.90625 \nL 30.078125 72.90625 \nQ 51.265625 72.90625 61.171875 64.09375 \nQ 71.09375 55.28125 71.09375 36.53125 \nQ 71.09375 17.671875 61.125 8.828125 \nQ 51.171875 0 30.078125 0 \nL 9.8125 0 \nz\n\" id=\"DejaVuSans-68\"/>\n       <path d=\"M 34.1875 63.1875 \nL 20.796875 26.90625 \nL 47.609375 26.90625 \nz\nM 28.609375 72.90625 \nL 39.796875 72.90625 \nL 67.578125 0 \nL 57.328125 0 \nL 50.6875 18.703125 \nL 17.828125 18.703125 \nL 11.1875 0 \nL 0.78125 0 \nz\n\" id=\"DejaVuSans-65\"/>\n       <path d=\"M -0.203125 72.90625 \nL 10.40625 72.90625 \nL 30.609375 42.921875 \nL 50.6875 72.90625 \nL 61.28125 72.90625 \nL 35.5 34.71875 \nL 35.5 0 \nL 25.59375 0 \nL 25.59375 34.71875 \nz\n\" id=\"DejaVuSans-89\"/>\n       <path d=\"M 19.671875 34.8125 \nL 19.671875 8.109375 \nL 35.5 8.109375 \nQ 43.453125 8.109375 47.28125 11.40625 \nQ 51.125 14.703125 51.125 21.484375 \nQ 51.125 28.328125 47.28125 31.5625 \nQ 43.453125 34.8125 35.5 34.8125 \nz\nM 19.671875 64.796875 \nL 19.671875 42.828125 \nL 34.28125 42.828125 \nQ 41.5 42.828125 45.03125 45.53125 \nQ 48.578125 48.25 48.578125 53.8125 \nQ 48.578125 59.328125 45.03125 62.0625 \nQ 41.5 64.796875 34.28125 64.796875 \nz\nM 9.8125 72.90625 \nL 35.015625 72.90625 \nQ 46.296875 72.90625 52.390625 68.21875 \nQ 58.5 63.53125 58.5 54.890625 \nQ 58.5 48.1875 55.375 44.234375 \nQ 52.25 40.28125 46.1875 39.3125 \nQ 53.46875 37.75 57.5 32.78125 \nQ 61.53125 27.828125 61.53125 20.40625 \nQ 61.53125 10.640625 54.890625 5.3125 \nQ 48.25 0 35.984375 0 \nL 9.8125 0 \nz\n\" id=\"DejaVuSans-66\"/>\n       <path d=\"M 9.8125 72.90625 \nL 19.671875 72.90625 \nL 19.671875 43.015625 \nL 55.515625 43.015625 \nL 55.515625 72.90625 \nL 65.375 72.90625 \nL 65.375 0 \nL 55.515625 0 \nL 55.515625 34.71875 \nL 19.671875 34.71875 \nL 19.671875 0 \nL 9.8125 0 \nz\n\" id=\"DejaVuSans-72\"/>\n      </defs>\n      <g transform=\"translate(119.790625 38.090937)scale(0.1 -0.1)\">\n       <use xlink:href=\"#DejaVuSans-68\"/>\n       <use x=\"76.986328\" xlink:href=\"#DejaVuSans-65\"/>\n       <use x=\"145.285156\" xlink:href=\"#DejaVuSans-89\"/>\n       <use x=\"206.369141\" xlink:href=\"#DejaVuSans-83\"/>\n       <use x=\"269.845703\" xlink:href=\"#DejaVuSans-95\"/>\n       <use x=\"319.845703\" xlink:href=\"#DejaVuSans-66\"/>\n       <use x=\"388.449219\" xlink:href=\"#DejaVuSans-73\"/>\n       <use x=\"417.941406\" xlink:href=\"#DejaVuSans-82\"/>\n       <use x=\"487.314453\" xlink:href=\"#DejaVuSans-84\"/>\n       <use x=\"548.398438\" xlink:href=\"#DejaVuSans-72\"/>\n      </g>\n     </g>\n    </g>\n    <g id=\"ytick_4\">\n     <g id=\"line2d_12\">\n      <g>\n       <use style=\"stroke:#000000;stroke-width:0.8;\" x=\"189.151563\" xlink:href=\"#m453c01442a\" y=\"45.252\"/>\n      </g>\n     </g>\n     <g id=\"text_13\">\n      <!-- EXT_SOURCE_1 -->\n      <g transform=\"translate(104.732813 48.962938)scale(0.1 -0.1)\">\n       <use xlink:href=\"#DejaVuSans-69\"/>\n       <use x=\"63.183594\" xlink:href=\"#DejaVuSans-88\"/>\n       <use x=\"131.673828\" xlink:href=\"#DejaVuSans-84\"/>\n       <use x=\"192.757812\" xlink:href=\"#DejaVuSans-95\"/>\n       <use x=\"242.757812\" xlink:href=\"#DejaVuSans-83\"/>\n       <use x=\"306.234375\" xlink:href=\"#DejaVuSans-79\"/>\n       <use x=\"384.945312\" xlink:href=\"#DejaVuSans-85\"/>\n       <use x=\"458.138672\" xlink:href=\"#DejaVuSans-82\"/>\n       <use x=\"527.542969\" xlink:href=\"#DejaVuSans-67\"/>\n       <use x=\"597.367188\" xlink:href=\"#DejaVuSans-69\"/>\n       <use x=\"660.550781\" xlink:href=\"#DejaVuSans-95\"/>\n       <use x=\"710.550781\" xlink:href=\"#DejaVuSans-49\"/>\n      </g>\n     </g>\n    </g>\n    <g id=\"ytick_5\">\n     <g id=\"line2d_13\">\n      <g>\n       <use style=\"stroke:#000000;stroke-width:0.8;\" x=\"189.151563\" xlink:href=\"#m453c01442a\" y=\"56.124\"/>\n      </g>\n     </g>\n     <g id=\"text_14\">\n      <!-- DAYS_EMPLOYED -->\n      <defs>\n       <path d=\"M 9.8125 72.90625 \nL 24.515625 72.90625 \nL 43.109375 23.296875 \nL 61.8125 72.90625 \nL 76.515625 72.90625 \nL 76.515625 0 \nL 66.890625 0 \nL 66.890625 64.015625 \nL 48.09375 14.015625 \nL 38.1875 14.015625 \nL 19.390625 64.015625 \nL 19.390625 0 \nL 9.8125 0 \nz\n\" id=\"DejaVuSans-77\"/>\n       <path d=\"M 19.671875 64.796875 \nL 19.671875 37.40625 \nL 32.078125 37.40625 \nQ 38.96875 37.40625 42.71875 40.96875 \nQ 46.484375 44.53125 46.484375 51.125 \nQ 46.484375 57.671875 42.71875 61.234375 \nQ 38.96875 64.796875 32.078125 64.796875 \nz\nM 9.8125 72.90625 \nL 32.078125 72.90625 \nQ 44.34375 72.90625 50.609375 67.359375 \nQ 56.890625 61.8125 56.890625 51.125 \nQ 56.890625 40.328125 50.609375 34.8125 \nQ 44.34375 29.296875 32.078125 29.296875 \nL 19.671875 29.296875 \nL 19.671875 0 \nL 9.8125 0 \nz\n\" id=\"DejaVuSans-80\"/>\n       <path d=\"M 9.8125 72.90625 \nL 19.671875 72.90625 \nL 19.671875 8.296875 \nL 55.171875 8.296875 \nL 55.171875 0 \nL 9.8125 0 \nz\n\" id=\"DejaVuSans-76\"/>\n      </defs>\n      <g transform=\"translate(95.632812 59.834937)scale(0.1 -0.1)\">\n       <use xlink:href=\"#DejaVuSans-68\"/>\n       <use x=\"76.986328\" xlink:href=\"#DejaVuSans-65\"/>\n       <use x=\"145.285156\" xlink:href=\"#DejaVuSans-89\"/>\n       <use x=\"206.369141\" xlink:href=\"#DejaVuSans-83\"/>\n       <use x=\"269.845703\" xlink:href=\"#DejaVuSans-95\"/>\n       <use x=\"319.845703\" xlink:href=\"#DejaVuSans-69\"/>\n       <use x=\"383.029297\" xlink:href=\"#DejaVuSans-77\"/>\n       <use x=\"469.308594\" xlink:href=\"#DejaVuSans-80\"/>\n       <use x=\"529.611328\" xlink:href=\"#DejaVuSans-76\"/>\n       <use x=\"585.277344\" xlink:href=\"#DejaVuSans-79\"/>\n       <use x=\"663.910156\" xlink:href=\"#DejaVuSans-89\"/>\n       <use x=\"724.994141\" xlink:href=\"#DejaVuSans-69\"/>\n       <use x=\"788.177734\" xlink:href=\"#DejaVuSans-68\"/>\n      </g>\n     </g>\n    </g>\n    <g id=\"ytick_6\">\n     <g id=\"line2d_14\">\n      <g>\n       <use style=\"stroke:#000000;stroke-width:0.8;\" x=\"189.151563\" xlink:href=\"#m453c01442a\" y=\"66.996\"/>\n      </g>\n     </g>\n     <g id=\"text_15\">\n      <!-- DAYS_LAST_PHONE_CHANGE -->\n      <defs>\n       <path d=\"M 9.8125 72.90625 \nL 23.09375 72.90625 \nL 55.421875 11.921875 \nL 55.421875 72.90625 \nL 64.984375 72.90625 \nL 64.984375 0 \nL 51.703125 0 \nL 19.390625 60.984375 \nL 19.390625 0 \nL 9.8125 0 \nz\n\" id=\"DejaVuSans-78\"/>\n       <path d=\"M 59.515625 10.40625 \nL 59.515625 29.984375 \nL 43.40625 29.984375 \nL 43.40625 38.09375 \nL 69.28125 38.09375 \nL 69.28125 6.78125 \nQ 63.578125 2.734375 56.6875 0.65625 \nQ 49.8125 -1.421875 42 -1.421875 \nQ 24.90625 -1.421875 15.25 8.5625 \nQ 5.609375 18.5625 5.609375 36.375 \nQ 5.609375 54.25 15.25 64.234375 \nQ 24.90625 74.21875 42 74.21875 \nQ 49.125 74.21875 55.546875 72.453125 \nQ 61.96875 70.703125 67.390625 67.28125 \nL 67.390625 56.78125 \nQ 61.921875 61.421875 55.765625 63.765625 \nQ 49.609375 66.109375 42.828125 66.109375 \nQ 29.4375 66.109375 22.71875 58.640625 \nQ 16.015625 51.171875 16.015625 36.375 \nQ 16.015625 21.625 22.71875 14.15625 \nQ 29.4375 6.6875 42.828125 6.6875 \nQ 48.046875 6.6875 52.140625 7.59375 \nQ 56.25 8.5 59.515625 10.40625 \nz\n\" id=\"DejaVuSans-71\"/>\n      </defs>\n      <g transform=\"translate(37.18125 70.706937)scale(0.1 -0.1)\">\n       <use xlink:href=\"#DejaVuSans-68\"/>\n       <use x=\"76.986328\" xlink:href=\"#DejaVuSans-65\"/>\n       <use x=\"145.285156\" xlink:href=\"#DejaVuSans-89\"/>\n       <use x=\"206.369141\" xlink:href=\"#DejaVuSans-83\"/>\n       <use x=\"269.845703\" xlink:href=\"#DejaVuSans-95\"/>\n       <use x=\"319.845703\" xlink:href=\"#DejaVuSans-76\"/>\n       <use x=\"375.589844\" xlink:href=\"#DejaVuSans-65\"/>\n       <use x=\"443.998047\" xlink:href=\"#DejaVuSans-83\"/>\n       <use x=\"507.474609\" xlink:href=\"#DejaVuSans-84\"/>\n       <use x=\"568.558594\" xlink:href=\"#DejaVuSans-95\"/>\n       <use x=\"618.558594\" xlink:href=\"#DejaVuSans-80\"/>\n       <use x=\"678.861328\" xlink:href=\"#DejaVuSans-72\"/>\n       <use x=\"754.056641\" xlink:href=\"#DejaVuSans-79\"/>\n       <use x=\"832.767578\" xlink:href=\"#DejaVuSans-78\"/>\n       <use x=\"907.572266\" xlink:href=\"#DejaVuSans-69\"/>\n       <use x=\"970.755859\" xlink:href=\"#DejaVuSans-95\"/>\n       <use x=\"1020.755859\" xlink:href=\"#DejaVuSans-67\"/>\n       <use x=\"1090.580078\" xlink:href=\"#DejaVuSans-72\"/>\n       <use x=\"1165.775391\" xlink:href=\"#DejaVuSans-65\"/>\n       <use x=\"1234.183594\" xlink:href=\"#DejaVuSans-78\"/>\n       <use x=\"1308.988281\" xlink:href=\"#DejaVuSans-71\"/>\n       <use x=\"1386.478516\" xlink:href=\"#DejaVuSans-69\"/>\n      </g>\n     </g>\n    </g>\n    <g id=\"ytick_7\">\n     <g id=\"line2d_15\">\n      <g>\n       <use style=\"stroke:#000000;stroke-width:0.8;\" x=\"189.151563\" xlink:href=\"#m453c01442a\" y=\"77.868\"/>\n      </g>\n     </g>\n     <g id=\"text_16\">\n      <!-- DAYS_ID_PUBLISH -->\n      <g transform=\"translate(91.917188 81.578937)scale(0.1 -0.1)\">\n       <use xlink:href=\"#DejaVuSans-68\"/>\n       <use x=\"76.986328\" xlink:href=\"#DejaVuSans-65\"/>\n       <use x=\"145.285156\" xlink:href=\"#DejaVuSans-89\"/>\n       <use x=\"206.369141\" xlink:href=\"#DejaVuSans-83\"/>\n       <use x=\"269.845703\" xlink:href=\"#DejaVuSans-95\"/>\n       <use x=\"319.845703\" xlink:href=\"#DejaVuSans-73\"/>\n       <use x=\"349.337891\" xlink:href=\"#DejaVuSans-68\"/>\n       <use x=\"426.339844\" xlink:href=\"#DejaVuSans-95\"/>\n       <use x=\"476.339844\" xlink:href=\"#DejaVuSans-80\"/>\n       <use x=\"536.642578\" xlink:href=\"#DejaVuSans-85\"/>\n       <use x=\"609.835938\" xlink:href=\"#DejaVuSans-66\"/>\n       <use x=\"678.439453\" xlink:href=\"#DejaVuSans-76\"/>\n       <use x=\"734.152344\" xlink:href=\"#DejaVuSans-73\"/>\n       <use x=\"763.644531\" xlink:href=\"#DejaVuSans-83\"/>\n       <use x=\"827.121094\" xlink:href=\"#DejaVuSans-72\"/>\n      </g>\n     </g>\n    </g>\n    <g id=\"ytick_8\">\n     <g id=\"line2d_16\">\n      <g>\n       <use style=\"stroke:#000000;stroke-width:0.8;\" x=\"189.151563\" xlink:href=\"#m453c01442a\" y=\"88.74\"/>\n      </g>\n     </g>\n     <g id=\"text_17\">\n      <!-- DIF_DAYS_INSTALMENT_sum -->\n      <defs>\n       <path d=\"M 9.8125 72.90625 \nL 51.703125 72.90625 \nL 51.703125 64.59375 \nL 19.671875 64.59375 \nL 19.671875 43.109375 \nL 48.578125 43.109375 \nL 48.578125 34.8125 \nL 19.671875 34.8125 \nL 19.671875 0 \nL 9.8125 0 \nz\n\" id=\"DejaVuSans-70\"/>\n       <path d=\"M 44.28125 53.078125 \nL 44.28125 44.578125 \nQ 40.484375 46.53125 36.375 47.5 \nQ 32.28125 48.484375 27.875 48.484375 \nQ 21.1875 48.484375 17.84375 46.4375 \nQ 14.5 44.390625 14.5 40.28125 \nQ 14.5 37.15625 16.890625 35.375 \nQ 19.28125 33.59375 26.515625 31.984375 \nL 29.59375 31.296875 \nQ 39.15625 29.25 43.1875 25.515625 \nQ 47.21875 21.78125 47.21875 15.09375 \nQ 47.21875 7.46875 41.1875 3.015625 \nQ 35.15625 -1.421875 24.609375 -1.421875 \nQ 20.21875 -1.421875 15.453125 -0.5625 \nQ 10.6875 0.296875 5.421875 2 \nL 5.421875 11.28125 \nQ 10.40625 8.6875 15.234375 7.390625 \nQ 20.0625 6.109375 24.8125 6.109375 \nQ 31.15625 6.109375 34.5625 8.28125 \nQ 37.984375 10.453125 37.984375 14.40625 \nQ 37.984375 18.0625 35.515625 20.015625 \nQ 33.0625 21.96875 24.703125 23.78125 \nL 21.578125 24.515625 \nQ 13.234375 26.265625 9.515625 29.90625 \nQ 5.8125 33.546875 5.8125 39.890625 \nQ 5.8125 47.609375 11.28125 51.796875 \nQ 16.75 56 26.8125 56 \nQ 31.78125 56 36.171875 55.265625 \nQ 40.578125 54.546875 44.28125 53.078125 \nz\n\" id=\"DejaVuSans-115\"/>\n       <path d=\"M 8.5 21.578125 \nL 8.5 54.6875 \nL 17.484375 54.6875 \nL 17.484375 21.921875 \nQ 17.484375 14.15625 20.5 10.265625 \nQ 23.53125 6.390625 29.59375 6.390625 \nQ 36.859375 6.390625 41.078125 11.03125 \nQ 45.3125 15.671875 45.3125 23.6875 \nL 45.3125 54.6875 \nL 54.296875 54.6875 \nL 54.296875 0 \nL 45.3125 0 \nL 45.3125 8.40625 \nQ 42.046875 3.421875 37.71875 1 \nQ 33.40625 -1.421875 27.6875 -1.421875 \nQ 18.265625 -1.421875 13.375 4.4375 \nQ 8.5 10.296875 8.5 21.578125 \nz\nM 31.109375 56 \nz\n\" id=\"DejaVuSans-117\"/>\n      </defs>\n      <g transform=\"translate(38.653125 92.450938)scale(0.1 -0.1)\">\n       <use xlink:href=\"#DejaVuSans-68\"/>\n       <use x=\"77.001953\" xlink:href=\"#DejaVuSans-73\"/>\n       <use x=\"106.494141\" xlink:href=\"#DejaVuSans-70\"/>\n       <use x=\"164.013672\" xlink:href=\"#DejaVuSans-95\"/>\n       <use x=\"214.013672\" xlink:href=\"#DejaVuSans-68\"/>\n       <use x=\"291\" xlink:href=\"#DejaVuSans-65\"/>\n       <use x=\"359.298828\" xlink:href=\"#DejaVuSans-89\"/>\n       <use x=\"420.382812\" xlink:href=\"#DejaVuSans-83\"/>\n       <use x=\"483.859375\" xlink:href=\"#DejaVuSans-95\"/>\n       <use x=\"533.859375\" xlink:href=\"#DejaVuSans-73\"/>\n       <use x=\"563.351562\" xlink:href=\"#DejaVuSans-78\"/>\n       <use x=\"638.15625\" xlink:href=\"#DejaVuSans-83\"/>\n       <use x=\"701.632812\" xlink:href=\"#DejaVuSans-84\"/>\n       <use x=\"762.607422\" xlink:href=\"#DejaVuSans-65\"/>\n       <use x=\"831.015625\" xlink:href=\"#DejaVuSans-76\"/>\n       <use x=\"886.728516\" xlink:href=\"#DejaVuSans-77\"/>\n       <use x=\"973.007812\" xlink:href=\"#DejaVuSans-69\"/>\n       <use x=\"1036.191406\" xlink:href=\"#DejaVuSans-78\"/>\n       <use x=\"1110.996094\" xlink:href=\"#DejaVuSans-84\"/>\n       <use x=\"1172.080078\" xlink:href=\"#DejaVuSans-95\"/>\n       <use x=\"1222.080078\" xlink:href=\"#DejaVuSans-115\"/>\n       <use x=\"1274.179688\" xlink:href=\"#DejaVuSans-117\"/>\n       <use x=\"1337.558594\" xlink:href=\"#DejaVuSans-109\"/>\n      </g>\n     </g>\n    </g>\n    <g id=\"ytick_9\">\n     <g id=\"line2d_17\">\n      <g>\n       <use style=\"stroke:#000000;stroke-width:0.8;\" x=\"189.151563\" xlink:href=\"#m453c01442a\" y=\"99.612\"/>\n      </g>\n     </g>\n     <g id=\"text_18\">\n      <!-- AMT_ANNUITY -->\n      <g transform=\"translate(111.2875 103.272156)scale(0.1 -0.1)\">\n       <use xlink:href=\"#DejaVuSans-65\"/>\n       <use x=\"68.408203\" xlink:href=\"#DejaVuSans-77\"/>\n       <use x=\"154.6875\" xlink:href=\"#DejaVuSans-84\"/>\n       <use x=\"215.771484\" xlink:href=\"#DejaVuSans-95\"/>\n       <use x=\"265.771484\" xlink:href=\"#DejaVuSans-65\"/>\n       <use x=\"334.179688\" xlink:href=\"#DejaVuSans-78\"/>\n       <use x=\"408.984375\" xlink:href=\"#DejaVuSans-78\"/>\n       <use x=\"483.789062\" xlink:href=\"#DejaVuSans-85\"/>\n       <use x=\"556.982422\" xlink:href=\"#DejaVuSans-73\"/>\n       <use x=\"586.474609\" xlink:href=\"#DejaVuSans-84\"/>\n       <use x=\"647.558594\" xlink:href=\"#DejaVuSans-89\"/>\n      </g>\n     </g>\n    </g>\n    <g id=\"ytick_10\">\n     <g id=\"line2d_18\">\n      <g>\n       <use style=\"stroke:#000000;stroke-width:0.8;\" x=\"189.151563\" xlink:href=\"#m453c01442a\" y=\"110.484\"/>\n      </g>\n     </g>\n     <g id=\"text_19\">\n      <!-- AMT_CREDIT -->\n      <g transform=\"translate(118.567188 114.194937)scale(0.1 -0.1)\">\n       <use xlink:href=\"#DejaVuSans-65\"/>\n       <use x=\"68.408203\" xlink:href=\"#DejaVuSans-77\"/>\n       <use x=\"154.6875\" xlink:href=\"#DejaVuSans-84\"/>\n       <use x=\"215.771484\" xlink:href=\"#DejaVuSans-95\"/>\n       <use x=\"265.771484\" xlink:href=\"#DejaVuSans-67\"/>\n       <use x=\"335.595703\" xlink:href=\"#DejaVuSans-82\"/>\n       <use x=\"405.078125\" xlink:href=\"#DejaVuSans-69\"/>\n       <use x=\"468.261719\" xlink:href=\"#DejaVuSans-68\"/>\n       <use x=\"545.263672\" xlink:href=\"#DejaVuSans-73\"/>\n       <use x=\"574.755859\" xlink:href=\"#DejaVuSans-84\"/>\n      </g>\n     </g>\n    </g>\n    <g id=\"ytick_11\">\n     <g id=\"line2d_19\">\n      <g>\n       <use style=\"stroke:#000000;stroke-width:0.8;\" x=\"189.151563\" xlink:href=\"#m453c01442a\" y=\"121.356\"/>\n      </g>\n     </g>\n     <g id=\"text_20\">\n      <!-- DAYS_REGISTRATION -->\n      <g transform=\"translate(75.5625 125.066937)scale(0.1 -0.1)\">\n       <use xlink:href=\"#DejaVuSans-68\"/>\n       <use x=\"76.986328\" xlink:href=\"#DejaVuSans-65\"/>\n       <use x=\"145.285156\" xlink:href=\"#DejaVuSans-89\"/>\n       <use x=\"206.369141\" xlink:href=\"#DejaVuSans-83\"/>\n       <use x=\"269.845703\" xlink:href=\"#DejaVuSans-95\"/>\n       <use x=\"319.845703\" xlink:href=\"#DejaVuSans-82\"/>\n       <use x=\"389.328125\" xlink:href=\"#DejaVuSans-69\"/>\n       <use x=\"452.511719\" xlink:href=\"#DejaVuSans-71\"/>\n       <use x=\"530.001953\" xlink:href=\"#DejaVuSans-73\"/>\n       <use x=\"559.494141\" xlink:href=\"#DejaVuSans-83\"/>\n       <use x=\"622.970703\" xlink:href=\"#DejaVuSans-84\"/>\n       <use x=\"684.054688\" xlink:href=\"#DejaVuSans-82\"/>\n       <use x=\"753.474609\" xlink:href=\"#DejaVuSans-65\"/>\n       <use x=\"821.773438\" xlink:href=\"#DejaVuSans-84\"/>\n       <use x=\"882.857422\" xlink:href=\"#DejaVuSans-73\"/>\n       <use x=\"912.349609\" xlink:href=\"#DejaVuSans-79\"/>\n       <use x=\"991.060547\" xlink:href=\"#DejaVuSans-78\"/>\n      </g>\n     </g>\n    </g>\n    <g id=\"ytick_12\">\n     <g id=\"line2d_20\">\n      <g>\n       <use style=\"stroke:#000000;stroke-width:0.8;\" x=\"189.151563\" xlink:href=\"#m453c01442a\" y=\"132.228\"/>\n      </g>\n     </g>\n     <g id=\"text_21\">\n      <!-- DIF_AMT_CREDIT_min -->\n      <defs>\n       <path d=\"M 9.421875 54.6875 \nL 18.40625 54.6875 \nL 18.40625 0 \nL 9.421875 0 \nz\nM 9.421875 75.984375 \nL 18.40625 75.984375 \nL 18.40625 64.59375 \nL 9.421875 64.59375 \nz\n\" id=\"DejaVuSans-105\"/>\n      </defs>\n      <g transform=\"translate(73.309375 136.027219)scale(0.1 -0.1)\">\n       <use xlink:href=\"#DejaVuSans-68\"/>\n       <use x=\"77.001953\" xlink:href=\"#DejaVuSans-73\"/>\n       <use x=\"106.494141\" xlink:href=\"#DejaVuSans-70\"/>\n       <use x=\"164.013672\" xlink:href=\"#DejaVuSans-95\"/>\n       <use x=\"214.013672\" xlink:href=\"#DejaVuSans-65\"/>\n       <use x=\"282.421875\" xlink:href=\"#DejaVuSans-77\"/>\n       <use x=\"368.701172\" xlink:href=\"#DejaVuSans-84\"/>\n       <use x=\"429.785156\" xlink:href=\"#DejaVuSans-95\"/>\n       <use x=\"479.785156\" xlink:href=\"#DejaVuSans-67\"/>\n       <use x=\"549.609375\" xlink:href=\"#DejaVuSans-82\"/>\n       <use x=\"619.091797\" xlink:href=\"#DejaVuSans-69\"/>\n       <use x=\"682.275391\" xlink:href=\"#DejaVuSans-68\"/>\n       <use x=\"759.277344\" xlink:href=\"#DejaVuSans-73\"/>\n       <use x=\"788.769531\" xlink:href=\"#DejaVuSans-84\"/>\n       <use x=\"849.853516\" xlink:href=\"#DejaVuSans-95\"/>\n       <use x=\"899.853516\" xlink:href=\"#DejaVuSans-109\"/>\n       <use x=\"997.265625\" xlink:href=\"#DejaVuSans-105\"/>\n       <use x=\"1025.048828\" xlink:href=\"#DejaVuSans-110\"/>\n      </g>\n     </g>\n    </g>\n    <g id=\"ytick_13\">\n     <g id=\"line2d_21\">\n      <g>\n       <use style=\"stroke:#000000;stroke-width:0.8;\" x=\"189.151563\" xlink:href=\"#m453c01442a\" y=\"143.1\"/>\n      </g>\n     </g>\n     <g id=\"text_22\">\n      <!-- DIF_DAYS_INSTALMENT_mean -->\n      <g transform=\"translate(31.58125 146.810937)scale(0.1 -0.1)\">\n       <use xlink:href=\"#DejaVuSans-68\"/>\n       <use x=\"77.001953\" xlink:href=\"#DejaVuSans-73\"/>\n       <use x=\"106.494141\" xlink:href=\"#DejaVuSans-70\"/>\n       <use x=\"164.013672\" xlink:href=\"#DejaVuSans-95\"/>\n       <use x=\"214.013672\" xlink:href=\"#DejaVuSans-68\"/>\n       <use x=\"291\" xlink:href=\"#DejaVuSans-65\"/>\n       <use x=\"359.298828\" xlink:href=\"#DejaVuSans-89\"/>\n       <use x=\"420.382812\" xlink:href=\"#DejaVuSans-83\"/>\n       <use x=\"483.859375\" xlink:href=\"#DejaVuSans-95\"/>\n       <use x=\"533.859375\" xlink:href=\"#DejaVuSans-73\"/>\n       <use x=\"563.351562\" xlink:href=\"#DejaVuSans-78\"/>\n       <use x=\"638.15625\" xlink:href=\"#DejaVuSans-83\"/>\n       <use x=\"701.632812\" xlink:href=\"#DejaVuSans-84\"/>\n       <use x=\"762.607422\" xlink:href=\"#DejaVuSans-65\"/>\n       <use x=\"831.015625\" xlink:href=\"#DejaVuSans-76\"/>\n       <use x=\"886.728516\" xlink:href=\"#DejaVuSans-77\"/>\n       <use x=\"973.007812\" xlink:href=\"#DejaVuSans-69\"/>\n       <use x=\"1036.191406\" xlink:href=\"#DejaVuSans-78\"/>\n       <use x=\"1110.996094\" xlink:href=\"#DejaVuSans-84\"/>\n       <use x=\"1172.080078\" xlink:href=\"#DejaVuSans-95\"/>\n       <use x=\"1222.080078\" xlink:href=\"#DejaVuSans-109\"/>\n       <use x=\"1319.492188\" xlink:href=\"#DejaVuSans-101\"/>\n       <use x=\"1381.015625\" xlink:href=\"#DejaVuSans-97\"/>\n       <use x=\"1442.294922\" xlink:href=\"#DejaVuSans-110\"/>\n      </g>\n     </g>\n    </g>\n    <g id=\"ytick_14\">\n     <g id=\"line2d_22\">\n      <g>\n       <use style=\"stroke:#000000;stroke-width:0.8;\" x=\"189.151563\" xlink:href=\"#m453c01442a\" y=\"153.972\"/>\n      </g>\n     </g>\n     <g id=\"text_23\">\n      <!-- AMT_GOODS_PRICE -->\n      <g transform=\"translate(83.804688 157.682938)scale(0.1 -0.1)\">\n       <use xlink:href=\"#DejaVuSans-65\"/>\n       <use x=\"68.408203\" xlink:href=\"#DejaVuSans-77\"/>\n       <use x=\"154.6875\" xlink:href=\"#DejaVuSans-84\"/>\n       <use x=\"215.771484\" xlink:href=\"#DejaVuSans-95\"/>\n       <use x=\"265.771484\" xlink:href=\"#DejaVuSans-71\"/>\n       <use x=\"343.261719\" xlink:href=\"#DejaVuSans-79\"/>\n       <use x=\"421.972656\" xlink:href=\"#DejaVuSans-79\"/>\n       <use x=\"500.683594\" xlink:href=\"#DejaVuSans-68\"/>\n       <use x=\"577.685547\" xlink:href=\"#DejaVuSans-83\"/>\n       <use x=\"641.162109\" xlink:href=\"#DejaVuSans-95\"/>\n       <use x=\"691.162109\" xlink:href=\"#DejaVuSans-80\"/>\n       <use x=\"751.464844\" xlink:href=\"#DejaVuSans-82\"/>\n       <use x=\"820.947266\" xlink:href=\"#DejaVuSans-73\"/>\n       <use x=\"850.439453\" xlink:href=\"#DejaVuSans-67\"/>\n       <use x=\"920.263672\" xlink:href=\"#DejaVuSans-69\"/>\n      </g>\n     </g>\n    </g>\n    <g id=\"ytick_15\">\n     <g id=\"line2d_23\">\n      <g>\n       <use style=\"stroke:#000000;stroke-width:0.8;\" x=\"189.151563\" xlink:href=\"#m453c01442a\" y=\"164.844\"/>\n      </g>\n     </g>\n     <g id=\"text_24\">\n      <!-- DIF_AMT_CREDIT_sum -->\n      <g transform=\"translate(70.878125 168.554937)scale(0.1 -0.1)\">\n       <use xlink:href=\"#DejaVuSans-68\"/>\n       <use x=\"77.001953\" xlink:href=\"#DejaVuSans-73\"/>\n       <use x=\"106.494141\" xlink:href=\"#DejaVuSans-70\"/>\n       <use x=\"164.013672\" xlink:href=\"#DejaVuSans-95\"/>\n       <use x=\"214.013672\" xlink:href=\"#DejaVuSans-65\"/>\n       <use x=\"282.421875\" xlink:href=\"#DejaVuSans-77\"/>\n       <use x=\"368.701172\" xlink:href=\"#DejaVuSans-84\"/>\n       <use x=\"429.785156\" xlink:href=\"#DejaVuSans-95\"/>\n       <use x=\"479.785156\" xlink:href=\"#DejaVuSans-67\"/>\n       <use x=\"549.609375\" xlink:href=\"#DejaVuSans-82\"/>\n       <use x=\"619.091797\" xlink:href=\"#DejaVuSans-69\"/>\n       <use x=\"682.275391\" xlink:href=\"#DejaVuSans-68\"/>\n       <use x=\"759.277344\" xlink:href=\"#DejaVuSans-73\"/>\n       <use x=\"788.769531\" xlink:href=\"#DejaVuSans-84\"/>\n       <use x=\"849.853516\" xlink:href=\"#DejaVuSans-95\"/>\n       <use x=\"899.853516\" xlink:href=\"#DejaVuSans-115\"/>\n       <use x=\"951.953125\" xlink:href=\"#DejaVuSans-117\"/>\n       <use x=\"1015.332031\" xlink:href=\"#DejaVuSans-109\"/>\n      </g>\n     </g>\n    </g>\n    <g id=\"ytick_16\">\n     <g id=\"line2d_24\">\n      <g>\n       <use style=\"stroke:#000000;stroke-width:0.8;\" x=\"189.151563\" xlink:href=\"#m453c01442a\" y=\"175.716\"/>\n      </g>\n     </g>\n     <g id=\"text_25\">\n      <!-- DIF_DAYS_INSTALMENT_max -->\n      <defs>\n       <path d=\"M 54.890625 54.6875 \nL 35.109375 28.078125 \nL 55.90625 0 \nL 45.3125 0 \nL 29.390625 21.484375 \nL 13.484375 0 \nL 2.875 0 \nL 24.125 28.609375 \nL 4.6875 54.6875 \nL 15.28125 54.6875 \nL 29.78125 35.203125 \nL 44.28125 54.6875 \nz\n\" id=\"DejaVuSans-120\"/>\n      </defs>\n      <g transform=\"translate(38.153125 179.426937)scale(0.1 -0.1)\">\n       <use xlink:href=\"#DejaVuSans-68\"/>\n       <use x=\"77.001953\" xlink:href=\"#DejaVuSans-73\"/>\n       <use x=\"106.494141\" xlink:href=\"#DejaVuSans-70\"/>\n       <use x=\"164.013672\" xlink:href=\"#DejaVuSans-95\"/>\n       <use x=\"214.013672\" xlink:href=\"#DejaVuSans-68\"/>\n       <use x=\"291\" xlink:href=\"#DejaVuSans-65\"/>\n       <use x=\"359.298828\" xlink:href=\"#DejaVuSans-89\"/>\n       <use x=\"420.382812\" xlink:href=\"#DejaVuSans-83\"/>\n       <use x=\"483.859375\" xlink:href=\"#DejaVuSans-95\"/>\n       <use x=\"533.859375\" xlink:href=\"#DejaVuSans-73\"/>\n       <use x=\"563.351562\" xlink:href=\"#DejaVuSans-78\"/>\n       <use x=\"638.15625\" xlink:href=\"#DejaVuSans-83\"/>\n       <use x=\"701.632812\" xlink:href=\"#DejaVuSans-84\"/>\n       <use x=\"762.607422\" xlink:href=\"#DejaVuSans-65\"/>\n       <use x=\"831.015625\" xlink:href=\"#DejaVuSans-76\"/>\n       <use x=\"886.728516\" xlink:href=\"#DejaVuSans-77\"/>\n       <use x=\"973.007812\" xlink:href=\"#DejaVuSans-69\"/>\n       <use x=\"1036.191406\" xlink:href=\"#DejaVuSans-78\"/>\n       <use x=\"1110.996094\" xlink:href=\"#DejaVuSans-84\"/>\n       <use x=\"1172.080078\" xlink:href=\"#DejaVuSans-95\"/>\n       <use x=\"1222.080078\" xlink:href=\"#DejaVuSans-109\"/>\n       <use x=\"1319.492188\" xlink:href=\"#DejaVuSans-97\"/>\n       <use x=\"1380.771484\" xlink:href=\"#DejaVuSans-120\"/>\n      </g>\n     </g>\n    </g>\n    <g id=\"ytick_17\">\n     <g id=\"line2d_25\">\n      <g>\n       <use style=\"stroke:#000000;stroke-width:0.8;\" x=\"189.151563\" xlink:href=\"#m453c01442a\" y=\"186.588\"/>\n      </g>\n     </g>\n     <g id=\"text_26\">\n      <!-- DIF_AMT_CREDIT_mean -->\n      <g transform=\"translate(63.80625 190.298937)scale(0.1 -0.1)\">\n       <use xlink:href=\"#DejaVuSans-68\"/>\n       <use x=\"77.001953\" xlink:href=\"#DejaVuSans-73\"/>\n       <use x=\"106.494141\" xlink:href=\"#DejaVuSans-70\"/>\n       <use x=\"164.013672\" xlink:href=\"#DejaVuSans-95\"/>\n       <use x=\"214.013672\" xlink:href=\"#DejaVuSans-65\"/>\n       <use x=\"282.421875\" xlink:href=\"#DejaVuSans-77\"/>\n       <use x=\"368.701172\" xlink:href=\"#DejaVuSans-84\"/>\n       <use x=\"429.785156\" xlink:href=\"#DejaVuSans-95\"/>\n       <use x=\"479.785156\" xlink:href=\"#DejaVuSans-67\"/>\n       <use x=\"549.609375\" xlink:href=\"#DejaVuSans-82\"/>\n       <use x=\"619.091797\" xlink:href=\"#DejaVuSans-69\"/>\n       <use x=\"682.275391\" xlink:href=\"#DejaVuSans-68\"/>\n       <use x=\"759.277344\" xlink:href=\"#DejaVuSans-73\"/>\n       <use x=\"788.769531\" xlink:href=\"#DejaVuSans-84\"/>\n       <use x=\"849.853516\" xlink:href=\"#DejaVuSans-95\"/>\n       <use x=\"899.853516\" xlink:href=\"#DejaVuSans-109\"/>\n       <use x=\"997.265625\" xlink:href=\"#DejaVuSans-101\"/>\n       <use x=\"1058.789062\" xlink:href=\"#DejaVuSans-97\"/>\n       <use x=\"1120.068359\" xlink:href=\"#DejaVuSans-110\"/>\n      </g>\n     </g>\n    </g>\n    <g id=\"ytick_18\">\n     <g id=\"line2d_26\">\n      <g>\n       <use style=\"stroke:#000000;stroke-width:0.8;\" x=\"189.151563\" xlink:href=\"#m453c01442a\" y=\"197.46\"/>\n      </g>\n     </g>\n     <g id=\"text_27\">\n      <!-- REGION_POPULATION_RELATIVE -->\n      <defs>\n       <path d=\"M 28.609375 0 \nL 0.78125 72.90625 \nL 11.078125 72.90625 \nL 34.1875 11.53125 \nL 57.328125 72.90625 \nL 67.578125 72.90625 \nL 39.796875 0 \nz\n\" id=\"DejaVuSans-86\"/>\n      </defs>\n      <g transform=\"translate(20.878125 201.170938)scale(0.1 -0.1)\">\n       <use xlink:href=\"#DejaVuSans-82\"/>\n       <use x=\"69.482422\" xlink:href=\"#DejaVuSans-69\"/>\n       <use x=\"132.666016\" xlink:href=\"#DejaVuSans-71\"/>\n       <use x=\"210.15625\" xlink:href=\"#DejaVuSans-73\"/>\n       <use x=\"239.648438\" xlink:href=\"#DejaVuSans-79\"/>\n       <use x=\"318.359375\" xlink:href=\"#DejaVuSans-78\"/>\n       <use x=\"393.164062\" xlink:href=\"#DejaVuSans-95\"/>\n       <use x=\"443.164062\" xlink:href=\"#DejaVuSans-80\"/>\n       <use x=\"503.466797\" xlink:href=\"#DejaVuSans-79\"/>\n       <use x=\"582.177734\" xlink:href=\"#DejaVuSans-80\"/>\n       <use x=\"642.480469\" xlink:href=\"#DejaVuSans-85\"/>\n       <use x=\"715.673828\" xlink:href=\"#DejaVuSans-76\"/>\n       <use x=\"771.417969\" xlink:href=\"#DejaVuSans-65\"/>\n       <use x=\"839.716797\" xlink:href=\"#DejaVuSans-84\"/>\n       <use x=\"900.800781\" xlink:href=\"#DejaVuSans-73\"/>\n       <use x=\"930.292969\" xlink:href=\"#DejaVuSans-79\"/>\n       <use x=\"1009.003906\" xlink:href=\"#DejaVuSans-78\"/>\n       <use x=\"1083.808594\" xlink:href=\"#DejaVuSans-95\"/>\n       <use x=\"1133.808594\" xlink:href=\"#DejaVuSans-82\"/>\n       <use x=\"1203.291016\" xlink:href=\"#DejaVuSans-69\"/>\n       <use x=\"1266.474609\" xlink:href=\"#DejaVuSans-76\"/>\n       <use x=\"1322.21875\" xlink:href=\"#DejaVuSans-65\"/>\n       <use x=\"1390.517578\" xlink:href=\"#DejaVuSans-84\"/>\n       <use x=\"1451.601562\" xlink:href=\"#DejaVuSans-73\"/>\n       <use x=\"1481.09375\" xlink:href=\"#DejaVuSans-86\"/>\n       <use x=\"1549.501953\" xlink:href=\"#DejaVuSans-69\"/>\n      </g>\n     </g>\n    </g>\n    <g id=\"ytick_19\">\n     <g id=\"line2d_27\">\n      <g>\n       <use style=\"stroke:#000000;stroke-width:0.8;\" x=\"189.151563\" xlink:href=\"#m453c01442a\" y=\"208.332\"/>\n      </g>\n     </g>\n     <g id=\"text_28\">\n      <!-- DIF_AMT_CREDIT_max -->\n      <g transform=\"translate(70.378125 212.042937)scale(0.1 -0.1)\">\n       <use xlink:href=\"#DejaVuSans-68\"/>\n       <use x=\"77.001953\" xlink:href=\"#DejaVuSans-73\"/>\n       <use x=\"106.494141\" xlink:href=\"#DejaVuSans-70\"/>\n       <use x=\"164.013672\" xlink:href=\"#DejaVuSans-95\"/>\n       <use x=\"214.013672\" xlink:href=\"#DejaVuSans-65\"/>\n       <use x=\"282.421875\" xlink:href=\"#DejaVuSans-77\"/>\n       <use x=\"368.701172\" xlink:href=\"#DejaVuSans-84\"/>\n       <use x=\"429.785156\" xlink:href=\"#DejaVuSans-95\"/>\n       <use x=\"479.785156\" xlink:href=\"#DejaVuSans-67\"/>\n       <use x=\"549.609375\" xlink:href=\"#DejaVuSans-82\"/>\n       <use x=\"619.091797\" xlink:href=\"#DejaVuSans-69\"/>\n       <use x=\"682.275391\" xlink:href=\"#DejaVuSans-68\"/>\n       <use x=\"759.277344\" xlink:href=\"#DejaVuSans-73\"/>\n       <use x=\"788.769531\" xlink:href=\"#DejaVuSans-84\"/>\n       <use x=\"849.853516\" xlink:href=\"#DejaVuSans-95\"/>\n       <use x=\"899.853516\" xlink:href=\"#DejaVuSans-109\"/>\n       <use x=\"997.265625\" xlink:href=\"#DejaVuSans-97\"/>\n       <use x=\"1058.544922\" xlink:href=\"#DejaVuSans-120\"/>\n      </g>\n     </g>\n    </g>\n    <g id=\"ytick_20\">\n     <g id=\"line2d_28\">\n      <g>\n       <use style=\"stroke:#000000;stroke-width:0.8;\" x=\"189.151563\" xlink:href=\"#m453c01442a\" y=\"219.204\"/>\n      </g>\n     </g>\n     <g id=\"text_29\">\n      <!-- AVG_DIF_AMT_PAYMENT -->\n      <g transform=\"translate(60.259375 222.914937)scale(0.1 -0.1)\">\n       <use xlink:href=\"#DejaVuSans-65\"/>\n       <use x=\"68.314453\" xlink:href=\"#DejaVuSans-86\"/>\n       <use x=\"136.722656\" xlink:href=\"#DejaVuSans-71\"/>\n       <use x=\"214.212891\" xlink:href=\"#DejaVuSans-95\"/>\n       <use x=\"264.212891\" xlink:href=\"#DejaVuSans-68\"/>\n       <use x=\"341.214844\" xlink:href=\"#DejaVuSans-73\"/>\n       <use x=\"370.707031\" xlink:href=\"#DejaVuSans-70\"/>\n       <use x=\"428.226562\" xlink:href=\"#DejaVuSans-95\"/>\n       <use x=\"478.226562\" xlink:href=\"#DejaVuSans-65\"/>\n       <use x=\"546.634766\" xlink:href=\"#DejaVuSans-77\"/>\n       <use x=\"632.914062\" xlink:href=\"#DejaVuSans-84\"/>\n       <use x=\"693.998047\" xlink:href=\"#DejaVuSans-95\"/>\n       <use x=\"743.998047\" xlink:href=\"#DejaVuSans-80\"/>\n       <use x=\"804.207031\" xlink:href=\"#DejaVuSans-65\"/>\n       <use x=\"872.505859\" xlink:href=\"#DejaVuSans-89\"/>\n       <use x=\"933.589844\" xlink:href=\"#DejaVuSans-77\"/>\n       <use x=\"1019.869141\" xlink:href=\"#DejaVuSans-69\"/>\n       <use x=\"1083.052734\" xlink:href=\"#DejaVuSans-78\"/>\n       <use x=\"1157.857422\" xlink:href=\"#DejaVuSans-84\"/>\n      </g>\n     </g>\n    </g>\n    <g id=\"text_30\">\n     <!-- Features -->\n     <g transform=\"translate(14.798438 137.796563)rotate(-90)scale(0.1 -0.1)\">\n      <use xlink:href=\"#DejaVuSans-70\"/>\n      <use x=\"57.441406\" xlink:href=\"#DejaVuSans-101\"/>\n      <use x=\"118.964844\" xlink:href=\"#DejaVuSans-97\"/>\n      <use x=\"180.244141\" xlink:href=\"#DejaVuSans-116\"/>\n      <use x=\"219.453125\" xlink:href=\"#DejaVuSans-117\"/>\n      <use x=\"282.832031\" xlink:href=\"#DejaVuSans-114\"/>\n      <use x=\"323.914062\" xlink:href=\"#DejaVuSans-101\"/>\n      <use x=\"385.4375\" xlink:href=\"#DejaVuSans-115\"/>\n     </g>\n    </g>\n   </g>\n   <g id=\"line2d_29\">\n    <path clip-path=\"url(#p27c4e1f365)\" d=\"M 0 -0 \n\" style=\"fill:none;stroke:#424242;stroke-linecap:square;stroke-width:2.7;\"/>\n   </g>\n   <g id=\"line2d_30\">\n    <path clip-path=\"url(#p27c4e1f365)\" d=\"M 0 -0 \n\" style=\"fill:none;stroke:#424242;stroke-linecap:square;stroke-width:2.7;\"/>\n   </g>\n   <g id=\"line2d_31\">\n    <path clip-path=\"url(#p27c4e1f365)\" d=\"M 0 -0 \n\" style=\"fill:none;stroke:#424242;stroke-linecap:square;stroke-width:2.7;\"/>\n   </g>\n   <g id=\"line2d_32\">\n    <path clip-path=\"url(#p27c4e1f365)\" d=\"M 0 -0 \n\" style=\"fill:none;stroke:#424242;stroke-linecap:square;stroke-width:2.7;\"/>\n   </g>\n   <g id=\"line2d_33\">\n    <path clip-path=\"url(#p27c4e1f365)\" d=\"M 0 -0 \n\" style=\"fill:none;stroke:#424242;stroke-linecap:square;stroke-width:2.7;\"/>\n   </g>\n   <g id=\"line2d_34\">\n    <path clip-path=\"url(#p27c4e1f365)\" d=\"M 0 -0 \n\" style=\"fill:none;stroke:#424242;stroke-linecap:square;stroke-width:2.7;\"/>\n   </g>\n   <g id=\"line2d_35\">\n    <path clip-path=\"url(#p27c4e1f365)\" d=\"M 0 -0 \n\" style=\"fill:none;stroke:#424242;stroke-linecap:square;stroke-width:2.7;\"/>\n   </g>\n   <g id=\"line2d_36\">\n    <path clip-path=\"url(#p27c4e1f365)\" d=\"M 0 -0 \n\" style=\"fill:none;stroke:#424242;stroke-linecap:square;stroke-width:2.7;\"/>\n   </g>\n   <g id=\"line2d_37\">\n    <path clip-path=\"url(#p27c4e1f365)\" d=\"M 0 -0 \n\" style=\"fill:none;stroke:#424242;stroke-linecap:square;stroke-width:2.7;\"/>\n   </g>\n   <g id=\"line2d_38\">\n    <path clip-path=\"url(#p27c4e1f365)\" d=\"M 0 -0 \n\" style=\"fill:none;stroke:#424242;stroke-linecap:square;stroke-width:2.7;\"/>\n   </g>\n   <g id=\"line2d_39\">\n    <path clip-path=\"url(#p27c4e1f365)\" d=\"M 0 -0 \n\" style=\"fill:none;stroke:#424242;stroke-linecap:square;stroke-width:2.7;\"/>\n   </g>\n   <g id=\"line2d_40\">\n    <path clip-path=\"url(#p27c4e1f365)\" d=\"M 0 -0 \n\" style=\"fill:none;stroke:#424242;stroke-linecap:square;stroke-width:2.7;\"/>\n   </g>\n   <g id=\"line2d_41\">\n    <path clip-path=\"url(#p27c4e1f365)\" d=\"M 0 -0 \n\" style=\"fill:none;stroke:#424242;stroke-linecap:square;stroke-width:2.7;\"/>\n   </g>\n   <g id=\"line2d_42\">\n    <path clip-path=\"url(#p27c4e1f365)\" d=\"M 0 -0 \n\" style=\"fill:none;stroke:#424242;stroke-linecap:square;stroke-width:2.7;\"/>\n   </g>\n   <g id=\"line2d_43\">\n    <path clip-path=\"url(#p27c4e1f365)\" d=\"M 0 -0 \n\" style=\"fill:none;stroke:#424242;stroke-linecap:square;stroke-width:2.7;\"/>\n   </g>\n   <g id=\"line2d_44\">\n    <path clip-path=\"url(#p27c4e1f365)\" d=\"M 0 -0 \n\" style=\"fill:none;stroke:#424242;stroke-linecap:square;stroke-width:2.7;\"/>\n   </g>\n   <g id=\"line2d_45\">\n    <path clip-path=\"url(#p27c4e1f365)\" d=\"M 0 -0 \n\" style=\"fill:none;stroke:#424242;stroke-linecap:square;stroke-width:2.7;\"/>\n   </g>\n   <g id=\"line2d_46\">\n    <path clip-path=\"url(#p27c4e1f365)\" d=\"M 0 -0 \n\" style=\"fill:none;stroke:#424242;stroke-linecap:square;stroke-width:2.7;\"/>\n   </g>\n   <g id=\"line2d_47\">\n    <path clip-path=\"url(#p27c4e1f365)\" d=\"M 0 -0 \n\" style=\"fill:none;stroke:#424242;stroke-linecap:square;stroke-width:2.7;\"/>\n   </g>\n   <g id=\"line2d_48\">\n    <path clip-path=\"url(#p27c4e1f365)\" d=\"M 0 -0 \n\" style=\"fill:none;stroke:#424242;stroke-linecap:square;stroke-width:2.7;\"/>\n   </g>\n   <g id=\"patch_23\">\n    <path d=\"M 189.151563 224.64 \nL 189.151563 7.2 \n\" style=\"fill:none;stroke:#000000;stroke-linecap:square;stroke-linejoin:miter;stroke-width:0.8;\"/>\n   </g>\n   <g id=\"patch_24\">\n    <path d=\"M 523.951562 224.64 \nL 523.951562 7.2 \n\" style=\"fill:none;stroke:#000000;stroke-linecap:square;stroke-linejoin:miter;stroke-width:0.8;\"/>\n   </g>\n   <g id=\"patch_25\">\n    <path d=\"M 189.151563 224.64 \nL 523.951562 224.64 \n\" style=\"fill:none;stroke:#000000;stroke-linecap:square;stroke-linejoin:miter;stroke-width:0.8;\"/>\n   </g>\n   <g id=\"patch_26\">\n    <path d=\"M 189.151563 7.2 \nL 523.951562 7.2 \n\" style=\"fill:none;stroke:#000000;stroke-linecap:square;stroke-linejoin:miter;stroke-width:0.8;\"/>\n   </g>\n  </g>\n </g>\n <defs>\n  <clipPath id=\"p27c4e1f365\">\n   <rect height=\"217.44\" width=\"334.8\" x=\"189.151563\" y=\"7.2\"/>\n  </clipPath>\n </defs>\n</svg>\n",
      "image/png": "[encoded data removed]"
     },
     "metadata": {
      "needs_background": "light"
     }
    }
   ],
   "source": [
    "import seaborn as sns\n",
    "pal = sns.color_palette(\"Greens_d\", len(varimp_pd_plot))\n",
    "ax = sns.barplot(x=\"Importance\", y=\"Features\", data=varimp_pd_plot, palette=np.array(pal[::-1]))"
   ]
  },
  {
   "cell_type": "code",
   "execution_count": 294,
   "metadata": {},
   "outputs": [],
   "source": [
    "drop_ft_rf = list(varimp_pd.Features)[68:]\n",
    ""
   ]
  },
  {
   "cell_type": "markdown",
   "metadata": {},
   "source": [
    "## FIND PVALUES"
   ]
  },
  {
   "cell_type": "code",
   "execution_count": 210,
   "metadata": {},
   "outputs": [],
   "source": [
    "def calculate_pvalue(X_ft, model):\n",
    "    #### Get p-values for the fitted model ####\n",
    "    denom = (2.0*(1.0+np.cosh(model.decision_function(X_ft))))\n",
    "    denom = np.tile(denom,(X_ft.shape[1],1)).T\n",
    "    F_ij = np.dot((X_ft/denom).T,X_ft) ## Fisher Information Matrix\n",
    "    Cramer_Rao = np.linalg.inv(F_ij) ## Inverse Information Matrix\n",
    "    sigma_estimates = np.sqrt(np.diagonal(Cramer_Rao))\n",
    "    z_scores = model.coef_[0]/sigma_estimates # z-score for eaach model coefficient\n",
    "    p_values = [stat.norm.sf(abs(x))*2 for x in z_scores] ### two tailed test for p-values\n",
    "    \n",
    "    index_sort = np.argsort(p_values)\n",
    "    pnp = np.asarray(p_values)\n",
    "    name_ft = np.asarray(list(X_ft.columns))\n",
    "    name_ft_sort = list(name_ft[index_sort])\n",
    "    p_values_sort = list(pnp[index_sort])\n",
    "\n",
    "    dict_p = {}\n",
    "    for k, v in zip(name_ft_sort, p_values_sort):\n",
    "        dict_p[k] = v\n",
    "\n",
    "    return dict_p"
   ]
  },
  {
   "cell_type": "code",
   "execution_count": 170,
   "metadata": {},
   "outputs": [],
   "source": [
    "import scipy.stats as stat\n",
    "\n",
    "X = X_train_numeric\n",
    "#### Get p-values for the fitted model ####\n",
    "denom = (2.0*(1.0+np.cosh(lg.decision_function(X))))\n",
    "denom = np.tile(denom,(X.shape[1],1)).T\n",
    "F_ij = np.dot((X/denom).T,X) ## Fisher Information Matrix\n",
    "Cramer_Rao = np.linalg.inv(F_ij) ## Inverse Information Matrix\n",
    "sigma_estimates = np.sqrt(np.diagonal(Cramer_Rao))\n",
    "z_scores = lg.coef_[0]/sigma_estimates # z-score for eaach model coefficient\n",
    "p_values = [stat.norm.sf(abs(x))*2 for x in z_scores] ### two tailed test for p-values"
   ]
  },
  {
   "cell_type": "code",
   "execution_count": 171,
   "metadata": {},
   "outputs": [],
   "source": [
    "index_sort = np.argsort(p_values)"
   ]
  },
  {
   "cell_type": "code",
   "execution_count": 172,
   "metadata": {},
   "outputs": [
    {
     "output_type": "execute_result",
     "data": {
      "text/plain": "array([27, 28, 29, 79,  4,  3, 77,  2])"
     },
     "metadata": {},
     "execution_count": 172
    }
   ],
   "source": [
    "pnp = np.asarray(p_values)\n",
    "index_sort[0:8]"
   ]
  },
  {
   "cell_type": "code",
   "execution_count": 173,
   "metadata": {},
   "outputs": [],
   "source": [
    "name_ft = np.asarray(list(X_train.columns))\n",
    "name_ft_sort = list(name_ft[index_sort])\n",
    "p_values_sort = list(pnp[index_sort])"
   ]
  },
  {
   "cell_type": "code",
   "execution_count": 180,
   "metadata": {},
   "outputs": [],
   "source": [
    "dict_p_numeric = {}\n",
    "for k, v in zip(name_ft_sort, p_values_sort):\n",
    "    dict_p_numeric[k] = v"
   ]
  },
  {
   "cell_type": "code",
   "execution_count": 179,
   "metadata": {},
   "outputs": [
    {
     "output_type": "execute_result",
     "data": {
      "text/plain": "{'EXT_SOURCE_1': 0.0,\n 'EXT_SOURCE_3': 0.0,\n 'EXT_SOURCE_2': 0.0,\n 'AMT_GOODS_PRICE': 9.820098522495694e-77,\n 'AMT_CREDIT': 1.1407936262628576e-68,\n 'AMT_ANNUITY': 1.5626788658727285e-66,\n 'DAYS_ID_PUBLISH': 1.2808294265046122e-59,\n 'DAYS_LAST_PHONE_CHANGE': 1.3434755791576479e-49,\n 'OWN_CAR_AGE': 1.3312472771270706e-44,\n 'FLAG_WORK_PHONE': 4.678728597223358e-37,\n 'FLAG_DOCUMENT_18': 1.25658594570938e-33,\n 'AMT_REQ_CREDIT_BUREAU_MON': 5.50167472262478e-32,\n 'FLAG_DOCUMENT_16': 1.770963864177591e-30,\n 'FLAG_DOCUMENT_3': 2.3357158094270268e-30,\n 'AMT_REQ_CREDIT_BUREAU_YEAR': 2.847666702649383e-28,\n 'DAYS_BIRTH': 3.963869320629495e-24,\n 'REG_CITY_NOT_LIVE_CITY': 2.151350240775224e-23,\n 'FLAG_DOCUMENT_6': 1.660561656461565e-18,\n 'FLAG_DOCUMENT_13': 7.251753012692594e-17,\n 'FLAG_DOCUMENT_15': 1.735271425779289e-16}"
     },
     "metadata": {},
     "execution_count": 179
    }
   ],
   "source": [
    "dict_p"
   ]
  },
  {
   "cell_type": "code",
   "execution_count": null,
   "metadata": {},
   "outputs": [],
   "source": [
    "dict_p_numeric"
   ]
  },
  {
   "cell_type": "code",
   "execution_count": 176,
   "metadata": {},
   "outputs": [],
   "source": [
    "t1 = dict_p.keys()\n",
    "t2 = dict_p_numeric.keys()\n",
    "d1 = [x for x in t1 if x not in t2]\n",
    "d2 = [x for x in t2 if x not in t1]"
   ]
  },
  {
   "cell_type": "code",
   "execution_count": 177,
   "metadata": {},
   "outputs": [
    {
     "output_type": "execute_result",
     "data": {
      "text/plain": "['DAYS_BIRTH']"
     },
     "metadata": {},
     "execution_count": 177
    }
   ],
   "source": [
    "d1"
   ]
  },
  {
   "cell_type": "code",
   "execution_count": 178,
   "metadata": {},
   "outputs": [
    {
     "output_type": "execute_result",
     "data": {
      "text/plain": "['FLAG_DOCUMENT_8']"
     },
     "metadata": {},
     "execution_count": 178
    }
   ],
   "source": [
    "d2"
   ]
  },
  {
   "cell_type": "markdown",
   "metadata": {},
   "source": [
    "## DEBUG"
   ]
  },
  {
   "cell_type": "code",
   "execution_count": 295,
   "metadata": {},
   "outputs": [
    {
     "output_type": "stream",
     "name": "stdout",
     "text": "(307511, 147)\n"
    }
   ],
   "source": [
    "##### READ DATA #####\n",
    "data = pd.read_csv('data/merged_application_train.csv')\n",
    "data_remove_id = data.drop(['SK_ID_CURR'], axis=1) if 'SK_ID_CURR' in list(data.columns) else data.copy()\n",
    "data_remove_id = data_remove_id.drop(['DAYS_EMPLOYED_ANOM'], axis=1) if 'DAYS_EMPLOYED_ANOM' in list(data_remove_id.columns) else data_remove_id.copy()\n",
    "data_remove_id = data_remove_id.drop(['Unnamed: 0'], axis=1) if 'Unnamed: 0' in list(data_remove_id.columns) else data_remove_id.copy()\n",
    "\n",
    "ft_types = dict(data_remove_id.dtypes)\n",
    "\n",
    "categorical_ft = []\n",
    "numerical_ft = []\n",
    "for ft, val in ft_types.items():\n",
    "    if val == np.object:\n",
    "        categorical_ft += [ft]\n",
    "    elif ft != 'TARGET':\n",
    "        numerical_ft += [ft]\n",
    "\n",
    "\n",
    "select_ft = ['EXT_SOURCE_3', 'EXT_SOURCE_2', 'DAYS_EMPLOYED', 'DAYS_ID_PUBLISH', 'FLOORSMAX_AVG', \n",
    "             'DAYS_REGISTRATION', 'AMT_GOODS_PRICE', 'DEF_30_CNT_SOCIAL_CIRCLE', 'HOUR_APPR_PROCESS_START', \n",
    "             'AMT_REQ_CREDIT_BUREAU_YEAR', 'CNT_CHILDREN', 'AMT_REQ_CREDIT_BUREAU_MON']\n",
    "\n",
    "drop_numerical_ft = [x for x in numerical_ft if x not in select_ft]\n",
    "\n",
    "print(data_remove_id.shape)"
   ]
  },
  {
   "cell_type": "code",
   "execution_count": 296,
   "metadata": {},
   "outputs": [
    {
     "output_type": "stream",
     "name": "stdout",
     "text": "(48744, 146)\n"
    }
   ],
   "source": [
    "data_test = pd.read_csv('data/merged_application_test.csv')\n",
    "SK_ID_CURR = data_test['SK_ID_CURR']\n",
    "data_test = data_test.drop(['SK_ID_CURR'], axis=1) if 'SK_ID_CURR' in list(data_test.columns) else data_test.copy()\n",
    "data_test = data_test.drop(['DAYS_EMPLOYED_ANOM'], axis=1) if 'DAYS_EMPLOYED_ANOM' in list(data_test.columns) else data_test.copy()\n",
    "data_test = data_test.drop(['Unnamed: 0'], axis=1) if 'Unnamed: 0' in list(data_test.columns) else data_test.copy()\n",
    "print(data_test.shape)\n",
    ""
   ]
  },
  {
   "cell_type": "code",
   "execution_count": 297,
   "metadata": {},
   "outputs": [],
   "source": [
    "y_train = data_remove_id['TARGET']\n",
    "data_remove_id = data_remove_id.drop('TARGET', axis=1)\n",
    "X_train_numeric = data_remove_id.drop(categorical_ft, axis=1)\n",
    "X_train_categori = data_remove_id.drop(numerical_ft, axis=1)\n",
    "X_test_numeric = data_test.drop(categorical_ft, axis=1)\n",
    "X_test_categori = data_test.drop(numerical_ft, axis=1)\n",
    "\n",
    "######\n",
    "#X_train_numeric = X_train_numeric.drop(drop_numerical_ft, axis=1)\n",
    "#X_test_numeric = X_test_numeric.drop(drop_numerical_ft, axis=1)\n",
    "######\n",
    "\n",
    "X_train_numeric = X_train_numeric.fillna(X_train_numeric.median())\n",
    "X_test_numeric = X_test_numeric.fillna(X_train_numeric.median())\n",
    "\n",
    "X_train_categori = pd.get_dummies(X_train_categori)\n",
    "X_test_categori = pd.get_dummies(X_test_categori)"
   ]
  },
  {
   "cell_type": "code",
   "execution_count": 298,
   "metadata": {},
   "outputs": [],
   "source": [
    "scaler = preprocessing.MinMaxScaler()\n",
    "scaler.fit(X_train_numeric)\n",
    "X_train_numeric_scaled = scaler.transform(X_train_numeric)\n",
    "X_test_numeric_scaled = scaler.transform(X_test_numeric)\n",
    "X_train_numeric = pd.DataFrame(data=X_train_numeric_scaled, columns=list(X_train_numeric.columns))\n",
    "X_test_numeric = pd.DataFrame(data=X_test_numeric_scaled, columns=list(X_test_numeric.columns))"
   ]
  },
  {
   "cell_type": "code",
   "execution_count": 299,
   "metadata": {},
   "outputs": [
    {
     "output_type": "stream",
     "name": "stdout",
     "text": "(307511, 267)\n(48744, 267)\n"
    }
   ],
   "source": [
    "X_train = pd.concat([X_train_numeric, X_train_categori], axis=1)\n",
    "X_test = pd.concat([X_test_numeric, X_test_categori], axis=1)\n",
    "X_train, X_test = X_train.align(X_test, join = 'inner', axis = 1)\n",
    "print(X_train.shape)\n",
    "print(X_test.shape)"
   ]
  },
  {
   "cell_type": "code",
   "execution_count": 37,
   "metadata": {},
   "outputs": [
    {
     "output_type": "execute_result",
     "data": {
      "text/plain": "count    267.000000\nmean       0.017143\nstd        0.020712\nmin        0.000074\n25%        0.003376\n50%        0.010266\n75%        0.023899\nmax        0.160295\nName: TARGET, dtype: float64"
     },
     "metadata": {},
     "execution_count": 37
    }
   ],
   "source": [
    "temp = X_train.copy()\n",
    "temp['TARGET'] = y_train\n",
    "corr_pd = abs(temp.corr()['TARGET']).sort_values()\n",
    "corr_pd = corr_pd[:-1]\n",
    "corr_pd.describe()"
   ]
  },
  {
   "cell_type": "code",
   "execution_count": 38,
   "metadata": {},
   "outputs": [],
   "source": [
    "corr_dict = dict(corr_pd)\n",
    "thres = 0.010266\n",
    "drop_ft = []\n",
    "for k, v in corr_dict.items():\n",
    "    if v <= thres:\n",
    "        drop_ft += [k]\n",
    "len(drop_ft)\n",
    "X_train = X_train.drop(drop_ft, axis=1)\n",
    "X_test = X_test.drop(drop_ft, axis=1)"
   ]
  },
  {
   "cell_type": "code",
   "execution_count": 300,
   "metadata": {},
   "outputs": [
    {
     "output_type": "stream",
     "name": "stdout",
     "text": "(307511, 68)\n"
    }
   ],
   "source": [
    "## DROP FT FROM RF\n",
    "X_train = X_train.drop(drop_ft_rf, axis=1)\n",
    "print(X_train.shape)"
   ]
  },
  {
   "cell_type": "code",
   "execution_count": 301,
   "metadata": {},
   "outputs": [
    {
     "output_type": "execute_result",
     "data": {
      "text/plain": "LogisticRegression(C=1.0, class_weight='balanced', dual=False,\n                   fit_intercept=True, intercept_scaling=1, l1_ratio=None,\n                   max_iter=100, multi_class='auto', n_jobs=None, penalty='l2',\n                   random_state=None, solver='lbfgs', tol=0.0001, verbose=0,\n                   warm_start=False)"
     },
     "metadata": {},
     "execution_count": 301
    }
   ],
   "source": [
    "lg = LogisticRegression(class_weight='balanced')\n",
    "lg.fit(X_train, y_train)"
   ]
  },
  {
   "cell_type": "code",
   "execution_count": 302,
   "metadata": {},
   "outputs": [
    {
     "output_type": "stream",
     "name": "stdout",
     "text": "(307511, 68)\n"
    }
   ],
   "source": [
    "print(X_train.shape)\n",
    "lg_predict = lg.predict(X_train)\n",
    "lg_score = lg.predict_proba(X_train)[:,1]\n",
    "lg_metric = calculate_metric(y_train, lg_predict, lg_score)"
   ]
  },
  {
   "cell_type": "code",
   "execution_count": 303,
   "metadata": {},
   "outputs": [
    {
     "output_type": "execute_result",
     "data": {
      "text/plain": "{'accuracy': '0.6866973864349568',\n 'precision': '0.15904691984248814',\n 'recall': '0.6719436052366566',\n 'f1': '0.25721246511341034',\n 'tp': '16681',\n 'tn': '194486',\n 'fp': '88200',\n 'fn': '8144',\n 'auc': '0.743007598259023',\n 'auc_pr': '0.21907134330640465'}"
     },
     "metadata": {},
     "execution_count": 303
    }
   ],
   "source": [
    "lg_metric"
   ]
  },
  {
   "cell_type": "code",
   "execution_count": 304,
   "metadata": {},
   "outputs": [],
   "source": [
    "pred_test = lg.predict_proba(X_test.drop(drop_ft_rf, axis=1))[:,1]"
   ]
  },
  {
   "cell_type": "code",
   "execution_count": 305,
   "metadata": {},
   "outputs": [],
   "source": [
    "submit = pd.DataFrame({'SK_ID_CURR': SK_ID_CURR, 'TARGET': pred_test})\n",
    "submit.to_csv('data/submit_exp_13.csv', index=False)"
   ]
  },
  {
   "cell_type": "code",
   "execution_count": 249,
   "metadata": {},
   "outputs": [],
   "source": [
    "dict_p = calculate_pvalue(X_train_numeric, lg)"
   ]
  },
  {
   "cell_type": "code",
   "execution_count": 250,
   "metadata": {},
   "outputs": [],
   "source": [
    "import math\n",
    "list_ft_p_bad = []\n",
    "for k, v in dict_p.items():\n",
    "    if v > 0.05 or math.isnan(v):\n",
    "        list_ft_p_bad += [k]    "
   ]
  },
  {
   "cell_type": "code",
   "execution_count": 251,
   "metadata": {},
   "outputs": [
    {
     "output_type": "stream",
     "name": "stdout",
     "text": "(307511, 45)\n"
    }
   ],
   "source": [
    "X_train_again = X_train_numeric.drop(list_ft_p_bad, axis=1)\n",
    "print(X_train_again.shape)"
   ]
  },
  {
   "cell_type": "code",
   "execution_count": 252,
   "metadata": {},
   "outputs": [
    {
     "output_type": "stream",
     "name": "stdout",
     "text": "(307511, 45)\n"
    }
   ],
   "source": [
    "lg = LogisticRegression(class_weight='balanced')\n",
    "lg.fit(X_train_again, y_train)\n",
    "print(X_train_again.shape)\n",
    "lg_predict = lg.predict(X_train_again)\n",
    "lg_score = lg.predict_proba(X_train_again)[:,1]\n",
    "lg_metric = calculate_metric(y_train, lg_predict, lg_score)"
   ]
  },
  {
   "cell_type": "code",
   "execution_count": 247,
   "metadata": {},
   "outputs": [
    {
     "output_type": "execute_result",
     "data": {
      "text/plain": "{'accuracy': '0.6863982101453281',\n 'precision': '0.15840639578702334',\n 'recall': '0.6688418932527694',\n 'f1': '0.2561476042084478',\n 'tp': '16604',\n 'tn': '194471',\n 'fp': '88215',\n 'fn': '8221',\n 'auc': '0.7404515963997476',\n 'auc_pr': '0.21352138359979536'}"
     },
     "metadata": {},
     "execution_count": 247
    }
   ],
   "source": [
    "lg_metric"
   ]
  },
  {
   "cell_type": "code",
   "execution_count": 240,
   "metadata": {},
   "outputs": [],
   "source": [
    "X_test_again = X_test_numeric.drop(list_ft_p_bad, axis=1)\n",
    "pred_test = lg.predict_proba(X_test_again)[:,1]\n",
    "submit = pd.DataFrame({'SK_ID_CURR': SK_ID_CURR, 'TARGET': pred_test})\n",
    "submit.to_csv('data/submit_exp_10.csv', index=False)"
   ]
  },
  {
   "cell_type": "code",
   "execution_count": 241,
   "metadata": {},
   "outputs": [],
   "source": [
    "dict_p = calculate_pvalue(X_train_again, lg)"
   ]
  },
  {
   "cell_type": "code",
   "execution_count": 242,
   "metadata": {},
   "outputs": [
    {
     "output_type": "execute_result",
     "data": {
      "text/plain": "{'EXT_SOURCE_3': 0.0,\n 'EXT_SOURCE_2': 0.0,\n 'EXT_SOURCE_1': 0.0,\n 'AMT_GOODS_PRICE': 4.064740805903562e-256,\n 'AMT_CREDIT': 1.0910911912421058e-223,\n 'FLAG_DOCUMENT_3': 1.5204490084117984e-154,\n 'OCCUPATION_TYPE_Drivers': 4.629329676854047e-123,\n 'AVG_DIF_AMT_PAYMENT': 7.278184996804162e-113,\n 'DAYS_LAST_PHONE_CHANGE': 1.4027524132825983e-106,\n 'OCCUPATION_TYPE_Laborers': 1.2195744139833957e-86,\n 'DAYS_ID_PUBLISH': 1.2757359875025942e-68,\n 'FLAG_WORK_PHONE': 1.1763083090568134e-58,\n 'REGION_RATING_CLIENT_W_CITY': 3.3766128356020325e-51,\n 'FLAG_DOCUMENT_6': 1.3123848675990174e-50,\n 'FLAG_DOCUMENT_18': 1.8602538620516663e-46,\n 'OCCUPATION_TYPE_Core staff': 5.767756127670246e-43,\n 'AMT_ANNUITY': 6.757744023541525e-42,\n 'OCCUPATION_TYPE_Security staff': 5.434907500295979e-41,\n 'FLAG_DOCUMENT_16': 3.2837245158817866e-38,\n 'REG_CITY_NOT_LIVE_CITY': 3.0062619976116493e-37,\n 'FLAG_DOCUMENT_13': 2.9592350620479976e-36,\n 'OCCUPATION_TYPE_Low-skill Laborers': 2.1882708902380844e-35,\n 'DIF_AMT_CREDIT_sum': 1.6779019129522005e-30,\n 'OCCUPATION_TYPE_Accountants': 1.0166892254767297e-25,\n 'FLAG_PHONE': 2.47582111591857e-22,\n 'FLAG_DOCUMENT_8': 6.48472522821792e-20,\n 'FLAG_DOCUMENT_5': 1.8396603747008317e-19,\n 'OCCUPATION_TYPE_Sales staff': 2.3884857815243375e-19,\n 'AMT_REQ_CREDIT_BUREAU_MON': 8.341052504473469e-18,\n 'FLAG_DOCUMENT_14': 4.795108708086167e-16,\n 'DEF_60_CNT_SOCIAL_CIRCLE': 3.7682354179771974e-14,\n 'OCCUPATION_TYPE_Cleaning staff': 6.055195578145496e-13,\n 'DAYS_BIRTH': 1.7984042385733863e-12,\n 'DEF_30_CNT_SOCIAL_CIRCLE': 3.8777095769172476e-11,\n 'FLAG_DOCUMENT_15': 1.6389846169320194e-10,\n 'DAYS_REGISTRATION': 2.2212749173025305e-10,\n 'FONDKAPREMONT_MODE_reg oper spec account': 1.480165915490021e-09,\n 'FLAG_EMAIL': 4.725955164493158e-08,\n 'AMT_REQ_CREDIT_BUREAU_WEEK': 6.389471623627697e-08,\n 'OCCUPATION_TYPE_Cooking staff': 2.0321823679909225e-06,\n 'OWN_CAR_AGE': 2.397391888372097e-06,\n 'NAME_TYPE_SUITE_Other_B': 5.7290586702561175e-06,\n 'REG_REGION_NOT_LIVE_REGION': 8.82315759360662e-06,\n 'FONDKAPREMONT_MODE_org spec account': 4.0981922670702854e-05,\n 'FONDKAPREMONT_MODE_reg oper account': 4.279778738371194e-05,\n 'OCCUPATION_TYPE_High skill tech staff': 7.6392156024313e-05,\n 'FLAG_DOCUMENT_17': 8.517192638791159e-05,\n 'PORTION_NOT_INSTALMENT': 9.178803548141546e-05,\n 'DIF_DAYS_INSTALMENT_max': 9.928291046251727e-05,\n 'NAME_TYPE_SUITE_Unaccompanied': 0.0004559734471654774,\n 'OCCUPATION_TYPE_Waiters/barmen staff': 0.0007628242606064522,\n 'FLAG_DOCUMENT_2': 0.0009052838721149661,\n 'REGION_POPULATION_RELATIVE': 0.0010655067292221286,\n 'HOUSETYPE_MODE_specific housing': 0.0015521874843819762,\n 'EMERGENCYSTATE_MODE_No': 0.0017034181811486449,\n 'FLAG_DOCUMENT_20': 0.0034945476020654498,\n 'WALLSMATERIAL_MODE_Others': 0.003672932343619872,\n 'FLAG_DOCUMENT_11': 0.004228447926980475,\n 'OCCUPATION_TYPE_Managers': 0.005181307062654182,\n 'DIF_AMT_CREDIT_max': 0.010615887438479106,\n 'LIVE_CITY_NOT_WORK_CITY': 0.010970247002826169,\n 'NAME_TYPE_SUITE_Children': 0.03585516666259594,\n 'AMT_REQ_CREDIT_BUREAU_YEAR': 0.04769039764104588,\n 'OCCUPATION_TYPE_Realty agents': 0.06227520003639036,\n 'FLAG_DOCUMENT_19': 0.12955667854192865,\n 'NAME_TYPE_SUITE_Family': 0.3094084585165964,\n 'LIVE_REGION_NOT_WORK_REGION': 0.8648582918557762,\n 'DAYS_EMPLOYED': 0.9656752530351052}"
     },
     "metadata": {},
     "execution_count": 242
    }
   ],
   "source": [
    "dict_p"
   ]
  },
  {
   "cell_type": "code",
   "execution_count": 232,
   "metadata": {},
   "outputs": [
    {
     "output_type": "execute_result",
     "data": {
      "text/plain": "True"
     },
     "metadata": {},
     "execution_count": 232
    }
   ],
   "source": [
    "import math\n",
    "math.isnan(dict_p['ORGANIZATION_TYPE_Industry: type 13'])"
   ]
  },
  {
   "cell_type": "code",
   "execution_count": null,
   "metadata": {},
   "outputs": [],
   "source": []
  }
 ]
}