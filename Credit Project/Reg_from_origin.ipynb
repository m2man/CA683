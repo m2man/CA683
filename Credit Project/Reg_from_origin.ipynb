{
 "nbformat": 4,
 "nbformat_minor": 2,
 "metadata": {
  "language_info": {
   "name": "python",
   "codemirror_mode": {
    "name": "ipython",
    "version": 3
   },
   "version": "3.6.10-final"
  },
  "orig_nbformat": 2,
  "file_extension": ".py",
  "mimetype": "text/x-python",
  "name": "python",
  "npconvert_exporter": "python",
  "pygments_lexer": "ipython3",
  "version": 3,
  "kernelspec": {
   "name": "python3",
   "display_name": "Python 3"
  }
 },
 "cells": [
  {
   "cell_type": "code",
   "execution_count": 234,
   "metadata": {},
   "outputs": [],
   "source": [
    "import os\n",
    "os.chdir('/home/nmduy/CA683/Credit Project')\n",
    "from sklearn.ensemble import RandomForestClassifier\n",
    "from sklearn.linear_model import LogisticRegression\n",
    "from sklearn.metrics import precision_recall_curve\n",
    "from sklearn.metrics import roc_auc_score \n",
    "from sklearn.metrics import auc\n",
    "from sklearn import preprocessing\n",
    "import pandas as pd\n",
    "import numpy as np\n",
    "import random\n",
    "import json\n",
    "from sklearn import metrics\n",
    "random.seed(1509)"
   ]
  },
  {
   "cell_type": "markdown",
   "metadata": {},
   "source": [
    "## Read data\n",
    "Read filtered csv file (remove features containing too much missing values) and encode the categorical variables."
   ]
  },
  {
   "cell_type": "code",
   "execution_count": 249,
   "metadata": {},
   "outputs": [],
   "source": [
    "##### READ DATA #####\n",
    "data = pd.read_csv('data/filtered_application_train.csv')\n",
    "data_remove_id = data.drop(['SK_ID_CURR'], axis=1) if 'SK_ID_CURR' in list(data.columns) else data.copy()\n",
    "data_remove_id = data_remove_id.drop(['DAYS_EMPLOYED_ANOM'], axis=1) if 'DAYS_EMPLOYED_ANOM' in list(data_remove_id.columns) else data_remove_id.copy()\n",
    "data_remove_id = data_remove_id.drop(['Unnamed: 0'], axis=1) if 'Unnamed: 0' in list(data_remove_id.columns) else data_remove_id.copy()\n",
    ""
   ]
  },
  {
   "cell_type": "code",
   "execution_count": 236,
   "metadata": {},
   "outputs": [
    {
     "output_type": "stream",
     "name": "stdout",
     "text": "(53, 12)\n"
    }
   ],
   "source": [
    "ft_types = dict(data_remove_id.dtypes)\n",
    "\n",
    "categorical_ft = []\n",
    "numerical_ft = []\n",
    "for ft, val in ft_types.items():\n",
    "    if val == np.object:\n",
    "        categorical_ft += [ft]\n",
    "    else:\n",
    "        numerical_ft += [ft]\n",
    "\n",
    "\n",
    "select_ft = ['TARGET', 'EXT_SOURCE_3', 'EXT_SOURCE_2', 'DAYS_EMPLOYED', 'DAYS_ID_PUBLISH', 'FLOORSMAX_AVG', \n",
    "             'DAYS_REGISTRATION', 'AMT_GOODS_PRICE', 'DEF_30_CNT_SOCIAL_CIRCLE', 'HOUR_APPR_PROCESS_START', \n",
    "             'AMT_REQ_CREDIT_BUREAU_YEAR', 'CNT_CHILDREN', 'AMT_REQ_CREDIT_BUREAU_MON']\n",
    "\n",
    "drop_numerical_ft = [x for x in numerical_ft if x not in select_ft]\n",
    "remain_numerical_ft = [x for x in numerical_ft if x not in drop_numerical_ft]\n",
    "print((len(drop_numerical_ft), len(remain_numerical_ft)))\n",
    "data_remove_id = data_remove_id.drop(drop_numerical_ft, axis=1)"
   ]
  },
  {
   "cell_type": "code",
   "execution_count": 250,
   "metadata": {},
   "outputs": [
    {
     "output_type": "stream",
     "name": "stdout",
     "text": "(307511, 180)\n(245140, 180)\n"
    }
   ],
   "source": [
    "encoded_data = pd.get_dummies(data_remove_id)\n",
    "\n",
    "print(encoded_data.shape)\n",
    "\n",
    "##### DROP NA #####\n",
    "encoded_data = encoded_data.dropna()\n",
    "encoded_data = encoded_data.reset_index(drop=True)\n",
    "print(encoded_data.shape)"
   ]
  },
  {
   "cell_type": "code",
   "execution_count": 24,
   "metadata": {},
   "outputs": [
    {
     "output_type": "execute_result",
     "data": {
      "text/plain": "-3"
     },
     "metadata": {},
     "execution_count": 24
    }
   ],
   "source": [
    "np.sum(np.isfinite(encoded_data).sum()-190079)"
   ]
  },
  {
   "cell_type": "markdown",
   "metadata": {},
   "source": [
    "## MAKE THE DATASET\n",
    "Create subset and maybe make it balance between classes within classes"
   ]
  },
  {
   "cell_type": "code",
   "execution_count": 251,
   "metadata": {},
   "outputs": [
    {
     "output_type": "stream",
     "name": "stdout",
     "text": "Numb train/val/test samples: 183072 / 58252 / 3816\n(183072, 180)\n"
    }
   ],
   "source": [
    "##### MAKE IT BALANCE #####\n",
    "random.seed(1509)\n",
    "\n",
    "numb_pos_samples = encoded_data['TARGET'].sum()\n",
    "numb_neg_samples = len(encoded_data) - numb_pos_samples\n",
    "portion_pos_train = 0.8\n",
    "portion_pos_val = 0.1\n",
    "numb_pos_train = int(numb_pos_samples * portion_pos_train)\n",
    "numb_pos_val = int(numb_pos_samples * portion_pos_val)\n",
    "numb_pos_test = numb_pos_samples - numb_pos_train - numb_pos_val\n",
    "\n",
    "index_pos = encoded_data.index[encoded_data['TARGET'] == 1].tolist()\n",
    "index_neg = [i for i in range(len(encoded_data)) if i not in index_pos]\n",
    "\n",
    "data_pos = encoded_data.iloc[np.asarray(index_pos), :]\n",
    "data_neg = encoded_data.iloc[np.asarray(index_neg), :]\n",
    "\n",
    "##### shuffle #####\n",
    "data_pos = data_pos.sample(frac=1)\n",
    "data_neg = data_neg.sample(frac=1)\n",
    "\n",
    "data_pos_train = data_pos.iloc[0:numb_pos_train,:]\n",
    "data_pos_val = data_pos.iloc[numb_pos_train:numb_pos_train + numb_pos_val, :]\n",
    "data_pos_test = data_pos.iloc[numb_pos_train + numb_pos_val:, :]\n",
    "\n",
    "data_neg_train = data_neg.iloc[0:int(numb_pos_train*11), :]\n",
    "data_neg_val = data_neg.iloc[int(numb_pos_train*11):-numb_pos_test, :]\n",
    "data_neg_test = data_neg.iloc[-numb_pos_test:, :]\n",
    "\n",
    "data_train = pd.concat([data_pos_train, data_neg_train], ignore_index=True)\n",
    "data_val = pd.concat([data_pos_val, data_neg_val], ignore_index=True)\n",
    "data_not_test = pd.concat([data_train, data_val], ignore_index=True)\n",
    "data_test = pd.concat([data_pos_test, data_neg_test], ignore_index=True)\n",
    "\n",
    "print(f\"Numb train/val/test samples: {len(data_train)} / {len(data_val)} / {len(data_test)}\")\n",
    "\n",
    "print(data_train.shape)"
   ]
  },
  {
   "cell_type": "markdown",
   "metadata": {},
   "source": [
    "## REMOVE FEATURE CONTAINING ONLY 1 VALUES"
   ]
  },
  {
   "cell_type": "markdown",
   "metadata": {},
   "source": [
    "## FILTER CORRELATION MATRIX"
   ]
  },
  {
   "cell_type": "code",
   "execution_count": 128,
   "metadata": {},
   "outputs": [],
   "source": [
    "corr_pd = abs(data_not_test.corr()['TARGET']).sort_values()\n",
    "corr_pd = corr_pd[1:]"
   ]
  },
  {
   "cell_type": "code",
   "execution_count": 129,
   "metadata": {},
   "outputs": [
    {
     "output_type": "execute_result",
     "data": {
      "text/plain": "count    198.000000\nmean       0.020818\nstd        0.073409\nmin        0.000021\n25%        0.002392\n50%        0.007945\n75%        0.023065\nmax        1.000000\nName: TARGET, dtype: float64"
     },
     "metadata": {},
     "execution_count": 129
    }
   ],
   "source": [
    "corr_pd.describe()"
   ]
  },
  {
   "cell_type": "code",
   "execution_count": 130,
   "metadata": {},
   "outputs": [],
   "source": [
    "corr_dict = dict(corr_pd)"
   ]
  },
  {
   "cell_type": "code",
   "execution_count": 131,
   "metadata": {},
   "outputs": [
    {
     "output_type": "execute_result",
     "data": {
      "text/plain": "50"
     },
     "metadata": {},
     "execution_count": 131
    }
   ],
   "source": [
    "thres = 0.002392\n",
    "drop_ft = []\n",
    "for k, v in corr_dict.items():\n",
    "    if v <= thres:\n",
    "        drop_ft += [k]\n",
    "len(drop_ft)\n",
    ""
   ]
  },
  {
   "cell_type": "code",
   "execution_count": 132,
   "metadata": {},
   "outputs": [],
   "source": [
    "data_train = data_train.drop(drop_ft, axis=1)\n",
    "data_val = data_val.drop(drop_ft, axis=1)\n",
    "data_test = data_test.drop(drop_ft, axis=1)\n",
    "data_not_test = data_not_test.drop(drop_ft, axis=1)"
   ]
  },
  {
   "cell_type": "markdown",
   "metadata": {},
   "source": [
    "## SPLIT DATASET"
   ]
  },
  {
   "cell_type": "code",
   "execution_count": 252,
   "metadata": {},
   "outputs": [
    {
     "output_type": "stream",
     "name": "stdout",
     "text": "['FLAG_MOBIL', 'FLAG_DOCUMENT_2', 'NAME_INCOME_TYPE_Maternity leave', 'NAME_FAMILY_STATUS_Unknown']\n4\n"
    }
   ],
   "source": [
    "##### REMOVE 1-VALUE FT #####\n",
    "remove_ft = []\n",
    "for col in list(data_not_test.drop('TARGET', axis=1).columns):\n",
    "    if data_not_test[col].sum() == 0 or data_not_test[col].sum() == len(data_not_test[col]):\n",
    "        remove_ft += [col]\n",
    "\n",
    "print(remove_ft)        \n",
    "print(len(remove_ft))\n",
    "\n",
    "data_train = data_train.drop(remove_ft, axis=1)\n",
    "data_val = data_val.drop(remove_ft, axis=1)\n",
    "data_test = data_test.drop(remove_ft, axis=1)\n",
    "data_not_test = data_not_test.drop(remove_ft, axis=1)"
   ]
  },
  {
   "cell_type": "code",
   "execution_count": 253,
   "metadata": {},
   "outputs": [
    {
     "output_type": "stream",
     "name": "stdout",
     "text": "(183072, 175)\n"
    }
   ],
   "source": [
    "X_train = data_train.drop(['TARGET'], axis = 1)\n",
    "X_test = data_test.drop(['TARGET'], axis = 1)\n",
    "X_val = data_val.drop(['TARGET'], axis = 1)\n",
    "y_train = data_train['TARGET']\n",
    "y_test = data_test['TARGET']\n",
    "y_val = data_val['TARGET']\n",
    "X_not_test = data_not_test.drop(['TARGET'], axis = 1)\n",
    "y_not_test = data_not_test['TARGET']\n",
    "print(X_train.shape)"
   ]
  },
  {
   "cell_type": "markdown",
   "metadata": {},
   "source": [
    "## TRAIN\n",
    "Run classifier on both RandomForest and Logistic Regression"
   ]
  },
  {
   "cell_type": "code",
   "execution_count": 254,
   "metadata": {},
   "outputs": [
    {
     "output_type": "execute_result",
     "data": {
      "text/plain": "LogisticRegression(C=1.0, class_weight='balanced', dual=False,\n                   fit_intercept=True, intercept_scaling=1, l1_ratio=None,\n                   max_iter=100, multi_class='auto', n_jobs=None, penalty='l2',\n                   random_state=None, solver='lbfgs', tol=0.0001, verbose=0,\n                   warm_start=False)"
     },
     "metadata": {},
     "execution_count": 254
    }
   ],
   "source": [
    "rf = RandomForestClassifier(class_weight='balanced')\n",
    "lg = LogisticRegression(class_weight='balanced')\n",
    "\n",
    "rf.fit(X_train, y_train)\n",
    "lg.fit(X_train, y_train)\n",
    ""
   ]
  },
  {
   "cell_type": "markdown",
   "metadata": {},
   "source": [
    "## Evaluate"
   ]
  },
  {
   "cell_type": "code",
   "execution_count": 154,
   "metadata": {},
   "outputs": [],
   "source": [
    "def calculate_metric(gtnp, pdnp, score=None):\n",
    "    # input are numpy vector\n",
    "    total_samples = len(gtnp)\n",
    "    #print(f\"Total sample: {total_samples}\")\n",
    "    total_correct = np.sum(gtnp == pdnp)\n",
    "    accuracy = total_correct / total_samples\n",
    "    gt_pos = np.where(gtnp == 1)[0]\n",
    "    gt_neg = np.where(gtnp == 0)[0]\n",
    "    TP = np.sum(pdnp[gt_pos])\n",
    "    TN = np.sum(1 - pdnp[gt_neg])\n",
    "    FP = np.sum(pdnp[gt_neg])\n",
    "    FN = np.sum(1 - pdnp[gt_pos])\n",
    "    if score is not None:\n",
    "        AUC = roc_auc_score(gtnp, score)\n",
    "        lr_precision, lr_recall, _ = precision_recall_curve(gtnp, score)\n",
    "        AUC_PR = auc(lr_recall, lr_precision)\n",
    "    else:\n",
    "        AUC = roc_auc_score(gtnp, pdnp)\n",
    "        ACU_PR = -1\n",
    "\n",
    "    \n",
    "    \n",
    "    precision = TP / (TP+FP)\n",
    "    recall = TP/(TP+FN)\n",
    "    f1 = 2*precision*recall/(precision+recall)\n",
    "    metrics = {}\n",
    "    metrics['accuracy'] = str(accuracy)\n",
    "    metrics['precision'] = str(precision)\n",
    "    metrics['recall'] = str(recall)\n",
    "    metrics['f1'] = str(f1)\n",
    "    metrics['tp'] = str(int(TP))\n",
    "    metrics['tn'] = str(int(TN))\n",
    "    metrics['fp'] = str(int(FP))\n",
    "    metrics['fn'] = str(int(FN))\n",
    "    metrics['auc'] = str(AUC)\n",
    "    metrics['auc_pr'] = str(AUC_PR)\n",
    "\n",
    "    return metrics"
   ]
  },
  {
   "cell_type": "markdown",
   "metadata": {},
   "source": [
    "### RF Evaluation"
   ]
  },
  {
   "cell_type": "code",
   "execution_count": 255,
   "metadata": {},
   "outputs": [],
   "source": [
    "##### TRAIN PREDICTION #####\n",
    "rf_train_predict = rf.predict(X_train)\n",
    "rf_train_score = rf.predict_proba(X_train)[:,1] # score of higher label\n",
    "rf_train_metric = calculate_metric(y_train, rf_train_predict, rf_train_score)\n",
    "\n",
    "##### VALIDATE PREDICTION #####\n",
    "rf_val_predict = rf.predict(X_val)\n",
    "rf_val_score = rf.predict_proba(X_val)[:,1] # score of higher label\n",
    "rf_val_metric = calculate_metric(y_val, rf_val_predict, rf_val_score)\n",
    "\n",
    "##### TEST PREDICTION #####\n",
    "rf_test_predict = rf.predict(X_test)\n",
    "rf_test_score = rf.predict_proba(X_test)[:,1]\n",
    "rf_test_metric = calculate_metric(y_test, rf_test_predict, rf_test_score)"
   ]
  },
  {
   "cell_type": "markdown",
   "metadata": {},
   "source": [
    "### Logistic Regression Evaluation"
   ]
  },
  {
   "cell_type": "code",
   "execution_count": 256,
   "metadata": {},
   "outputs": [],
   "source": [
    "##### TRAIN PREDICTION #####\n",
    "lg_train_predict = lg.predict(X_train)\n",
    "lg_train_score = lg.predict_proba(X_train)[:,1] # score of higher label\n",
    "lg_train_metric = calculate_metric(y_train, lg_train_predict, lg_train_score)\n",
    "\n",
    "##### VALIDATE PREDICTION #####\n",
    "lg_val_predict = lg.predict(X_val)\n",
    "lg_val_score = lg.predict_proba(X_val)[:,1] # score of higher label\n",
    "lg_val_metric = calculate_metric(y_val, lg_val_predict, lg_val_score)\n",
    "\n",
    "##### TEST PREDICTION #####\n",
    "lg_test_predict = lg.predict(X_test)\n",
    "lg_test_score = lg.predict_proba(X_test)[:,1]\n",
    "lg_test_metric = calculate_metric(y_test, lg_test_predict, lg_test_score)"
   ]
  },
  {
   "cell_type": "code",
   "execution_count": 257,
   "metadata": {},
   "outputs": [],
   "source": [
    "result = {}\n",
    "result['info'] = 'filtered app, not remove corr, 175 ft, using all numeric, encoded, dropna, classweight balanced, negative:positive = 11:1'\n",
    "result['RF'] = {}\n",
    "result['LG'] = {}\n",
    "result['RF']['train'] = rf_train_metric\n",
    "result['RF']['val'] = rf_val_metric\n",
    "result['RF']['test'] = rf_test_metric\n",
    "result['LG']['train'] = lg_train_metric\n",
    "result['LG']['val'] = lg_val_metric\n",
    "result['LG']['test'] = lg_test_metric"
   ]
  },
  {
   "cell_type": "code",
   "execution_count": 240,
   "metadata": {},
   "outputs": [
    {
     "output_type": "execute_result",
     "data": {
      "text/plain": "{'train': {'accuracy': '0.6340987252088021',\n  'precision': '0.1187440034888792',\n  'recall': '0.5280428205724924',\n  'f1': '0.19388743306368916',\n  'tp': '6807',\n  'tn': '91283',\n  'fp': '50518',\n  'fn': '6084',\n  'auc': '0.6204540159972532',\n  'auc_pr': '0.11833374852784538'},\n 'val': {'accuracy': '0.6411093492522464',\n  'precision': '0.07174887892376682',\n  'recall': '0.5164494103041589',\n  'f1': '0.1259937911713485',\n  'tp': '832',\n  'tn': '19788',\n  'fp': '10764',\n  'fn': '779',\n  'auc': '0.6065156347700551',\n  'auc_pr': '0.06822275309882335'},\n 'test': {'accuracy': '0.5899503722084367',\n  'precision': '0.600974930362117',\n  'recall': '0.5353598014888338',\n  'f1': '0.5662729658792651',\n  'tp': '863',\n  'tn': '1039',\n  'fp': '573',\n  'fn': '749',\n  'auc': '0.6218428473791477',\n  'auc_pr': '0.5943093298108586'}}"
     },
     "metadata": {},
     "execution_count": 240
    }
   ],
   "source": [
    "result['LG']"
   ]
  },
  {
   "cell_type": "markdown",
   "metadata": {},
   "source": [
    "## TEST"
   ]
  },
  {
   "cell_type": "code",
   "execution_count": 258,
   "metadata": {},
   "outputs": [],
   "source": [
    "filename = 'metric/result_03.json'\n",
    "with open(filename, 'w') as f:\n",
    "    json.dump(result, f)"
   ]
  },
  {
   "cell_type": "code",
   "execution_count": 205,
   "metadata": {},
   "outputs": [
    {
     "output_type": "stream",
     "name": "stdout",
     "text": "(201103, 127)\n"
    }
   ],
   "source": [
    "print(encoded_data.shape)"
   ]
  },
  {
   "cell_type": "code",
   "execution_count": 206,
   "metadata": {},
   "outputs": [
    {
     "output_type": "stream",
     "name": "stdout",
     "text": "(48744, 124)\n"
    }
   ],
   "source": [
    "encoded_data_test = encoded_data_test.drop(drop_numerical_ft, axis=1)\n",
    "print(encoded_data_test.shape)"
   ]
  },
  {
   "cell_type": "code",
   "execution_count": 204,
   "metadata": {},
   "outputs": [],
   "source": [
    "data_test = pd.read_csv('data/filtered_merged_application_test.csv')\n",
    "SK_ID_CURR = data_test['SK_ID_CURR']\n",
    "data_test = data_test.drop(['SK_ID_CURR'], axis=1) if 'SK_ID_CURR' in list(data_test.columns) else data_test.copy()\n",
    "data_test = data_test.drop(['DAYS_EMPLOYED_ANOM'], axis=1) if 'DAYS_EMPLOYED_ANOM' in list(data_test.columns) else data_test.copy()\n",
    "data_test = data_test.drop(['Unnamed: 0'], axis=1) if 'Unnamed: 0' in list(data_test.columns) else data_test.copy()\n",
    "encoded_data_test = pd.get_dummies(data_test)"
   ]
  },
  {
   "cell_type": "code",
   "execution_count": 140,
   "metadata": {},
   "outputs": [
    {
     "output_type": "stream",
     "name": "stdout",
     "text": "(48744, 148)\n"
    }
   ],
   "source": [
    "drop_ft_test = [x for x in list(encoded_data_test.columns) if x in drop_ft]\n",
    "encoded_data_test = encoded_data_test.drop(drop_ft_test, axis=1)\n",
    "print(encoded_data_test.shape)"
   ]
  },
  {
   "cell_type": "code",
   "execution_count": 208,
   "metadata": {},
   "outputs": [],
   "source": [
    "encoded_data_test_fillna = encoded_data_test.fillna(encoded_data_test.mean())"
   ]
  },
  {
   "cell_type": "code",
   "execution_count": 214,
   "metadata": {},
   "outputs": [],
   "source": [
    "data_test_score = rf.predict_proba(encoded_data_test_fillna)[:,1] # score of higher label"
   ]
  },
  {
   "cell_type": "code",
   "execution_count": 215,
   "metadata": {},
   "outputs": [],
   "source": [
    "submit = pd.DataFrame({'SK_ID_CURR': SK_ID_CURR, 'TARGET': data_test_score})\n",
    "submit.to_csv('data/submit_select_numerical_rf.csv', index=False)"
   ]
  },
  {
   "cell_type": "code",
   "execution_count": 165,
   "metadata": {},
   "outputs": [
    {
     "output_type": "execute_result",
     "data": {
      "text/plain": "   SK_ID_CURR  TARGET\n0      100001    0.10\n1      100005    0.12\n2      100013    0.05\n3      100028    0.02\n4      100038    0.14",
      "text/html": "<div>\n<style scoped>\n    .dataframe tbody tr th:only-of-type {\n        vertical-align: middle;\n    }\n\n    .dataframe tbody tr th {\n        vertical-align: top;\n    }\n\n    .dataframe thead th {\n        text-align: right;\n    }\n</style>\n<table border=\"1\" class=\"dataframe\">\n  <thead>\n    <tr style=\"text-align: right;\">\n      <th></th>\n      <th>SK_ID_CURR</th>\n      <th>TARGET</th>\n    </tr>\n  </thead>\n  <tbody>\n    <tr>\n      <th>0</th>\n      <td>100001</td>\n      <td>0.10</td>\n    </tr>\n    <tr>\n      <th>1</th>\n      <td>100005</td>\n      <td>0.12</td>\n    </tr>\n    <tr>\n      <th>2</th>\n      <td>100013</td>\n      <td>0.05</td>\n    </tr>\n    <tr>\n      <th>3</th>\n      <td>100028</td>\n      <td>0.02</td>\n    </tr>\n    <tr>\n      <th>4</th>\n      <td>100038</td>\n      <td>0.14</td>\n    </tr>\n  </tbody>\n</table>\n</div>"
     },
     "metadata": {},
     "execution_count": 165
    }
   ],
   "source": [
    "submit.head()"
   ]
  },
  {
   "cell_type": "markdown",
   "metadata": {},
   "source": [
    "## Feature Importance RF"
   ]
  },
  {
   "cell_type": "code",
   "execution_count": 233,
   "metadata": {},
   "outputs": [
    {
     "output_type": "execute_result",
     "data": {
      "text/plain": "array(['FLAG_DOCUMENT_12', 'NAME_INCOME_TYPE_Pensioner',\n       'FLAG_DOCUMENT_4', 'FLAG_DOCUMENT_10', 'FLAG_DOCUMENT_7',\n       'ORGANIZATION_TYPE_Industry: type 8', 'NAME_INCOME_TYPE_Student',\n       'FLAG_DOCUMENT_17', 'ORGANIZATION_TYPE_Religion',\n       'FLAG_DOCUMENT_21', 'ORGANIZATION_TYPE_Trade: type 5',\n       'ORGANIZATION_TYPE_Industry: type 6',\n       'ORGANIZATION_TYPE_Industry: type 13', 'FLAG_DOCUMENT_15',\n       'NAME_EDUCATION_TYPE_Academic degree', 'FLAG_EMP_PHONE',\n       'ORGANIZATION_TYPE_Trade: type 4',\n       'ORGANIZATION_TYPE_Industry: type 10', 'FLAG_DOCUMENT_20',\n       'FLAG_CONT_MOBILE', 'FLAG_DOCUMENT_19',\n       'NAME_TYPE_SUITE_Group of people', 'ORGANIZATION_TYPE_Cleaning',\n       'ORGANIZATION_TYPE_Legal Services',\n       'ORGANIZATION_TYPE_Transport: type 1', 'ORGANIZATION_TYPE_Culture',\n       'OCCUPATION_TYPE_IT staff', 'FLAG_DOCUMENT_13', 'FLAG_DOCUMENT_14',\n       'ORGANIZATION_TYPE_Trade: type 6', 'FLAG_DOCUMENT_11',\n       'ORGANIZATION_TYPE_Trade: type 1', 'OCCUPATION_TYPE_HR staff',\n       'ORGANIZATION_TYPE_Insurance',\n       'ORGANIZATION_TYPE_Industry: type 12',\n       'ORGANIZATION_TYPE_Emergency',\n       'ORGANIZATION_TYPE_Industry: type 2',\n       'previous_NAME_CONTRACT_TYPE_XNA_count',\n       'previous_NAME_CONTRACT_TYPE_XNA_count_norm',\n       'ORGANIZATION_TYPE_Mobile', 'ORGANIZATION_TYPE_Industry: type 5',\n       'NAME_TYPE_SUITE_Other_A', 'ORGANIZATION_TYPE_Advertising',\n       'ORGANIZATION_TYPE_Hotel', 'ORGANIZATION_TYPE_Realtor',\n       'ORGANIZATION_TYPE_Telecom', 'OCCUPATION_TYPE_Realty agents',\n       'ORGANIZATION_TYPE_Electricity',\n       'NAME_HOUSING_TYPE_Co-op apartment', 'FLAG_DOCUMENT_9',\n       'ORGANIZATION_TYPE_University',\n       'ORGANIZATION_TYPE_Industry: type 4', 'PORTION_NOT_INSTALMENT',\n       'ORGANIZATION_TYPE_Trade: type 2', 'ORGANIZATION_TYPE_Services',\n       'OCCUPATION_TYPE_Secretaries',\n       'ORGANIZATION_TYPE_Industry: type 7', 'NAME_TYPE_SUITE_Other_B',\n       'FLAG_DOCUMENT_18', 'ORGANIZATION_TYPE_Industry: type 1',\n       'ORGANIZATION_TYPE_Security Ministries', 'FLAG_DOCUMENT_16',\n       'AMT_REQ_CREDIT_BUREAU_DAY', 'ORGANIZATION_TYPE_Bank',\n       'OCCUPATION_TYPE_Waiters/barmen staff',\n       'AMT_REQ_CREDIT_BUREAU_HOUR', 'FLAG_DOCUMENT_6',\n       'ORGANIZATION_TYPE_Police', 'NAME_TYPE_SUITE_Children',\n       'ORGANIZATION_TYPE_Transport: type 3', 'ORGANIZATION_TYPE_Postal',\n       'NAME_HOUSING_TYPE_Office apartment', 'ORGANIZATION_TYPE_Military',\n       'ORGANIZATION_TYPE_Transport: type 2', 'ORGANIZATION_TYPE_Housing',\n       'ORGANIZATION_TYPE_Agriculture',\n       'OCCUPATION_TYPE_Private service staff',\n       'ORGANIZATION_TYPE_Restaurant',\n       'NAME_EDUCATION_TYPE_Lower secondary',\n       'ORGANIZATION_TYPE_Industry: type 11',\n       'ORGANIZATION_TYPE_Industry: type 9', 'FLAG_DOCUMENT_5',\n       'OCCUPATION_TYPE_Low-skill Laborers', 'ORGANIZATION_TYPE_Security',\n       'REG_REGION_NOT_LIVE_REGION', 'ORGANIZATION_TYPE_Industry: type 3',\n       'ORGANIZATION_TYPE_Trade: type 3',\n       'OCCUPATION_TYPE_Cleaning staff',\n       'NAME_HOUSING_TYPE_Rented apartment', 'NAME_FAMILY_STATUS_Widow',\n       'ORGANIZATION_TYPE_Transport: type 4',\n       'ORGANIZATION_TYPE_Business Entity Type 1',\n       'OCCUPATION_TYPE_Cooking staff', 'ORGANIZATION_TYPE_Kindergarten',\n       'OCCUPATION_TYPE_Medicine staff', 'OCCUPATION_TYPE_Security staff',\n       'NAME_EDUCATION_TYPE_Incomplete higher',\n       'NAME_TYPE_SUITE_Spouse, partner', 'ORGANIZATION_TYPE_School',\n       'NAME_HOUSING_TYPE_Municipal apartment',\n       'ORGANIZATION_TYPE_Construction',\n       'ORGANIZATION_TYPE_Trade: type 7', 'AMT_REQ_CREDIT_BUREAU_WEEK',\n       'LIVE_REGION_NOT_WORK_REGION', 'ORGANIZATION_TYPE_Medicine',\n       'OCCUPATION_TYPE_Accountants', 'REG_REGION_NOT_WORK_REGION',\n       'ORGANIZATION_TYPE_Government',\n       'ORGANIZATION_TYPE_Business Entity Type 2',\n       'OCCUPATION_TYPE_High skill tech staff',\n       'NAME_HOUSING_TYPE_With parents',\n       'WEEKDAY_APPR_PROCESS_START_SUNDAY', 'FLAG_DOCUMENT_8',\n       'FLAG_EMAIL', 'NAME_FAMILY_STATUS_Separated',\n       'ORGANIZATION_TYPE_Other', 'OCCUPATION_TYPE_Managers',\n       'previous_NAME_CONTRACT_STATUS_Unused offer_count',\n       'NAME_INCOME_TYPE_State servant', 'OCCUPATION_TYPE_Drivers',\n       'REG_CITY_NOT_LIVE_CITY', 'NAME_FAMILY_STATUS_Civil marriage',\n       'NAME_TYPE_SUITE_Family', 'NAME_CONTRACT_TYPE',\n       'NAME_HOUSING_TYPE_House / apartment',\n       'NAME_FAMILY_STATUS_Single / not married',\n       'WEEKDAY_APPR_PROCESS_START_SATURDAY', 'DEF_60_CNT_SOCIAL_CIRCLE',\n       'OCCUPATION_TYPE_Core staff', 'OCCUPATION_TYPE_Sales staff',\n       'NAME_TYPE_SUITE_Unaccompanied', 'ORGANIZATION_TYPE_Self-employed',\n       'WEEKDAY_APPR_PROCESS_START_MONDAY',\n       'WEEKDAY_APPR_PROCESS_START_THURSDAY',\n       'WEEKDAY_APPR_PROCESS_START_WEDNESDAY',\n       'WEEKDAY_APPR_PROCESS_START_TUESDAY',\n       'NAME_INCOME_TYPE_Commercial associate',\n       'WEEKDAY_APPR_PROCESS_START_FRIDAY', 'LIVE_CITY_NOT_WORK_CITY',\n       'DEF_30_CNT_SOCIAL_CIRCLE', 'REG_CITY_NOT_WORK_CITY',\n       'FLAG_WORK_PHONE', 'ORGANIZATION_TYPE_Business Entity Type 3',\n       'NAME_FAMILY_STATUS_Married', 'OCCUPATION_TYPE_Laborers',\n       'FLAG_OWN_REALTY',\n       'previous_NAME_CONTRACT_STATUS_Unused offer_count_norm',\n       'NAME_INCOME_TYPE_Working', 'FLAG_PHONE', 'FLAG_OWN_CAR',\n       'FLAG_DOCUMENT_3', 'AMT_REQ_CREDIT_BUREAU_MON',\n       'AMT_REQ_CREDIT_BUREAU_QRT', 'REGION_RATING_CLIENT',\n       'REGION_RATING_CLIENT_W_CITY', 'CNT_CHILDREN',\n       'NAME_EDUCATION_TYPE_Secondary / secondary special',\n       'previous_NAME_CONTRACT_TYPE_Revolving loans_count', 'CODE_GENDER',\n       'previous_NAME_CONTRACT_STATUS_Canceled_count',\n       'NAME_EDUCATION_TYPE_Higher education',\n       'previous_NAME_CONTRACT_STATUS_Refused_count', 'CNT_FAM_MEMBERS',\n       'previous_NAME_CONTRACT_STATUS_Canceled_count_norm',\n       'previous_NAME_CONTRACT_TYPE_Cash loans_count',\n       'OBS_60_CNT_SOCIAL_CIRCLE', 'OBS_30_CNT_SOCIAL_CIRCLE',\n       'previous_NAME_CONTRACT_TYPE_Revolving loans_count_norm',\n       'previous_NAME_CONTRACT_TYPE_Consumer loans_count',\n       'previous_NAME_CONTRACT_STATUS_Approved_count',\n       'AMT_REQ_CREDIT_BUREAU_YEAR', 'OWN_CAR_AGE',\n       'previous_NAME_CONTRACT_TYPE_Cash loans_count_norm',\n       'previous_NAME_CONTRACT_STATUS_Refused_count_norm',\n       'previous_NAME_CONTRACT_TYPE_Consumer loans_count_norm',\n       'previous_NAME_CONTRACT_STATUS_Approved_count_norm',\n       'HOUR_APPR_PROCESS_START', 'AMT_INCOME_TOTAL',\n       'AVG_DIF_AMT_PAYMENT', 'DIF_AMT_CREDIT_max',\n       'REGION_POPULATION_RELATIVE', 'DIF_DAYS_INSTALMENT_min',\n       'AMT_GOODS_PRICE', 'DIF_DAYS_INSTALMENT_max',\n       'DIF_AMT_CREDIT_mean', 'DIF_AMT_CREDIT_sum', 'DIF_AMT_CREDIT_min',\n       'DIF_DAYS_INSTALMENT_mean', 'AMT_CREDIT', 'AMT_ANNUITY',\n       'DIF_DAYS_INSTALMENT_sum', 'DAYS_REGISTRATION', 'DAYS_ID_PUBLISH',\n       'DAYS_LAST_PHONE_CHANGE', 'DAYS_BIRTH', 'DAYS_EMPLOYED',\n       'EXT_SOURCE_2', 'EXT_SOURCE_3'], dtype='<U54')"
     },
     "metadata": {},
     "execution_count": 233
    }
   ],
   "source": [
    "ft_importance = rf.feature_importances_\n",
    "name_ft = np.asarray(list(X_train.columns))\n",
    "index_sort = np.argsort(ft_importance)\n",
    "name_ft[index_sort]"
   ]
  },
  {
   "cell_type": "markdown",
   "metadata": {},
   "source": [
    "## FIND PVALUES"
   ]
  },
  {
   "cell_type": "code",
   "execution_count": 170,
   "metadata": {},
   "outputs": [],
   "source": [
    "import scipy.stats as stat\n",
    "\n",
    "X = X_train\n",
    "#### Get p-values for the fitted model ####\n",
    "denom = (2.0*(1.0+np.cosh(lg.decision_function(X))))\n",
    "denom = np.tile(denom,(X.shape[1],1)).T\n",
    "F_ij = np.dot((X/denom).T,X) ## Fisher Information Matrix\n",
    "Cramer_Rao = np.linalg.inv(F_ij) ## Inverse Information Matrix\n",
    "sigma_estimates = np.sqrt(np.diagonal(Cramer_Rao))\n",
    "z_scores = lg.coef_[0]/sigma_estimates # z-score for eaach model coefficient\n",
    "p_values = [stat.norm.sf(abs(x))*2 for x in z_scores] ### two tailed test for p-values"
   ]
  },
  {
   "cell_type": "code",
   "execution_count": 174,
   "metadata": {},
   "outputs": [],
   "source": [
    "index_sort = np.argsort(p_values)"
   ]
  },
  {
   "cell_type": "code",
   "execution_count": 179,
   "metadata": {},
   "outputs": [
    {
     "output_type": "execute_result",
     "data": {
      "text/plain": "array([ 6,  8,  7, 67, 11, 84, 86, 12])"
     },
     "metadata": {},
     "execution_count": 179
    }
   ],
   "source": [
    "pnp = np.asarray(p_values)\n",
    "index_sort[0:8]"
   ]
  },
  {
   "cell_type": "code",
   "execution_count": 181,
   "metadata": {},
   "outputs": [
    {
     "output_type": "execute_result",
     "data": {
      "text/plain": "array(['AMT_CREDIT', 'AMT_GOODS_PRICE', 'AMT_ANNUITY',\n       'AVG_DIF_AMT_PAYMENT', 'DAYS_EMPLOYED', 'DIF_AMT_CREDIT_mean',\n       'DIF_AMT_CREDIT_max', 'DAYS_REGISTRATION', 'DIF_AMT_CREDIT_sum',\n       'DAYS_BIRTH', 'DAYS_LAST_PHONE_CHANGE', 'DAYS_ID_PUBLISH',\n       'AMT_INCOME_TOTAL', 'DIF_AMT_CREDIT_min',\n       'DIF_DAYS_INSTALMENT_sum', 'DIF_DAYS_INSTALMENT_max',\n       'DIF_DAYS_INSTALMENT_min', 'DIF_DAYS_INSTALMENT_mean',\n       'OWN_CAR_AGE', 'HOUR_APPR_PROCESS_START',\n       'AMT_REQ_CREDIT_BUREAU_YEAR', 'AMT_REQ_CREDIT_BUREAU_MON',\n       'CODE_GENDER', 'REGION_RATING_CLIENT_W_CITY',\n       'REGION_RATING_CLIENT', 'OBS_30_CNT_SOCIAL_CIRCLE',\n       'OBS_60_CNT_SOCIAL_CIRCLE', 'FLAG_WORK_PHONE', 'EXT_SOURCE_3',\n       'OCCUPATION_TYPE_Laborers', 'EXT_SOURCE_2',\n       'DEF_30_CNT_SOCIAL_CIRCLE', 'REG_CITY_NOT_WORK_CITY',\n       'FLAG_OWN_CAR', 'DEF_60_CNT_SOCIAL_CIRCLE', 'FLAG_DOCUMENT_3',\n       'REG_CITY_NOT_LIVE_CITY', 'LIVE_CITY_NOT_WORK_CITY',\n       'FLAG_OWN_REALTY', 'OCCUPATION_TYPE_Core staff',\n       'NAME_CONTRACT_TYPE', 'FLAG_PHONE', 'OCCUPATION_TYPE_Sales staff',\n       'OCCUPATION_TYPE_Drivers', 'OCCUPATION_TYPE_Managers',\n       'OCCUPATION_TYPE_Accountants', 'NAME_TYPE_SUITE_Unaccompanied',\n       'FLAG_EMAIL', 'OCCUPATION_TYPE_High skill tech staff',\n       'AMT_REQ_CREDIT_BUREAU_QRT', 'FLAG_CONT_MOBILE', 'FLAG_DOCUMENT_8',\n       'OCCUPATION_TYPE_Cooking staff', 'OCCUPATION_TYPE_Medicine staff',\n       'OCCUPATION_TYPE_Security staff',\n       'OCCUPATION_TYPE_Low-skill Laborers', 'AMT_REQ_CREDIT_BUREAU_WEEK',\n       'REG_REGION_NOT_WORK_REGION', 'FLAG_DOCUMENT_16',\n       'NAME_TYPE_SUITE_Family', 'FLAG_EMP_PHONE', 'FLAG_DOCUMENT_18',\n       'OCCUPATION_TYPE_Cleaning staff',\n       'OCCUPATION_TYPE_Private service staff', 'FLAG_DOCUMENT_5',\n       'REG_REGION_NOT_LIVE_REGION', 'FLAG_DOCUMENT_6',\n       'AMT_REQ_CREDIT_BUREAU_DAY',\n       'OCCUPATION_TYPE_Waiters/barmen staff',\n       'LIVE_REGION_NOT_WORK_REGION', 'FLAG_DOCUMENT_13',\n       'NAME_TYPE_SUITE_Children', 'AMT_REQ_CREDIT_BUREAU_HOUR',\n       'FLAG_DOCUMENT_9', 'FLAG_DOCUMENT_14', 'OCCUPATION_TYPE_HR staff',\n       'OCCUPATION_TYPE_Secretaries', 'FLAG_DOCUMENT_11',\n       'OCCUPATION_TYPE_IT staff', 'NAME_TYPE_SUITE_Spouse, partner',\n       'OCCUPATION_TYPE_Realty agents', 'FLAG_DOCUMENT_15',\n       'NAME_TYPE_SUITE_Other_B', 'NAME_TYPE_SUITE_Other_A',\n       'REGION_POPULATION_RELATIVE', 'FLAG_DOCUMENT_19',\n       'FLAG_DOCUMENT_20', 'FLAG_DOCUMENT_17',\n       'NAME_TYPE_SUITE_Group of people', 'FLAG_DOCUMENT_4',\n       'FLAG_DOCUMENT_7', 'PORTION_NOT_INSTALMENT', 'FLAG_DOCUMENT_21',\n       'FLAG_DOCUMENT_10', 'FLAG_DOCUMENT_12', 'NAME_INCOME_TYPE_Working',\n       'previous_NAME_CONTRACT_STATUS_Refused_count_norm',\n       'NAME_HOUSING_TYPE_With parents',\n       'ORGANIZATION_TYPE_Business Entity Type 3',\n       'ORGANIZATION_TYPE_Self-employed',\n       'NAME_HOUSING_TYPE_House / apartment',\n       'previous_NAME_CONTRACT_TYPE_Cash loans_count_norm',\n       'previous_NAME_CONTRACT_TYPE_Revolving loans_count_norm',\n       'previous_NAME_CONTRACT_STATUS_Approved_count_norm',\n       'NAME_HOUSING_TYPE_Rented apartment',\n       'NAME_INCOME_TYPE_State servant',\n       'NAME_INCOME_TYPE_Commercial associate',\n       'previous_NAME_CONTRACT_STATUS_Canceled_count_norm',\n       'ORGANIZATION_TYPE_Construction', 'ORGANIZATION_TYPE_School',\n       'previous_NAME_CONTRACT_TYPE_Consumer loans_count_norm',\n       'ORGANIZATION_TYPE_Medicine', 'ORGANIZATION_TYPE_Government',\n       'ORGANIZATION_TYPE_Military', 'ORGANIZATION_TYPE_Industry: type 3',\n       'ORGANIZATION_TYPE_Other', 'ORGANIZATION_TYPE_Police',\n       'ORGANIZATION_TYPE_Transport: type 3',\n       'ORGANIZATION_TYPE_Security Ministries', 'ORGANIZATION_TYPE_Bank',\n       'ORGANIZATION_TYPE_Business Entity Type 2',\n       'NAME_HOUSING_TYPE_Office apartment',\n       'ORGANIZATION_TYPE_Trade: type 7',\n       'ORGANIZATION_TYPE_Transport: type 4',\n       'ORGANIZATION_TYPE_Kindergarten', 'ORGANIZATION_TYPE_Restaurant',\n       'ORGANIZATION_TYPE_Trade: type 3', 'ORGANIZATION_TYPE_Security',\n       'ORGANIZATION_TYPE_Industry: type 1',\n       'ORGANIZATION_TYPE_University',\n       'ORGANIZATION_TYPE_Industry: type 9',\n       'ORGANIZATION_TYPE_Agriculture', 'ORGANIZATION_TYPE_Trade: type 6',\n       'previous_NAME_CONTRACT_STATUS_Unused offer_count_norm',\n       'ORGANIZATION_TYPE_Electricity',\n       'ORGANIZATION_TYPE_Transport: type 2', 'ORGANIZATION_TYPE_Hotel',\n       'ORGANIZATION_TYPE_Industry: type 11',\n       'ORGANIZATION_TYPE_Industry: type 4',\n       'ORGANIZATION_TYPE_Industry: type 12',\n       'NAME_HOUSING_TYPE_Co-op apartment', 'ORGANIZATION_TYPE_Postal',\n       'ORGANIZATION_TYPE_Industry: type 2', 'ORGANIZATION_TYPE_Realtor',\n       'ORGANIZATION_TYPE_Services', 'ORGANIZATION_TYPE_Insurance',\n       'ORGANIZATION_TYPE_Transport: type 1',\n       'ORGANIZATION_TYPE_Industry: type 7', 'ORGANIZATION_TYPE_Culture',\n       'ORGANIZATION_TYPE_Industry: type 5',\n       'ORGANIZATION_TYPE_Business Entity Type 1',\n       'ORGANIZATION_TYPE_Advertising', 'ORGANIZATION_TYPE_Mobile',\n       'ORGANIZATION_TYPE_Emergency', 'ORGANIZATION_TYPE_Trade: type 1',\n       'ORGANIZATION_TYPE_Telecom',\n       'NAME_HOUSING_TYPE_Municipal apartment',\n       'ORGANIZATION_TYPE_Trade: type 5',\n       'ORGANIZATION_TYPE_Trade: type 4',\n       'ORGANIZATION_TYPE_Trade: type 2', 'ORGANIZATION_TYPE_Religion',\n       'previous_NAME_CONTRACT_TYPE_XNA_count_norm',\n       'ORGANIZATION_TYPE_Legal Services', 'ORGANIZATION_TYPE_Cleaning',\n       'ORGANIZATION_TYPE_Industry: type 10',\n       'ORGANIZATION_TYPE_Industry: type 6', 'ORGANIZATION_TYPE_Housing',\n       'ORGANIZATION_TYPE_Industry: type 13',\n       'NAME_INCOME_TYPE_Pensioner', 'NAME_INCOME_TYPE_Student',\n       'ORGANIZATION_TYPE_Industry: type 8', 'NAME_FAMILY_STATUS_Married',\n       'CNT_CHILDREN', 'NAME_FAMILY_STATUS_Widow',\n       'NAME_FAMILY_STATUS_Single / not married', 'CNT_FAM_MEMBERS',\n       'NAME_FAMILY_STATUS_Separated',\n       'NAME_EDUCATION_TYPE_Incomplete higher',\n       'NAME_EDUCATION_TYPE_Secondary / secondary special',\n       'previous_NAME_CONTRACT_STATUS_Approved_count',\n       'WEEKDAY_APPR_PROCESS_START_WEDNESDAY',\n       'NAME_EDUCATION_TYPE_Higher education',\n       'WEEKDAY_APPR_PROCESS_START_FRIDAY',\n       'previous_NAME_CONTRACT_STATUS_Canceled_count',\n       'previous_NAME_CONTRACT_STATUS_Refused_count',\n       'previous_NAME_CONTRACT_STATUS_Unused offer_count',\n       'NAME_EDUCATION_TYPE_Academic degree',\n       'previous_NAME_CONTRACT_TYPE_Cash loans_count',\n       'NAME_FAMILY_STATUS_Civil marriage',\n       'WEEKDAY_APPR_PROCESS_START_SATURDAY',\n       'WEEKDAY_APPR_PROCESS_START_SUNDAY',\n       'previous_NAME_CONTRACT_TYPE_Consumer loans_count',\n       'previous_NAME_CONTRACT_TYPE_Revolving loans_count',\n       'NAME_EDUCATION_TYPE_Lower secondary',\n       'previous_NAME_CONTRACT_TYPE_XNA_count',\n       'WEEKDAY_APPR_PROCESS_START_TUESDAY',\n       'WEEKDAY_APPR_PROCESS_START_THURSDAY',\n       'WEEKDAY_APPR_PROCESS_START_MONDAY'], dtype='<U54')"
     },
     "metadata": {},
     "execution_count": 181
    }
   ],
   "source": [
    "name_ft = np.asarray(list(X_train.columns))\n",
    "name_ft[index_sort]"
   ]
  },
  {
   "cell_type": "code",
   "execution_count": 182,
   "metadata": {},
   "outputs": [
    {
     "output_type": "execute_result",
     "data": {
      "text/plain": "{'NAME_TYPE_SUITE_Group of people': 2.063628898692377e-05,\n 'ORGANIZATION_TYPE_Religion': 4.796115032605099e-05,\n 'NAME_FAMILY_STATUS_Separated': 5.2539516418956466e-05,\n 'ORGANIZATION_TYPE_Industry: type 11': 0.00011261576799478748,\n 'ORGANIZATION_TYPE_Business Entity Type 2': 0.00011339888206571532,\n 'ORGANIZATION_TYPE_Mobile': 0.000133338115729271,\n 'ORGANIZATION_TYPE_Industry: type 13': 0.00014279378774093075,\n 'ORGANIZATION_TYPE_Industry: type 8': 0.00020001708938370376,\n 'NAME_EDUCATION_TYPE_Incomplete higher': 0.0002026254647917751,\n 'AMT_REQ_CREDIT_BUREAU_WEEK': 0.00020450652511080501,\n 'FLAG_DOCUMENT_21': 0.00020660373445054636,\n 'NAME_TYPE_SUITE_Spouse, partner': 0.00034637732009811087,\n 'CNT_FAM_MEMBERS': 0.00038688907949504733,\n 'WEEKDAY_APPR_PROCESS_START_WEDNESDAY': 0.0005072280845577627,\n 'WEEKDAY_APPR_PROCESS_START_FRIDAY': 0.0005150031094679311,\n 'FLAG_DOCUMENT_20': 0.0005599435468385759,\n 'ORGANIZATION_TYPE_Industry: type 7': 0.0005885529132414816,\n 'ORGANIZATION_TYPE_Business Entity Type 1': 0.0006690616652838025,\n 'FLAG_DOCUMENT_12': 0.0006710475995567881,\n 'ORGANIZATION_TYPE_Postal': 0.000683968838513813,\n 'FLAG_DOCUMENT_7': 0.0008090989067564563,\n 'LIVE_REGION_NOT_WORK_REGION': 0.0009062227854462042,\n 'ORGANIZATION_TYPE_Telecom': 0.0009486909553478509,\n 'FLAG_DOCUMENT_5': 0.0009871937076449168,\n 'OCCUPATION_TYPE_Realty agents': 0.001234700883569988,\n 'ORGANIZATION_TYPE_Cleaning': 0.001255369809178021,\n 'AMT_REQ_CREDIT_BUREAU_HOUR': 0.0012827431018547007,\n 'OWN_CAR_AGE': 0.0013210659953880905,\n 'AMT_INCOME_TOTAL': 0.0013423691602163638,\n 'NAME_TYPE_SUITE_Other_B': 0.0013676365682664064,\n 'ORGANIZATION_TYPE_Industry: type 10': 0.0013685629470166724,\n 'previous_NAME_CONTRACT_STATUS_Unused offer_count_norm': 0.0014917279851477552,\n 'FLAG_EMP_PHONE': 0.0014925919901629943,\n 'previous_NAME_CONTRACT_STATUS_Unused offer_count': 0.0014945005699743231,\n 'FLAG_DOCUMENT_10': 0.00150052410977076,\n 'ORGANIZATION_TYPE_Transport: type 4': 0.001618859189001028,\n 'ORGANIZATION_TYPE_Emergency': 0.0016613581938712781,\n 'ORGANIZATION_TYPE_Trade: type 1': 0.0016663782497222152,\n 'NAME_INCOME_TYPE_Pensioner': 0.0018980447855801207,\n 'NAME_HOUSING_TYPE_Municipal apartment': 0.0019541971010827853,\n 'ORGANIZATION_TYPE_Industry: type 5': 0.0019900613778090397,\n 'NAME_HOUSING_TYPE_Co-op apartment': 0.0020191432853523565,\n 'FLAG_DOCUMENT_19': 0.002105635874478402,\n 'NAME_INCOME_TYPE_Student': 0.0021220899398436384,\n 'ORGANIZATION_TYPE_Industry: type 2': 0.002220981329741706,\n 'NAME_TYPE_SUITE_Children': 0.0022482613795466776,\n 'ORGANIZATION_TYPE_Realtor': 0.0022959342877281633,\n 'AMT_REQ_CREDIT_BUREAU_DAY': 0.0023579345498595016,\n 'WEEKDAY_APPR_PROCESS_START_THURSDAY': 0.002358713998316641,\n 'ORGANIZATION_TYPE_Trade: type 4': 0.0023711081661181607,\n 'WEEKDAY_APPR_PROCESS_START_SUNDAY': 0.0024551618693782885,\n 'FLAG_CONT_MOBILE': 0.002514493191754774,\n 'FLAG_DOCUMENT_4': 0.002599053546218318,\n 'ORGANIZATION_TYPE_Legal Services': 0.002606166731150975,\n 'NAME_TYPE_SUITE_Other_A': 0.002844117893931898,\n 'ORGANIZATION_TYPE_Hotel': 0.002889938127542124,\n 'WEEKDAY_APPR_PROCESS_START_MONDAY': 0.003025843717487372,\n 'WEEKDAY_APPR_PROCESS_START_SATURDAY': 0.0030633371130609067,\n 'ORGANIZATION_TYPE_Industry: type 6': 0.003158005502654961,\n 'ORGANIZATION_TYPE_Transport: type 2': 0.003265224124233184,\n 'OCCUPATION_TYPE_IT staff': 0.003288997384285592,\n 'ORGANIZATION_TYPE_Housing': 0.0033153455521245318,\n 'FLAG_EMAIL': 0.0033707311333667066,\n 'AMT_REQ_CREDIT_BUREAU_QRT': 0.003374280312073797,\n 'OCCUPATION_TYPE_Cleaning staff': 0.003414074542503575,\n 'DIF_DAYS_INSTALMENT_max': 0.003431923469495155,\n 'ORGANIZATION_TYPE_Trade: type 7': 0.003498476260311832,\n 'ORGANIZATION_TYPE_Services': 0.0036083520453914202,\n 'ORGANIZATION_TYPE_Transport: type 1': 0.0036214220664213498,\n 'WEEKDAY_APPR_PROCESS_START_TUESDAY': 0.003723491182743517,\n 'ORGANIZATION_TYPE_Trade: type 2': 0.003810941605359792,\n 'OCCUPATION_TYPE_Waiters/barmen staff': 0.003917639277478581,\n 'ORGANIZATION_TYPE_Agriculture': 0.00393331651005514,\n 'ORGANIZATION_TYPE_Trade: type 5': 0.003970332374998842,\n 'REG_REGION_NOT_WORK_REGION': 0.003988772370307261,\n 'ORGANIZATION_TYPE_Culture': 0.003997748687597147,\n 'OCCUPATION_TYPE_Secretaries': 0.0040487171145597,\n 'ORGANIZATION_TYPE_Electricity': 0.004058023925163072,\n 'ORGANIZATION_TYPE_Insurance': 0.004500369868745951,\n 'FLAG_DOCUMENT_17': 0.004551814393796228,\n 'ORGANIZATION_TYPE_Security': 0.004558456022489095,\n 'ORGANIZATION_TYPE_Industry: type 4': 0.004574390237332384,\n 'ORGANIZATION_TYPE_Industry: type 12': 0.005179501378938744,\n 'FLAG_OWN_REALTY': 0.005254658103326854,\n 'NAME_EDUCATION_TYPE_Academic degree': 0.0052711275167691175,\n 'FLAG_DOCUMENT_15': 0.005680906336963871,\n 'REG_REGION_NOT_LIVE_REGION': 0.005707784856663387,\n 'FLAG_DOCUMENT_9': 0.005852420542489137,\n 'NAME_HOUSING_TYPE_Office apartment': 0.00640837273887582,\n 'ORGANIZATION_TYPE_Trade: type 3': 0.006510738203114293,\n 'OCCUPATION_TYPE_HR staff': 0.006537527946526096,\n 'ORGANIZATION_TYPE_Industry: type 9': 0.006577134966115896,\n 'DIF_DAYS_INSTALMENT_min': 0.00662173061421679,\n 'OCCUPATION_TYPE_Private service staff': 0.006707000529022932,\n 'ORGANIZATION_TYPE_Industry: type 1': 0.007639176358234193,\n 'FLAG_DOCUMENT_14': 0.0077022439489512024,\n 'CNT_CHILDREN': 0.0077245589866640745,\n 'PORTION_NOT_INSTALMENT': 0.0077872919153844115,\n 'ORGANIZATION_TYPE_Trade: type 6': 0.007823124252006076,\n 'FLAG_DOCUMENT_11': 0.00806751607980047,\n 'FLAG_DOCUMENT_6': 0.008118175504599331,\n 'previous_NAME_CONTRACT_TYPE_XNA_count_norm': 0.008348183322944852,\n 'ORGANIZATION_TYPE_Industry: type 3': 0.008623861434170491,\n 'OCCUPATION_TYPE_Security staff': 0.008670545318774274,\n 'ORGANIZATION_TYPE_Other': 0.008677435919024586,\n 'NAME_TYPE_SUITE_Unaccompanied': 0.008819422079308761,\n 'ORGANIZATION_TYPE_Kindergarten': 0.008828178449004145,\n 'ORGANIZATION_TYPE_University': 0.009158016588463234,\n 'OCCUPATION_TYPE_Cooking staff': 0.009595202255921257,\n 'NAME_TYPE_SUITE_Family': 0.009609101921585778,\n 'ORGANIZATION_TYPE_Restaurant': 0.009769231640830028,\n 'FLAG_DOCUMENT_13': 0.009951435801107116,\n 'FLAG_DOCUMENT_8': 0.010466698033955134,\n 'OCCUPATION_TYPE_Medicine staff': 0.011228581899531838,\n 'ORGANIZATION_TYPE_Security Ministries': 0.011297041037569636,\n 'OBS_30_CNT_SOCIAL_CIRCLE': 0.011517574813906084,\n 'OBS_60_CNT_SOCIAL_CIRCLE': 0.011521868080528297,\n 'FLAG_DOCUMENT_18': 0.01171371852785332,\n 'ORGANIZATION_TYPE_Bank': 0.01173436270419996,\n 'DIF_AMT_CREDIT_max': 0.011758408379925872,\n 'FLAG_DOCUMENT_16': 0.012460260946253647,\n 'ORGANIZATION_TYPE_Government': 0.01258742848999871,\n 'ORGANIZATION_TYPE_Police': 0.013494022568432733,\n 'previous_NAME_CONTRACT_TYPE_XNA_count': 0.014071024605845596,\n 'OCCUPATION_TYPE_Sales staff': 0.014325820762981074,\n 'ORGANIZATION_TYPE_Military': 0.01442353436576022,\n 'ORGANIZATION_TYPE_Medicine': 0.014590663037686047,\n 'ORGANIZATION_TYPE_Business Entity Type 3': 0.015120594414760066,\n 'NAME_FAMILY_STATUS_Widow': 0.01588926276334425,\n 'AMT_REQ_CREDIT_BUREAU_MON': 0.01592804233864143,\n 'DIF_DAYS_INSTALMENT_mean': 0.01672428232900217,\n 'FLAG_WORK_PHONE': 0.016746351778018163,\n 'ORGANIZATION_TYPE_Transport: type 3': 0.01685312509254467,\n 'NAME_EDUCATION_TYPE_Lower secondary': 0.017018986210107414,\n 'AMT_ANNUITY': 0.01730532976063187,\n 'ORGANIZATION_TYPE_Construction': 0.017644828447131358,\n 'OCCUPATION_TYPE_High skill tech staff': 0.017900781735844418,\n 'DIF_AMT_CREDIT_mean': 0.018034162968199038,\n 'previous_NAME_CONTRACT_STATUS_Canceled_count_norm': 0.019583101048285815,\n 'NAME_FAMILY_STATUS_Civil marriage': 0.019718201623932573,\n 'NAME_INCOME_TYPE_Commercial associate': 0.019744023089943778,\n 'NAME_HOUSING_TYPE_Rented apartment': 0.019957525067721957,\n 'DIF_AMT_CREDIT_min': 0.020717331117594745,\n 'ORGANIZATION_TYPE_School': 0.02103662770471519,\n 'ORGANIZATION_TYPE_Self-employed': 0.02115388085658823,\n 'LIVE_CITY_NOT_WORK_CITY': 0.021585041278759678,\n 'AMT_REQ_CREDIT_BUREAU_YEAR': 0.02166812575887416,\n 'FLAG_PHONE': 0.022732250689898807,\n 'DIF_DAYS_INSTALMENT_sum': 0.02317603516981964,\n 'NAME_FAMILY_STATUS_Single / not married': 0.023375546718847364,\n 'HOUR_APPR_PROCESS_START': 0.024061225298063243,\n 'OCCUPATION_TYPE_Managers': 0.02415524332330374,\n 'NAME_FAMILY_STATUS_Married': 0.024317499121850227,\n 'OCCUPATION_TYPE_Low-skill Laborers': 0.024514427093615294,\n 'previous_NAME_CONTRACT_TYPE_Consumer loans_count': 0.02461632006528841,\n 'OCCUPATION_TYPE_Accountants': 0.024972512999494892,\n 'NAME_HOUSING_TYPE_House / apartment': 0.02523741702977095,\n 'AVG_DIF_AMT_PAYMENT': 0.025611224731547744,\n 'previous_NAME_CONTRACT_STATUS_Canceled_count': 0.02572137449136628,\n 'NAME_HOUSING_TYPE_With parents': 0.026443546243667525,\n 'OCCUPATION_TYPE_Drivers': 0.026825553465480614,\n 'DEF_60_CNT_SOCIAL_CIRCLE': 0.02685219744306947,\n 'previous_NAME_CONTRACT_STATUS_Approved_count': 0.02701206943294499,\n 'FLAG_OWN_CAR': 0.027844506220064128,\n 'previous_NAME_CONTRACT_TYPE_Cash loans_count_norm': 0.02818719096957552,\n 'DIF_AMT_CREDIT_sum': 0.02845146716700856,\n 'DEF_30_CNT_SOCIAL_CIRCLE': 0.029094183796775003,\n 'OCCUPATION_TYPE_Core staff': 0.030162656736762015,\n 'NAME_INCOME_TYPE_State servant': 0.030965790286102073,\n 'NAME_CONTRACT_TYPE': 0.03313344087878478,\n 'previous_NAME_CONTRACT_TYPE_Cash loans_count': 0.03381087162554921,\n 'DAYS_REGISTRATION': 0.034423134431272887,\n 'REGION_POPULATION_RELATIVE': 0.03510866867264959,\n 'OCCUPATION_TYPE_Laborers': 0.03512925191619242,\n 'AMT_CREDIT': 0.03570873194491791,\n 'FLAG_DOCUMENT_3': 0.03602151605422503,\n 'DAYS_ID_PUBLISH': 0.036065825216138256,\n 'NAME_INCOME_TYPE_Working': 0.036929918844457114,\n 'REG_CITY_NOT_WORK_CITY': 0.039730353267404504,\n 'REG_CITY_NOT_LIVE_CITY': 0.039981491892488015,\n 'previous_NAME_CONTRACT_TYPE_Revolving loans_count_norm': 0.04134556947180558,\n 'AMT_GOODS_PRICE': 0.04534281144383831,\n 'previous_NAME_CONTRACT_TYPE_Consumer loans_count_norm': 0.045912045027638265,\n 'CODE_GENDER': 0.04594388333413806,\n 'previous_NAME_CONTRACT_TYPE_Revolving loans_count': 0.047601687733207575,\n 'NAME_EDUCATION_TYPE_Secondary / secondary special': 0.054273948230090775,\n 'REGION_RATING_CLIENT': 0.057609565590453146,\n 'DAYS_LAST_PHONE_CHANGE': 0.059100115398806455,\n 'NAME_EDUCATION_TYPE_Higher education': 0.06014638572250687,\n 'REGION_RATING_CLIENT_W_CITY': 0.06029610766816788,\n 'DAYS_BIRTH': 0.06516868883663945,\n 'previous_NAME_CONTRACT_STATUS_Refused_count': 0.06644809358383602,\n 'previous_NAME_CONTRACT_STATUS_Approved_count_norm': 0.06864948372560394,\n 'DAYS_EMPLOYED': 0.07267255697966848,\n 'previous_NAME_CONTRACT_STATUS_Refused_count_norm': 0.07761896867715931,\n 'EXT_SOURCE_2': 0.15748653513191152,\n 'EXT_SOURCE_3': 0.17225630464018926,\n 'TARGET': 1.0}"
     },
     "metadata": {},
     "execution_count": 182
    }
   ],
   "source": [
    "corr_dict"
   ]
  },
  {
   "cell_type": "code",
   "execution_count": null,
   "metadata": {},
   "outputs": [],
   "source": []
  },
  {
   "cell_type": "code",
   "execution_count": 207,
   "metadata": {},
   "outputs": [
    {
     "output_type": "stream",
     "name": "stdout",
     "text": "(48744, 122)\n"
    }
   ],
   "source": [
    "remove_ft_test = [x for x in list(encoded_data_test.columns) if x in remove_ft]\n",
    "encoded_data_test = encoded_data_test.drop(remove_ft_test, axis=1)\n",
    "print(encoded_data_test.shape)"
   ]
  }
 ]
}