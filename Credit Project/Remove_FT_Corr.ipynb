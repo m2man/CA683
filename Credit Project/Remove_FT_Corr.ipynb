{
 "nbformat": 4,
 "nbformat_minor": 2,
 "metadata": {
  "language_info": {
   "name": "python",
   "codemirror_mode": {
    "name": "ipython",
    "version": 3
   },
   "version": "3.6.10-final"
  },
  "orig_nbformat": 2,
  "file_extension": ".py",
  "mimetype": "text/x-python",
  "name": "python",
  "npconvert_exporter": "python",
  "pygments_lexer": "ipython3",
  "version": 3,
  "kernelspec": {
   "name": "python3",
   "display_name": "Python 3"
  }
 },
 "cells": [
  {
   "cell_type": "code",
   "execution_count": null,
   "metadata": {},
   "outputs": [],
   "source": [
    "import os\n",
    "os.chdir('/home/nmduy/CA683/Credit Project')\n",
    "import pandas as pd\n",
    "import numpy as np\n",
    "import matplotlib.pyplot as plt\n",
    "import seaborn as sns"
   ]
  },
  {
   "cell_type": "code",
   "execution_count": 13,
   "metadata": {},
   "outputs": [
    {
     "output_type": "execute_result",
     "data": {
      "text/plain": "(307511, 180)"
     },
     "metadata": {},
     "execution_count": 13
    }
   ],
   "source": [
    "data = pd.read_csv('data/encoded_train.csv')\n",
    "data = data.drop(['SK_ID_CURR', 'DAYS_EMPLOYED_ANOM'], axis=1)\n",
    "\n",
    "data.shape"
   ]
  },
  {
   "cell_type": "code",
   "execution_count": null,
   "metadata": {},
   "outputs": [],
   "source": [
    "data.head()"
   ]
  },
  {
   "cell_type": "code",
   "execution_count": null,
   "metadata": {},
   "outputs": [],
   "source": [
    "correlations = data[[x for x in list(data.columns) if x not in ['SK_ID_CURR']]].corr()['TARGET'].sort_values()"
   ]
  },
  {
   "cell_type": "code",
   "execution_count": null,
   "metadata": {},
   "outputs": [],
   "source": [
    "correlations_final = correlations[:-1]\n",
    "correlations_final = abs(correlations_final)\n",
    "correlations_final = correlations_final.sort_values()\n",
    "\n",
    "cor_pd = {'Features': list(correlations_final.keys()), 'Values': list(correlations_final)}\n",
    "cor_pd = pd.DataFrame(cor_pd, columns = ['Features', 'Values'])\n",
    "cor_pd['Features'] = ['X'+str(x) for x in range(len(cor_pd))]"
   ]
  },
  {
   "cell_type": "markdown",
   "metadata": {},
   "source": [
    "dict(correlations_final)"
   ]
  },
  {
   "cell_type": "code",
   "execution_count": null,
   "metadata": {},
   "outputs": [],
   "source": [
    "chart = sns.barplot(x = 'Values', y = 'Features', data = cor_pd.iloc[:100,:],\n",
    "                    label = 'Abs of Correlation coefficients', color = 'b', edgecolor = 'w')\n",
    "chart.set_yticklabels(chart.get_yticklabels(), fontsize=3)"
   ]
  },
  {
   "cell_type": "code",
   "execution_count": null,
   "metadata": {},
   "outputs": [],
   "source": [
    "chart = sns.barplot(x = 'Values', y = 'Features', data = cor_pd.iloc[100:,:],\n",
    "                    label = 'Abs of Correlation coefficients', color = 'b', edgecolor = 'w')\n",
    "chart.set_yticklabels(chart.get_yticklabels(), fontsize=3)"
   ]
  },
  {
   "cell_type": "code",
   "execution_count": 8,
   "metadata": {},
   "outputs": [
    {
     "output_type": "execute_result",
     "data": {
      "text/plain": "count    179.000000\nmean       0.015134\nstd        0.023293\nmin        0.000094\n25%        0.002332\n50%        0.006402\n75%        0.019861\nmax        0.178919\nName: Values, dtype: float64"
     },
     "metadata": {},
     "execution_count": 8
    }
   ],
   "source": [
    "cor_pd['Values'].describe()"
   ]
  },
  {
   "cell_type": "markdown",
   "metadata": {},
   "source": [
    "threshold = 0.006469\n",
    "corr_thres = {}\n",
    "remove_ft = []\n",
    "for key, val in dict(correlations_final).items():\n",
    "    if val > threshold:\n",
    "        corr_thres[key] = val\n",
    "    else:\n",
    "        remove_ft += [key]\n",
    "corr_thres\n"
   ]
  },
  {
   "cell_type": "code",
   "execution_count": null,
   "metadata": {},
   "outputs": [],
   "source": [
    "remove_ft"
   ]
  },
  {
   "cell_type": "code",
   "execution_count": 12,
   "metadata": {},
   "outputs": [
    {
     "output_type": "execute_result",
     "data": {
      "text/plain": "(307511, 90)"
     },
     "metadata": {},
     "execution_count": 12
    }
   ],
   "source": [
    "data_rm_corr = data.drop(remove_ft, axis=1)\n",
    "data_rm_corr.shape"
   ]
  },
  {
   "cell_type": "code",
   "execution_count": 14,
   "metadata": {},
   "outputs": [],
   "source": [
    "data_rm_corr.to_csv('encoded_train_rmcor.csv', index=False)"
   ]
  },
  {
   "cell_type": "markdown",
   "metadata": {},
   "source": []
  },
  {
   "cell_type": "code",
   "execution_count": null,
   "metadata": {},
   "outputs": [],
   "source": []
  }
 ]
}