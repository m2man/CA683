{
 "nbformat": 4,
 "nbformat_minor": 2,
 "metadata": {
  "language_info": {
   "name": "python",
   "codemirror_mode": {
    "name": "ipython",
    "version": 3
   },
   "version": "3.6.10-final"
  },
  "orig_nbformat": 2,
  "file_extension": ".py",
  "mimetype": "text/x-python",
  "name": "python",
  "npconvert_exporter": "python",
  "pygments_lexer": "ipython3",
  "version": 3,
  "kernelspec": {
   "name": "python3",
   "display_name": "Python 3"
  }
 },
 "cells": [
  {
   "cell_type": "code",
   "execution_count": 1,
   "metadata": {},
   "outputs": [
    {
     "output_type": "stream",
     "name": "stderr",
     "text": "Using TensorFlow backend.\n"
    }
   ],
   "source": [
    "import os\n",
    "os.chdir('/home/nmduy/CA683/Credit Project')\n",
    "from fancyimpute import IterativeImputer as MICE\n",
    "import pandas as pd\n",
    "import numpy as np"
   ]
  },
  {
   "cell_type": "code",
   "execution_count": 3,
   "metadata": {},
   "outputs": [],
   "source": [
    "data = pd.read_csv('encoded_train_rmflg_group.csv')\n",
    "data_checked_vif = pd.read_csv('encoded_train_vif_dropna.csv')\n",
    "data_rm = data.drop(['SK_ID_CURR', 'TARGET'], axis = 1) # remove id and target\n",
    "data_checked_vif = data_checked_vif.drop(['SK_ID_CURR', 'TARGET'], axis = 1)"
   ]
  },
  {
   "cell_type": "code",
   "execution_count": 6,
   "metadata": {},
   "outputs": [],
   "source": [
    "checked_vif_ft = list(data_checked_vif.columns)\n",
    "all_ft = list(data_rm.columns)\n",
    "rm_ft = [x for x in all_ft if x not in checked_vif_ft]\n",
    "data_rm = data_rm.drop(rm_ft, axis = 1) # remove collinear\n"
   ]
  },
  {
   "cell_type": "code",
   "execution_count": 7,
   "metadata": {},
   "outputs": [
    {
     "output_type": "execute_result",
     "data": {
      "text/plain": "(307511, 110)"
     },
     "metadata": {},
     "execution_count": 7
    }
   ],
   "source": [
    "data_rm.shape"
   ]
  },
  {
   "cell_type": "code",
   "execution_count": 11,
   "metadata": {},
   "outputs": [],
   "source": [
    "imputed_data = MICE().fit_transform(data_rm)\n",
    "imputed_pd = pd.DataFrame(data=imputed_data)\n",
    "imputed_pd.columns = list(data_rm.columns)\n",
    "imputed_pd['TARGET'] = list(data['TARGET'])\n",
    "imputed_pd['SK_ID_CURR'] = list(data['SK_ID_CURR'])"
   ]
  },
  {
   "cell_type": "code",
   "execution_count": 12,
   "metadata": {},
   "outputs": [],
   "source": [
    "imputed_pd.to_csv('imputed_train.csv', index=False)"
   ]
  },
  {
   "cell_type": "code",
   "execution_count": 14,
   "metadata": {},
   "outputs": [],
   "source": [
    "a = imputed_pd.copy()\n",
    "a['NAME_CONTRACT_TYPE'][a['NAME_CONTRACT_TYPE'] < 0.5] = 0\n",
    "a['NAME_CONTRACT_TYPE'][a['NAME_CONTRACT_TYPE'] != 0] = 1\n",
    "a['CODE_GENDER'][a['CODE_GENDER'] < 0.5] = 0\n",
    "a['CODE_GENDER'][a['CODE_GENDER'] != 0] = 1\n",
    "#a['CNT_CHILDREN'][a['CNT_CHILDREN'] < 0] = 0\n",
    "a['CNT_FAM_MEMBERS'][a['CNT_FAM_MEMBERS'] < 0] = 0\n",
    "for col in list(a.columns):\n",
    "    if 'NAME' in col or 'OCCUPATION' in col or 'WEEKDAY' in col or 'ORGANIZATION' in col:\n",
    "        a[col][a[col] < 0.5] = 0\n",
    "        a[col][a[col] != 0] = 1\n",
    "    else:\n",
    "        a[col][a[col] < 0] = 0"
   ]
  },
  {
   "cell_type": "code",
   "execution_count": 15,
   "metadata": {},
   "outputs": [],
   "source": [
    "a.to_csv('imputed_train.csv', index=False)"
   ]
  },
  {
   "cell_type": "code",
   "execution_count": null,
   "metadata": {},
   "outputs": [],
   "source": []
  }
 ]
}