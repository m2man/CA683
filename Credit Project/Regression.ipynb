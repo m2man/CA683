{
 "nbformat": 4,
 "nbformat_minor": 2,
 "metadata": {
  "language_info": {
   "name": "python",
   "codemirror_mode": {
    "name": "ipython",
    "version": 3
   },
   "version": "3.6.10-final"
  },
  "orig_nbformat": 2,
  "file_extension": ".py",
  "mimetype": "text/x-python",
  "name": "python",
  "npconvert_exporter": "python",
  "pygments_lexer": "ipython3",
  "version": 3,
  "kernelspec": {
   "name": "python3",
   "display_name": "Python 3"
  }
 },
 "cells": [
  {
   "cell_type": "code",
   "execution_count": 1,
   "metadata": {},
   "outputs": [],
   "source": [
    "import os\n",
    "os.chdir('/home/nmduy/CA683/Credit Project')\n",
    "#from fancyimpute import IterativeImputer as MICE\n",
    "import pandas as pd\n",
    "import numpy as np\n",
    "import statsmodels.formula.api as sm\n",
    "import random\n",
    "\n",
    "random.seed(1509)"
   ]
  },
  {
   "cell_type": "code",
   "execution_count": 2,
   "metadata": {},
   "outputs": [
    {
     "output_type": "execute_result",
     "data": {
      "text/plain": "5"
     },
     "metadata": {},
     "execution_count": 2
    }
   ],
   "source": [
    "data = pd.read_csv('data/encoded_train_vif_dropna.csv')\n",
    "data_remove_id = data.drop(['SK_ID_CURR'], axis=1)\n",
    "\n",
    "##### REMOVE 1-VALUE FT #####\n",
    "remove_ft = []\n",
    "for col in list(data_remove_id.drop('TARGET', axis=1).columns):\n",
    "    if data_remove_id[col].sum() == 0 or data_remove_id[col].sum() == len(data_remove_id[col]):\n",
    "        remove_ft += [col]\n",
    "len(remove_ft)"
   ]
  },
  {
   "cell_type": "code",
   "execution_count": 3,
   "metadata": {},
   "outputs": [
    {
     "output_type": "execute_result",
     "data": {
      "text/plain": "   NAME_CONTRACT_TYPE  CODE_GENDER  AMT_INCOME_TOTAL  AMT_GOODS_PRICE  \\\n0                   1          1.0          202500.0         351000.0   \n1                   0          1.0           67500.0         135000.0   \n2                   1          1.0           99000.0         454500.0   \n3                   1          0.0          171000.0        1395000.0   \n4                   1          1.0          360000.0        1530000.0   \n\n   REGION_POPULATION_RELATIVE  DAYS_EMPLOYED  DAYS_REGISTRATION  \\\n0                    0.018801          637.0             3648.0   \n1                    0.010032          225.0             4260.0   \n2                    0.035792         1588.0             4970.0   \n3                    0.035792         3130.0             1213.0   \n4                    0.003122          449.0             4597.0   \n\n   DAYS_ID_PUBLISH  OWN_CAR_AGE  CNT_FAM_MEMBERS  ...  \\\n0             2120         -1.0              1.0  ...   \n1             2531         26.0              1.0  ...   \n2              477         -1.0              2.0  ...   \n3              619         17.0              3.0  ...   \n4             2379          8.0              2.0  ...   \n\n   ORGANIZATION_TYPE_Security Ministries  ORGANIZATION_TYPE_Self-employed  \\\n0                                      0                                0   \n1                                      0                                0   \n2                                      0                                0   \n3                                      0                                0   \n4                                      0                                0   \n\n   ORGANIZATION_TYPE_Services  ORGANIZATION_TYPE_Telecom  \\\n0                           0                          0   \n1                           0                          0   \n2                           0                          0   \n3                           0                          0   \n4                           0                          0   \n\n   ORGANIZATION_TYPE_Trade  ORGANIZATION_TYPE_Transport  \\\n0                        0                            0   \n1                        0                            0   \n2                        0                            0   \n3                        0                            0   \n4                        0                            0   \n\n   ORGANIZATION_TYPE_University  ORGANIZATION_TYPE_XNA  SK_ID_CURR  TARGET  \n0                             0                      0      100002       1  \n1                             0                      0      100004       0  \n2                             0                      0      100008       0  \n3                             0                      0      100009       0  \n4                             0                      0      100010       0  \n\n[5 rows x 112 columns]",
      "text/html": "<div>\n<style scoped>\n    .dataframe tbody tr th:only-of-type {\n        vertical-align: middle;\n    }\n\n    .dataframe tbody tr th {\n        vertical-align: top;\n    }\n\n    .dataframe thead th {\n        text-align: right;\n    }\n</style>\n<table border=\"1\" class=\"dataframe\">\n  <thead>\n    <tr style=\"text-align: right;\">\n      <th></th>\n      <th>NAME_CONTRACT_TYPE</th>\n      <th>CODE_GENDER</th>\n      <th>AMT_INCOME_TOTAL</th>\n      <th>AMT_GOODS_PRICE</th>\n      <th>REGION_POPULATION_RELATIVE</th>\n      <th>DAYS_EMPLOYED</th>\n      <th>DAYS_REGISTRATION</th>\n      <th>DAYS_ID_PUBLISH</th>\n      <th>OWN_CAR_AGE</th>\n      <th>CNT_FAM_MEMBERS</th>\n      <th>...</th>\n      <th>ORGANIZATION_TYPE_Security Ministries</th>\n      <th>ORGANIZATION_TYPE_Self-employed</th>\n      <th>ORGANIZATION_TYPE_Services</th>\n      <th>ORGANIZATION_TYPE_Telecom</th>\n      <th>ORGANIZATION_TYPE_Trade</th>\n      <th>ORGANIZATION_TYPE_Transport</th>\n      <th>ORGANIZATION_TYPE_University</th>\n      <th>ORGANIZATION_TYPE_XNA</th>\n      <th>SK_ID_CURR</th>\n      <th>TARGET</th>\n    </tr>\n  </thead>\n  <tbody>\n    <tr>\n      <th>0</th>\n      <td>1</td>\n      <td>1.0</td>\n      <td>202500.0</td>\n      <td>351000.0</td>\n      <td>0.018801</td>\n      <td>637.0</td>\n      <td>3648.0</td>\n      <td>2120</td>\n      <td>-1.0</td>\n      <td>1.0</td>\n      <td>...</td>\n      <td>0</td>\n      <td>0</td>\n      <td>0</td>\n      <td>0</td>\n      <td>0</td>\n      <td>0</td>\n      <td>0</td>\n      <td>0</td>\n      <td>100002</td>\n      <td>1</td>\n    </tr>\n    <tr>\n      <th>1</th>\n      <td>0</td>\n      <td>1.0</td>\n      <td>67500.0</td>\n      <td>135000.0</td>\n      <td>0.010032</td>\n      <td>225.0</td>\n      <td>4260.0</td>\n      <td>2531</td>\n      <td>26.0</td>\n      <td>1.0</td>\n      <td>...</td>\n      <td>0</td>\n      <td>0</td>\n      <td>0</td>\n      <td>0</td>\n      <td>0</td>\n      <td>0</td>\n      <td>0</td>\n      <td>0</td>\n      <td>100004</td>\n      <td>0</td>\n    </tr>\n    <tr>\n      <th>2</th>\n      <td>1</td>\n      <td>1.0</td>\n      <td>99000.0</td>\n      <td>454500.0</td>\n      <td>0.035792</td>\n      <td>1588.0</td>\n      <td>4970.0</td>\n      <td>477</td>\n      <td>-1.0</td>\n      <td>2.0</td>\n      <td>...</td>\n      <td>0</td>\n      <td>0</td>\n      <td>0</td>\n      <td>0</td>\n      <td>0</td>\n      <td>0</td>\n      <td>0</td>\n      <td>0</td>\n      <td>100008</td>\n      <td>0</td>\n    </tr>\n    <tr>\n      <th>3</th>\n      <td>1</td>\n      <td>0.0</td>\n      <td>171000.0</td>\n      <td>1395000.0</td>\n      <td>0.035792</td>\n      <td>3130.0</td>\n      <td>1213.0</td>\n      <td>619</td>\n      <td>17.0</td>\n      <td>3.0</td>\n      <td>...</td>\n      <td>0</td>\n      <td>0</td>\n      <td>0</td>\n      <td>0</td>\n      <td>0</td>\n      <td>0</td>\n      <td>0</td>\n      <td>0</td>\n      <td>100009</td>\n      <td>0</td>\n    </tr>\n    <tr>\n      <th>4</th>\n      <td>1</td>\n      <td>1.0</td>\n      <td>360000.0</td>\n      <td>1530000.0</td>\n      <td>0.003122</td>\n      <td>449.0</td>\n      <td>4597.0</td>\n      <td>2379</td>\n      <td>8.0</td>\n      <td>2.0</td>\n      <td>...</td>\n      <td>0</td>\n      <td>0</td>\n      <td>0</td>\n      <td>0</td>\n      <td>0</td>\n      <td>0</td>\n      <td>0</td>\n      <td>0</td>\n      <td>100010</td>\n      <td>0</td>\n    </tr>\n  </tbody>\n</table>\n<p>5 rows × 112 columns</p>\n</div>"
     },
     "metadata": {},
     "execution_count": 3
    }
   ],
   "source": [
    "data.head()"
   ]
  },
  {
   "cell_type": "code",
   "execution_count": 29,
   "metadata": {},
   "outputs": [
    {
     "output_type": "stream",
     "name": "stdout",
     "text": "Numb train/test samples: 40308 / 160776\n"
    }
   ],
   "source": [
    "##### MAKE IT BALANCE #####\n",
    "numb_pos_samples = data_remove_id['TARGET'].sum()\n",
    "numb_neg_samples = len(data_remove_id) - numb_pos_samples\n",
    "portion_pos_train = 0.8\n",
    "numb_pos_train = int(numb_pos_samples * portion_pos_train)\n",
    "numb_pos_test = numb_pos_samples - numb_pos_train\n",
    "\n",
    "index_pos = data_remove_id.index[data_remove_id['TARGET'] == 1].tolist()\n",
    "index_neg = [i for i in range(len(data_remove_id)) if i not in index_pos]\n",
    "\n",
    "data_pos = data_remove_id.loc[index_pos, :]\n",
    "data_neg = data_remove_id.loc[index_neg, :]\n",
    "\n",
    "# shuffle\n",
    "data_pos = data_pos.sample(frac=1)\n",
    "data_neg = data_neg.sample(frac=1)\n",
    "\n",
    "data_pos_train = data_pos.iloc[0:numb_pos_train,:]\n",
    "data_pos_test = data_pos.iloc[numb_pos_train:, :]\n",
    "\n",
    "data_neg_train = data_neg.iloc[0:2*numb_pos_train, :]\n",
    "data_neg_test = data_neg.iloc[2*numb_pos_train:, :]\n",
    "\n",
    "data_balance = pd.concat([data_pos_train, data_neg_train], ignore_index=True)\n",
    "data_remain = pd.concat([data_pos_test, data_neg_test], ignore_index=True)\n",
    "data_balance = data_balance.drop(remove_ft, axis=1)\n",
    "data_remain = data_remain.drop(remove_ft, axis=1)\n",
    "print(f\"Numb train/test samples: {len(data_balance)} / {len(data_remain)}\")"
   ]
  },
  {
   "cell_type": "code",
   "execution_count": 30,
   "metadata": {},
   "outputs": [],
   "source": [
    "##### FIND CORRELATION MATRIX #####\n",
    "corr_matrix = data_balance.corr()\n",
    "corr_matrix = corr_matrix.replace(1, 0)"
   ]
  },
  {
   "cell_type": "code",
   "execution_count": 31,
   "metadata": {},
   "outputs": [],
   "source": [
    "corr_max = corr_matrix.max(axis = 0)\n",
    "corr_min = corr_matrix.min(axis = 0)\n",
    "corr_max_idx = corr_matrix.idxmax(axis = 0)\n",
    "corr_min_idx = corr_matrix.idxmin(axis = 0)"
   ]
  },
  {
   "cell_type": "code",
   "execution_count": 32,
   "metadata": {},
   "outputs": [],
   "source": [
    "dict_corr_max = dict(corr_max)\n",
    "dict_corr_max_idx = dict(corr_max_idx)\n",
    "dict_corr_max_filter = {}\n",
    "for x in dict_corr_max.keys():\n",
    "    if dict_corr_max[x] > 0.8:\n",
    "        dict_corr_max_filter[x] = dict_corr_max[x]\n",
    "dict_corr_max_idx_filter = {}\n",
    "for x in dict_corr_max_filter.keys():\n",
    "   dict_corr_max_idx_filter[x] = dict_corr_max_idx[x]"
   ]
  },
  {
   "cell_type": "code",
   "execution_count": 33,
   "metadata": {},
   "outputs": [
    {
     "output_type": "execute_result",
     "data": {
      "text/plain": "{}"
     },
     "metadata": {},
     "execution_count": 33
    }
   ],
   "source": [
    "dict_corr_max_filter"
   ]
  },
  {
   "cell_type": "code",
   "execution_count": 34,
   "metadata": {},
   "outputs": [
    {
     "output_type": "execute_result",
     "data": {
      "text/plain": "{}"
     },
     "metadata": {},
     "execution_count": 34
    }
   ],
   "source": [
    "dict_corr_max_idx_filter"
   ]
  },
  {
   "cell_type": "code",
   "execution_count": 35,
   "metadata": {},
   "outputs": [],
   "source": [
    "dict_corr_min = dict(corr_min)\n",
    "dict_corr_min_idx = dict(corr_min_idx)\n",
    "dict_corr_min_filter = {}\n",
    "for x in dict_corr_min.keys():\n",
    "    if dict_corr_min[x] < -0.8:\n",
    "        dict_corr_min_filter[x] = dict_corr_min[x]\n",
    "dict_corr_min_idx_filter = {}\n",
    "for x in dict_corr_min_filter.keys():\n",
    "   dict_corr_min_idx_filter[x] = dict_corr_min_idx[x]"
   ]
  },
  {
   "cell_type": "code",
   "execution_count": 36,
   "metadata": {},
   "outputs": [
    {
     "output_type": "execute_result",
     "data": {
      "text/plain": "{}"
     },
     "metadata": {},
     "execution_count": 36
    }
   ],
   "source": [
    "dict_corr_min_filter"
   ]
  },
  {
   "cell_type": "code",
   "execution_count": 37,
   "metadata": {},
   "outputs": [
    {
     "output_type": "execute_result",
     "data": {
      "text/plain": "{}"
     },
     "metadata": {},
     "execution_count": 37
    }
   ],
   "source": [
    "dict_corr_min_idx_filter"
   ]
  },
  {
   "cell_type": "code",
   "execution_count": 38,
   "metadata": {},
   "outputs": [
    {
     "output_type": "execute_result",
     "data": {
      "text/plain": "(40308, 109)"
     },
     "metadata": {},
     "execution_count": 38
    }
   ],
   "source": [
    "##### REMOVE COLLINEAR ####\n",
    "# remove_ft = ['AMT_GOODS_PRICE', 'REGION_RATING_CLIENT_W_CITY', 'OBS_60_CNT_SOCIAL_CIRCLE', 'CNT_CHILDREN', \n",
    "#              'LIVE_REGION_NOT_WORK_REGION', 'NAME_INCOME_TYPE_Working', 'NAME_EDUCATION_TYPE_Secondary / secondary special']\n",
    "# remove_ft = ['LIVE_REGION_NOT_WORK_REGION', 'DEF_60_CNT_SOCIAL_CIRCLE']\n",
    "# remove_ft = ['AMT_GOODS_PRICE', 'REGION_RATING_CLIENT_W_CITY', 'OBS_60_CNT_SOCIAL_CIRCLE']\n",
    "remove_ft = []\n",
    "if len(remove_ft) > 0:\n",
    "    data_balance_rm = data_balance.drop(remove_ft, axis=1)\n",
    "    data_remain_rm = data_remain.drop(remove_ft, axis=1)\n",
    "else:\n",
    "    data_balance_rm = data_balance.copy()\n",
    "    data_remain_rm = data_remain.copy()\n",
    "\n",
    "data_balance_rm.shape"
   ]
  },
  {
   "cell_type": "code",
   "execution_count": 39,
   "metadata": {},
   "outputs": [],
   "source": [
    "categorical_name = ['NAME_CONTRACT_TYPE', 'CODE_GENDER']\n",
    "pc_pos = {}\n",
    "for col in list(data_balance_rm.columns):\n",
    "    if 'NAME' in col or 'OCCUPATION' in col or 'WEEKDAY' in col or 'ORGANIZATION' in col:\n",
    "        categorical_name += [col]\n",
    "    if col in categorical_name:\n",
    "        values = np.asarray(list(data_remove_id[col]))\n",
    "        pc_pos[col] = np.sum(values) / len(values)\n",
    "remove_ft_dominant = []\n",
    "for col in categorical_name:\n",
    "    if pc_pos[col] < 0.01 or pc_pos[col] > 0.99:\n",
    "        remove_ft_dominant += [col]"
   ]
  },
  {
   "cell_type": "code",
   "execution_count": 40,
   "metadata": {},
   "outputs": [
    {
     "output_type": "execute_result",
     "data": {
      "text/plain": "37"
     },
     "metadata": {},
     "execution_count": 40
    }
   ],
   "source": [
    "len(remove_ft_dominant)"
   ]
  },
  {
   "cell_type": "code",
   "execution_count": 41,
   "metadata": {},
   "outputs": [
    {
     "output_type": "execute_result",
     "data": {
      "text/plain": "(40308, 72)"
     },
     "metadata": {},
     "execution_count": 41
    }
   ],
   "source": [
    "##### REMOVE DOMINANT FT IN BINARY #####\n",
    "data_balance_rm = data_balance_rm.drop(remove_ft_dominant, axis=1)\n",
    "data_remain_rm = data_remain_rm.drop(remove_ft_dominant, axis=1)\n",
    "data_balance_rm.shape"
   ]
  },
  {
   "cell_type": "code",
   "execution_count": 42,
   "metadata": {},
   "outputs": [],
   "source": [
    "##### RUN LOGISTIC REGRESSION #####\n",
    "new_column_names = [\"X\"+str(x) for x in range(len(list(data_balance_rm.columns))-1)]\n",
    "new_column_names += ['Y']\n",
    "data_balance_rm.columns = new_column_names\n",
    "data_remain_rm.columns = new_column_names"
   ]
  },
  {
   "cell_type": "code",
   "execution_count": 45,
   "metadata": {},
   "outputs": [
    {
     "output_type": "stream",
     "name": "stdout",
     "text": "Warning: Maximum number of iterations has been exceeded.\n                           Logit Regression Results                           \n==============================================================================\nDep. Variable:                      Y   No. Observations:                40308\nModel:                          Logit   Df Residuals:                    40237\nMethod:                           MLE   Df Model:                           70\nDate:                Thu, 16 Apr 2020   Pseudo R-squ.:                 0.02587\nTime:                        17:46:02   Log-Likelihood:                -24993.\nconverged:                      False   LL-Null:                       -25657.\nCovariance Type:            nonrobust   LLR p-value:                1.557e-231\n===============================================================================\n                  coef    std err          z      P>|z|      [0.025      0.975]\n-------------------------------------------------------------------------------\nIntercept   -2.982e-06        nan        nan        nan         nan         nan\nX25[T.True]  1.407e-05        nan        nan        nan         nan         nan\nX0          -1.778e-06        nan        nan        nan         nan         nan\nX1           5.568e-06        nan        nan        nan         nan         nan\nX10          1.196e-05        nan        nan        nan         nan         nan\nX11          7.478e-06        nan        nan        nan         nan         nan\nX12          8.183e-06        nan        nan        nan         nan         nan\nX13          9.894e-06        nan        nan        nan         nan         nan\nX14          3.128e-06        nan        nan        nan         nan         nan\nX15         -1.175e-06        nan        nan        nan         nan         nan\nX16         -4.267e-06        nan        nan        nan         nan         nan\nX17         -4.652e-07        nan        nan        nan         nan         nan\nX18         -8.863e-05        nan        nan        nan         nan         nan\nX19          5.291e-07        nan        nan        nan         nan         nan\nX2           5.909e-09        nan        nan        nan         nan         nan\nX20          1.494e-05        nan        nan        nan         nan         nan\nX21          1.197e-05        nan        nan        nan         nan         nan\nX22          2.639e-06        nan        nan        nan         nan         nan\nX23          5.487e-06        nan        nan        nan         nan         nan\nX24         -1.102e-06        nan        nan        nan         nan         nan\nX26          1.012e-05        nan        nan        nan         nan         nan\nX27          4.352e-06        nan        nan        nan         nan         nan\nX28          3.785e-06        nan        nan        nan         nan         nan\nX29          8.504e-06        nan        nan        nan         nan         nan\nX3          -3.555e-07        nan        nan        nan         nan         nan\nX30          9.425e-07        nan        nan        nan         nan         nan\nX31            1.2e-05        nan        nan        nan         nan         nan\nX32         -1.467e-06        nan        nan        nan         nan         nan\nX33         -4.163e-06        nan        nan        nan         nan         nan\nX34          5.127e-06        nan        nan        nan         nan         nan\nX35          7.186e-06        nan        nan        nan         nan         nan\nX36          1.084e-05        nan        nan        nan         nan         nan\nX37          1.726e-05        nan        nan        nan         nan         nan\nX38          1.645e-05        nan        nan        nan         nan         nan\nX39          6.023e-06        nan        nan        nan         nan         nan\nX4           1.015e-05        nan        nan        nan         nan         nan\nX40          6.467e-06        nan        nan        nan         nan         nan\nX41          1.368e-05        nan        nan        nan         nan         nan\nX42         -1.351e-05        nan        nan        nan         nan         nan\nX43          1.274e-05        nan        nan        nan         nan         nan\nX44         -2.408e-06        nan        nan        nan         nan         nan\nX45          1.087e-05        nan        nan        nan         nan         nan\nX46         -1.855e-05        nan        nan        nan         nan         nan\nX47          8.313e-06        nan        nan        nan         nan         nan\nX48          2.422e-06        nan        nan        nan         nan         nan\nX49          1.567e-05        nan        nan        nan         nan         nan\nX5             -0.0001        nan        nan        nan         nan         nan\nX50           9.29e-06        nan        nan        nan         nan         nan\nX51          4.724e-06        nan        nan        nan         nan         nan\nX52         -4.804e-06        nan        nan        nan         nan         nan\nX53          1.134e-05        nan        nan        nan         nan         nan\nX54          1.185e-05        nan        nan        nan         nan         nan\nX55           7.66e-06        nan        nan        nan         nan         nan\nX56          2.611e-06        nan        nan        nan         nan         nan\nX57          6.273e-06        nan        nan        nan         nan         nan\nX58          6.553e-06        nan        nan        nan         nan         nan\nX59          1.162e-05        nan        nan        nan         nan         nan\nX6          -1.978e-05        nan        nan        nan         nan         nan\nX60          1.963e-06        nan        nan        nan         nan         nan\nX61          9.923e-06        nan        nan        nan         nan         nan\nX62          -4.81e-06        nan        nan        nan         nan         nan\nX63          6.152e-06        nan        nan        nan         nan         nan\nX64         -1.726e-06        nan        nan        nan         nan         nan\nX65          1.546e-05        nan        nan        nan         nan         nan\nX66          5.633e-06        nan        nan        nan         nan         nan\nX67          1.238e-05        nan        nan        nan         nan         nan\nX68          5.413e-06        nan        nan        nan         nan         nan\nX69          5.715e-06        nan        nan        nan         nan         nan\nX7          -3.375e-05        nan        nan        nan         nan         nan\nX70           1.17e-05        nan        nan        nan         nan         nan\nX8          -1.739e-07        nan        nan        nan         nan         nan\nX9          -1.465e-06        nan        nan        nan         nan         nan\n===============================================================================\n/home/nmduy/.conda/envs/dadm/lib/python3.6/site-packages/statsmodels/base/model.py:548: HessianInversionWarning: Inverting hessian failed, no bse or cov_params available\n  'available', HessianInversionWarning)\n/home/nmduy/.conda/envs/dadm/lib/python3.6/site-packages/statsmodels/base/model.py:568: ConvergenceWarning: Maximum Likelihood optimization failed to converge. Check mle_retvals\n  \"Check mle_retvals\", ConvergenceWarning)\n"
    }
   ],
   "source": [
    "all_columns = \"+\".join(data_balance_rm.columns.difference([\"Y\"]))\n",
    "my_formula = \"Y~\" + all_columns\n",
    "result = sm.logit(formula=my_formula, data=data_balance_rm).fit(method='nm', maxiter=500)\n",
    "print(result.summary())"
   ]
  },
  {
   "cell_type": "code",
   "execution_count": 25,
   "metadata": {},
   "outputs": [
    {
     "output_type": "execute_result",
     "data": {
      "text/plain": "41"
     },
     "metadata": {},
     "execution_count": 25
    }
   ],
   "source": [
    "dict_p = dict(result.pvalues)\n",
    "keep_ft = []\n",
    "for key, val in dict_p.items():\n",
    "    if val < 0.999 and key != 'Intercept':\n",
    "        keep_ft += [key]\n",
    "len(keep_ft)"
   ]
  },
  {
   "cell_type": "code",
   "execution_count": 26,
   "metadata": {},
   "outputs": [
    {
     "output_type": "stream",
     "name": "stdout",
     "text": "Optimization terminated successfully.\n         Current function value: 0.684610\n         Iterations: 962\n         Function evaluations: 1251\n                           Logit Regression Results                           \n==============================================================================\nDep. Variable:                      Y   No. Observations:                26872\nModel:                          Logit   Df Residuals:                    26830\nMethod:                           MLE   Df Model:                           41\nDate:                Thu, 16 Apr 2020   Pseudo R-squ.:                 0.01232\nTime:                        16:48:41   Log-Likelihood:                -18397.\nconverged:                       True   LL-Null:                       -18626.\nCovariance Type:            nonrobust   LLR p-value:                 5.090e-72\n==============================================================================\n                 coef    std err          z      P>|z|      [0.025      0.975]\n------------------------------------------------------------------------------\nIntercept  -2.343e-05      0.064     -0.000      1.000      -0.126       0.126\nX10         4.859e-05      0.101      0.000      1.000      -0.197       0.198\nX12         9.959e-05      0.043      0.002      0.998      -0.084       0.084\nX13         7.718e-05      0.030      0.003      0.998      -0.058       0.058\nX16            0.0002      0.006      0.035      0.972      -0.011       0.011\nX17            0.0001      0.027      0.005      0.996      -0.052       0.053\nX18           -0.0001   1.58e-05     -6.737      0.000      -0.000   -7.54e-05\nX19        -3.529e-05      0.147     -0.000      1.000      -0.288       0.288\nX2          1.013e-06   1.52e-07      6.671      0.000    7.15e-07    1.31e-06\nX20         1.283e-05      0.141    9.1e-05      1.000      -0.276       0.276\nX22           -0.0002      0.014     -0.011      0.991      -0.027       0.027\nX23        -1.449e-05      0.020     -0.001      0.999      -0.040       0.040\nX24        -9.825e-05      0.007     -0.015      0.988      -0.013       0.013\nX25           -0.0002      0.038     -0.004      0.997      -0.074       0.074\nX27         -7.87e-05      0.029     -0.003      0.998      -0.056       0.056\nX29        -3.274e-06      0.031     -0.000      1.000      -0.061       0.061\nX3         -1.825e-07   3.87e-08     -4.712      0.000   -2.58e-07   -1.07e-07\nX32           7.1e-05      0.052      0.001      0.999      -0.102       0.102\nX34         1.472e-05      0.084      0.000      1.000      -0.164       0.164\nX35        -4.618e-05      0.068     -0.001      0.999      -0.134       0.134\nX37            0.0002      0.050      0.003      0.998      -0.098       0.099\nX39        -3.971e-05      0.092     -0.000      1.000      -0.180       0.180\nX43          2.22e-05      0.064      0.000      1.000      -0.125       0.125\nX44        -1.352e-05      0.031     -0.000      1.000      -0.061       0.061\nX47            0.0002      0.040      0.005      0.996      -0.078       0.079\nX48           -0.0001      0.089     -0.001      0.999      -0.174       0.174\nX49           -0.0001      0.040     -0.003      0.998      -0.079       0.079\nX5         -9.358e-05   6.16e-06    -15.195      0.000      -0.000   -8.15e-05\nX50         3.712e-05      0.045      0.001      0.999      -0.088       0.089\nX52        -2.987e-06      0.040  -7.43e-05      1.000      -0.079       0.079\nX53         4.524e-05      0.040      0.001      0.999      -0.078       0.078\nX54            0.0001      0.040      0.003      0.997      -0.078       0.079\nX57        -3.373e-05      0.066     -0.001      1.000      -0.129       0.129\nX6           1.04e-05   3.99e-06      2.605      0.009    2.58e-06    1.82e-05\nX62        -4.873e-05      0.133     -0.000      1.000      -0.260       0.260\nX63           -0.0001      0.051     -0.002      0.998      -0.100       0.100\nX66        -3.321e-05      0.122     -0.000      1.000      -0.239       0.239\nX67         4.667e-05      0.036      0.001      0.999      -0.070       0.070\nX69            0.0002      0.065      0.004      0.997      -0.127       0.127\nX7          2.948e-05   8.35e-06      3.530      0.000    1.31e-05    4.59e-05\nX8         -9.778e-06      0.001     -0.008      0.994      -0.002       0.002\nX9          1.504e-05      0.014      0.001      0.999      -0.027       0.027\n==============================================================================\n"
    }
   ],
   "source": [
    "all_columns = \"+\".join(keep_ft)\n",
    "my_formula = \"Y~\" + all_columns\n",
    "result = sm.logit(formula=my_formula, data=data_balance_rm).fit(method='nm', maxiter=2500)\n",
    "print(result.summary())"
   ]
  },
  {
   "cell_type": "code",
   "execution_count": 47,
   "metadata": {},
   "outputs": [],
   "source": [
    "##### EVALUATE #####\n",
    "def logPredict(modelParams, X):  \n",
    "    probabilities = modelParams.predict(X)\n",
    "    classify = [1 if x >= 0.5 else 0 for x in probabilities]\n",
    "    return probabilities, classify\n",
    "    \n",
    "def calculate_metric(gtnp, pdnp):\n",
    "    # input are numpy vector\n",
    "    total_samples = len(gtnp)\n",
    "    #print(f\"Total sample: {total_samples}\")\n",
    "    total_correct = np.sum(gtnp == pdnp)\n",
    "    accuracy = total_correct / total_samples\n",
    "    gt_pos = np.where(gtnp == 1)[0]\n",
    "    gt_neg = np.where(gtnp == 0)[0]\n",
    "    TP = np.sum(pdnp[gt_pos])\n",
    "    TN = np.sum(1 - pdnp[gt_neg])\n",
    "    FP = np.sum(pdnp[gt_neg])\n",
    "    FN = np.sum(1 - pdnp[gt_pos])\n",
    "    precision = TP / (TP+FP)\n",
    "    recall = TP/(TP+FN)\n",
    "    f1 = 2*precision*recall/(precision+recall)\n",
    "    metrics = {}\n",
    "    metrics['accuracy'] = str(accuracy)\n",
    "    metrics['precision'] = str(precision)\n",
    "    metrics['recall'] = str(recall)\n",
    "    metrics['f1'] = str(f1)\n",
    "    metrics['tp'] = str(int(TP))\n",
    "    metrics['tn'] = str(int(TN))\n",
    "    metrics['fp'] = str(int(FP))\n",
    "    metrics['fn'] = str(int(FN))\n",
    "\n",
    "    return metrics\n",
    ""
   ]
  },
  {
   "cell_type": "code",
   "execution_count": 48,
   "metadata": {},
   "outputs": [
    {
     "output_type": "execute_result",
     "data": {
      "text/plain": "{'accuracy': '0.9791075782455093',\n 'precision': 'nan',\n 'recall': '0.0',\n 'f1': 'nan',\n 'tp': '0',\n 'tn': '157417',\n 'fp': '0',\n 'fn': '3359'}"
     },
     "metadata": {},
     "execution_count": 48
    }
   ],
   "source": [
    "_,prediction = logPredict(result, data_remain_rm.drop(['Y'], axis=1))\n",
    "pred_np = np.asarray(prediction)\n",
    "lbl_np = np.asarray(data_remain_rm['Y'])\n",
    "metric = calculate_metric(lbl_np, pred_np)\n",
    "metric"
   ]
  },
  {
   "cell_type": "code",
   "execution_count": 49,
   "metadata": {},
   "outputs": [
    {
     "output_type": "execute_result",
     "data": {
      "text/plain": "{'accuracy': '0.6666914756375906',\n 'precision': '1.0',\n 'recall': '7.442691277165823e-05',\n 'f1': '0.00014884274763712137',\n 'tp': '1',\n 'tn': '26872',\n 'fp': '0',\n 'fn': '13435'}"
     },
     "metadata": {},
     "execution_count": 49
    }
   ],
   "source": [
    "_,prediction = logPredict(result, data_balance_rm.drop(['Y'], axis=1))\n",
    "pred_np = np.asarray(prediction)\n",
    "lbl_np = np.asarray(data_balance_rm['Y'])\n",
    "metric = calculate_metric(lbl_np, pred_np)\n",
    "metric"
   ]
  },
  {
   "cell_type": "code",
   "execution_count": null,
   "metadata": {},
   "outputs": [],
   "source": []
  }
 ]
}