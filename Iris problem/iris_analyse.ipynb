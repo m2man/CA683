{
 "cells": [
  {
   "cell_type": "markdown",
   "metadata": {},
   "source": [
    "# Irish data set Analyzing"
   ]
  },
  {
   "cell_type": "markdown",
   "metadata": {},
   "source": [
    "## 1. Read dataset"
   ]
  },
  {
   "cell_type": "code",
   "execution_count": 6,
   "metadata": {},
   "outputs": [],
   "source": [
    "import pandas as pd\n",
    "import numpy as np\n",
    "import matplotlib.pyplot as plt\n",
    "import random\n",
    "#from sklearn.linear_model import LinearRegression\n",
    "#from sklearn.linear_model import LogisticRegression\n",
    "from sklearn import metrics\n",
    "from sklearn.metrics import roc_curve\n",
    "from sklearn.metrics import roc_auc_score\n",
    "import statsmodels.formula.api as sm\n",
    "import seaborn as sns\n",
    "sns.set(style=\"ticks\", palette=\"pastel\")\n",
    "plt.style.use('seaborn-deep')\n",
    "\n",
    "random.seed(1509)"
   ]
  },
  {
   "cell_type": "code",
   "execution_count": 30,
   "metadata": {},
   "outputs": [],
   "source": [
    "data = pd.read_csv(\"iris_data.csv\")"
   ]
  },
  {
   "cell_type": "code",
   "execution_count": 31,
   "metadata": {
    "scrolled": false
   },
   "outputs": [
    {
     "data": {
      "text/html": [
       "<div>\n",
       "<style scoped>\n",
       "    .dataframe tbody tr th:only-of-type {\n",
       "        vertical-align: middle;\n",
       "    }\n",
       "\n",
       "    .dataframe tbody tr th {\n",
       "        vertical-align: top;\n",
       "    }\n",
       "\n",
       "    .dataframe thead th {\n",
       "        text-align: right;\n",
       "    }\n",
       "</style>\n",
       "<table border=\"1\" class=\"dataframe\">\n",
       "  <thead>\n",
       "    <tr style=\"text-align: right;\">\n",
       "      <th></th>\n",
       "      <th>Sepal.Length</th>\n",
       "      <th>Sepal.Width</th>\n",
       "      <th>Petal.Length</th>\n",
       "      <th>Petal.Width</th>\n",
       "      <th>Species</th>\n",
       "    </tr>\n",
       "  </thead>\n",
       "  <tbody>\n",
       "    <tr>\n",
       "      <th>0</th>\n",
       "      <td>5.1</td>\n",
       "      <td>3.5</td>\n",
       "      <td>1.4</td>\n",
       "      <td>0.2</td>\n",
       "      <td>setosa</td>\n",
       "    </tr>\n",
       "    <tr>\n",
       "      <th>1</th>\n",
       "      <td>4.9</td>\n",
       "      <td>3.0</td>\n",
       "      <td>1.4</td>\n",
       "      <td>0.2</td>\n",
       "      <td>setosa</td>\n",
       "    </tr>\n",
       "    <tr>\n",
       "      <th>2</th>\n",
       "      <td>4.7</td>\n",
       "      <td>3.2</td>\n",
       "      <td>1.3</td>\n",
       "      <td>0.2</td>\n",
       "      <td>setosa</td>\n",
       "    </tr>\n",
       "    <tr>\n",
       "      <th>3</th>\n",
       "      <td>4.6</td>\n",
       "      <td>3.1</td>\n",
       "      <td>1.5</td>\n",
       "      <td>0.2</td>\n",
       "      <td>setosa</td>\n",
       "    </tr>\n",
       "    <tr>\n",
       "      <th>4</th>\n",
       "      <td>5.0</td>\n",
       "      <td>3.6</td>\n",
       "      <td>1.4</td>\n",
       "      <td>0.2</td>\n",
       "      <td>setosa</td>\n",
       "    </tr>\n",
       "  </tbody>\n",
       "</table>\n",
       "</div>"
      ],
      "text/plain": [
       "   Sepal.Length  Sepal.Width  Petal.Length  Petal.Width Species\n",
       "0           5.1          3.5           1.4          0.2  setosa\n",
       "1           4.9          3.0           1.4          0.2  setosa\n",
       "2           4.7          3.2           1.3          0.2  setosa\n",
       "3           4.6          3.1           1.5          0.2  setosa\n",
       "4           5.0          3.6           1.4          0.2  setosa"
      ]
     },
     "execution_count": 31,
     "metadata": {},
     "output_type": "execute_result"
    }
   ],
   "source": [
    "data.head(5)"
   ]
  },
  {
   "cell_type": "code",
   "execution_count": 32,
   "metadata": {},
   "outputs": [],
   "source": [
    "classes = list(set(list(data['Species'])))\n",
    "classes = sorted(classes)\n",
    "ft_names = list(data.columns)[:-1]\n",
    "n_ft = len(ft_names)"
   ]
  },
  {
   "cell_type": "code",
   "execution_count": 33,
   "metadata": {},
   "outputs": [],
   "source": [
    "data_classes = {}\n",
    "for cl in classes:\n",
    "    data_classes[cl] = data[data['Species']==cl]"
   ]
  },
  {
   "cell_type": "code",
   "execution_count": 34,
   "metadata": {},
   "outputs": [
    {
     "name": "stdout",
     "output_type": "stream",
     "text": [
      "There are 3 classes in dataset: setosa, versicolor, virginica.\n",
      "Number of samples in each class:\n",
      "setosa: 50 samples\n",
      "versicolor: 50 samples\n",
      "virginica: 50 samples\n",
      "There are 4 features: Sepal.Length, Sepal.Width, Petal.Length, Petal.Width\n"
     ]
    }
   ],
   "source": [
    "info = 'There are {} classes in dataset:'.format(len(classes))\n",
    "for cl in classes:\n",
    "    info += ' {},'.format(cl)\n",
    "info = info[:-1] + '.\\n'\n",
    "info += 'Number of samples in each class:\\n'\n",
    "for cl in classes:\n",
    "    info += '{}: {} samples\\n'.format(cl, data_classes[cl].shape[0])\n",
    "info += 'There are {} features:'.format(n_ft)\n",
    "for idx in range(n_ft):\n",
    "    info += ' {},'.format(ft_names[idx])\n",
    "info = info[:-1]\n",
    "print(info)"
   ]
  },
  {
   "cell_type": "markdown",
   "metadata": {},
   "source": [
    "## 2. Check missing value"
   ]
  },
  {
   "cell_type": "code",
   "execution_count": 35,
   "metadata": {},
   "outputs": [],
   "source": [
    "n_missing_classes = {}\n",
    "for cl in classes:\n",
    "    missing = list(data_classes[cl].isnull().sum())[:-1] # remove species column\n",
    "    n_missing_classes[cl] = [0 for x in range(n_ft)]\n",
    "    for idx, val in enumerate(missing):\n",
    "        n_missing_classes[cl][idx] = val"
   ]
  },
  {
   "cell_type": "code",
   "execution_count": 36,
   "metadata": {},
   "outputs": [
    {
     "name": "stdout",
     "output_type": "stream",
     "text": [
      "setosa has 1 missing: 1 in Sepal.Length\n",
      "versicolor has 2 missing: 1 in Sepal.Width, 1 in Petal.Length\n",
      "virginica has 0 missing\n",
      "\n"
     ]
    }
   ],
   "source": [
    "info = ''\n",
    "for cl in classes:\n",
    "    info += '{} has {} missing'.format(cl, sum(n_missing_classes[cl]))\n",
    "    if sum(n_missing_classes[cl]) > 0:\n",
    "        info += ':'\n",
    "        ft_miss = [x for x in range(n_ft) if n_missing_classes[cl][x] > 0]\n",
    "        for index in ft_miss:\n",
    "            info += ' {} in {},'.format(n_missing_classes[cl][index], ft_names[index])\n",
    "        info = info[:-1]\n",
    "    info += '\\n'\n",
    "print(info)"
   ]
  },
  {
   "cell_type": "markdown",
   "metadata": {},
   "source": [
    "## 3. Filling missing value"
   ]
  },
  {
   "cell_type": "code",
   "execution_count": 38,
   "metadata": {},
   "outputs": [
    {
     "name": "stdout",
     "output_type": "stream",
     "text": [
      "[0]\n"
     ]
    }
   ],
   "source": [
    "cl = classes[0]\n",
    "data_cl = data_classes[cl]\n",
    "ft_missing = [x for x in range(n_ft) if n_missing_classes[cl][x] > 0]\n",
    "print(ft_missing)"
   ]
  },
  {
   "cell_type": "markdown",
   "metadata": {},
   "source": [
    "Here the missing value is in column 0, which is ```Sepal.Length```. We will perform regression to predict missing value in this (response) column."
   ]
  },
  {
   "cell_type": "code",
   "execution_count": 39,
   "metadata": {},
   "outputs": [
    {
     "data": {
      "text/html": [
       "<div>\n",
       "<style scoped>\n",
       "    .dataframe tbody tr th:only-of-type {\n",
       "        vertical-align: middle;\n",
       "    }\n",
       "\n",
       "    .dataframe tbody tr th {\n",
       "        vertical-align: top;\n",
       "    }\n",
       "\n",
       "    .dataframe thead th {\n",
       "        text-align: right;\n",
       "    }\n",
       "</style>\n",
       "<table border=\"1\" class=\"dataframe\">\n",
       "  <thead>\n",
       "    <tr style=\"text-align: right;\">\n",
       "      <th></th>\n",
       "      <th>Sepal.Length</th>\n",
       "      <th>Sepal.Width</th>\n",
       "      <th>Petal.Length</th>\n",
       "      <th>Petal.Width</th>\n",
       "    </tr>\n",
       "  </thead>\n",
       "  <tbody>\n",
       "    <tr>\n",
       "      <th>Sepal.Length</th>\n",
       "      <td>1.000000</td>\n",
       "      <td>0.736298</td>\n",
       "      <td>0.197411</td>\n",
       "      <td>0.234879</td>\n",
       "    </tr>\n",
       "    <tr>\n",
       "      <th>Sepal.Width</th>\n",
       "      <td>0.736298</td>\n",
       "      <td>1.000000</td>\n",
       "      <td>0.177700</td>\n",
       "      <td>0.232752</td>\n",
       "    </tr>\n",
       "    <tr>\n",
       "      <th>Petal.Length</th>\n",
       "      <td>0.197411</td>\n",
       "      <td>0.177700</td>\n",
       "      <td>1.000000</td>\n",
       "      <td>0.331630</td>\n",
       "    </tr>\n",
       "    <tr>\n",
       "      <th>Petal.Width</th>\n",
       "      <td>0.234879</td>\n",
       "      <td>0.232752</td>\n",
       "      <td>0.331630</td>\n",
       "      <td>1.000000</td>\n",
       "    </tr>\n",
       "  </tbody>\n",
       "</table>\n",
       "</div>"
      ],
      "text/plain": [
       "              Sepal.Length  Sepal.Width  Petal.Length  Petal.Width\n",
       "Sepal.Length      1.000000     0.736298      0.197411     0.234879\n",
       "Sepal.Width       0.736298     1.000000      0.177700     0.232752\n",
       "Petal.Length      0.197411     0.177700      1.000000     0.331630\n",
       "Petal.Width       0.234879     0.232752      0.331630     1.000000"
      ]
     },
     "execution_count": 39,
     "metadata": {},
     "output_type": "execute_result"
    }
   ],
   "source": [
    "corr=data_cl.corr()\n",
    "corr"
   ]
  },
  {
   "cell_type": "markdown",
   "metadata": {},
   "source": [
    "As we can see, the ```Sepal.Length``` is highly correlated with ```Sepal.Width```, we can do regression as ```Sepal.Length = a + b * Sepal.Width```. But we also perform multiple linear regression by using all features to make the comparison. We expect that the normal regression will be better than multiple model since 2 other features are low correlated with the response column."
   ]
  },
  {
   "cell_type": "code",
   "execution_count": 40,
   "metadata": {
    "scrolled": true
   },
   "outputs": [],
   "source": [
    "missing_index = list(data_cl.loc[data_cl.isnull().any(1)].index)"
   ]
  },
  {
   "cell_type": "code",
   "execution_count": 41,
   "metadata": {},
   "outputs": [],
   "source": [
    "ft_value = {}\n",
    "for idx, ft in enumerate(ft_names):\n",
    "    ft_value[ft] = list(data_cl.iloc[:,idx])\n",
    "    ft_value[ft] = [j for i, j in enumerate(ft_value[ft]) if i not in missing_index]"
   ]
  },
  {
   "cell_type": "code",
   "execution_count": 42,
   "metadata": {},
   "outputs": [],
   "source": [
    "index_subset = [x for x in range(len(ft_value[ft_names[0]]))]\n",
    "random.shuffle(index_subset)"
   ]
  },
  {
   "cell_type": "markdown",
   "metadata": {},
   "source": [
    "### a. Split dataset"
   ]
  },
  {
   "cell_type": "code",
   "execution_count": 43,
   "metadata": {},
   "outputs": [],
   "source": [
    "ft_train = {}\n",
    "ft_test = {}\n",
    "for ft in ft_names:\n",
    "    ft_train[ft] = [ft_value[ft][x] for x in index_subset[0:40]]\n",
    "    ft_test[ft] = [ft_value[ft][x] for x in index_subset[40:]]"
   ]
  },
  {
   "cell_type": "code",
   "execution_count": 44,
   "metadata": {},
   "outputs": [],
   "source": [
    "data_train = pd.DataFrame(ft_train)\n",
    "data_train.columns = [\"Y\", \"X\", \"W\", \"Z\"]"
   ]
  },
  {
   "cell_type": "markdown",
   "metadata": {},
   "source": [
    "### b. MLR\n",
    "We perform Multiple Linear Regression model by using all features"
   ]
  },
  {
   "cell_type": "code",
   "execution_count": 45,
   "metadata": {},
   "outputs": [
    {
     "name": "stdout",
     "output_type": "stream",
     "text": [
      "                            OLS Regression Results                            \n",
      "==============================================================================\n",
      "Dep. Variable:                      Y   R-squared:                       0.555\n",
      "Model:                            OLS   Adj. R-squared:                  0.517\n",
      "Method:                 Least Squares   F-statistic:                     14.94\n",
      "Date:                Thu, 06 Feb 2020   Prob (F-statistic):           1.77e-06\n",
      "Time:                        00:52:31   Log-Likelihood:                 1.7564\n",
      "No. Observations:                  40   AIC:                             4.487\n",
      "Df Residuals:                      36   BIC:                             11.24\n",
      "Df Model:                           3                                         \n",
      "Covariance Type:            nonrobust                                         \n",
      "==============================================================================\n",
      "                 coef    std err          t      P>|t|      [0.025      0.975]\n",
      "------------------------------------------------------------------------------\n",
      "Intercept      2.6529      0.449      5.910      0.000       1.742       3.563\n",
      "X              0.6385      0.100      6.369      0.000       0.435       0.842\n",
      "W              0.0671      0.231      0.291      0.773      -0.401       0.535\n",
      "Z              0.2706      0.374      0.723      0.474      -0.488       1.030\n",
      "==============================================================================\n",
      "Omnibus:                        0.196   Durbin-Watson:                   2.265\n",
      "Prob(Omnibus):                  0.907   Jarque-Bera (JB):                0.400\n",
      "Skew:                           0.059   Prob(JB):                        0.819\n",
      "Kurtosis:                       2.524   Cond. No.                         49.3\n",
      "==============================================================================\n",
      "\n",
      "Warnings:\n",
      "[1] Standard Errors assume that the covariance matrix of the errors is correctly specified.\n"
     ]
    }
   ],
   "source": [
    "formula_str=\"Y ~ X + W + Z\"\n",
    "result=sm.ols(formula=formula_str,data=data_train).fit()\n",
    "print(result.summary())"
   ]
  },
  {
   "cell_type": "code",
   "execution_count": 46,
   "metadata": {},
   "outputs": [],
   "source": [
    "y_pred = list(result.predict({\"X\": ft_value[ft_names[1]], \n",
    "                              \"W\": ft_value[ft_names[2]], \n",
    "                              \"Z\": ft_value[ft_names[3]]}))\n",
    "residual = [i - j for i,j in zip(ft_value[ft_names[0]],y_pred)]"
   ]
  },
  {
   "cell_type": "code",
   "execution_count": 47,
   "metadata": {},
   "outputs": [
    {
     "data": {
      "image/png": "[encoded data removed]",
      "text/plain": [
       "<Figure size 432x288 with 1 Axes>"
      ]
     },
     "metadata": {},
     "output_type": "display_data"
    }
   ],
   "source": [
    "plt.scatter([x for x in index_subset[0:40]], [residual[x] for x in index_subset[0:40]], color='b', label = 'train')\n",
    "plt.scatter([x for x in index_subset[40:]], [residual[x] for x in index_subset[40:]], color='r', label = 'test')\n",
    "plt.title('Residual Scatter')\n",
    "plt.xlabel('index')\n",
    "plt.ylabel('error')\n",
    "plt.legend()\n",
    "plt.show()"
   ]
  },
  {
   "cell_type": "code",
   "execution_count": 48,
   "metadata": {},
   "outputs": [
    {
     "name": "stdout",
     "output_type": "stream",
     "text": [
      "Mean Residual: 0.007269615599574968\n",
      "Std Residual: 0.22559712363918913\n"
     ]
    }
   ],
   "source": [
    "residual_np = np.array(residual)\n",
    "mean_resid = np.mean(residual_np)\n",
    "std_resid = np.std(residual_np)\n",
    "print(\"Mean Residual: {}\\nStd Residual: {}\".format(mean_resid, std_resid))"
   ]
  },
  {
   "cell_type": "code",
   "execution_count": 49,
   "metadata": {},
   "outputs": [
    {
     "data": {
      "text/plain": [
       "<matplotlib.axes._subplots.AxesSubplot at 0x129d94da0>"
      ]
     },
     "execution_count": 49,
     "metadata": {},
     "output_type": "execute_result"
    },
    {
     "data": {
      "image/png": "[encoded data removed]",
      "text/plain": [
       "<Figure size 432x288 with 1 Axes>"
      ]
     },
     "metadata": {},
     "output_type": "display_data"
    }
   ],
   "source": [
    "sns.distplot(residual_np)"
   ]
  },
  {
   "cell_type": "markdown",
   "metadata": {},
   "source": [
    "### c. LR\n",
    "We perform Linear Regression model by using only highest correlated feature to compare with Multiple Linear Regression model"
   ]
  },
  {
   "cell_type": "code",
   "execution_count": 50,
   "metadata": {},
   "outputs": [
    {
     "name": "stdout",
     "output_type": "stream",
     "text": [
      "                            OLS Regression Results                            \n",
      "==============================================================================\n",
      "Dep. Variable:                      Y   R-squared:                       0.545\n",
      "Model:                            OLS   Adj. R-squared:                  0.533\n",
      "Method:                 Least Squares   F-statistic:                     45.46\n",
      "Date:                Thu, 06 Feb 2020   Prob (F-statistic):           5.50e-08\n",
      "Time:                        00:52:36   Log-Likelihood:                 1.3158\n",
      "No. Observations:                  40   AIC:                             1.368\n",
      "Df Residuals:                      38   BIC:                             4.746\n",
      "Df Model:                           1                                         \n",
      "Covariance Type:            nonrobust                                         \n",
      "==============================================================================\n",
      "                 coef    std err          t      P>|t|      [0.025      0.975]\n",
      "------------------------------------------------------------------------------\n",
      "Intercept      2.7652      0.335      8.251      0.000       2.087       3.444\n",
      "X              0.6545      0.097      6.742      0.000       0.458       0.851\n",
      "==============================================================================\n",
      "Omnibus:                        0.160   Durbin-Watson:                   2.313\n",
      "Prob(Omnibus):                  0.923   Jarque-Bera (JB):                0.352\n",
      "Skew:                          -0.098   Prob(JB):                        0.838\n",
      "Kurtosis:                       2.584   Cond. No.                         33.0\n",
      "==============================================================================\n",
      "\n",
      "Warnings:\n",
      "[1] Standard Errors assume that the covariance matrix of the errors is correctly specified.\n"
     ]
    }
   ],
   "source": [
    "formula_str=\"Y ~ X\"\n",
    "result=sm.ols(formula=formula_str,data=data_train).fit()\n",
    "print(result.summary())"
   ]
  },
  {
   "cell_type": "code",
   "execution_count": 51,
   "metadata": {},
   "outputs": [],
   "source": [
    "y_pred = list(result.predict({\"X\": ft_value[ft_names[1]]}))\n",
    "residual = [i - j for i,j in zip(ft_value[ft_names[0]],y_pred)]"
   ]
  },
  {
   "cell_type": "code",
   "execution_count": 52,
   "metadata": {},
   "outputs": [
    {
     "data": {
      "image/png": "[encoded data removed]",
      "text/plain": [
       "<Figure size 432x288 with 1 Axes>"
      ]
     },
     "metadata": {},
     "output_type": "display_data"
    }
   ],
   "source": [
    "plt.scatter([x for x in index_subset[0:40]], [residual[x] for x in index_subset[0:40]], color='b', label = 'train')\n",
    "plt.scatter([x for x in index_subset[40:]], [residual[x] for x in index_subset[40:]], color='r', label = 'test')\n",
    "plt.title('Residual Scatter')\n",
    "plt.xlabel('index')\n",
    "plt.ylabel('error')\n",
    "plt.legend()\n",
    "plt.show()"
   ]
  },
  {
   "cell_type": "code",
   "execution_count": 53,
   "metadata": {},
   "outputs": [
    {
     "name": "stdout",
     "output_type": "stream",
     "text": [
      "Mean Residual: 0.006000479878429213\n",
      "Std Residual: 0.22836456145805897\n"
     ]
    }
   ],
   "source": [
    "residual_np = np.array(residual)\n",
    "mean_resid = np.mean(residual_np)\n",
    "std_resid = np.std(residual_np)\n",
    "print(\"Mean Residual: {}\\nStd Residual: {}\".format(mean_resid, std_resid))"
   ]
  },
  {
   "cell_type": "code",
   "execution_count": 54,
   "metadata": {},
   "outputs": [
    {
     "data": {
      "text/plain": [
       "<matplotlib.axes._subplots.AxesSubplot at 0x129dd5198>"
      ]
     },
     "execution_count": 54,
     "metadata": {},
     "output_type": "execute_result"
    },
    {
     "data": {
      "image/png": "[encoded data removed]",
      "text/plain": [
       "<Figure size 432x288 with 1 Axes>"
      ]
     },
     "metadata": {},
     "output_type": "display_data"
    }
   ],
   "source": [
    "sns.distplot(residual_np)"
   ]
  },
  {
   "cell_type": "markdown",
   "metadata": {},
   "source": [
    "### d. Predict missing value\n",
    "Here we will choose the better model to predict the missing value. As we can see, the normal model have better AIC and BIC value (lower is better) and the error scatter plot also show that the error seems to be independent and follows normal distributed with mean of 0"
   ]
  },
  {
   "cell_type": "code",
   "execution_count": 55,
   "metadata": {},
   "outputs": [
    {
     "name": "stdout",
     "output_type": "stream",
     "text": [
      "0    4.728576\n",
      "dtype: float64\n"
     ]
    },
    {
     "name": "stderr",
     "output_type": "stream",
     "text": [
      "/Users/duynguyen/anaconda3/envs/dadm/lib/python3.6/site-packages/pandas/core/indexing.py:964: SettingWithCopyWarning: \n",
      "A value is trying to be set on a copy of a slice from a DataFrame.\n",
      "Try using .loc[row_indexer,col_indexer] = value instead\n",
      "\n",
      "See the caveats in the documentation: https://pandas.pydata.org/pandas-docs/stable/user_guide/indexing.html#returning-a-view-versus-a-copy\n",
      "  self.obj[item] = s\n"
     ]
    }
   ],
   "source": [
    "y_pred = result.predict({\"X\": data_cl.iloc[missing_index[0],1]})\n",
    "print(y_pred)\n",
    "data_classes[classes[0]].iloc[missing_index[0],0] = list(y_pred)[0]"
   ]
  },
  {
   "cell_type": "markdown",
   "metadata": {},
   "source": [
    "### e. Do the same with the other class"
   ]
  },
  {
   "cell_type": "code",
   "execution_count": 57,
   "metadata": {},
   "outputs": [
    {
     "name": "stdout",
     "output_type": "stream",
     "text": [
      "[1, 2]\n"
     ]
    },
    {
     "data": {
      "text/html": [
       "<div>\n",
       "<style scoped>\n",
       "    .dataframe tbody tr th:only-of-type {\n",
       "        vertical-align: middle;\n",
       "    }\n",
       "\n",
       "    .dataframe tbody tr th {\n",
       "        vertical-align: top;\n",
       "    }\n",
       "\n",
       "    .dataframe thead th {\n",
       "        text-align: right;\n",
       "    }\n",
       "</style>\n",
       "<table border=\"1\" class=\"dataframe\">\n",
       "  <thead>\n",
       "    <tr style=\"text-align: right;\">\n",
       "      <th></th>\n",
       "      <th>Sepal.Length</th>\n",
       "      <th>Sepal.Width</th>\n",
       "      <th>Petal.Length</th>\n",
       "      <th>Petal.Width</th>\n",
       "    </tr>\n",
       "  </thead>\n",
       "  <tbody>\n",
       "    <tr>\n",
       "      <th>Sepal.Length</th>\n",
       "      <td>1.000000</td>\n",
       "      <td>0.479991</td>\n",
       "      <td>0.754904</td>\n",
       "      <td>0.546461</td>\n",
       "    </tr>\n",
       "    <tr>\n",
       "      <th>Sepal.Width</th>\n",
       "      <td>0.479991</td>\n",
       "      <td>1.000000</td>\n",
       "      <td>0.523657</td>\n",
       "      <td>0.638250</td>\n",
       "    </tr>\n",
       "    <tr>\n",
       "      <th>Petal.Length</th>\n",
       "      <td>0.754904</td>\n",
       "      <td>0.523657</td>\n",
       "      <td>1.000000</td>\n",
       "      <td>0.785790</td>\n",
       "    </tr>\n",
       "    <tr>\n",
       "      <th>Petal.Width</th>\n",
       "      <td>0.546461</td>\n",
       "      <td>0.638250</td>\n",
       "      <td>0.785790</td>\n",
       "      <td>1.000000</td>\n",
       "    </tr>\n",
       "  </tbody>\n",
       "</table>\n",
       "</div>"
      ],
      "text/plain": [
       "              Sepal.Length  Sepal.Width  Petal.Length  Petal.Width\n",
       "Sepal.Length      1.000000     0.479991      0.754904     0.546461\n",
       "Sepal.Width       0.479991     1.000000      0.523657     0.638250\n",
       "Petal.Length      0.754904     0.523657      1.000000     0.785790\n",
       "Petal.Width       0.546461     0.638250      0.785790     1.000000"
      ]
     },
     "execution_count": 57,
     "metadata": {},
     "output_type": "execute_result"
    }
   ],
   "source": [
    "cl = classes[1]\n",
    "data_classes[cl].index = [x for x in range(len(data_classes[cl]))]\n",
    "data_cl = data_classes[cl]\n",
    "ft_missing = [x for x in range(n_ft) if n_missing_classes[cl][x] > 0]\n",
    "print(ft_missing)\n",
    "corr=data_cl.corr()\n",
    "corr"
   ]
  },
  {
   "cell_type": "markdown",
   "metadata": {},
   "source": [
    "Since there are missing in 2 columns which are ```Sepal.Width```, and ```Petal.Length```. We will perform regression each of them separately."
   ]
  },
  {
   "cell_type": "code",
   "execution_count": 58,
   "metadata": {},
   "outputs": [],
   "source": [
    "missing_index = list(data_cl.loc[data_cl.isnull().any(1)].index)\n",
    "ft_value = {}\n",
    "for idx, ft in enumerate(ft_names):\n",
    "    ft_value[ft] = list(data_cl.iloc[:,idx])\n",
    "    ft_value[ft] = [j for i, j in enumerate(ft_value[ft]) if i not in missing_index]"
   ]
  },
  {
   "cell_type": "markdown",
   "metadata": {},
   "source": [
    "#### 1. Sepal.Width"
   ]
  },
  {
   "cell_type": "code",
   "execution_count": 59,
   "metadata": {},
   "outputs": [],
   "source": [
    "index_subset = [x for x in range(len(ft_value[ft_names[1]]))]\n",
    "random.shuffle(index_subset)\n",
    "ft_train = {}\n",
    "ft_test = {}\n",
    "for ft in ft_names:\n",
    "    ft_train[ft] = [ft_value[ft][x] for x in index_subset[0:40]]\n",
    "    ft_test[ft] = [ft_value[ft][x] for x in index_subset[40:]]"
   ]
  },
  {
   "cell_type": "code",
   "execution_count": 60,
   "metadata": {},
   "outputs": [],
   "source": [
    "data_train = pd.DataFrame(ft_train)\n",
    "data_train.columns = [\"X\", \"Y\", \"W\", \"Z\"]"
   ]
  },
  {
   "cell_type": "code",
   "execution_count": 61,
   "metadata": {},
   "outputs": [
    {
     "name": "stdout",
     "output_type": "stream",
     "text": [
      "Mean Residual: -0.021405506402627016\n",
      "Std Residual: 0.2210592080980153\n",
      "                            OLS Regression Results                            \n",
      "==============================================================================\n",
      "Dep. Variable:                      Y   R-squared:                       0.437\n",
      "Model:                            OLS   Adj. R-squared:                  0.390\n",
      "Method:                 Least Squares   F-statistic:                     9.314\n",
      "Date:                Thu, 06 Feb 2020   Prob (F-statistic):           0.000108\n",
      "Time:                        00:54:30   Log-Likelihood:                 4.8273\n",
      "No. Observations:                  40   AIC:                            -1.655\n",
      "Df Residuals:                      36   BIC:                             5.101\n",
      "Df Model:                           3                                         \n",
      "Covariance Type:            nonrobust                                         \n",
      "==============================================================================\n",
      "                 coef    std err          t      P>|t|      [0.025      0.975]\n",
      "------------------------------------------------------------------------------\n",
      "Intercept      0.9878      0.439      2.249      0.031       0.097       1.879\n",
      "X              0.1718      0.101      1.699      0.098      -0.033       0.377\n",
      "W             -0.1111      0.147     -0.755      0.455      -0.410       0.187\n",
      "Z              0.9543      0.289      3.307      0.002       0.369       1.540\n",
      "==============================================================================\n",
      "Omnibus:                       17.704   Durbin-Watson:                   1.842\n",
      "Prob(Omnibus):                  0.000   Jarque-Bera (JB):               24.584\n",
      "Skew:                          -1.298   Prob(JB):                     4.59e-06\n",
      "Kurtosis:                       5.831   Cond. No.                         94.2\n",
      "==============================================================================\n",
      "\n",
      "Warnings:\n",
      "[1] Standard Errors assume that the covariance matrix of the errors is correctly specified.\n"
     ]
    }
   ],
   "source": [
    "formula_str=\"Y ~ X + W + Z\"\n",
    "result=sm.ols(formula=formula_str,data=data_train).fit()\n",
    "y_pred = list(result.predict({\"X\": ft_value[ft_names[0]], \n",
    "                              \"W\": ft_value[ft_names[2]], \n",
    "                              \"Z\": ft_value[ft_names[3]]}))\n",
    "residual = [i - j for i,j in zip(ft_value[ft_names[1]],y_pred)]\n",
    "residual_np = np.array(residual)\n",
    "mean_resid = np.mean(residual_np)\n",
    "std_resid = np.std(residual_np)\n",
    "print(\"Mean Residual: {}\\nStd Residual: {}\".format(mean_resid, std_resid))\n",
    "print(result.summary())"
   ]
  },
  {
   "cell_type": "code",
   "execution_count": 62,
   "metadata": {},
   "outputs": [
    {
     "data": {
      "image/png": "[encoded data removed]",
      "text/plain": [
       "<Figure size 432x288 with 1 Axes>"
      ]
     },
     "metadata": {},
     "output_type": "display_data"
    }
   ],
   "source": [
    "plt.scatter([x for x in index_subset[0:40]], [residual[x] for x in index_subset[0:40]], color='b', label = 'train')\n",
    "plt.scatter([x for x in index_subset[40:]], [residual[x] for x in index_subset[40:]], color='r', label = 'test')\n",
    "plt.title('Residual Scatter')\n",
    "plt.xlabel('index')\n",
    "plt.ylabel('error')\n",
    "plt.legend()\n",
    "plt.show()"
   ]
  },
  {
   "cell_type": "code",
   "execution_count": 63,
   "metadata": {},
   "outputs": [
    {
     "data": {
      "text/plain": [
       "<matplotlib.axes._subplots.AxesSubplot at 0x129944c50>"
      ]
     },
     "execution_count": 63,
     "metadata": {},
     "output_type": "execute_result"
    },
    {
     "data": {
      "image/png": "[encoded data removed]",
      "text/plain": [
       "<Figure size 432x288 with 1 Axes>"
      ]
     },
     "metadata": {},
     "output_type": "display_data"
    }
   ],
   "source": [
    "sns.distplot(residual_np)"
   ]
  },
  {
   "cell_type": "code",
   "execution_count": 68,
   "metadata": {},
   "outputs": [
    {
     "name": "stdout",
     "output_type": "stream",
     "text": [
      "Mean Residual: -0.020419776711631404\n",
      "Std Residual: 0.2222240858416721\n",
      "                            OLS Regression Results                            \n",
      "==============================================================================\n",
      "Dep. Variable:                      Y   R-squared:                       0.428\n",
      "Model:                            OLS   Adj. R-squared:                  0.397\n",
      "Method:                 Least Squares   F-statistic:                     13.85\n",
      "Date:                Thu, 06 Feb 2020   Prob (F-statistic):           3.24e-05\n",
      "Time:                        00:54:55   Log-Likelihood:                 4.5132\n",
      "No. Observations:                  40   AIC:                            -3.026\n",
      "Df Residuals:                      37   BIC:                             2.040\n",
      "Df Model:                           2                                         \n",
      "Covariance Type:            nonrobust                                         \n",
      "==============================================================================\n",
      "                 coef    std err          t      P>|t|      [0.025      0.975]\n",
      "------------------------------------------------------------------------------\n",
      "Intercept      0.9777      0.436      2.240      0.031       0.093       1.862\n",
      "X              0.1262      0.081      1.565      0.126      -0.037       0.289\n",
      "Z              0.8087      0.213      3.788      0.001       0.376       1.241\n",
      "==============================================================================\n",
      "Omnibus:                       17.177   Durbin-Watson:                   1.744\n",
      "Prob(Omnibus):                  0.000   Jarque-Bera (JB):               22.646\n",
      "Skew:                          -1.299   Prob(JB):                     1.21e-05\n",
      "Kurtosis:                       5.615   Cond. No.                         77.4\n",
      "==============================================================================\n",
      "\n",
      "Warnings:\n",
      "[1] Standard Errors assume that the covariance matrix of the errors is correctly specified.\n"
     ]
    },
    {
     "data": {
      "image/png": "[encoded data removed]",
      "text/plain": [
       "<Figure size 432x288 with 1 Axes>"
      ]
     },
     "metadata": {},
     "output_type": "display_data"
    }
   ],
   "source": [
    "formula_str=\"Y ~ X + Z\"\n",
    "result=sm.ols(formula=formula_str,data=data_train).fit()\n",
    "y_pred = list(result.predict({\"X\": ft_value[ft_names[0]],  \n",
    "                              \"Z\": ft_value[ft_names[3]]}))\n",
    "residual = [i - j for i,j in zip(ft_value[ft_names[1]],y_pred)]\n",
    "residual_np = np.array(residual)\n",
    "mean_resid = np.mean(residual_np)\n",
    "std_resid = np.std(residual_np)\n",
    "print(\"Mean Residual: {}\\nStd Residual: {}\".format(mean_resid, std_resid))\n",
    "print(result.summary())\n",
    "\n",
    "plt.scatter([x for x in index_subset[0:40]], [residual[x] for x in index_subset[0:40]], color='b', label = 'train')\n",
    "plt.scatter([x for x in index_subset[40:]], [residual[x] for x in index_subset[40:]], color='r', label = 'test')\n",
    "plt.title('Residual Scatter')\n",
    "plt.xlabel('index')\n",
    "plt.ylabel('error')\n",
    "plt.legend()\n",
    "plt.show()"
   ]
  },
  {
   "cell_type": "code",
   "execution_count": 69,
   "metadata": {},
   "outputs": [
    {
     "data": {
      "text/plain": [
       "<matplotlib.axes._subplots.AxesSubplot at 0x12a04fc50>"
      ]
     },
     "execution_count": 69,
     "metadata": {},
     "output_type": "execute_result"
    },
    {
     "data": {
      "image/png": "[encoded data removed]",
      "text/plain": [
       "<Figure size 432x288 with 1 Axes>"
      ]
     },
     "metadata": {},
     "output_type": "display_data"
    }
   ],
   "source": [
    "sns.distplot(residual_np)"
   ]
  },
  {
   "cell_type": "code",
   "execution_count": 66,
   "metadata": {},
   "outputs": [
    {
     "name": "stdout",
     "output_type": "stream",
     "text": [
      "Mean Residual: -0.020971446586201908\n",
      "Std Residual: 0.22818357282011184\n",
      "                            OLS Regression Results                            \n",
      "==============================================================================\n",
      "Dep. Variable:                      Y   R-squared:                       0.390\n",
      "Model:                            OLS   Adj. R-squared:                  0.374\n",
      "Method:                 Least Squares   F-statistic:                     24.32\n",
      "Date:                Thu, 06 Feb 2020   Prob (F-statistic):           1.65e-05\n",
      "Time:                        00:54:32   Log-Likelihood:                 3.2311\n",
      "No. Observations:                  40   AIC:                            -2.462\n",
      "Df Residuals:                      38   BIC:                            0.9156\n",
      "Df Model:                           1                                         \n",
      "Covariance Type:            nonrobust                                         \n",
      "==============================================================================\n",
      "                 coef    std err          t      P>|t|      [0.025      0.975]\n",
      "------------------------------------------------------------------------------\n",
      "Intercept      1.5302      0.262      5.851      0.000       1.001       2.060\n",
      "Z              0.9586      0.194      4.931      0.000       0.565       1.352\n",
      "==============================================================================\n",
      "Omnibus:                       12.945   Durbin-Watson:                   1.923\n",
      "Prob(Omnibus):                  0.002   Jarque-Bera (JB):               13.882\n",
      "Skew:                          -1.110   Prob(JB):                     0.000967\n",
      "Kurtosis:                       4.843   Cond. No.                         15.0\n",
      "==============================================================================\n",
      "\n",
      "Warnings:\n",
      "[1] Standard Errors assume that the covariance matrix of the errors is correctly specified.\n"
     ]
    },
    {
     "data": {
      "image/png": "[encoded data removed]",
      "text/plain": [
       "<Figure size 432x288 with 1 Axes>"
      ]
     },
     "metadata": {},
     "output_type": "display_data"
    }
   ],
   "source": [
    "formula_str=\"Y ~ Z\"\n",
    "result=sm.ols(formula=formula_str,data=data_train).fit()\n",
    "y_pred = list(result.predict({\"Z\": ft_value[ft_names[3]]}))\n",
    "residual = [i - j for i,j in zip(ft_value[ft_names[1]],y_pred)]\n",
    "residual_np = np.array(residual)\n",
    "mean_resid = np.mean(residual_np)\n",
    "std_resid = np.std(residual_np)\n",
    "print(\"Mean Residual: {}\\nStd Residual: {}\".format(mean_resid, std_resid))\n",
    "print(result.summary())\n",
    "\n",
    "plt.scatter([x for x in index_subset[0:40]], [residual[x] for x in index_subset[0:40]], color='b', label = 'train')\n",
    "plt.scatter([x for x in index_subset[40:]], [residual[x] for x in index_subset[40:]], color='r', label = 'test')\n",
    "plt.title('Residual Scatter')\n",
    "plt.xlabel('index')\n",
    "plt.ylabel('error')\n",
    "plt.legend()\n",
    "plt.show()"
   ]
  },
  {
   "cell_type": "code",
   "execution_count": 67,
   "metadata": {},
   "outputs": [
    {
     "data": {
      "text/plain": [
       "<matplotlib.axes._subplots.AxesSubplot at 0x12a03d390>"
      ]
     },
     "execution_count": 67,
     "metadata": {},
     "output_type": "execute_result"
    },
    {
     "data": {
      "image/png": "[encoded data removed]",
      "text/plain": [
       "<Figure size 432x288 with 1 Axes>"
      ]
     },
     "metadata": {},
     "output_type": "display_data"
    }
   ],
   "source": [
    "sns.distplot(residual_np)"
   ]
  },
  {
   "cell_type": "markdown",
   "metadata": {},
   "source": [
    "As we can see the result from 3 models, the first model (using all features) is worse than the 2 latter (based on AIC, and BIC). Regarding the latter 2 models, the AIC and BIC show that there is no impact of number of features. However, we can use the 2nd model ```Sepal.Width ~ Sepal.Length + Petal.Width``` as it has smaller mean residual error."
   ]
  },
  {
   "cell_type": "code",
   "execution_count": 70,
   "metadata": {},
   "outputs": [
    {
     "name": "stdout",
     "output_type": "stream",
     "text": [
      "0    2.41719\n",
      "dtype: float64\n"
     ]
    }
   ],
   "source": [
    "y_pred = result.predict({\"X\": data_cl.iloc[missing_index[0],0],\n",
    "                         \"Z\": data_cl.iloc[missing_index[0],3]})\n",
    "print(y_pred)\n",
    "data_classes[classes[1]].iloc[missing_index[0],1] = list(y_pred)[0]"
   ]
  },
  {
   "cell_type": "markdown",
   "metadata": {},
   "source": [
    "#### 2. Petal.Length"
   ]
  },
  {
   "cell_type": "code",
   "execution_count": 71,
   "metadata": {},
   "outputs": [],
   "source": [
    "index_subset = [x for x in range(len(ft_value[ft_names[2]]))]\n",
    "random.shuffle(index_subset)\n",
    "ft_train = {}\n",
    "ft_test = {}\n",
    "for ft in ft_names:\n",
    "    ft_train[ft] = [ft_value[ft][x] for x in index_subset[0:40]]\n",
    "    ft_test[ft] = [ft_value[ft][x] for x in index_subset[40:]]\n",
    "    \n",
    "data_train = pd.DataFrame(ft_train)\n",
    "data_train.columns = [\"X\", \"W\", \"Y\", \"Z\"]"
   ]
  },
  {
   "cell_type": "code",
   "execution_count": 72,
   "metadata": {},
   "outputs": [
    {
     "name": "stdout",
     "output_type": "stream",
     "text": [
      "Mean Residual: -0.004871669553123792\n",
      "Std Residual: 0.22827940194223786\n",
      "                            OLS Regression Results                            \n",
      "==============================================================================\n",
      "Dep. Variable:                      Y   R-squared:                       0.734\n",
      "Model:                            OLS   Adj. R-squared:                  0.712\n",
      "Method:                 Least Squares   F-statistic:                     33.15\n",
      "Date:                Thu, 06 Feb 2020   Prob (F-statistic):           1.85e-10\n",
      "Time:                        00:55:21   Log-Likelihood:               0.074093\n",
      "No. Observations:                  40   AIC:                             7.852\n",
      "Df Residuals:                      36   BIC:                             14.61\n",
      "Df Model:                           3                                         \n",
      "Covariance Type:            nonrobust                                         \n",
      "==============================================================================\n",
      "                 coef    std err          t      P>|t|      [0.025      0.975]\n",
      "------------------------------------------------------------------------------\n",
      "Intercept      0.1835      0.524      0.350      0.728      -0.879       1.246\n",
      "X              0.4478      0.095      4.716      0.000       0.255       0.640\n",
      "W             -0.2014      0.198     -1.017      0.316      -0.603       0.200\n",
      "Z              1.4948      0.291      5.139      0.000       0.905       2.085\n",
      "==============================================================================\n",
      "Omnibus:                        0.774   Durbin-Watson:                   1.980\n",
      "Prob(Omnibus):                  0.679   Jarque-Bera (JB):                0.274\n",
      "Skew:                           0.186   Prob(JB):                        0.872\n",
      "Kurtosis:                       3.162   Cond. No.                         89.9\n",
      "==============================================================================\n",
      "\n",
      "Warnings:\n",
      "[1] Standard Errors assume that the covariance matrix of the errors is correctly specified.\n"
     ]
    },
    {
     "data": {
      "image/png": "[encoded data removed]",
      "text/plain": [
       "<Figure size 432x288 with 1 Axes>"
      ]
     },
     "metadata": {},
     "output_type": "display_data"
    }
   ],
   "source": [
    "formula_str=\"Y ~ X + W + Z\"\n",
    "result=sm.ols(formula=formula_str,data=data_train).fit()\n",
    "y_pred = list(result.predict({\"X\": ft_value[ft_names[0]],\n",
    "                              \"W\": ft_value[ft_names[1]],\n",
    "                              \"Z\": ft_value[ft_names[3]]}))\n",
    "residual = [i - j for i,j in zip(ft_value[ft_names[2]],y_pred)]\n",
    "residual_np = np.array(residual)\n",
    "mean_resid = np.mean(residual_np)\n",
    "std_resid = np.std(residual_np)\n",
    "print(\"Mean Residual: {}\\nStd Residual: {}\".format(mean_resid, std_resid))\n",
    "print(result.summary())\n",
    "\n",
    "plt.scatter([x for x in index_subset[0:40]], [residual[x] for x in index_subset[0:40]], color='b', label = 'train')\n",
    "plt.scatter([x for x in index_subset[40:]], [residual[x] for x in index_subset[40:]], color='r', label = 'test')\n",
    "plt.title('Residual Scatter')\n",
    "plt.xlabel('index')\n",
    "plt.ylabel('error')\n",
    "plt.legend()\n",
    "plt.show()"
   ]
  },
  {
   "cell_type": "code",
   "execution_count": 73,
   "metadata": {},
   "outputs": [
    {
     "data": {
      "text/plain": [
       "<matplotlib.axes._subplots.AxesSubplot at 0x12a362550>"
      ]
     },
     "execution_count": 73,
     "metadata": {},
     "output_type": "execute_result"
    },
    {
     "data": {
      "image/png": "[encoded data removed]",
      "text/plain": [
       "<Figure size 432x288 with 1 Axes>"
      ]
     },
     "metadata": {},
     "output_type": "display_data"
    }
   ],
   "source": [
    "sns.distplot(residual_np)"
   ]
  },
  {
   "cell_type": "code",
   "execution_count": 78,
   "metadata": {},
   "outputs": [
    {
     "name": "stdout",
     "output_type": "stream",
     "text": [
      "Mean Residual: -0.001630756885327674\n",
      "Std Residual: 0.22842715689898374\n",
      "                            OLS Regression Results                            \n",
      "==============================================================================\n",
      "Dep. Variable:                      Y   R-squared:                       0.727\n",
      "Model:                            OLS   Adj. R-squared:                  0.712\n",
      "Method:                 Least Squares   F-statistic:                     49.16\n",
      "Date:                Thu, 06 Feb 2020   Prob (F-statistic):           3.82e-11\n",
      "Time:                        00:55:35   Log-Likelihood:               -0.49294\n",
      "No. Observations:                  40   AIC:                             6.986\n",
      "Df Residuals:                      37   BIC:                             12.05\n",
      "Df Model:                           2                                         \n",
      "Covariance Type:            nonrobust                                         \n",
      "==============================================================================\n",
      "                 coef    std err          t      P>|t|      [0.025      0.975]\n",
      "------------------------------------------------------------------------------\n",
      "Intercept     -0.0143      0.487     -0.029      0.977      -1.000       0.972\n",
      "X              0.4250      0.092      4.604      0.000       0.238       0.612\n",
      "Z              1.3213      0.236      5.604      0.000       0.844       1.799\n",
      "==============================================================================\n",
      "Omnibus:                        0.498   Durbin-Watson:                   1.983\n",
      "Prob(Omnibus):                  0.780   Jarque-Bera (JB):                0.113\n",
      "Skew:                           0.119   Prob(JB):                        0.945\n",
      "Kurtosis:                       3.106   Cond. No.                         75.3\n",
      "==============================================================================\n",
      "\n",
      "Warnings:\n",
      "[1] Standard Errors assume that the covariance matrix of the errors is correctly specified.\n"
     ]
    },
    {
     "data": {
      "image/png": "[encoded data removed]",
      "text/plain": [
       "<Figure size 432x288 with 1 Axes>"
      ]
     },
     "metadata": {},
     "output_type": "display_data"
    }
   ],
   "source": [
    "formula_str=\"Y ~ X + Z\"\n",
    "result=sm.ols(formula=formula_str,data=data_train).fit()\n",
    "y_pred = list(result.predict({\"X\": ft_value[ft_names[0]],\n",
    "                              \"Z\": ft_value[ft_names[3]]}))\n",
    "residual = [i - j for i,j in zip(ft_value[ft_names[2]],y_pred)]\n",
    "residual_np = np.array(residual)\n",
    "mean_resid = np.mean(residual_np)\n",
    "std_resid = np.std(residual_np)\n",
    "print(\"Mean Residual: {}\\nStd Residual: {}\".format(mean_resid, std_resid))\n",
    "print(result.summary())\n",
    "\n",
    "plt.scatter([x for x in index_subset[0:40]], [residual[x] for x in index_subset[0:40]], color='b', label = 'train')\n",
    "plt.scatter([x for x in index_subset[40:]], [residual[x] for x in index_subset[40:]], color='r', label = 'test')\n",
    "plt.title('Residual Scatter')\n",
    "plt.xlabel('index')\n",
    "plt.ylabel('error')\n",
    "plt.legend()\n",
    "plt.show()"
   ]
  },
  {
   "cell_type": "code",
   "execution_count": 79,
   "metadata": {},
   "outputs": [
    {
     "data": {
      "text/plain": [
       "<matplotlib.axes._subplots.AxesSubplot at 0x12998c940>"
      ]
     },
     "execution_count": 79,
     "metadata": {},
     "output_type": "execute_result"
    },
    {
     "data": {
      "image/png": "[encoded data removed]",
      "text/plain": [
       "<Figure size 432x288 with 1 Axes>"
      ]
     },
     "metadata": {},
     "output_type": "display_data"
    }
   ],
   "source": [
    "sns.distplot(residual_np)"
   ]
  },
  {
   "cell_type": "code",
   "execution_count": 76,
   "metadata": {},
   "outputs": [
    {
     "name": "stdout",
     "output_type": "stream",
     "text": [
      "Mean Residual: 0.0182107023411336\n",
      "Std Residual: 0.29201199475063183\n",
      "                            OLS Regression Results                            \n",
      "==============================================================================\n",
      "Dep. Variable:                      Y   R-squared:                       0.570\n",
      "Model:                            OLS   Adj. R-squared:                  0.559\n",
      "Method:                 Least Squares   F-statistic:                     50.36\n",
      "Date:                Thu, 06 Feb 2020   Prob (F-statistic):           1.82e-08\n",
      "Time:                        00:55:23   Log-Likelihood:                -9.5506\n",
      "No. Observations:                  40   AIC:                             23.10\n",
      "Df Residuals:                      38   BIC:                             26.48\n",
      "Df Model:                           1                                         \n",
      "Covariance Type:            nonrobust                                         \n",
      "==============================================================================\n",
      "                 coef    std err          t      P>|t|      [0.025      0.975]\n",
      "------------------------------------------------------------------------------\n",
      "Intercept      1.8210      0.345      5.275      0.000       1.122       2.520\n",
      "Z              1.8294      0.258      7.096      0.000       1.308       2.351\n",
      "==============================================================================\n",
      "Omnibus:                        1.175   Durbin-Watson:                   2.089\n",
      "Prob(Omnibus):                  0.556   Jarque-Bera (JB):                0.619\n",
      "Skew:                          -0.297   Prob(JB):                        0.734\n",
      "Kurtosis:                       3.139   Cond. No.                         14.4\n",
      "==============================================================================\n",
      "\n",
      "Warnings:\n",
      "[1] Standard Errors assume that the covariance matrix of the errors is correctly specified.\n"
     ]
    },
    {
     "data": {
      "image/png": "[encoded data removed]",
      "text/plain": [
       "<Figure size 432x288 with 1 Axes>"
      ]
     },
     "metadata": {},
     "output_type": "display_data"
    }
   ],
   "source": [
    "formula_str=\"Y ~ Z\"\n",
    "result=sm.ols(formula=formula_str,data=data_train).fit()\n",
    "y_pred = list(result.predict({\"Z\": ft_value[ft_names[3]]}))\n",
    "residual = [i - j for i,j in zip(ft_value[ft_names[2]],y_pred)]\n",
    "residual_np = np.array(residual)\n",
    "mean_resid = np.mean(residual_np)\n",
    "std_resid = np.std(residual_np)\n",
    "print(\"Mean Residual: {}\\nStd Residual: {}\".format(mean_resid, std_resid))\n",
    "print(result.summary())\n",
    "\n",
    "plt.scatter([x for x in index_subset[0:40]], [residual[x] for x in index_subset[0:40]], color='b', label = 'train')\n",
    "plt.scatter([x for x in index_subset[40:]], [residual[x] for x in index_subset[40:]], color='r', label = 'test')\n",
    "plt.title('Residual Scatter')\n",
    "plt.xlabel('index')\n",
    "plt.ylabel('error')\n",
    "plt.legend()\n",
    "plt.show()"
   ]
  },
  {
   "cell_type": "code",
   "execution_count": 77,
   "metadata": {},
   "outputs": [
    {
     "data": {
      "text/plain": [
       "<matplotlib.axes._subplots.AxesSubplot at 0x12a069780>"
      ]
     },
     "execution_count": 77,
     "metadata": {},
     "output_type": "execute_result"
    },
    {
     "data": {
      "image/png": "[encoded data removed]",
      "text/plain": [
       "<Figure size 432x288 with 1 Axes>"
      ]
     },
     "metadata": {},
     "output_type": "display_data"
    }
   ],
   "source": [
    "sns.distplot(residual_np)"
   ]
  },
  {
   "cell_type": "markdown",
   "metadata": {},
   "source": [
    "Note that in the 1st model (using all features), the P value for predictor X, Z (```Sepal.Length```, ```Petal.Width```) are low. This is consistent with the correlation matrix. In the 2nd model, the P value also show that these 2 features are important to the model. However, we also want to try what would happen if only 1 highest correlated feature was used. The AIC, BIC show that this is the worst model, belong with the mean error.\n",
    "So we will choose the model ```Petal.Length ~ Sepal.Length + Petal.Width```."
   ]
  },
  {
   "cell_type": "code",
   "execution_count": 80,
   "metadata": {},
   "outputs": [
    {
     "name": "stdout",
     "output_type": "stream",
     "text": [
      "0    4.51766\n",
      "dtype: float64\n"
     ]
    }
   ],
   "source": [
    "y_pred = result.predict({\"X\": data_cl.iloc[missing_index[1],0],\n",
    "                         \"Z\": data_cl.iloc[missing_index[1],3]})\n",
    "print(y_pred)\n",
    "data_classes[classes[1]].iloc[missing_index[1],2] = list(y_pred)[0]"
   ]
  },
  {
   "cell_type": "code",
   "execution_count": 81,
   "metadata": {},
   "outputs": [],
   "source": [
    "cl = classes[2]\n",
    "data_classes[cl].index = [x for x in range(len(data_classes[cl]))]"
   ]
  },
  {
   "cell_type": "markdown",
   "metadata": {},
   "source": [
    "## 4. Plot Boxplot\n",
    "Here we will split the data into 2 subset: training and testing to ensure the generality of the prediction model that we want to build. First we will plot the training data distribution first, then have insight of it and finally create the plan to create the prediction model"
   ]
  },
  {
   "cell_type": "code",
   "execution_count": 2,
   "metadata": {},
   "outputs": [],
   "source": [
    "#frames = [data_classes[x] for x in classes]\n",
    "#data_filled = pd.concat(frames)\n",
    "#data_filled.index = [x for x in range(len(data_filled))]\n",
    "#data_filled.to_csv('iris_dataset_filled.csv', index = None, header=True)\n",
    "data_filled = pd.read_csv(\"iris_dataset_filled.csv\")\n",
    "\n",
    "classes = list(set(list(data_filled['Species'])))\n",
    "classes = sorted(classes)\n",
    "ft_names = list(data_filled.columns)[:-1]\n",
    "n_ft = len(ft_names)\n",
    "data_classes_all = {}\n",
    "data_classes_train = {}\n",
    "data_classes_test = {}\n",
    "\n",
    "for cl in classes:\n",
    "    data_classes_all[cl] = data_filled[data_filled['Species']==cl]\n",
    "    data_classes_all[cl] = data_classes_all[cl].sample(frac=1)\n",
    "    data_classes_train[cl] = data_classes_all[cl].iloc[:40]\n",
    "    data_classes_test[cl] = data_classes_all[cl].iloc[40:]\n",
    "    \n",
    "data_train = [data_classes_train[x] for x in classes]\n",
    "data_train = pd.concat(data_train)\n",
    "data_test = [data_classes_test[x] for x in classes]\n",
    "data_test = pd.concat(data_test)"
   ]
  },
  {
   "cell_type": "markdown",
   "metadata": {},
   "source": [
    "### a. Sepal.Length"
   ]
  },
  {
   "cell_type": "code",
   "execution_count": 4,
   "metadata": {},
   "outputs": [
    {
     "data": {
      "text/plain": [
       "Text(0.5,0,'Sepal.Length')"
      ]
     },
     "execution_count": 4,
     "metadata": {},
     "output_type": "execute_result"
    },
    {
     "data": {
      "image/png": "[encoded data removed]",
      "text/plain": [
       "<Figure size 432x288 with 1 Axes>"
      ]
     },
     "metadata": {
      "needs_background": "light"
     },
     "output_type": "display_data"
    }
   ],
   "source": [
    "sns.distplot(data_classes_train[classes[0]].iloc[:,0], kde=False, label=classes[0])\n",
    "sns.distplot(data_classes_train[classes[1]].iloc[:,0], kde=False, label=classes[1])\n",
    "sns.distplot(data_classes_train[classes[2]].iloc[:,0], kde=False, label=classes[2])\n",
    "\n",
    "plt.title('Histogram of {}'.format(ft_names[0]))\n",
    "plt.legend(prop={'size': 12})\n",
    "plt.xlabel(ft_names[0])"
   ]
  },
  {
   "cell_type": "code",
   "execution_count": 5,
   "metadata": {},
   "outputs": [
    {
     "data": {
      "text/plain": [
       "<matplotlib.axes._subplots.AxesSubplot at 0x126b770f0>"
      ]
     },
     "execution_count": 5,
     "metadata": {},
     "output_type": "execute_result"
    },
    {
     "data": {
      "image/png": "[encoded data removed]",
      "text/plain": [
       "<Figure size 432x288 with 1 Axes>"
      ]
     },
     "metadata": {
      "needs_background": "light"
     },
     "output_type": "display_data"
    }
   ],
   "source": [
    "sns.boxplot(x=\"Species\", y=\"Sepal.Length\",\n",
    "            data=data_train)"
   ]
  },
  {
   "cell_type": "markdown",
   "metadata": {},
   "source": [
    "### b. Sepal.Width"
   ]
  },
  {
   "cell_type": "code",
   "execution_count": 6,
   "metadata": {},
   "outputs": [
    {
     "data": {
      "text/plain": [
       "<matplotlib.axes._subplots.AxesSubplot at 0x127017cf8>"
      ]
     },
     "execution_count": 6,
     "metadata": {},
     "output_type": "execute_result"
    },
    {
     "data": {
      "image/png": "[encoded data removed]",
      "text/plain": [
       "<Figure size 432x288 with 1 Axes>"
      ]
     },
     "metadata": {
      "needs_background": "light"
     },
     "output_type": "display_data"
    }
   ],
   "source": [
    "sns.boxplot(x=\"Species\", y=\"Sepal.Width\",\n",
    "            data=data_train)"
   ]
  },
  {
   "cell_type": "markdown",
   "metadata": {},
   "source": [
    "### c. Petal.Length"
   ]
  },
  {
   "cell_type": "code",
   "execution_count": 7,
   "metadata": {},
   "outputs": [
    {
     "data": {
      "text/plain": [
       "<matplotlib.axes._subplots.AxesSubplot at 0x127115438>"
      ]
     },
     "execution_count": 7,
     "metadata": {},
     "output_type": "execute_result"
    },
    {
     "data": {
      "image/png": "[encoded data removed]",
      "text/plain": [
       "<Figure size 432x288 with 1 Axes>"
      ]
     },
     "metadata": {
      "needs_background": "light"
     },
     "output_type": "display_data"
    }
   ],
   "source": [
    "sns.boxplot(x=\"Species\", y=\"Petal.Length\", data=data_train)"
   ]
  },
  {
   "cell_type": "markdown",
   "metadata": {},
   "source": [
    "### d. Petal.Width"
   ]
  },
  {
   "cell_type": "code",
   "execution_count": 8,
   "metadata": {},
   "outputs": [
    {
     "data": {
      "text/plain": [
       "<matplotlib.axes._subplots.AxesSubplot at 0x12720a710>"
      ]
     },
     "execution_count": 8,
     "metadata": {},
     "output_type": "execute_result"
    },
    {
     "data": {
      "image/png": "[encoded data removed]",
      "text/plain": [
       "<Figure size 432x288 with 1 Axes>"
      ]
     },
     "metadata": {
      "needs_background": "light"
     },
     "output_type": "display_data"
    }
   ],
   "source": [
    "sns.boxplot(x=\"Species\", y=\"Petal.Width\", data=data_train)"
   ]
  },
  {
   "cell_type": "markdown",
   "metadata": {},
   "source": [
    "**Initial Conclusion**\n",
    "\n",
    "- We can easily classify ```setosa``` based on ```Petal.Length < 2.5``` or ```Petal.Width < 0.75``` since there is a huge gap between it with other classes\n",
    "- For ```versicolor``` and ```virginica```, we now can perform logistic regression as binary classification. It seems that ```Petal.Width``` will have big impact as we can see the boxplot"
   ]
  },
  {
   "cell_type": "markdown",
   "metadata": {},
   "source": [
    "## 5. Logistic Regression"
   ]
  },
  {
   "cell_type": "code",
   "execution_count": 104,
   "metadata": {},
   "outputs": [],
   "source": [
    "data_train_2 = [data_classes_train[x] for x in classes[1:]]\n",
    "data_train_2 = pd.concat(data_train_2)\n",
    "data_train_2_sf = data_train_2.sample(frac=1)\n",
    "\n",
    "data_test_2 = [data_classes_test[x] for x in classes[1:]]\n",
    "data_test_2 = pd.concat(data_test_2)"
   ]
  },
  {
   "cell_type": "code",
   "execution_count": 105,
   "metadata": {},
   "outputs": [
    {
     "name": "stdout",
     "output_type": "stream",
     "text": [
      "Optimization terminated successfully.\n",
      "         Current function value: 0.073201\n",
      "         Iterations 11\n"
     ]
    }
   ],
   "source": [
    "data_train_2_binary = data_train_2_sf.replace(to_replace =[\"versicolor\", \"virginica\"],  \n",
    "                     value = [0, 1])\n",
    "data_test_2_binary = data_test_2.replace(to_replace =[\"versicolor\", \"virginica\"],  \n",
    "                     value = [0, 1])\n",
    "\n",
    "data_train_2_binary.columns = ['X1', 'X2', 'X3', 'X4', 'Y']\n",
    "data_test_2_binary.columns = ['X1', 'X2', 'X3', 'X4', 'Y']\n",
    "\n",
    "formula_str=\"Y ~ X1 + X2 + X3 + X4\"\n",
    "result=sm.logit(formula=formula_str,data=data_train_2_binary).fit()"
   ]
  },
  {
   "cell_type": "code",
   "execution_count": 107,
   "metadata": {},
   "outputs": [
    {
     "name": "stdout",
     "output_type": "stream",
     "text": [
      "                           Logit Regression Results                           \n",
      "==============================================================================\n",
      "Dep. Variable:                      Y   No. Observations:                   80\n",
      "Model:                          Logit   Df Residuals:                       75\n",
      "Method:                           MLE   Df Model:                            4\n",
      "Date:                Sun, 16 Feb 2020   Pseudo R-squ.:                  0.8944\n",
      "Time:                        23:50:02   Log-Likelihood:                -5.8561\n",
      "converged:                       True   LL-Null:                       -55.452\n",
      "Covariance Type:            nonrobust   LLR p-value:                 1.462e-20\n",
      "==============================================================================\n",
      "                 coef    std err          z      P>|z|      [0.025      0.975]\n",
      "------------------------------------------------------------------------------\n",
      "Intercept    -38.3844     26.489     -1.449      0.147     -90.302      13.533\n",
      "X1            -2.1636      2.514     -0.861      0.389      -7.091       2.764\n",
      "X2            -6.9026      4.751     -1.453      0.146     -16.214       2.409\n",
      "X3             8.5363      4.885      1.747      0.081      -1.038      18.111\n",
      "X4            17.6733      9.784      1.806      0.071      -1.503      36.850\n",
      "==============================================================================\n",
      "\n",
      "Possibly complete quasi-separation: A fraction 0.59 of observations can be\n",
      "perfectly predicted. This might indicate that there is complete\n",
      "quasi-separation. In this case some parameters will not be identified.\n"
     ]
    }
   ],
   "source": [
    "print(result.summary())"
   ]
  },
  {
   "cell_type": "markdown",
   "metadata": {},
   "source": [
    "As we can see, the p value of coefficient of ```X3, X4``` (which are ```Petal.Length, Petal.Width```) show that these 2 features contribute more to the model. Although they are not really significant. We will try to run only based on 2 features"
   ]
  },
  {
   "cell_type": "code",
   "execution_count": 108,
   "metadata": {},
   "outputs": [
    {
     "name": "stdout",
     "output_type": "stream",
     "text": [
      "Optimization terminated successfully.\n",
      "         Current function value: 0.123931\n",
      "         Iterations 10\n",
      "                           Logit Regression Results                           \n",
      "==============================================================================\n",
      "Dep. Variable:                      Y   No. Observations:                   80\n",
      "Model:                          Logit   Df Residuals:                       77\n",
      "Method:                           MLE   Df Model:                            2\n",
      "Date:                Sun, 16 Feb 2020   Pseudo R-squ.:                  0.8212\n",
      "Time:                        23:50:03   Log-Likelihood:                -9.9145\n",
      "converged:                       True   LL-Null:                       -55.452\n",
      "Covariance Type:            nonrobust   LLR p-value:                 1.673e-20\n",
      "==============================================================================\n",
      "                 coef    std err          z      P>|z|      [0.025      0.975]\n",
      "------------------------------------------------------------------------------\n",
      "Intercept    -41.6497     13.510     -3.083      0.002     -68.130     -15.170\n",
      "X3             5.2047      2.275      2.288      0.022       0.747       9.663\n",
      "X4             9.9369      3.670      2.707      0.007       2.743      17.131\n",
      "==============================================================================\n",
      "\n",
      "Possibly complete quasi-separation: A fraction 0.29 of observations can be\n",
      "perfectly predicted. This might indicate that there is complete\n",
      "quasi-separation. In this case some parameters will not be identified.\n"
     ]
    }
   ],
   "source": [
    "formula_str=\"Y ~ X3 + X4\"\n",
    "result_3=sm.logit(formula=formula_str,data=data_train_2_binary).fit()\n",
    "print(result_3.summary())"
   ]
  },
  {
   "cell_type": "code",
   "execution_count": 109,
   "metadata": {},
   "outputs": [
    {
     "name": "stdout",
     "output_type": "stream",
     "text": [
      "accuracy using all 4 features = 97.5%\n",
      "accuracy using only 2 features = 92.5%\n"
     ]
    }
   ],
   "source": [
    "def logPredict(modelParams, X):  \n",
    "    probabilities = modelParams.predict(X)\n",
    "    return [1 if x >= 0.5 else 0 for x in probabilities]\n",
    "\n",
    "prediction = logPredict(result, data_train_2_binary.iloc[:,:-1])\n",
    "prediction_2 = logPredict(result_2, data_train_2_binary.iloc[:,:-1])\n",
    "accuracy = np.mean(prediction == data_train_2_binary.iloc[:,-1])\n",
    "accuracy_2 = np.mean(prediction_2 == data_train_2_binary.iloc[:,-1])\n",
    "print ('accuracy using all 4 features = {0}%'.format(accuracy*100))\n",
    "print ('accuracy using only 2 features = {0}%'.format(accuracy_2*100))"
   ]
  },
  {
   "cell_type": "code",
   "execution_count": 110,
   "metadata": {},
   "outputs": [
    {
     "name": "stdout",
     "output_type": "stream",
     "text": [
      "[Test] accuracy using all 4 features = 100.0%\n",
      "[Test] accuracy using only 2 features = 100.0%\n"
     ]
    }
   ],
   "source": [
    "prediction = logPredict(result, data_test_2_binary.iloc[:,:-1])\n",
    "prediction_2 = logPredict(result_2, data_test_2_binary.iloc[:,:-1])\n",
    "accuracy = np.mean(prediction == data_test_2_binary.iloc[:,-1])\n",
    "accuracy_2 = np.mean(prediction_2 == data_test_2_binary.iloc[:,-1])\n",
    "print ('[Test] accuracy using all 4 features = {0}%'.format(accuracy*100))\n",
    "print ('[Test] accuracy using only 2 features = {0}%'.format(accuracy_2*100))"
   ]
  },
  {
   "cell_type": "markdown",
   "metadata": {},
   "source": [
    "We can see that both model can predict correctly entire test dataset although training accuracy of 2-feature model is lower than the one using 4 features. Therefore we will choose the model using all 4 features to create our final prediction model"
   ]
  },
  {
   "cell_type": "markdown",
   "metadata": {},
   "source": [
    "## 6. Final  Prediction Model\n",
    "Here we will combile rule-based and logistic regression to have the final model"
   ]
  },
  {
   "cell_type": "code",
   "execution_count": 111,
   "metadata": {},
   "outputs": [],
   "source": [
    "class our_model(object):\n",
    "    def __init__(self, logistic_model):\n",
    "        super().__init__()\n",
    "        self.log_model = logistic_model\n",
    "    def predict(self, feature):\n",
    "        result = ['a' for _ in range(feature.shape[0])]\n",
    "        for idx in range(feature.shape[0]):\n",
    "            if feature.iloc[idx, 2] < 2.5:\n",
    "                result[idx] = 'setosa'\n",
    "            else:\n",
    "                input_ft = feature.iloc[idx,:]\n",
    "                pred = logPredict(self.log_model, input_ft)[0]\n",
    "                if pred == 0:\n",
    "                    result[idx] = 'versicolor'\n",
    "                else:\n",
    "                    result[idx] = 'virginica'\n",
    "        result = np.asarray(result)\n",
    "        return result\n",
    "    def score(self, feature, lbl):\n",
    "        result = self.predict(feature)\n",
    "        total_samples = len(result)\n",
    "        total_correct = np.sum(result == lbl)\n",
    "        return total_correct/total_samples\n",
    "    "
   ]
  },
  {
   "cell_type": "code",
   "execution_count": 112,
   "metadata": {},
   "outputs": [],
   "source": [
    "basic_model = our_model(result)"
   ]
  },
  {
   "cell_type": "code",
   "execution_count": 113,
   "metadata": {},
   "outputs": [],
   "source": [
    "data_filled.columns = ['X1', 'X2', 'X3', 'X4', 'Y']\n",
    "data_train.columns = ['X1', 'X2', 'X3', 'X4', 'Y']\n",
    "data_test.columns = ['X1', 'X2', 'X3', 'X4', 'Y']"
   ]
  },
  {
   "cell_type": "code",
   "execution_count": 114,
   "metadata": {},
   "outputs": [
    {
     "data": {
      "text/plain": [
       "(0.9866666666666667, 0.9833333333333333, 1.0)"
      ]
     },
     "execution_count": 114,
     "metadata": {},
     "output_type": "execute_result"
    }
   ],
   "source": [
    "acc_overall = basic_model.score(data_filled.iloc[:,:-1], data_filled.iloc[:, -1].to_numpy())\n",
    "acc_train = basic_model.score(data_train.iloc[:,:-1], data_train.iloc[:, -1].to_numpy())\n",
    "acc_test = basic_model.score(data_test.iloc[:,:-1], data_test.iloc[:, -1].to_numpy())\n",
    "acc_overall, acc_train, acc_test"
   ]
  },
  {
   "cell_type": "markdown",
   "metadata": {},
   "source": [
    "### a. Confusion Matrix\n",
    "Here the left column is the label and the top row is for prediction"
   ]
  },
  {
   "cell_type": "code",
   "execution_count": 117,
   "metadata": {},
   "outputs": [],
   "source": [
    "pred = basic_model.predict(data_filled.iloc[:,:-1])\n",
    "lbl = data_filled.iloc[:, -1].to_numpy()"
   ]
  },
  {
   "cell_type": "code",
   "execution_count": 118,
   "metadata": {},
   "outputs": [],
   "source": [
    "cm = metrics.confusion_matrix(lbl, pred)"
   ]
  },
  {
   "cell_type": "code",
   "execution_count": 119,
   "metadata": {},
   "outputs": [
    {
     "name": "stdout",
     "output_type": "stream",
     "text": [
      "[[50  0  0]\n",
      " [ 0 49  1]\n",
      " [ 0  1 49]]\n"
     ]
    }
   ],
   "source": [
    "print(cm)"
   ]
  },
  {
   "cell_type": "markdown",
   "metadata": {},
   "source": [
    "### b. ROC - AUC\n",
    "Here we will plot the ROC of logistic regression only (for versicolor and virginica classes)"
   ]
  },
  {
   "cell_type": "code",
   "execution_count": 122,
   "metadata": {},
   "outputs": [
    {
     "name": "stdout",
     "output_type": "stream",
     "text": [
      "No Model (Guess all with 1 class): ROC AUC=0.500\n",
      "Logistic: ROC AUC=0.997\n"
     ]
    }
   ],
   "source": [
    "data_lgmodel = [data_classes_all[x] for x in classes[1:]]\n",
    "data_lgmodel = pd.concat(data_lgmodel)\n",
    "data_lgmodel.columns = ['X1', 'X2', 'X3', 'X4', 'Y']\n",
    "data_lgmodel = data_lgmodel.replace(to_replace =[\"versicolor\", \"virginica\"],  \n",
    "                                    value = [0, 1])\n",
    "\n",
    "pred_lgmodel = result.predict(data_lgmodel.iloc[:,:-1]).to_numpy()\n",
    "pred_nomodel = np.asarray([0 for idx in range(len(data_lgmodel))])\n",
    "lbl = data_lgmodel.iloc[:,-1].to_numpy()\n",
    "nomodel_auc = roc_auc_score(lbl, pred_nomodel)\n",
    "lgmodel_auc = roc_auc_score(lbl, pred_lgmodel)\n",
    "\n",
    "print('No Model (Guess all with 1 class): ROC AUC=%.3f' % (nomodel_auc))\n",
    "print('Logistic: ROC AUC=%.3f' % (lgmodel_auc))"
   ]
  },
  {
   "cell_type": "code",
   "execution_count": 123,
   "metadata": {},
   "outputs": [
    {
     "data": {
      "image/png": "[encoded data removed]",
      "text/plain": [
       "<Figure size 432x288 with 1 Axes>"
      ]
     },
     "metadata": {},
     "output_type": "display_data"
    }
   ],
   "source": [
    "\n",
    "no_fpr, no_tpr, _ = roc_curve(lbl, pred_nomodel)\n",
    "lg_fpr, lg_tpr, _ = roc_curve(lbl, pred_lgmodel)\n",
    "\n",
    "pyplot.plot(no_fpr, no_tpr, linestyle='--', label='No Model')\n",
    "pyplot.plot(lg_fpr, lg_tpr, marker='.', label='Logistic')\n",
    "# axis labels\n",
    "pyplot.xlabel('False Positive Rate')\n",
    "pyplot.ylabel('True Positive Rate')\n",
    "# show the legend\n",
    "pyplot.legend()\n",
    "# show the plot\n",
    "pyplot.show()"
   ]
  },
  {
   "cell_type": "markdown",
   "metadata": {},
   "source": [
    "**Note**\n",
    "\n",
    "So as we can see, the simple combination of rule-based and binary logistic regression model can get the overall accuracy about 98.7% (not bad at all). And the weight of the logistic regression also prove that ```Petal.Length``` and ```Petal.Width``` have big impact to it. But there are still places to have deeper insights into it, e.g. using multinomial logistic regression or random forest."
   ]
  },
  {
   "cell_type": "markdown",
   "metadata": {},
   "source": [
    "## References\n",
    "[1] https://machinelearningmastery.com/roc-curves-and-precision-recall-curves-for-classification-in-python\n",
    "\n",
    "[2] https://github.com/Mashimo/datascience/blob/master/01-Regression/LogisticRegressionSM.ipynb"
   ]
  }
 ],
 "metadata": {
  "kernelspec": {
   "display_name": "Python 3",
   "language": "python",
   "name": "python3"
  },
  "language_info": {
   "codemirror_mode": {
    "name": "ipython",
    "version": 3
   },
   "file_extension": ".py",
   "mimetype": "text/x-python",
   "name": "python",
   "nbconvert_exporter": "python",
   "pygments_lexer": "ipython3",
   "version": "3.6.9"
  }
 },
 "nbformat": 4,
 "nbformat_minor": 4
}
